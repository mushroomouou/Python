{
 "cells": [
  {
   "cell_type": "markdown",
   "metadata": {
    "collapsed": true,
    "pycharm": {
     "name": "#%% md\n"
    }
   },
   "source": [
    "## IPython 学习笔记：\n",
    ">   IPython是一种更加高级的Python终端，使用数据分析时需要一步一步的操作并且可视化\n",
    ">   得出结论，这样让我们的代码编写，趋势分析更加直观。"
   ]
  },
  {
   "cell_type": "code",
   "execution_count": 1,
   "outputs": [
    {
     "data": {
      "text/plain": "array([[ 0.55983816,  0.78290576,  0.05161188],\n       [ 1.10237729, -0.67975395,  0.50692035],\n       [-1.21252783, -0.48341164,  0.55360927]])"
     },
     "execution_count": 1,
     "metadata": {},
     "output_type": "execute_result"
    }
   ],
   "source": [
    "import numpy as np\n",
    "data1 = np.random.randn(3,3)\n",
    "data1"
   ],
   "metadata": {
    "collapsed": false,
    "pycharm": {
     "name": "#%%\n"
    }
   }
  },
  {
   "cell_type": "markdown",
   "source": [
    "* numpy.random的randn()函数：\n",
    "        np.random.randn()表示生成一个正态分布数字，\n",
    "        np.random.randn(x,y,z...,...)这个表示生成一个高维的正态矩阵\n",
    "* numpy.random的rand()函数：\n",
    "        np.random.rand()与上面相同但区别是rand只导出[0,1)之间的随机数维度自定。"
   ],
   "metadata": {
    "collapsed": false,
    "pycharm": {
     "name": "#%% md\n"
    }
   }
  },
  {
   "cell_type": "code",
   "execution_count": 2,
   "outputs": [
    {
     "data": {
      "text/plain": "array([[0.99086421, 0.45863485],\n       [0.51824138, 0.64899216]])"
     },
     "execution_count": 2,
     "metadata": {},
     "output_type": "execute_result"
    }
   ],
   "source": [
    "data2 = np.random.rand(2,2)\n",
    "data2"
   ],
   "metadata": {
    "collapsed": false,
    "pycharm": {
     "name": "#%%\n"
    }
   }
  },
  {
   "cell_type": "markdown",
   "source": [
    "* numpy.random的randint()函数:\n",
    "        np.random.randint(low,high=NONE,size=NONE,dtype='l')\n",
    "        顾名思义，随机一个整数，[low,high),\n",
    "        size为数组维度\n",
    "        dtype是数据类型，一般默认为np.int类型。\n",
    "        当high没有填时我们的范围就是[0,low)的随机数。\n",
    "\n"
   ],
   "metadata": {
    "collapsed": false,
    "pycharm": {
     "name": "#%% md\n"
    }
   }
  },
  {
   "cell_type": "code",
   "execution_count": 3,
   "outputs": [
    {
     "data": {
      "text/plain": "array([[25, 47, 49, 36, 25, 15, 40, 37, 28, 22],\n       [40, 27, 16, 37, 29, 15, 49, 19, 23, 15],\n       [49, 35, 43, 22, 12, 47, 41, 19, 43, 46],\n       [48, 24, 26, 43, 38, 23, 25, 32, 32, 42],\n       [38, 49, 45, 28, 25, 14, 23, 16, 24, 33],\n       [14, 43, 29, 16, 35, 37, 40, 12, 40, 46],\n       [25, 39, 37, 20, 44, 28, 10, 38, 14, 34],\n       [30, 10, 42, 22, 22, 30, 29, 39, 38, 34],\n       [20, 44, 46, 32, 24, 16, 13, 29, 13, 14],\n       [36, 34, 46, 19, 36, 48, 45, 38, 27, 17]])"
     },
     "execution_count": 3,
     "metadata": {},
     "output_type": "execute_result"
    }
   ],
   "source": [
    "data3 = np.random.randint(10,high=50,size=[10,10],dtype='l')\n",
    "data3"
   ],
   "metadata": {
    "collapsed": false,
    "pycharm": {
     "name": "#%%\n"
    }
   }
  },
  {
   "cell_type": "markdown",
   "source": [
    "* numpy.random.random_sample()函数：\n",
    "        numpy.random.random_sample():这个函数可以返回一个随机浮点数，如果不给任\n",
    "        何参数的，他将会返回一个[0，1) 的随机值，如果加上了数字，将返回多个数字。再在外面\n",
    "        乘以相应的数值则可以得到[0,n)\n",
    "        n * np.random.random_sample()\n",
    "        > 使用size参数可以实现矩阵维度的变换！！\n",
    "        np.random.random_sample(size=(n,m))"
   ],
   "metadata": {
    "collapsed": false,
    "pycharm": {
     "name": "#%% md\n"
    }
   }
  },
  {
   "cell_type": "code",
   "execution_count": 4,
   "outputs": [
    {
     "data": {
      "text/plain": "array([0.42346371, 0.62762543, 0.66890128, 0.47057324, 0.10187241])"
     },
     "execution_count": 4,
     "metadata": {},
     "output_type": "execute_result"
    }
   ],
   "source": [
    "data4 = np.random.random_sample(5)\n",
    "data4"
   ],
   "metadata": {
    "collapsed": false,
    "pycharm": {
     "name": "#%%\n"
    }
   }
  },
  {
   "cell_type": "code",
   "execution_count": 5,
   "outputs": [
    {
     "data": {
      "text/plain": "array([[0.13168809, 0.24844435, 0.64111001, 0.35757568, 0.23349179],\n       [0.76536068, 0.02218345, 0.21940744, 0.77600919, 0.71351319],\n       [0.60269052, 0.02495334, 0.54757108, 0.63020527, 0.44957572],\n       [0.07321899, 0.57168513, 0.89626056, 0.00698437, 0.48810109],\n       [0.55714143, 0.93208671, 0.33911488, 0.80164613, 0.03345411]])"
     },
     "execution_count": 5,
     "metadata": {},
     "output_type": "execute_result"
    }
   ],
   "source": [
    "data5 = np.random.random_sample(size=(5,5))\n",
    "data5"
   ],
   "metadata": {
    "collapsed": false,
    "pycharm": {
     "name": "#%%\n"
    }
   }
  },
  {
   "cell_type": "markdown",
   "source": [
    "* numpy.random.choice(a, size=None, replace=True, p=None)\n",
    "        a:表示数字[0,a)的之中的整数，a同样可以表示一个列表，从而实现物理随机选择\n",
    "        size：与上面的size相同表示维度大小\n",
    "        replace:这个与重复数字有关联，如果replace=False,那么就不允许重复数据的存在\n",
    "\n"
   ],
   "metadata": {
    "collapsed": false,
    "pycharm": {
     "name": "#%% md\n"
    }
   }
  },
  {
   "cell_type": "code",
   "execution_count": 7,
   "outputs": [
    {
     "data": {
      "text/plain": "array([['b', 'a', 'a'],\n       ['c', 'b', 'a'],\n       ['c', 'c', 'd']], dtype='<U1')"
     },
     "execution_count": 7,
     "metadata": {},
     "output_type": "execute_result"
    }
   ],
   "source": [
    "array1 = ['a','b','c','d']\n",
    "data6 = np.random.choice(array1,size=(3,3))\n",
    "data6"
   ],
   "metadata": {
    "collapsed": false,
    "pycharm": {
     "name": "#%%\n"
    }
   }
  },
  {
   "cell_type": "markdown",
   "source": [
    "```python\n",
    "b = [1,2,3,4,5,6]\n",
    "# b.<TAB>可以实现对各种方法的快速查询。\n",
    "```\n"
   ],
   "metadata": {
    "collapsed": false,
    "pycharm": {
     "name": "#%% md\n"
    }
   }
  },
  {
   "cell_type": "code",
   "execution_count": 10,
   "outputs": [],
   "source": [
    "b = [1,2,3,4,5,6]\n",
    "# b? 这样可以实现对b的详细信息的查询。"
   ],
   "metadata": {
    "collapsed": false,
    "pycharm": {
     "name": "#%%\n"
    }
   }
  },
  {
   "cell_type": "code",
   "execution_count": 1,
   "outputs": [],
   "source": [
    "c = [1,2,3,4,5,6]\n",
    "# np.*load*?\n",
    "# 这样可以查询包含这个的函数们。\n",
    "# %run balabala.py这样可以实现代码的运行\n",
    "# Ctrl + C 终止正在运行的代码\n",
    "# %paste魔法函数可以复制粘贴板中的一切！！"
   ],
   "metadata": {
    "collapsed": false,
    "pycharm": {
     "name": "#%%\n"
    }
   }
  },
  {
   "cell_type": "markdown",
   "source": [
    "%time 和 %timeit这两个魔法函数可以让你知道程序运行的时间。\n",
    "\n"
   ],
   "metadata": {
    "collapsed": false,
    "pycharm": {
     "name": "#%% md\n"
    }
   }
  },
  {
   "cell_type": "code",
   "execution_count": 5,
   "outputs": [
    {
     "name": "stdout",
     "output_type": "stream",
     "text": [
      "4.27 ms ± 32.2 µs per loop (mean ± std. dev. of 7 runs, 100 loops each)\n",
      "2.89 ms ± 54.7 µs per loop (mean ± std. dev. of 7 runs, 100 loops each)\n"
     ]
    }
   ],
   "source": [
    "strings = ['foo', 'foobar', 'baz', 'qux', 'python'] * 10000\n",
    "%time method1 = [x for x in strings if x.startswith('foo')]\n",
    "# 这里的startwith函数可以帮助我们判断是否这个列表开始于这个前缀，是则返回True否则False\n",
    "%timeit method2 = [x for x in strings if x[:3] == 'foo']\n"
   ],
   "metadata": {
    "collapsed": false,
    "pycharm": {
     "name": "#%%\n"
    }
   }
  }
 ],
 "metadata": {
  "kernelspec": {
   "display_name": "Python 3",
   "language": "python",
   "name": "python3"
  },
  "language_info": {
   "codemirror_mode": {
    "name": "ipython",
    "version": 2
   },
   "file_extension": ".py",
   "mimetype": "text/x-python",
   "name": "python",
   "nbconvert_exporter": "python",
   "pygments_lexer": "ipython2",
   "version": "2.7.6"
  }
 },
 "nbformat": 4,
 "nbformat_minor": 0
}