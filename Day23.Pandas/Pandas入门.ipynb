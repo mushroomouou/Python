{
 "cells": [
  {
   "cell_type": "markdown",
   "metadata": {
    "collapsed": true,
    "pycharm": {
     "name": "#%% md\n"
    }
   },
   "source": [
    "## Pandas入门\n",
    "> 我们对pandas的引入这样的规定，\n",
    "```\n",
    "import pandas as pd\n",
    "from pandas imort Series,DataFrame\n",
    "```\n",
    "* 我们一般这么写pandas的引入。注意这是规定，为了方便你的理解。"
   ]
  },
  {
   "cell_type": "markdown",
   "source": [
    "### pandas的数据结构介绍："
   ],
   "metadata": {
    "collapsed": false,
    "pycharm": {
     "name": "#%% md\n"
    }
   }
  },
  {
   "cell_type": "markdown",
   "source": [
    "#### Series\n",
    "> Series是一类类似于一维数组的对象，它是由一组数据(各种numpy数据类型)以及一组与之相关联的数据标签，仅由一组数据即可产生最简单的Series"
   ],
   "metadata": {
    "collapsed": false,
    "pycharm": {
     "name": "#%% md\n"
    }
   }
  },
  {
   "cell_type": "code",
   "execution_count": 11,
   "outputs": [],
   "source": [
    "import numpy as np\n",
    "import pandas as pd\n",
    "from pandas import Series,DataFrame\n"
   ],
   "metadata": {
    "collapsed": false,
    "pycharm": {
     "name": "#%%\n"
    }
   }
  },
  {
   "cell_type": "code",
   "execution_count": 12,
   "outputs": [
    {
     "data": {
      "text/plain": "first     a\nsecend    b\nthird     c\nfourth    d\ndtype: object"
     },
     "execution_count": 12,
     "metadata": {},
     "output_type": "execute_result"
    }
   ],
   "source": [
    "ser = Series(['a','b','c','d'])\n",
    "ser.index = ('first','secend','third','fourth')\n",
    "ser"
   ],
   "metadata": {
    "collapsed": false,
    "pycharm": {
     "name": "#%%\n"
    }
   }
  },
  {
   "cell_type": "code",
   "execution_count": 13,
   "outputs": [
    {
     "data": {
      "text/plain": "array(['a', 'b', 'c', 'd'], dtype=object)"
     },
     "execution_count": 13,
     "metadata": {},
     "output_type": "execute_result"
    }
   ],
   "source": [
    "# 使用values函数可以实现值的访问\n",
    "ser.values"
   ],
   "metadata": {
    "collapsed": false,
    "pycharm": {
     "name": "#%%\n"
    }
   }
  },
  {
   "cell_type": "code",
   "execution_count": 14,
   "outputs": [
    {
     "data": {
      "text/plain": "Index(['first', 'secend', 'third', 'fourth'], dtype='object')"
     },
     "execution_count": 14,
     "metadata": {},
     "output_type": "execute_result"
    }
   ],
   "source": [
    "# 使用index函数可以实现对于index的调用\n",
    "ser.index"
   ],
   "metadata": {
    "collapsed": false,
    "pycharm": {
     "name": "#%%\n"
    }
   }
  },
  {
   "cell_type": "code",
   "execution_count": 15,
   "outputs": [
    {
     "data": {
      "text/plain": "a    1\nb    2\nc    3\nd   -5\ne    6\nf    7\ndtype: int64"
     },
     "execution_count": 15,
     "metadata": {},
     "output_type": "execute_result"
    }
   ],
   "source": [
    "ser_number = Series([1,2,3,-5,6,7],index=['a','b','c','d','e','f'])\n",
    "ser_number"
   ],
   "metadata": {
    "collapsed": false,
    "pycharm": {
     "name": "#%%\n"
    }
   }
  },
  {
   "cell_type": "code",
   "execution_count": 16,
   "outputs": [
    {
     "data": {
      "text/plain": "a    1\nb    2\nc    3\ne    6\nf    7\ndtype: int64"
     },
     "execution_count": 16,
     "metadata": {},
     "output_type": "execute_result"
    }
   ],
   "source": [
    "# 实现对特定元素的读取\n",
    "# 对于元素的提取我们同样需要使用中括号给函数限定范围。以用来适合用。\n",
    "ser_number[ser_number.values >= 0]\n"
   ],
   "metadata": {
    "collapsed": false,
    "pycharm": {
     "name": "#%%\n"
    }
   }
  },
  {
   "cell_type": "code",
   "execution_count": 17,
   "outputs": [
    {
     "data": {
      "text/plain": "a                    1\nb              1048576\nc           3486784401\nd       95367431640625\ne     3656158440062976\nf    79792266297612001\ndtype: int64"
     },
     "execution_count": 17,
     "metadata": {},
     "output_type": "execute_result"
    }
   ],
   "source": [
    "# series数据类型之间的运算。\n",
    "ser_number ** 20"
   ],
   "metadata": {
    "collapsed": false,
    "pycharm": {
     "name": "#%%\n"
    }
   }
  },
  {
   "cell_type": "code",
   "execution_count": 18,
   "outputs": [],
   "source": [
    "# 我们同样可以使用字典直接导入，为一个series\n",
    "# 同样我们可以使用很多numpy中的函数。\n",
    "# 可以说是非常的nice"
   ],
   "metadata": {
    "collapsed": false,
    "pycharm": {
     "name": "#%%\n"
    }
   }
  },
  {
   "cell_type": "markdown",
   "source": [
    "### Dataframe"
   ],
   "metadata": {
    "collapsed": false,
    "pycharm": {
     "name": "#%% md\n"
    }
   }
  },
  {
   "cell_type": "code",
   "execution_count": 19,
   "outputs": [
    {
     "data": {
      "text/plain": "['Mary,F,7065\\n',\n 'Anna,F,2604\\n',\n 'Emma,F,2003\\n',\n 'Elizabeth,F,1939\\n',\n 'Minnie,F,1746\\n',\n 'Margaret,F,1578\\n',\n 'Ida,F,1472\\n',\n 'Alice,F,1414\\n',\n 'Bertha,F,1320\\n',\n 'Sarah,F,1288\\n',\n 'Annie,F,1258\\n',\n 'Clara,F,1226\\n',\n 'Ella,F,1156\\n',\n 'Florence,F,1063\\n',\n 'Cora,F,1045\\n',\n 'Martha,F,1040\\n',\n 'Laura,F,1012\\n',\n 'Nellie,F,995\\n',\n 'Grace,F,982\\n',\n 'Carrie,F,949\\n',\n 'Maude,F,858\\n',\n 'Mabel,F,808\\n',\n 'Bessie,F,794\\n',\n 'Jennie,F,793\\n',\n 'Gertrude,F,787\\n',\n 'Julia,F,783\\n',\n 'Hattie,F,769\\n',\n 'Edith,F,768\\n',\n 'Mattie,F,704\\n',\n 'Rose,F,700\\n',\n 'Catherine,F,688\\n',\n 'Lillian,F,672\\n',\n 'Ada,F,652\\n',\n 'Lillie,F,647\\n',\n 'Helen,F,636\\n',\n 'Jessie,F,635\\n',\n 'Louise,F,635\\n',\n 'Ethel,F,633\\n',\n 'Lula,F,621\\n',\n 'Myrtle,F,615\\n',\n 'Eva,F,614\\n',\n 'Frances,F,605\\n',\n 'Lena,F,603\\n',\n 'Lucy,F,591\\n',\n 'Edna,F,588\\n',\n 'Maggie,F,582\\n',\n 'Pearl,F,569\\n',\n 'Daisy,F,564\\n',\n 'Fannie,F,560\\n',\n 'Josephine,F,544\\n',\n 'Dora,F,524\\n',\n 'Rosa,F,507\\n',\n 'Katherine,F,502\\n',\n 'Agnes,F,473\\n',\n 'Marie,F,471\\n',\n 'Nora,F,471\\n',\n 'May,F,462\\n',\n 'Mamie,F,436\\n',\n 'Blanche,F,427\\n',\n 'Stella,F,414\\n',\n 'Ellen,F,411\\n',\n 'Nancy,F,411\\n',\n 'Effie,F,406\\n',\n 'Sallie,F,404\\n',\n 'Nettie,F,403\\n',\n 'Della,F,391\\n',\n 'Lizzie,F,388\\n',\n 'Flora,F,365\\n',\n 'Susie,F,361\\n',\n 'Maud,F,345\\n',\n 'Mae,F,344\\n',\n 'Etta,F,323\\n',\n 'Harriet,F,319\\n',\n 'Sadie,F,317\\n',\n 'Caroline,F,306\\n',\n 'Katie,F,303\\n',\n 'Lydia,F,302\\n',\n 'Elsie,F,301\\n',\n 'Kate,F,299\\n',\n 'Susan,F,286\\n',\n 'Mollie,F,283\\n',\n 'Alma,F,277\\n',\n 'Addie,F,274\\n',\n 'Georgia,F,259\\n',\n 'Eliza,F,252\\n',\n 'Lulu,F,249\\n',\n 'Nannie,F,248\\n',\n 'Lottie,F,245\\n',\n 'Amanda,F,241\\n',\n 'Belle,F,238\\n',\n 'Charlotte,F,237\\n',\n 'Rebecca,F,236\\n',\n 'Ruth,F,234\\n',\n 'Viola,F,229\\n',\n 'Olive,F,224\\n',\n 'Amelia,F,221\\n',\n 'Hannah,F,221\\n',\n 'Jane,F,215\\n',\n 'Virginia,F,213\\n',\n 'Emily,F,210\\n',\n 'Matilda,F,210\\n',\n 'Irene,F,204\\n',\n 'Kathryn,F,204\\n',\n 'Esther,F,198\\n',\n 'Willie,F,192\\n',\n 'Henrietta,F,191\\n',\n 'Ollie,F,183\\n',\n 'Amy,F,167\\n',\n 'Rachel,F,166\\n',\n 'Sara,F,165\\n',\n 'Estella,F,162\\n',\n 'Theresa,F,153\\n',\n 'Augusta,F,151\\n',\n 'Ora,F,149\\n',\n 'Pauline,F,144\\n',\n 'Josie,F,141\\n',\n 'Lola,F,138\\n',\n 'Sophia,F,138\\n',\n 'Leona,F,137\\n',\n 'Anne,F,136\\n',\n 'Mildred,F,132\\n',\n 'Ann,F,131\\n',\n 'Beulah,F,131\\n',\n 'Callie,F,131\\n',\n 'Lou,F,131\\n',\n 'Delia,F,129\\n',\n 'Eleanor,F,129\\n',\n 'Barbara,F,127\\n',\n 'Iva,F,127\\n',\n 'Louisa,F,126\\n',\n 'Maria,F,125\\n',\n 'Mayme,F,124\\n',\n 'Evelyn,F,122\\n',\n 'Estelle,F,119\\n',\n 'Nina,F,119\\n',\n 'Betty,F,117\\n',\n 'Marion,F,115\\n',\n 'Bettie,F,113\\n',\n 'Dorothy,F,112\\n',\n 'Luella,F,111\\n',\n 'Inez,F,106\\n',\n 'Lela,F,106\\n',\n 'Rosie,F,106\\n',\n 'Allie,F,105\\n',\n 'Millie,F,105\\n',\n 'Janie,F,96\\n',\n 'Cornelia,F,94\\n',\n 'Victoria,F,93\\n',\n 'Ruby,F,92\\n',\n 'Winifred,F,92\\n',\n 'Alta,F,91\\n',\n 'Celia,F,90\\n',\n 'Christine,F,89\\n',\n 'Beatrice,F,87\\n',\n 'Birdie,F,85\\n',\n 'Harriett,F,83\\n',\n 'Mable,F,83\\n',\n 'Myra,F,83\\n',\n 'Sophie,F,83\\n',\n 'Tillie,F,83\\n',\n 'Isabel,F,81\\n',\n 'Sylvia,F,81\\n',\n 'Carolyn,F,80\\n',\n 'Isabelle,F,80\\n',\n 'Leila,F,80\\n',\n 'Sally,F,80\\n',\n 'Ina,F,79\\n',\n 'Essie,F,78\\n',\n 'Bertie,F,77\\n',\n 'Nell,F,77\\n',\n 'Alberta,F,76\\n',\n 'Katharine,F,76\\n',\n 'Lora,F,74\\n',\n 'Rena,F,74\\n',\n 'Mina,F,73\\n',\n 'Rhoda,F,73\\n',\n 'Mathilda,F,72\\n',\n 'Abbie,F,71\\n',\n 'Eula,F,70\\n',\n 'Dollie,F,69\\n',\n 'Hettie,F,69\\n',\n 'Eunice,F,67\\n',\n 'Fanny,F,67\\n',\n 'Ola,F,67\\n',\n 'Lenora,F,66\\n',\n 'Adelaide,F,65\\n',\n 'Christina,F,65\\n',\n 'Lelia,F,65\\n',\n 'Nelle,F,65\\n',\n 'Sue,F,65\\n',\n 'Johanna,F,64\\n',\n 'Lilly,F,64\\n',\n 'Lucinda,F,63\\n',\n 'Minerva,F,63\\n',\n 'Lettie,F,62\\n',\n 'Roxie,F,62\\n',\n 'Cynthia,F,61\\n',\n 'Helena,F,60\\n',\n 'Hilda,F,60\\n',\n 'Hulda,F,60\\n',\n 'Bernice,F,59\\n',\n 'Genevieve,F,59\\n',\n 'Jean,F,59\\n',\n 'Cordelia,F,58\\n',\n 'Marian,F,56\\n',\n 'Francis,F,55\\n',\n 'Jeanette,F,55\\n',\n 'Adeline,F,54\\n',\n 'Gussie,F,54\\n',\n 'Leah,F,54\\n',\n 'Lois,F,53\\n',\n 'Lura,F,53\\n',\n 'Mittie,F,53\\n',\n 'Hallie,F,51\\n',\n 'Isabella,F,50\\n',\n 'Olga,F,50\\n',\n 'Phoebe,F,50\\n',\n 'Teresa,F,50\\n',\n 'Hester,F,49\\n',\n 'Lida,F,49\\n',\n 'Lina,F,49\\n',\n 'Winnie,F,49\\n',\n 'Claudia,F,48\\n',\n 'Marguerite,F,48\\n',\n 'Vera,F,48\\n',\n 'Cecelia,F,47\\n',\n 'Bess,F,46\\n',\n 'Emilie,F,46\\n',\n 'John,F,46\\n',\n 'Rosetta,F,46\\n',\n 'Verna,F,46\\n',\n 'Myrtie,F,45\\n',\n 'Cecilia,F,44\\n',\n 'Elva,F,44\\n',\n 'Olivia,F,44\\n',\n 'Ophelia,F,44\\n',\n 'Georgie,F,43\\n',\n 'Elnora,F,42\\n',\n 'Violet,F,42\\n',\n 'Adele,F,41\\n',\n 'Lily,F,41\\n',\n 'Linnie,F,41\\n',\n 'Loretta,F,41\\n',\n 'Madge,F,41\\n',\n 'Polly,F,41\\n',\n 'Virgie,F,41\\n',\n 'Eugenia,F,40\\n',\n 'Lucile,F,40\\n',\n 'Lucille,F,40\\n',\n 'Mabelle,F,39\\n',\n 'Rosalie,F,39\\n',\n 'Kittie,F,38\\n',\n 'Meta,F,37\\n',\n 'Angie,F,36\\n',\n 'Dessie,F,36\\n',\n 'Georgiana,F,36\\n',\n 'Lila,F,36\\n',\n 'Regina,F,36\\n',\n 'Selma,F,36\\n',\n 'Wilhelmina,F,36\\n',\n 'Bridget,F,35\\n',\n 'Lilla,F,35\\n',\n 'Malinda,F,35\\n',\n 'Vina,F,35\\n',\n 'Freda,F,34\\n',\n 'Gertie,F,34\\n',\n 'Jeannette,F,34\\n',\n 'Louella,F,34\\n',\n 'Mandy,F,34\\n',\n 'Roberta,F,34\\n',\n 'Cassie,F,33\\n',\n 'Corinne,F,33\\n',\n 'Ivy,F,33\\n',\n 'Melissa,F,33\\n',\n 'Lyda,F,32\\n',\n 'Naomi,F,32\\n',\n 'Norma,F,32\\n',\n 'Bell,F,31\\n',\n 'Margie,F,31\\n',\n 'Nona,F,31\\n',\n 'Zella,F,31\\n',\n 'Dovie,F,30\\n',\n 'Elvira,F,30\\n',\n 'Erma,F,30\\n',\n 'Irma,F,30\\n',\n 'Leota,F,30\\n',\n 'William,F,30\\n',\n 'Artie,F,29\\n',\n 'Blanch,F,29\\n',\n 'Charity,F,29\\n',\n 'Janet,F,29\\n',\n 'Lorena,F,29\\n',\n 'Lucretia,F,29\\n',\n 'Orpha,F,29\\n',\n 'Alvina,F,28\\n',\n 'Annette,F,28\\n',\n 'Catharine,F,28\\n',\n 'Elma,F,28\\n',\n 'Geneva,F,28\\n',\n 'Lee,F,28\\n',\n 'Leora,F,28\\n',\n 'Lona,F,28\\n',\n 'Miriam,F,28\\n',\n 'Zora,F,28\\n',\n 'Linda,F,27\\n',\n 'Octavia,F,27\\n',\n 'Sudie,F,27\\n',\n 'Zula,F,27\\n',\n 'Adella,F,26\\n',\n 'Alpha,F,26\\n',\n 'Frieda,F,26\\n',\n 'George,F,26\\n',\n 'Joanna,F,26\\n',\n 'Leonora,F,26\\n',\n 'Priscilla,F,26\\n',\n 'Tennie,F,26\\n',\n 'Angeline,F,25\\n',\n 'Docia,F,25\\n',\n 'Ettie,F,25\\n',\n 'Flossie,F,25\\n',\n 'Hanna,F,25\\n',\n 'Letha,F,25\\n',\n 'Minta,F,25\\n',\n 'Retta,F,25\\n',\n 'Rosella,F,25\\n',\n 'Adah,F,24\\n',\n 'Berta,F,24\\n',\n 'Elisabeth,F,24\\n',\n 'Elise,F,24\\n',\n 'Goldie,F,24\\n',\n 'Leola,F,24\\n',\n 'Margret,F,24\\n',\n 'Adaline,F,23\\n',\n 'Floy,F,23\\n',\n 'Idella,F,23\\n',\n 'Juanita,F,23\\n',\n 'Lenna,F,23\\n',\n 'Lucie,F,23\\n',\n 'Missouri,F,23\\n',\n 'Nola,F,23\\n',\n 'Zoe,F,23\\n',\n 'Eda,F,22\\n',\n 'Isabell,F,22\\n',\n 'James,F,22\\n',\n 'Julie,F,22\\n',\n 'Letitia,F,22\\n',\n 'Madeline,F,22\\n',\n 'Malissa,F,22\\n',\n 'Mariah,F,22\\n',\n 'Pattie,F,22\\n',\n 'Vivian,F,22\\n',\n 'Almeda,F,21\\n',\n 'Aurelia,F,21\\n',\n 'Claire,F,21\\n',\n 'Dolly,F,21\\n',\n 'Hazel,F,21\\n',\n 'Jannie,F,21\\n',\n 'Kathleen,F,21\\n',\n 'Kathrine,F,21\\n',\n 'Lavinia,F,21\\n',\n 'Marietta,F,21\\n',\n 'Melvina,F,21\\n',\n 'Ona,F,21\\n',\n 'Pinkie,F,21\\n',\n 'Samantha,F,21\\n',\n 'Susanna,F,21\\n',\n 'Chloe,F,20\\n',\n 'Donnie,F,20\\n',\n 'Elsa,F,20\\n',\n 'Gladys,F,20\\n',\n 'Matie,F,20\\n',\n 'Pearle,F,20\\n',\n 'Vesta,F,20\\n',\n 'Vinnie,F,20\\n',\n 'Antoinette,F,19\\n',\n 'Clementine,F,19\\n',\n 'Edythe,F,19\\n',\n 'Harriette,F,19\\n',\n 'Libbie,F,19\\n',\n 'Lilian,F,19\\n',\n 'Lue,F,19\\n',\n 'Lutie,F,19\\n',\n 'Magdalena,F,19\\n',\n 'Meda,F,19\\n',\n 'Rita,F,19\\n',\n 'Tena,F,19\\n',\n 'Zelma,F,19\\n',\n 'Adelia,F,18\\n',\n 'Annetta,F,18\\n',\n 'Antonia,F,18\\n',\n 'Dona,F,18\\n',\n 'Elizebeth,F,18\\n',\n 'Georgianna,F,18\\n',\n 'Gracie,F,18\\n',\n 'Iona,F,18\\n',\n 'Lessie,F,18\\n',\n 'Leta,F,18\\n',\n 'Liza,F,18\\n',\n 'Mertie,F,18\\n',\n 'Molly,F,18\\n',\n 'Neva,F,18\\n',\n 'Oma,F,18\\n',\n 'Alida,F,17\\n',\n 'Alva,F,17\\n',\n 'Cecile,F,17\\n',\n 'Cleo,F,17\\n',\n 'Donna,F,17\\n',\n 'Ellie,F,17\\n',\n 'Ernestine,F,17\\n',\n 'Evie,F,17\\n',\n 'Frankie,F,17\\n',\n 'Helene,F,17\\n',\n 'Minna,F,17\\n',\n 'Myrta,F,17\\n',\n 'Prudence,F,17\\n',\n 'Queen,F,17\\n',\n 'Rilla,F,17\\n',\n 'Savannah,F,17\\n',\n 'Tessie,F,17\\n',\n 'Tina,F,17\\n',\n 'Agatha,F,16\\n',\n 'America,F,16\\n',\n 'Anita,F,16\\n',\n 'Arminta,F,16\\n',\n 'Dorothea,F,16\\n',\n 'Ira,F,16\\n',\n 'Luvenia,F,16\\n',\n 'Marjorie,F,16\\n',\n 'Maybelle,F,16\\n',\n 'Mellie,F,16\\n',\n 'Nan,F,16\\n',\n 'Pearlie,F,16\\n',\n 'Sidney,F,16\\n',\n 'Velma,F,16\\n',\n 'Clare,F,15\\n',\n 'Constance,F,15\\n',\n 'Dixie,F,15\\n',\n 'Ila,F,15\\n',\n 'Iola,F,15\\n',\n 'Jimmie,F,15\\n',\n 'Louvenia,F,15\\n',\n 'Lucia,F,15\\n',\n 'Ludie,F,15\\n',\n 'Luna,F,15\\n',\n 'Metta,F,15\\n',\n 'Patsy,F,15\\n',\n 'Phebe,F,15\\n',\n 'Sophronia,F,15\\n',\n 'Adda,F,14\\n',\n 'Avis,F,14\\n',\n 'Betsy,F,14\\n',\n 'Bonnie,F,14\\n',\n 'Cecil,F,14\\n',\n 'Cordie,F,14\\n',\n 'Emmaline,F,14\\n',\n 'Ethelyn,F,14\\n',\n 'Hortense,F,14\\n',\n 'June,F,14\\n',\n 'Louie,F,14\\n',\n 'Lovie,F,14\\n',\n 'Marcella,F,14\\n',\n 'Melinda,F,14\\n',\n 'Mona,F,14\\n',\n 'Odessa,F,14\\n',\n 'Veronica,F,14\\n',\n 'Aimee,F,13\\n',\n 'Annabel,F,13\\n',\n 'Ava,F,13\\n',\n 'Bella,F,13\\n',\n 'Carolina,F,13\\n',\n 'Cathrine,F,13\\n',\n 'Christena,F,13\\n',\n 'Clyde,F,13\\n',\n 'Dena,F,13\\n',\n 'Dolores,F,13\\n',\n 'Eleanore,F,13\\n',\n 'Elmira,F,13\\n',\n 'Fay,F,13\\n',\n 'Frank,F,13\\n',\n 'Jenny,F,13\\n',\n 'Kizzie,F,13\\n',\n 'Lonnie,F,13\\n',\n 'Loula,F,13\\n',\n 'Magdalene,F,13\\n',\n 'Mettie,F,13\\n',\n 'Mintie,F,13\\n',\n 'Peggy,F,13\\n',\n 'Reba,F,13\\n',\n 'Serena,F,13\\n',\n 'Vida,F,13\\n',\n 'Zada,F,13\\n',\n 'Abigail,F,12\\n',\n 'Celestine,F,12\\n',\n 'Celina,F,12\\n',\n 'Claudie,F,12\\n',\n 'Clemmie,F,12\\n',\n 'Connie,F,12\\n',\n 'Daisie,F,12\\n',\n 'Deborah,F,12\\n',\n 'Dessa,F,12\\n',\n 'Easter,F,12\\n',\n 'Eddie,F,12\\n',\n 'Emelia,F,12\\n',\n 'Emmie,F,12\\n',\n 'Imogene,F,12\\n',\n 'India,F,12\\n',\n 'Jeanne,F,12\\n',\n 'Joan,F,12\\n',\n 'Lenore,F,12\\n',\n 'Liddie,F,12\\n',\n 'Lotta,F,12\\n',\n 'Mame,F,12\\n',\n 'Nevada,F,12\\n',\n 'Rachael,F,12\\n',\n 'Sina,F,12\\n',\n 'Willa,F,12\\n',\n 'Aline,F,11\\n',\n 'Beryl,F,11\\n',\n 'Charles,F,11\\n',\n 'Daisey,F,11\\n',\n 'Dorcas,F,11\\n',\n 'Edmonia,F,11\\n',\n 'Effa,F,11\\n',\n 'Eldora,F,11\\n',\n 'Eloise,F,11\\n',\n 'Emmer,F,11\\n',\n 'Era,F,11\\n',\n 'Gena,F,11\\n',\n 'Henry,F,11\\n',\n 'Iris,F,11\\n',\n 'Izora,F,11\\n',\n 'Lennie,F,11\\n',\n 'Lissie,F,11\\n',\n 'Mallie,F,11\\n',\n 'Malvina,F,11\\n',\n 'Mathilde,F,11\\n',\n 'Mazie,F,11\\n',\n 'Queenie,F,11\\n',\n 'Robert,F,11\\n',\n 'Rosina,F,11\\n',\n 'Salome,F,11\\n',\n 'Theodora,F,11\\n',\n 'Therese,F,11\\n',\n 'Vena,F,11\\n',\n 'Wanda,F,11\\n',\n 'Wilda,F,11\\n',\n 'Altha,F,10\\n',\n 'Anastasia,F,10\\n',\n 'Besse,F,10\\n',\n 'Bird,F,10\\n',\n 'Birtie,F,10\\n',\n 'Clarissa,F,10\\n',\n 'Claude,F,10\\n',\n 'Delilah,F,10\\n',\n 'Diana,F,10\\n',\n 'Emelie,F,10\\n',\n 'Erna,F,10\\n',\n 'Fern,F,10\\n',\n 'Florida,F,10\\n',\n 'Frona,F,10\\n',\n 'Hilma,F,10\\n',\n 'Joseph,F,10\\n',\n 'Juliet,F,10\\n',\n 'Leonie,F,10\\n',\n 'Lugenia,F,10\\n',\n 'Mammie,F,10\\n',\n 'Manda,F,10\\n',\n 'Manerva,F,10\\n',\n 'Manie,F,10\\n',\n 'Nella,F,10\\n',\n 'Paulina,F,10\\n',\n 'Philomena,F,10\\n',\n 'Rae,F,10\\n',\n 'Selina,F,10\\n',\n 'Sena,F,10\\n',\n 'Theodosia,F,10\\n',\n 'Tommie,F,10\\n',\n 'Una,F,10\\n',\n 'Vernie,F,10\\n',\n 'Adela,F,9\\n',\n 'Althea,F,9\\n',\n 'Amalia,F,9\\n',\n 'Amber,F,9\\n',\n 'Angelina,F,9\\n',\n 'Annabelle,F,9\\n',\n 'Anner,F,9\\n',\n 'Arie,F,9\\n',\n 'Clarice,F,9\\n',\n 'Corda,F,9\\n',\n 'Corrie,F,9\\n',\n 'Dell,F,9\\n',\n 'Dellar,F,9\\n',\n 'Donie,F,9\\n',\n 'Doris,F,9\\n',\n 'Elda,F,9\\n',\n 'Elinor,F,9\\n',\n 'Emeline,F,9\\n',\n 'Emilia,F,9\\n',\n 'Esta,F,9\\n',\n 'Estell,F,9\\n',\n 'Etha,F,9\\n',\n 'Fred,F,9\\n',\n 'Hope,F,9\\n',\n 'Indiana,F,9\\n',\n 'Ione,F,9\\n',\n 'Jettie,F,9\\n',\n 'Johnnie,F,9\\n',\n 'Josiephine,F,9\\n',\n 'Kitty,F,9\\n',\n 'Lavina,F,9\\n',\n 'Leda,F,9\\n',\n 'Letta,F,9\\n',\n 'Mahala,F,9\\n',\n 'Marcia,F,9\\n',\n 'Margarette,F,9\\n',\n 'Maudie,F,9\\n',\n 'Maye,F,9\\n',\n 'Norah,F,9\\n',\n 'Oda,F,9\\n',\n 'Patty,F,9\\n',\n 'Paula,F,9\\n',\n 'Permelia,F,9\\n',\n 'Rosalia,F,9\\n',\n 'Roxanna,F,9\\n',\n 'Sula,F,9\\n',\n 'Vada,F,9\\n',\n 'Winnifred,F,9\\n',\n 'Adline,F,8\\n',\n 'Almira,F,8\\n',\n 'Alvena,F,8\\n',\n 'Arizona,F,8\\n',\n 'Becky,F,8\\n',\n 'Bennie,F,8\\n',\n 'Bernadette,F,8\\n',\n 'Camille,F,8\\n',\n 'Cordia,F,8\\n',\n 'Corine,F,8\\n',\n 'Dicie,F,8\\n',\n 'Dove,F,8\\n',\n 'Drusilla,F,8\\n',\n 'Elena,F,8\\n',\n 'Elenora,F,8\\n',\n 'Elmina,F,8\\n',\n 'Ethyl,F,8\\n',\n 'Evalyn,F,8\\n',\n 'Evelina,F,8\\n',\n 'Faye,F,8\\n',\n 'Huldah,F,8\\n',\n 'Idell,F,8\\n',\n 'Inga,F,8\\n',\n 'Irena,F,8\\n',\n 'Jewell,F,8\\n',\n 'Kattie,F,8\\n',\n 'Lavenia,F,8\\n',\n 'Leslie,F,8\\n',\n 'Lovina,F,8\\n',\n 'Lulie,F,8\\n',\n 'Magnolia,F,8\\n',\n 'Margeret,F,8\\n',\n 'Margery,F,8\\n',\n 'Media,F,8\\n',\n 'Millicent,F,8\\n',\n 'Nena,F,8\\n',\n 'Ocie,F,8\\n',\n 'Orilla,F,8\\n',\n 'Osie,F,8\\n',\n 'Pansy,F,8\\n',\n 'Ray,F,8\\n',\n 'Rosia,F,8\\n',\n 'Rowena,F,8\\n',\n 'Shirley,F,8\\n',\n 'Tabitha,F,8\\n',\n 'Thomas,F,8\\n',\n 'Verdie,F,8\\n',\n 'Walter,F,8\\n',\n 'Zetta,F,8\\n',\n 'Zoa,F,8\\n',\n 'Zona,F,8\\n',\n 'Albertina,F,7\\n',\n 'Albina,F,7\\n',\n 'Alyce,F,7\\n',\n 'Amie,F,7\\n',\n 'Angela,F,7\\n',\n 'Annis,F,7\\n',\n 'Carol,F,7\\n',\n 'Carra,F,7\\n',\n 'Clarence,F,7\\n',\n 'Clarinda,F,7\\n',\n 'Delphia,F,7\\n',\n 'Dillie,F,7\\n',\n 'Doshie,F,7\\n',\n 'Drucilla,F,7\\n',\n 'Etna,F,7\\n',\n 'Eugenie,F,7\\n',\n 'Eulalia,F,7\\n',\n 'Eve,F,7\\n',\n 'Felicia,F,7\\n',\n 'Florance,F,7\\n',\n 'Fronie,F,7\\n',\n 'Geraldine,F,7\\n',\n 'Gina,F,7\\n',\n 'Glenna,F,7\\n',\n 'Grayce,F,7\\n',\n 'Hedwig,F,7\\n',\n 'Jessica,F,7\\n',\n 'Jossie,F,7\\n',\n 'Katheryn,F,7\\n',\n 'Katy,F,7\\n',\n 'Lea,F,7\\n',\n 'Leanna,F,7\\n',\n 'Leitha,F,7\\n',\n 'Leone,F,7\\n',\n 'Lidie,F,7\\n',\n 'Loma,F,7\\n',\n 'Lular,F,7\\n',\n 'Magdalen,F,7\\n',\n 'Maymie,F,7\\n',\n 'Minervia,F,7\\n',\n 'Muriel,F,7\\n',\n 'Neppie,F,7\\n',\n 'Olie,F,7\\n',\n 'Onie,F,7\\n',\n 'Osa,F,7\\n',\n 'Otelia,F,7\\n',\n 'Paralee,F,7\\n',\n 'Patience,F,7\\n',\n 'Rella,F,7\\n',\n 'Rillie,F,7\\n',\n 'Rosanna,F,7\\n',\n 'Theo,F,7\\n',\n 'Tilda,F,7\\n',\n 'Tishie,F,7\\n',\n 'Tressa,F,7\\n',\n 'Viva,F,7\\n',\n 'Yetta,F,7\\n',\n 'Zena,F,7\\n',\n 'Zola,F,7\\n',\n 'Abby,F,6\\n',\n 'Aileen,F,6\\n',\n 'Alba,F,6\\n',\n 'Alda,F,6\\n',\n 'Alla,F,6\\n',\n 'Alverta,F,6\\n',\n 'Ara,F,6\\n',\n 'Ardelia,F,6\\n',\n 'Ardella,F,6\\n',\n 'Arrie,F,6\\n',\n 'Arvilla,F,6\\n',\n 'Augustine,F,6\\n',\n 'Aurora,F,6\\n',\n 'Bama,F,6\\n',\n 'Bena,F,6\\n',\n 'Byrd,F,6\\n',\n 'Calla,F,6\\n',\n 'Camilla,F,6\\n',\n 'Carey,F,6\\n',\n 'Carlotta,F,6\\n',\n 'Celestia,F,6\\n',\n 'Cherry,F,6\\n',\n 'Cinda,F,6\\n',\n 'Classie,F,6\\n',\n 'Claudine,F,6\\n',\n 'Clemie,F,6\\n',\n 'Clifford,F,6\\n',\n 'Clyda,F,6\\n',\n 'Creola,F,6\\n',\n 'Debbie,F,6\\n',\n 'Dee,F,6\\n',\n 'Dinah,F,6\\n',\n 'Doshia,F,6\\n',\n 'Ednah,F,6\\n',\n 'Edyth,F,6\\n',\n 'Eleanora,F,6\\n',\n 'Electa,F,6\\n',\n 'Eola,F,6\\n',\n 'Erie,F,6\\n',\n 'Eudora,F,6\\n',\n 'Euphemia,F,6\\n',\n 'Evalena,F,6\\n',\n 'Evaline,F,6\\n',\n 'Faith,F,6\\n',\n 'Fidelia,F,6\\n',\n 'Freddie,F,6\\n',\n 'Golda,F,6\\n',\n 'Harry,F,6\\n',\n 'Helma,F,6\\n',\n 'Hermine,F,6\\n',\n 'Hessie,F,6\\n',\n 'Ivah,F,6\\n',\n 'Janette,F,6\\n',\n 'Jennette,F,6\\n',\n 'Joella,F,6\\n',\n 'Kathryne,F,6\\n',\n 'Lacy,F,6\\n',\n 'Lanie,F,6\\n',\n 'Lauretta,F,6\\n',\n 'Leana,F,6\\n',\n 'Leatha,F,6\\n',\n 'Leo,F,6\\n',\n 'Liller,F,6\\n',\n 'Lillis,F,6\\n',\n 'Louetta,F,6\\n',\n 'Madie,F,6\\n',\n 'Mai,F,6\\n',\n 'Martina,F,6\\n',\n 'Maryann,F,6\\n',\n 'Melva,F,6\\n',\n 'Mena,F,6\\n',\n 'Mercedes,F,6\\n',\n 'Merle,F,6\\n',\n 'Mima,F,6\\n',\n 'Minda,F,6\\n',\n 'Monica,F,6\\n',\n 'Nealie,F,6\\n',\n 'Netta,F,6\\n',\n 'Nolia,F,6\\n',\n 'Nonie,F,6\\n',\n 'Odelia,F,6\\n',\n 'Ottilie,F,6\\n',\n 'Phyllis,F,6\\n',\n 'Robbie,F,6\\n',\n 'Sabina,F,6\\n',\n 'Sada,F,6\\n',\n 'Sammie,F,6\\n',\n 'Suzanne,F,6\\n',\n 'Sybilla,F,6\\n',\n 'Thea,F,6\\n',\n 'Tressie,F,6\\n',\n 'Vallie,F,6\\n',\n 'Venie,F,6\\n',\n 'Viney,F,6\\n',\n 'Wilhelmine,F,6\\n',\n 'Winona,F,6\\n',\n 'Zelda,F,6\\n',\n 'Zilpha,F,6\\n',\n 'Adelle,F,5\\n',\n 'Adina,F,5\\n',\n 'Adrienne,F,5\\n',\n 'Albertine,F,5\\n',\n 'Alys,F,5\\n',\n 'Ana,F,5\\n',\n 'Araminta,F,5\\n',\n 'Arthur,F,5\\n',\n 'Birtha,F,5\\n',\n 'Bulah,F,5\\n',\n 'Caddie,F,5\\n',\n 'Celie,F,5\\n',\n 'Charlotta,F,5\\n',\n 'Clair,F,5\\n',\n 'Concepcion,F,5\\n',\n 'Cordella,F,5\\n',\n 'Corrine,F,5\\n',\n 'Delila,F,5\\n',\n 'Delphine,F,5\\n',\n 'Dosha,F,5\\n',\n 'Edgar,F,5\\n',\n 'Elaine,F,5\\n',\n 'Elisa,F,5\\n',\n 'Ellar,F,5\\n',\n 'Elmire,F,5\\n',\n 'Elvina,F,5\\n',\n 'Ena,F,5\\n',\n 'Estie,F,5\\n',\n 'Etter,F,5\\n',\n 'Fronnie,F,5\\n',\n 'Genie,F,5\\n',\n 'Georgina,F,5\\n',\n 'Glenn,F,5\\n',\n 'Gracia,F,5\\n',\n 'Guadalupe,F,5\\n',\n 'Gwendolyn,F,5\\n',\n 'Hassie,F,5\\n',\n 'Honora,F,5\\n',\n 'Icy,F,5\\n',\n 'Isa,F,5\\n',\n 'Isadora,F,5\\n',\n 'Jesse,F,5\\n',\n 'Jewel,F,5\\n',\n 'Joe,F,5\\n',\n 'Johannah,F,5\\n',\n 'Juana,F,5\\n',\n 'Judith,F,5\\n',\n 'Judy,F,5\\n',\n 'Junie,F,5\\n',\n 'Lavonia,F,5\\n',\n 'Lella,F,5\\n',\n 'Lemma,F,5\\n',\n 'Letty,F,5\\n',\n 'Linna,F,5\\n',\n 'Littie,F,5\\n',\n 'Lollie,F,5\\n',\n 'Lorene,F,5\\n',\n 'Louis,F,5\\n',\n 'Love,F,5\\n',\n 'Lovisa,F,5\\n',\n 'Lucina,F,5\\n',\n 'Lynn,F,5\\n',\n 'Madora,F,5\\n',\n 'Mahalia,F,5\\n',\n 'Manervia,F,5\\n',\n 'Manuela,F,5\\n',\n 'Margarett,F,5\\n',\n 'Margaretta,F,5\\n',\n 'Margarita,F,5\\n',\n 'Marilla,F,5\\n',\n 'Mignon,F,5\\n',\n 'Mozella,F,5\\n',\n 'Natalie,F,5\\n',\n 'Nelia,F,5\\n',\n 'Nolie,F,5\\n',\n 'Omie,F,5\\n',\n 'Opal,F,5\\n',\n 'Ossie,F,5\\n',\n 'Ottie,F,5\\n',\n 'Ottilia,F,5\\n',\n 'Parthenia,F,5\\n',\n 'Penelope,F,5\\n',\n 'Pinkey,F,5\\n',\n 'Pollie,F,5\\n',\n 'Rennie,F,5\\n',\n 'Reta,F,5\\n',\n 'Roena,F,5\\n',\n 'Rosalee,F,5\\n',\n 'Roseanna,F,5\\n',\n 'Ruthie,F,5\\n',\n 'Sabra,F,5\\n',\n 'Sannie,F,5\\n',\n 'Selena,F,5\\n',\n 'Sibyl,F,5\\n',\n 'Tella,F,5\\n',\n 'Tempie,F,5\\n',\n 'Tennessee,F,5\\n',\n 'Teressa,F,5\\n',\n 'Texas,F,5\\n',\n 'Theda,F,5\\n',\n 'Thelma,F,5\\n',\n 'Thursa,F,5\\n',\n 'Ula,F,5\\n',\n 'Vannie,F,5\\n',\n 'Verona,F,5\\n',\n 'Vertie,F,5\\n',\n 'Wilma,F,5\\n',\n 'John,M,9655\\n',\n 'William,M,9533\\n',\n 'James,M,5927\\n',\n 'Charles,M,5348\\n',\n 'George,M,5126\\n',\n 'Frank,M,3242\\n',\n 'Joseph,M,2632\\n',\n 'Thomas,M,2534\\n',\n 'Henry,M,2444\\n',\n 'Robert,M,2416\\n',\n 'Edward,M,2364\\n',\n 'Harry,M,2152\\n',\n 'Walter,M,1755\\n',\n 'Arthur,M,1599\\n',\n 'Fred,M,1569\\n',\n 'Albert,M,1493\\n',\n 'Samuel,M,1024\\n',\n 'David,M,869\\n',\n 'Louis,M,828\\n',\n 'Joe,M,731\\n',\n 'Charlie,M,730\\n',\n 'Clarence,M,730\\n',\n 'Richard,M,728\\n',\n 'Andrew,M,644\\n',\n 'Daniel,M,643\\n',\n 'Ernest,M,615\\n',\n 'Will,M,588\\n',\n 'Jesse,M,569\\n',\n 'Oscar,M,544\\n',\n 'Lewis,M,517\\n',\n 'Peter,M,496\\n',\n 'Benjamin,M,490\\n',\n 'Frederick,M,483\\n',\n 'Willie,M,476\\n',\n 'Alfred,M,469\\n',\n 'Sam,M,457\\n',\n 'Roy,M,440\\n',\n 'Herbert,M,424\\n',\n 'Jacob,M,404\\n',\n 'Tom,M,399\\n',\n 'Elmer,M,373\\n',\n 'Carl,M,372\\n',\n 'Lee,M,361\\n',\n 'Howard,M,357\\n',\n 'Martin,M,357\\n',\n 'Michael,M,354\\n',\n 'Bert,M,348\\n',\n 'Herman,M,347\\n',\n 'Jim,M,345\\n',\n 'Francis,M,344\\n',\n 'Harvey,M,344\\n',\n 'Earl,M,335\\n',\n 'Eugene,M,328\\n',\n 'Ralph,M,317\\n',\n 'Ed,M,310\\n',\n 'Claude,M,309\\n',\n 'Edwin,M,309\\n',\n 'Ben,M,305\\n',\n ...]"
     },
     "execution_count": 19,
     "metadata": {},
     "output_type": "execute_result"
    }
   ],
   "source": [
    "babyname = \"c:\\\\users\\\\HP2\\\\PycharmProjects\\\\Python\\\\pydata-book-2nd-edition\\\\datasets\\\\babynames\\\\yob1880.txt\"\n",
    "open(babyname,encoding='UTF-8').readlines()"
   ],
   "metadata": {
    "collapsed": false,
    "pycharm": {
     "name": "#%%\n"
    }
   }
  },
  {
   "cell_type": "code",
   "execution_count": 21,
   "outputs": [
    {
     "data": {
      "text/plain": "                  name  ages grene\nstudent1  huangxingjie    18   boy\nstudent2       lisimao    19   boy\nstudent3      oulaoula    77  girl",
      "text/html": "<div>\n<style scoped>\n    .dataframe tbody tr th:only-of-type {\n        vertical-align: middle;\n    }\n\n    .dataframe tbody tr th {\n        vertical-align: top;\n    }\n\n    .dataframe thead th {\n        text-align: right;\n    }\n</style>\n<table border=\"1\" class=\"dataframe\">\n  <thead>\n    <tr style=\"text-align: right;\">\n      <th></th>\n      <th>name</th>\n      <th>ages</th>\n      <th>grene</th>\n    </tr>\n  </thead>\n  <tbody>\n    <tr>\n      <th>student1</th>\n      <td>huangxingjie</td>\n      <td>18</td>\n      <td>boy</td>\n    </tr>\n    <tr>\n      <th>student2</th>\n      <td>lisimao</td>\n      <td>19</td>\n      <td>boy</td>\n    </tr>\n    <tr>\n      <th>student3</th>\n      <td>oulaoula</td>\n      <td>77</td>\n      <td>girl</td>\n    </tr>\n  </tbody>\n</table>\n</div>"
     },
     "execution_count": 21,
     "metadata": {},
     "output_type": "execute_result"
    }
   ],
   "source": [
    "data = {'name':['huangxingjie','lisimao','oulaoula'],\n",
    "        'ages':[18,19,77],\n",
    "        'grene':['boy','boy','girl'],\n",
    "       }\n",
    "# 可以在构建dataframe内部应用这个index实现对每一个初始index赋值。\n",
    "dataframe1 = DataFrame(data,index=['student1','student2','student3'])\n",
    "dataframe1"
   ],
   "metadata": {
    "collapsed": false,
    "pycharm": {
     "name": "#%%\n"
    }
   }
  },
  {
   "cell_type": "code",
   "execution_count": 27,
   "outputs": [
    {
     "data": {
      "text/plain": "student2    19\nstudent3    77\nName: ages, dtype: int64"
     },
     "execution_count": 27,
     "metadata": {},
     "output_type": "execute_result"
    }
   ],
   "source": [
    "dataframe1['ages'][dataframe1['ages'] >= 19]"
   ],
   "metadata": {
    "collapsed": false,
    "pycharm": {
     "name": "#%%\n"
    }
   }
  },
  {
   "cell_type": "code",
   "execution_count": 33,
   "outputs": [
    {
     "data": {
      "text/plain": "                  name  ages grene\nstudent1  huangxingjie    18   boy\nstudent2       lisimao    19   boy",
      "text/html": "<div>\n<style scoped>\n    .dataframe tbody tr th:only-of-type {\n        vertical-align: middle;\n    }\n\n    .dataframe tbody tr th {\n        vertical-align: top;\n    }\n\n    .dataframe thead th {\n        text-align: right;\n    }\n</style>\n<table border=\"1\" class=\"dataframe\">\n  <thead>\n    <tr style=\"text-align: right;\">\n      <th></th>\n      <th>name</th>\n      <th>ages</th>\n      <th>grene</th>\n    </tr>\n  </thead>\n  <tbody>\n    <tr>\n      <th>student1</th>\n      <td>huangxingjie</td>\n      <td>18</td>\n      <td>boy</td>\n    </tr>\n    <tr>\n      <th>student2</th>\n      <td>lisimao</td>\n      <td>19</td>\n      <td>boy</td>\n    </tr>\n  </tbody>\n</table>\n</div>"
     },
     "execution_count": 33,
     "metadata": {},
     "output_type": "execute_result"
    }
   ],
   "source": [
    "# dataframe的切片任然可以使用只不过这里的是对列元素的切片。\n",
    "dataframe1[:2]\n"
   ],
   "metadata": {
    "collapsed": false,
    "pycharm": {
     "name": "#%%\n"
    }
   }
  },
  {
   "cell_type": "code",
   "execution_count": 34,
   "outputs": [],
   "source": [
    "# 使用del语句可以指定列的删除。"
   ],
   "metadata": {
    "collapsed": false,
    "pycharm": {
     "name": "#%%\n"
    }
   }
  },
  {
   "cell_type": "code",
   "execution_count": 35,
   "outputs": [],
   "source": [
    "# 也可以使用转置方法实现另一个demension 的切片。"
   ],
   "metadata": {
    "collapsed": false,
    "pycharm": {
     "name": "#%%\n"
    }
   }
  },
  {
   "cell_type": "markdown",
   "source": [
    "#### 可以输入给DataFrame构造器的数据\n",
    "|类型|说明|\n",
    "|:-|:-|\n",
    "|二维ndarry|数据矩阵，还可以传入相关行列标|\n",
    "|由数组列表元组构成的字典|每个序列将变成dataframe的一列，且每列的长度必须相同|\n",
    "|numpy结构化/记录数组|类似于由数组构成的字典|\n",
    "|由Series构成的字典|每个series将成为一列，如果没有显式索引，我们将把每一个索引叠加后成为统一的索引|\n",
    "|由字典构成的字典|每个内层的字典为单独的一列|\n",
    "|字典或者Series列表|各项将成为dataframe的一行，字典的key或者series的索引将合并为行标|\n",
    "|由元组或者列表构成的列表|类似于二维adarry|\n",
    "|另外一个dataframe|该dataframe的索引将继续被使用|\n",
    "|numpy的maskedarray|类似于二维的nadarry，除了掩盖码会在dataframe中呈现为NaN的奇怪值|\n",
    "\n"
   ],
   "metadata": {
    "collapsed": false,
    "pycharm": {
     "name": "#%% md\n"
    }
   }
  },
  {
   "cell_type": "markdown",
   "source": [
    "### 索引对象\n",
    "> dataframe的索引不可更改"
   ],
   "metadata": {
    "collapsed": false,
    "pycharm": {
     "name": "#%% md\n"
    }
   }
  },
  {
   "cell_type": "markdown",
   "source": [
    "#### pandas中主要的index对象：\n",
    "|类|说明|\n",
    "|:-|:-|\n",
    "|Index|最泛化的Index对象，将轴标签表示为一个由Python对象组成的Numpy数组\n",
    "|Index64Index|针对整数的特殊的index|\n",
    "|MultiIndex|”层次化“索引对象，表示单个轴上的多层索引，可以看作由元组组成的数组|\n",
    "|DatetimeIndex|储存纳秒级别的时间戳(用Numpy的datetime64类型表示)|\n",
    "|PeriodIndex|针对Period数据(时间间隔)的特殊Index|\n",
    "\n"
   ],
   "metadata": {
    "collapsed": false,
    "pycharm": {
     "name": "#%% md\n"
    }
   }
  },
  {
   "cell_type": "markdown",
   "source": [
    "#### Index的方法和属性\n",
    "|方法|说明|\n",
    "|:-|:-|\n",
    "|append|连接另外一个index对象，产生一个新的index|\n",
    "|diff|计算差集|\n",
    "|intersection|计算交集|\n",
    "|union|计算交集|\n",
    "|isin|计算一个指示各个值是否包含于参数集合中的布尔型数组|\n",
    "\n"
   ],
   "metadata": {
    "collapsed": false,
    "pycharm": {
     "name": "#%% md\n"
    }
   }
  }
 ],
 "metadata": {
  "kernelspec": {
   "display_name": "Python 3",
   "language": "python",
   "name": "python3"
  },
  "language_info": {
   "codemirror_mode": {
    "name": "ipython",
    "version": 2
   },
   "file_extension": ".py",
   "mimetype": "text/x-python",
   "name": "python",
   "nbconvert_exporter": "python",
   "pygments_lexer": "ipython2",
   "version": "2.7.6"
  }
 },
 "nbformat": 4,
 "nbformat_minor": 0
}