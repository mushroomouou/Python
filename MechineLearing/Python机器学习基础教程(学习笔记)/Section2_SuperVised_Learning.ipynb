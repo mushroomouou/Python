{
 "cells": [
  {
   "cell_type": "markdown",
   "metadata": {
    "collapsed": true,
    "pycharm": {
     "name": "#%% md\n"
    }
   },
   "source": [
    "## 第二章 监督学习"
   ]
  },
  {
   "cell_type": "markdown",
   "source": [
    "### 2.1 分类与回归\n",
    "> 监督学习有两类，我们熟知的是：分类(classification)与回归(regression0)\n",
    "* 分类问题：\n",
    "    * target：分类问题的核心就是预测标签名(class label)，这也就是我们再Section1里面的花卉分\n",
    "    类一样，我们需要对测试对象分类得出结果。\n",
    "    * 分类划分：\n",
    "        * 二分类:测试对象的标签只有两个，也就是说可以使用0或者1来表示所有标签。\n",
    "            * 一个类叫做正类(positive class)；\n",
    "            * 一个叫做反类(negative class)：\n",
    "        * 多分类：测试对象的标签不只有2个，可能有很多个,可以说是二分类的拓展。\n",
    "* 回归问题：\n",
    "    * target:回归问题的核心就是得到一个足以预测一个连续值的算法，编程术语叫做，浮点数(floating-point number)\n",
    "    也就是数学上的实数。"
   ],
   "metadata": {
    "collapsed": false,
    "pycharm": {
     "name": "#%% md\n"
    }
   }
  },
  {
   "cell_type": "markdown",
   "source": [
    "### 2.2 泛化，过拟合与欠拟合\n",
    "* 泛化(generalize)：\n",
    "    * 我们机器学习的实质就是让机器能够从训练的数据里面走出来，进入测试数据进行预测，泛化就是指的是从训练集到\n",
    "    测试集的过程，我们称之为泛化，我们所希望的是得到一个泛化程度尽可能高的一个模型。\n",
    "* 过拟合(overfitting)：\n",
    "    * 构建的模型在你自己的数据集上非常精确，但是当走出自己的数据集时就出现巨大漏洞，这就是过拟合\n",
    "* 欠拟合(underfitting)：\n",
    "    * 根本抓不住重点的拟合，就连自己的数据集都拟合不了，模型建立非常拉跨。\n",
    "#### 模型复杂度与数据集大小之间的关系\n",
    "> 相信自己模块的实力就喂给它足够可怕的数据量，它不会让你失望的。"
   ],
   "metadata": {
    "collapsed": false,
    "pycharm": {
     "name": "#%% md\n"
    }
   }
  },
  {
   "cell_type": "markdown",
   "source": [
    "### 2.3 监督学习算法\n",
    "#### 2.3.1 一些样本数据集\n",
    "> 导入一下包文件用于测试"
   ],
   "metadata": {
    "collapsed": false,
    "pycharm": {
     "name": "#%% md\n"
    }
   }
  },
  {
   "cell_type": "code",
   "execution_count": 5,
   "outputs": [],
   "source": [
    "from sklearn import datasets\n",
    "import numpy as np\n",
    "from matplotlib import pyplot as plt\n",
    "import mglearn"
   ],
   "metadata": {
    "collapsed": false,
    "pycharm": {
     "name": "#%%\n"
    }
   }
  },
  {
   "cell_type": "code",
   "execution_count": 8,
   "outputs": [
    {
     "name": "stderr",
     "output_type": "stream",
     "text": [
      "c:\\users\\hp2\\pycharmprojects\\pythonproject1\\venv\\lib\\site-packages\\sklearn\\utils\\deprecation.py:86: FutureWarning: Function make_blobs is deprecated; Please import make_blobs directly from scikit-learn\n",
      "  warnings.warn(msg, category=FutureWarning)\n"
     ]
    },
    {
     "data": {
      "text/plain": "<Figure size 432x288 with 1 Axes>",
      "image/png": "[encoded data removed]"
     },
     "metadata": {
      "needs_background": "dark"
     },
     "output_type": "display_data"
    }
   ],
   "source": [
    "x,y = mglearn.datasets.make_forge()\n",
    "mglearn.discrete_scatter(x[:,0],x[:,1],y)\n",
    "plt.legend(['class 01','class 02'],fontsize=15,loc=4)\n",
    "plt.xlabel(\"First Feature\",c='white')\n",
    "plt.xticks(c='white',fontsize=15)\n",
    "plt.yticks(c='white',fontsize=15)\n",
    "plt.ylabel(\"Second Feature\",c='white')\n",
    "plt.show()"
   ],
   "metadata": {
    "collapsed": false,
    "pycharm": {
     "name": "#%%\n"
    }
   }
  }
 ],
 "metadata": {
  "kernelspec": {
   "display_name": "Python 3",
   "language": "python",
   "name": "python3"
  },
  "language_info": {
   "codemirror_mode": {
    "name": "ipython",
    "version": 2
   },
   "file_extension": ".py",
   "mimetype": "text/x-python",
   "name": "python",
   "nbconvert_exporter": "python",
   "pygments_lexer": "ipython2",
   "version": "2.7.6"
  }
 },
 "nbformat": 4,
 "nbformat_minor": 0
}