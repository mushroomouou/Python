{
 "cells": [
  {
   "cell_type": "markdown",
   "metadata": {
    "collapsed": true,
    "pycharm": {
     "name": "#%% md\n"
    }
   },
   "source": [
    "## 第二章 监督学习"
   ]
  },
  {
   "cell_type": "markdown",
   "source": [
    "### 2.1 分类与回归\n",
    "> 监督学习有两类，我们熟知的是：分类(classification)与回归(regression0)\n",
    "* 分类问题：\n",
    "    * target：分类问题的核心就是预测标签名(class label)，这也就是我们再Section1里面的花卉分\n",
    "    类一样，我们需要对测试对象分类得出结果。\n",
    "    * 分类划分：\n",
    "        * 二分类:测试对象的标签只有两个，也就是说可以使用0或者1来表示所有标签。\n",
    "            * 一个类叫做正类(positive class)；\n",
    "            * 一个叫做反类(negative class)：\n",
    "        * 多分类：测试对象的标签不只有2个，可能有很多个,可以说是二分类的拓展。\n",
    "* 回归问题：\n",
    "    * target:回归问题的核心就是得到一个足以预测一个连续值的算法，编程术语叫做，浮点数(floating-point number)\n",
    "    也就是数学上的实数。"
   ],
   "metadata": {
    "collapsed": false,
    "pycharm": {
     "name": "#%% md\n"
    }
   }
  },
  {
   "cell_type": "markdown",
   "source": [
    "### 2.2 泛化，过拟合与欠拟合\n",
    "* 泛化(generalize)：\n",
    "    * 我们机器学习的实质就是让机器能够从训练的数据里面走出来，进入测试数据进行预测，泛化就是指的是从训练集到\n",
    "    测试集的过程，我们称之为泛化，我们所希望的是得到一个泛化程度尽可能高的一个模型。\n",
    "* 过拟合(overfitting)：\n",
    "    * 构建的模型在你自己的数据集上非常精确，但是当走出自己的数据集时就出现巨大漏洞，这就是过拟合\n",
    "* 欠拟合(underfitting)：\n",
    "    * 根本抓不住重点的拟合，就连自己的数据集都拟合不了，模型建立非常拉跨。\n",
    "#### 模型复杂度与数据集大小之间的关系\n",
    "> 相信自己模块的实力就喂给它足够可怕的数据量，它不会让你失望的。"
   ],
   "metadata": {
    "collapsed": false,
    "pycharm": {
     "name": "#%% md\n"
    }
   }
  },
  {
   "cell_type": "markdown",
   "source": [
    "### 2.3 监督学习算法\n",
    "#### 2.3.1 一些样本数据集\n",
    "> 导入一下包文件用于测试"
   ],
   "metadata": {
    "collapsed": false,
    "pycharm": {
     "name": "#%% md\n"
    }
   }
  },
  {
   "cell_type": "code",
   "execution_count": 141,
   "outputs": [],
   "source": [
    "from sklearn import datasets\n",
    "import numpy as np\n",
    "from matplotlib import pyplot as plt\n",
    "import mglearn"
   ],
   "metadata": {
    "collapsed": false,
    "pycharm": {
     "name": "#%%\n"
    }
   }
  },
  {
   "cell_type": "code",
   "execution_count": 142,
   "outputs": [
    {
     "name": "stderr",
     "output_type": "stream",
     "text": [
      "c:\\users\\hp2\\pycharmprojects\\pythonproject1\\venv\\lib\\site-packages\\sklearn\\utils\\deprecation.py:86: FutureWarning: Function make_blobs is deprecated; Please import make_blobs directly from scikit-learn\n",
      "  warnings.warn(msg, category=FutureWarning)\n"
     ]
    },
    {
     "data": {
      "text/plain": "<Figure size 432x288 with 1 Axes>",
      "image/png": "[encoded data removed]"
     },
     "metadata": {
      "needs_background": "dark"
     },
     "output_type": "display_data"
    }
   ],
   "source": [
    "x,y = mglearn.datasets.make_forge()\n",
    "mglearn.discrete_scatter(x[:,0],x[:,1],y)\n",
    "plt.legend(['class 01','class 02'],fontsize=15,loc=4)\n",
    "plt.xlabel(\"First Feature\",c='white',fontsize=20)\n",
    "plt.xticks(c='white',fontsize=15)\n",
    "plt.yticks(c='white',fontsize=15)\n",
    "plt.ylabel(\"Second Feature\",c='white',fontsize=20)\n",
    "plt.show()"
   ],
   "metadata": {
    "collapsed": false,
    "pycharm": {
     "name": "#%%\n"
    }
   }
  },
  {
   "cell_type": "markdown",
   "source": [
    "#### 简单使用sklearn实现线性回归"
   ],
   "metadata": {
    "collapsed": false,
    "pycharm": {
     "name": "#%% md\n"
    }
   }
  },
  {
   "cell_type": "code",
   "execution_count": 143,
   "outputs": [
    {
     "data": {
      "text/plain": "<Figure size 432x288 with 1 Axes>",
      "image/png": "[encoded data removed]"
     },
     "metadata": {
      "needs_background": "dark"
     },
     "output_type": "display_data"
    }
   ],
   "source": [
    "plt.rcParams['font.sans-serif']=['SimHei'] #用来正常显示中文标签\n",
    "plt.rcParams['axes.unicode_minus']=False #用来正常显示负号\n",
    "from sklearn.linear_model import LinearRegression\n",
    "model = LinearRegression()\n",
    "x1,y1 = mglearn.datasets.make_wave(n_samples=60)\n",
    "model.fit(x1,y1)\n",
    "predicts = model.predict(x1)\n",
    "plt.plot(x1,predicts,color='r',linewidth=1,label='回归曲线')\n",
    "plt.plot(x1,y1,'o',label='实际点')\n",
    "plt.legend(fontsize=10,loc='upper right')\n",
    "plt.xticks(c='white',fontsize=15)\n",
    "plt.yticks(c='white',fontsize=15)\n",
    "plt.xlabel('X',fontsize=15)\n",
    "plt.ylabel('Y',fontsize=15)\n",
    "plt.ylim(-3,3)\n",
    "plt.xlim(-3,3)\n",
    "plt.show()"
   ],
   "metadata": {
    "collapsed": false,
    "pycharm": {
     "name": "#%%\n"
    }
   }
  },
  {
   "cell_type": "markdown",
   "source": [
    "#### 癌症的分布分析(分类问题(Class))"
   ],
   "metadata": {
    "collapsed": false,
    "pycharm": {
     "name": "#%% md\n"
    }
   }
  },
  {
   "cell_type": "code",
   "execution_count": 144,
   "outputs": [
    {
     "name": "stdout",
     "output_type": "stream",
     "text": [
      "Breast cancer's keys are \n",
      "\tdict_keys(['data', 'target', 'frame', 'target_names', 'DESCR', 'feature_names', 'filename'])\n"
     ]
    }
   ],
   "source": [
    "from sklearn.datasets import load_breast_cancer\n",
    "breast_cancer = load_breast_cancer()\n",
    "print(\"Breast cancer's keys are \\n\\t{}\".format(breast_cancer.keys()))"
   ],
   "metadata": {
    "collapsed": false,
    "pycharm": {
     "name": "#%%\n"
    }
   }
  },
  {
   "cell_type": "code",
   "execution_count": 145,
   "outputs": [
    {
     "name": "stdout",
     "output_type": "stream",
     "text": [
      "Breast cancer's target_names is \n",
      "\t['malignant' 'benign']\n"
     ]
    }
   ],
   "source": [
    "print(\"Breast cancer's target_names is \\n\\t{}\".format(breast_cancer['target_names']))"
   ],
   "metadata": {
    "collapsed": false,
    "pycharm": {
     "name": "#%%\n"
    }
   }
  },
  {
   "cell_type": "code",
   "execution_count": 146,
   "outputs": [
    {
     "name": "stdout",
     "output_type": "stream",
     "text": [
      "Breast cancer's data is \n",
      "\t[[1.799e+01 1.038e+01 1.228e+02 ... 2.654e-01 4.601e-01 1.189e-01]\n",
      " [2.057e+01 1.777e+01 1.329e+02 ... 1.860e-01 2.750e-01 8.902e-02]\n",
      " [1.969e+01 2.125e+01 1.300e+02 ... 2.430e-01 3.613e-01 8.758e-02]\n",
      " ...\n",
      " [1.660e+01 2.808e+01 1.083e+02 ... 1.418e-01 2.218e-01 7.820e-02]\n",
      " [2.060e+01 2.933e+01 1.401e+02 ... 2.650e-01 4.087e-01 1.240e-01]\n",
      " [7.760e+00 2.454e+01 4.792e+01 ... 0.000e+00 2.871e-01 7.039e-02]]\n"
     ]
    }
   ],
   "source": [
    "print(\"Breast cancer's data is \\n\\t{}\".format(breast_cancer['data']))"
   ],
   "metadata": {
    "collapsed": false,
    "pycharm": {
     "name": "#%%\n"
    }
   }
  },
  {
   "cell_type": "code",
   "execution_count": 147,
   "outputs": [
    {
     "name": "stdout",
     "output_type": "stream",
     "text": [
      "Breast cancer's class is \n",
      "\t{'malignant': 212, 'benign': 357}\n"
     ]
    }
   ],
   "source": [
    "print(\"Breast cancer's class is \\n\\t{}\".format({n:k for n,k in zip(breast_cancer['target_names'],np.bincount(breast_cancer['target']))}))"
   ],
   "metadata": {
    "collapsed": false,
    "pycharm": {
     "name": "#%%\n"
    }
   }
  },
  {
   "cell_type": "code",
   "execution_count": 148,
   "outputs": [
    {
     "name": "stdout",
     "output_type": "stream",
     "text": [
      "Breast cancer's feature_names are \n",
      "\t['mean radius' 'mean texture' 'mean perimeter' 'mean area'\n",
      " 'mean smoothness' 'mean compactness' 'mean concavity'\n",
      " 'mean concave points' 'mean symmetry' 'mean fractal dimension'\n",
      " 'radius error' 'texture error' 'perimeter error' 'area error'\n",
      " 'smoothness error' 'compactness error' 'concavity error'\n",
      " 'concave points error' 'symmetry error' 'fractal dimension error'\n",
      " 'worst radius' 'worst texture' 'worst perimeter' 'worst area'\n",
      " 'worst smoothness' 'worst compactness' 'worst concavity'\n",
      " 'worst concave points' 'worst symmetry' 'worst fractal dimension']\n"
     ]
    }
   ],
   "source": [
    "print(\"Breast cancer's feature_names are \\n\\t{}\".format(breast_cancer['feature_names']))"
   ],
   "metadata": {
    "collapsed": false,
    "pycharm": {
     "name": "#%%\n"
    }
   }
  },
  {
   "cell_type": "code",
   "execution_count": 149,
   "outputs": [
    {
     "name": "stdout",
     "output_type": "stream",
     "text": [
      "Breast cancer's DESCR \n",
      "\t.. _breast_cancer_dataset:\n",
      "\n",
      "Breast cancer wisconsin (diagnostic) dataset\n",
      "--------------------------------------------\n",
      "\n",
      "**Data Set Characteristics:**\n",
      "\n",
      "    :Number of Instances: 569\n",
      "\n",
      "    :Number of Attributes: 30 numeric, predictive attributes and the class\n",
      "\n",
      "    :Attribute Information:\n",
      "        - radius (mean of distances from center to points on the perimeter)\n",
      "        - texture (standard deviation of gray-scale values)\n",
      "        - perimeter\n",
      "        - area\n",
      "        - smoothness (local variation in radius lengths)\n",
      "        - compactness (perimeter^2 / area - 1.0)\n",
      "        - concavity (severity of concave portions of the contour)\n",
      "        - concave points (number of concave portions of the contour)\n",
      "        - symmetry\n",
      "        - fractal dimension (\"coastline approximation\" - 1)\n",
      "\n",
      "        The mean, standard error, and \"worst\" or largest (mean of the three\n",
      "        worst/largest values) of these features were computed for each image,\n",
      "        resulting in 30 features.  For instance, field 0 is Mean Radius, field\n",
      "        10 is Radius SE, field 20 is Worst Radius.\n",
      "\n",
      "        - class:\n",
      "                - WDBC-Malignant\n",
      "                - WDBC-Benign\n",
      "\n",
      "    :Summary Statistics:\n",
      "\n",
      "    ===================================== ====== ======\n",
      "                                           Min    Max\n",
      "    ===================================== ====== ======\n",
      "    radius (mean):                        6.981  28.11\n",
      "    texture (mean):                       9.71   39.28\n",
      "    perimeter (mean):                     43.79  188.5\n",
      "    area (mean):                          143.5  2501.0\n",
      "    smoothness (mean):                    0.053  0.163\n",
      "    compactness (mean):                   0.019  0.345\n",
      "    concavity (mean):                     0.0    0.427\n",
      "    concave points (mean):                0.0    0.201\n",
      "    symmetry (mean):                      0.106  0.304\n",
      "    fractal dimension (mean):             0.05   0.097\n",
      "    radius (standard error):              0.112  2.873\n",
      "    texture (standard error):             0.36   4.885\n",
      "    perimeter (standard error):           0.757  21.98\n",
      "    area (standard error):                6.802  542.2\n",
      "    smoothness (standard error):          0.002  0.031\n",
      "    compactness (standard error):         0.002  0.135\n",
      "    concavity (standard error):           0.0    0.396\n",
      "    concave points (standard error):      0.0    0.053\n",
      "    symmetry (standard error):            0.008  0.079\n",
      "    fractal dimension (standard error):   0.001  0.03\n",
      "    radius (worst):                       7.93   36.04\n",
      "    texture (worst):                      12.02  49.54\n",
      "    perimeter (worst):                    50.41  251.2\n",
      "    area (worst):                         185.2  4254.0\n",
      "    smoothness (worst):                   0.071  0.223\n",
      "    compactness (worst):                  0.027  1.058\n",
      "    concavity (worst):                    0.0    1.252\n",
      "    concave points (worst):               0.0    0.291\n",
      "    symmetry (worst):                     0.156  0.664\n",
      "    fractal dimension (worst):            0.055  0.208\n",
      "    ===================================== ====== ======\n",
      "\n",
      "    :Missing Attribute Values: None\n",
      "\n",
      "    :Class Distribution: 212 - Malignant, 357 - Benign\n",
      "\n",
      "    :Creator:  Dr. William H. Wolberg, W. Nick Street, Olvi L. Mangasarian\n",
      "\n",
      "    :Donor: Nick Street\n",
      "\n",
      "    :Date: November, 1995\n",
      "\n",
      "This is a copy of UCI ML Breast Cancer Wisconsin (Diagnostic) datasets.\n",
      "https://goo.gl/U2Uwz2\n",
      "\n",
      "Features are computed from a digitized image of a fine needle\n",
      "aspirate (FNA) of a breast mass.  They describe\n",
      "characteristics of the cell nuclei present in the image.\n",
      "\n",
      "Separating plane described above was obtained using\n",
      "Multisurface Method-Tree (MSM-T) [K. P. Bennett, \"Decision Tree\n",
      "Construction Via Linear Programming.\" Proceedings of the 4th\n",
      "Midwest Artificial Intelligence and Cognitive Science Society,\n",
      "pp. 97-101, 1992], a classification method which uses linear\n",
      "programming to construct a decision tree.  Relevant features\n",
      "were selected using an exhaustive search in the space of 1-4\n",
      "features and 1-3 separating planes.\n",
      "\n",
      "The actual linear program used to obtain the separating plane\n",
      "in the 3-dimensional space is that described in:\n",
      "[K. P. Bennett and O. L. Mangasarian: \"Robust Linear\n",
      "Programming Discrimination of Two Linearly Inseparable Sets\",\n",
      "Optimization Methods and Software 1, 1992, 23-34].\n",
      "\n",
      "This database is also available through the UW CS ftp server:\n",
      "\n",
      "ftp ftp.cs.wisc.edu\n",
      "cd math-prog/cpo-dataset/machine-learn/WDBC/\n",
      "\n",
      ".. topic:: References\n",
      "\n",
      "   - W.N. Street, W.H. Wolberg and O.L. Mangasarian. Nuclear feature extraction \n",
      "     for breast tumor diagnosis. IS&T/SPIE 1993 International Symposium on \n",
      "     Electronic Imaging: Science and Technology, volume 1905, pages 861-870,\n",
      "     San Jose, CA, 1993.\n",
      "   - O.L. Mangasarian, W.N. Street and W.H. Wolberg. Breast cancer diagnosis and \n",
      "     prognosis via linear programming. Operations Research, 43(4), pages 570-577, \n",
      "     July-August 1995.\n",
      "   - W.H. Wolberg, W.N. Street, and O.L. Mangasarian. Machine learning techniques\n",
      "     to diagnose breast cancer from fine-needle aspirates. Cancer Letters 77 (1994) \n",
      "     163-171.\n"
     ]
    }
   ],
   "source": [
    "print(\"Breast cancer's DESCR \\n\\t{}\".format(breast_cancer['DESCR']))"
   ],
   "metadata": {
    "collapsed": false,
    "pycharm": {
     "name": "#%%\n"
    }
   }
  },
  {
   "cell_type": "markdown",
   "source": [
    "#### Boston的房价预测"
   ],
   "metadata": {
    "collapsed": false,
    "pycharm": {
     "name": "#%% md\n"
    }
   }
  },
  {
   "cell_type": "code",
   "execution_count": 150,
   "outputs": [],
   "source": [
    "from sklearn.datasets import load_boston\n",
    "boston = load_boston()"
   ],
   "metadata": {
    "collapsed": false,
    "pycharm": {
     "name": "#%%\n"
    }
   }
  },
  {
   "cell_type": "code",
   "execution_count": 151,
   "outputs": [
    {
     "name": "stdout",
     "output_type": "stream",
     "text": [
      "拟合程度(位差) is \n",
      "\t7.358189595618429e-15\n",
      "\n",
      "就这拟合程度就离谱？？？？？\n"
     ]
    }
   ],
   "source": [
    "boston_model = LinearRegression()\n",
    "boston_model.fit(boston.data,boston.target)\n",
    "predicts2 = boston_model.predict(boston.data)\n",
    "tamp = np.subtract(boston.target,predicts2)\n",
    "result_boston:float = np.sum(tamp)\n",
    "print(\"拟合程度(位差) is \\n\\t{}\\n\".format(result_boston/len(boston.target)))\n",
    "print(\"就这拟合程度就离谱？？？？？\")"
   ],
   "metadata": {
    "collapsed": false,
    "pycharm": {
     "name": "#%%\n"
    }
   }
  },
  {
   "cell_type": "markdown",
   "source": [
    "##### 房价预测总结：\n",
    "> 我们再使用线性回归求解时候要确保x与y的行数相等，不然无法拟合，使用predict函数进行测试对象的预测，妙啊。\n",
    ">注意LinearRegression()是一个类(class)其中的函数也是很多的，常用的是fit导入数据，predict函数预测数据，用的都是numpy定义的数据类型(array)."
   ],
   "metadata": {
    "collapsed": false,
    "pycharm": {
     "name": "#%% md\n"
    }
   }
  },
  {
   "cell_type": "markdown",
   "source": [
    "#### 2.3.2 K近邻分析"
   ],
   "metadata": {
    "collapsed": false,
    "pycharm": {
     "name": "#%% md\n"
    }
   }
  },
  {
   "cell_type": "code",
   "execution_count": 152,
   "outputs": [
    {
     "name": "stderr",
     "output_type": "stream",
     "text": [
      "c:\\users\\hp2\\pycharmprojects\\pythonproject1\\venv\\lib\\site-packages\\sklearn\\utils\\deprecation.py:86: FutureWarning: Function make_blobs is deprecated; Please import make_blobs directly from scikit-learn\n",
      "  warnings.warn(msg, category=FutureWarning)\n"
     ]
    },
    {
     "data": {
      "text/plain": "<Figure size 432x288 with 1 Axes>",
      "image/png": "[encoded data removed]"
     },
     "metadata": {
      "needs_background": "light"
     },
     "output_type": "display_data"
    }
   ],
   "source": [
    "from sklearn.model_selection import train_test_split\n",
    "mglearn.plots.plot_knn_classification(n_neighbors=3)\n",
    "# 这里的函数图像其实是一个实现预定好的一个函数图像，方便我们理解K近邻算法的内涵的图像。"
   ],
   "metadata": {
    "collapsed": false,
    "pycharm": {
     "name": "#%%\n"
    }
   }
  },
  {
   "cell_type": "code",
   "execution_count": 153,
   "outputs": [
    {
     "name": "stdout",
     "output_type": "stream",
     "text": [
      "forge_pred are \n",
      "\t[1 0 1 0 1 0 0]\n",
      "y_test2 are \n",
      "\t[1 0 1 0 1 1 0]\n",
      "Result is \n",
      "\t0.8571428571428571\n"
     ]
    }
   ],
   "source": [
    "from sklearn.neighbors import KNeighborsClassifier\n",
    "x_train2,x_test2,y_train2,y_test2 = train_test_split(x,y,random_state=0)\n",
    "forge_knn = KNeighborsClassifier(n_neighbors=3)\n",
    "forge_knn.fit(x_train2,y_train2)\n",
    "forge_pred = forge_knn.predict(x_test2)\n",
    "print(\"forge_pred are \\n\\t{}\".format(forge_pred))\n",
    "print(\"y_test2 are \\n\\t{}\".format(y_test2))\n",
    "print(\"Result is \\n\\t{}\".format(forge_knn.score(x_test2,y_test2)))"
   ],
   "metadata": {
    "collapsed": false,
    "pycharm": {
     "name": "#%%\n"
    }
   }
  },
  {
   "cell_type": "markdown",
   "source": [
    "> 这里的函数我们要记得score函数需要放的是测试的数据集合，而不是我们自己个人得出的数据集合。"
   ],
   "metadata": {
    "collapsed": false,
    "pycharm": {
     "name": "#%% md\n"
    }
   }
  },
  {
   "cell_type": "markdown",
   "source": [
    "##### 可视化一下K邻分析"
   ],
   "metadata": {
    "collapsed": false,
    "pycharm": {
     "name": "#%% md\n"
    }
   }
  },
  {
   "cell_type": "code",
   "execution_count": 154,
   "outputs": [
    {
     "data": {
      "text/plain": "<matplotlib.legend.Legend at 0x2a25f1f4550>"
     },
     "execution_count": 154,
     "metadata": {},
     "output_type": "execute_result"
    },
    {
     "data": {
      "text/plain": "<Figure size 720x216 with 3 Axes>",
      "image/png": "[encoded data removed]"
     },
     "metadata": {},
     "output_type": "display_data"
    }
   ],
   "source": [
    "fig,axes = plt.subplots(1,3,figsize=(10,3))\n",
    "for n_neighbors,ax in zip([1,3,9],axes):\n",
    "    clf = KNeighborsClassifier(n_neighbors=n_neighbors).fit(x,y)\n",
    "    mglearn.plots.plot_2d_separator(clf,x,fill=True,eps=0.5,ax=ax,alpha=.4)\n",
    "    mglearn.discrete_scatter(x[:,0],x[:,1],y,ax=ax)\n",
    "    ax.set_title(\"{} neighbors(s)\".format(n_neighbors))\n",
    "    ax.set_xlabel(\"feature 0\")\n",
    "    ax.set_ylabel(\"feature 1\")\n",
    "axes[0].legend(loc=3)"
   ],
   "metadata": {
    "collapsed": false,
    "pycharm": {
     "name": "#%%\n"
    }
   }
  },
  {
   "cell_type": "markdown",
   "source": [
    "##### 对上面的乳腺癌分析一下："
   ],
   "metadata": {
    "collapsed": false,
    "pycharm": {
     "name": "#%% md\n"
    }
   }
  },
  {
   "cell_type": "code",
   "execution_count": 155,
   "outputs": [
    {
     "data": {
      "text/plain": "<Figure size 432x288 with 1 Axes>",
      "image/png": "[encoded data removed]"
     },
     "metadata": {
      "needs_background": "dark"
     },
     "output_type": "display_data"
    }
   ],
   "source": [
    "x3_train,x3_test,y3_train,y3_test = train_test_split(breast_cancer['data'],breast_cancer['target'],random_state=0)\n",
    "pred_accuracy:list = []\n",
    "test_accuracy:list = []\n",
    "for n_neighbors in range(1,18):\n",
    "    breast_knn = KNeighborsClassifier(n_neighbors=n_neighbors)\n",
    "    breast_knn.fit(x3_train,y3_train)\n",
    "    pred_accuracy.append(breast_knn.score(x3_test,y3_test))\n",
    "    test_accuracy.append(breast_knn.score(x3_train,y3_train))\n",
    "plt.plot(range(1,18),pred_accuracy,linestyle='--',label='预测精度曲线')\n",
    "plt.plot(range(1,18),test_accuracy,label='实际精度曲线')\n",
    "plt.xticks(c='white')\n",
    "plt.yticks(c='white')\n",
    "plt.legend(fontsize=15,loc='upper right')\n",
    "plt.show()"
   ],
   "metadata": {
    "collapsed": false,
    "pycharm": {
     "name": "#%%\n"
    }
   }
  },
  {
   "cell_type": "markdown",
   "source": [
    "> 发现一个问题，我们使用Knn算法无法实现绝对的精确，就是无法打到我们自己的预期效果。"
   ],
   "metadata": {
    "collapsed": false,
    "pycharm": {
     "name": "#%% md\n"
    }
   }
  },
  {
   "cell_type": "markdown",
   "source": [
    "##### K近邻回归："
   ],
   "metadata": {
    "collapsed": false,
    "pycharm": {
     "name": "#%% md\n"
    }
   }
  },
  {
   "cell_type": "code",
   "execution_count": 164,
   "outputs": [
    {
     "name": "stdout",
     "output_type": "stream",
     "text": [
      "拟合效果大小是： \n",
      "\t0.7501149638643652\n"
     ]
    },
    {
     "data": {
      "text/plain": "<Figure size 720x432 with 1 Axes>",
      "image/png": "[encoded data removed]"
     },
     "metadata": {
      "needs_background": "light"
     },
     "output_type": "display_data"
    }
   ],
   "source": [
    "mglearn.plots.plot_knn_regression(n_neighbors=5)"
   ],
   "metadata": {
    "collapsed": false,
    "pycharm": {
     "name": "#%%\n"
    }
   }
  },
  {
   "cell_type": "code",
   "execution_count": 177,
   "outputs": [
    {
     "data": {
      "text/plain": "<Figure size 432x288 with 1 Axes>",
      "image/png": "[encoded data removed]"
     },
     "metadata": {
      "needs_background": "dark"
     },
     "output_type": "display_data"
    }
   ],
   "source": [
    "from sklearn.neighbors import KNeighborsRegressor\n",
    "knn_accuracy = []\n",
    "for n_neighbors in range(1,50):\n",
    "    wave_Knn = KNeighborsRegressor(n_neighbors=n_neighbors)\n",
    "    x2,y2 = mglearn.datasets.make_wave(n_samples=100)\n",
    "    x4_train,x4_test,y4_train,y4_test = train_test_split(x2,y2,random_state=0)\n",
    "    wave_Knn.fit(x4_train,y4_train)\n",
    "    knn_accuracy.append(wave_Knn.score(x4_test,y4_test))\n",
    "y_index = np.argmax(knn_accuracy)\n",
    "plt.scatter(y_index,knn_accuracy[y_index],s=15)\n",
    "show_max = \"[\" + str(y_index) + \",\" + str(knn_accuracy[y_index]) + \"]\"\n",
    "plt.annotate(show_max,xytext=(y_index,knn_accuracy[y_index]),xy=(y_index,knn_accuracy[y_index]))\n",
    "plt.plot(range(1,50),knn_accuracy,label='测试R方')\n",
    "plt.xticks(c='white',fontsize=16)\n",
    "plt.yticks(c='white',fontsize=16)\n",
    "plt.show()"
   ],
   "metadata": {
    "collapsed": false,
    "pycharm": {
     "name": "#%%\n"
    }
   }
  }
 ],
 "metadata": {
  "kernelspec": {
   "display_name": "Python 3",
   "language": "python",
   "name": "python3"
  },
  "language_info": {
   "codemirror_mode": {
    "name": "ipython",
    "version": 2
   },
   "file_extension": ".py",
   "mimetype": "text/x-python",
   "name": "python",
   "nbconvert_exporter": "python",
   "pygments_lexer": "ipython2",
   "version": "2.7.6"
  }
 },
 "nbformat": 4,
 "nbformat_minor": 0
}