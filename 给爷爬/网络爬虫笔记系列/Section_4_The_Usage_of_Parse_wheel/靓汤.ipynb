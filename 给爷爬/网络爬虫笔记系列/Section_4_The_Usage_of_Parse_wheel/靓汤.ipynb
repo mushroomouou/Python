{
 "cells": [
  {
   "cell_type": "markdown",
   "metadata": {
    "collapsed": true,
    "pycharm": {
     "name": "#%% md\n"
    }
   },
   "source": [
    "# 靓汤（Beautiful Soup）\n",
    "* 最好的解析器"
   ]
  },
  {
   "cell_type": "code",
   "execution_count": 60,
   "outputs": [],
   "source": [
    "html = \"\"\"\n",
    "<html><head><title>The Dormouse's story</title></head>\n",
    "<body>\n",
    "<p class=\"title\" name=\"dromouse\"><b>The Dormouse's story</b></p>\n",
    "<p class=\"story\">Once upon a time there were three little sisters; and their names were\n",
    "<a href=\"http://example.com/elsie\" class= \"sister\" id=\"linkl\">Elsie</a>,\n",
    "<a href=\"http://example.com/lacie\" class=\"sister\" id=\"link2\">Lacie</a> and\n",
    "<a href=\"http://example.com/tillie\" class=\"sister\" id=\"link3\">Tillie</a> ;\n",
    "and they lived at the bottom of a well.</p>\n",
    "<p class=”story”>...</p>\n",
    "\"\"\""
   ],
   "metadata": {
    "collapsed": false,
    "pycharm": {
     "name": "#%%\n"
    }
   }
  },
  {
   "cell_type": "code",
   "execution_count": 61,
   "outputs": [
    {
     "name": "stdout",
     "output_type": "stream",
     "text": [
      "<html>\n",
      " <head>\n",
      "  <title>\n",
      "   The Dormouse's story\n",
      "  </title>\n",
      " </head>\n",
      " <body>\n",
      "  <p class=\"title\" name=\"dromouse\">\n",
      "   <b>\n",
      "    The Dormouse's story\n",
      "   </b>\n",
      "  </p>\n",
      "  <p class=\"story\">\n",
      "   Once upon a time there were three little sisters; and their names were\n",
      "   <a class=\"sister\" href=\"http://example.com/elsie\" id=\"linkl\">\n",
      "    Elsie\n",
      "   </a>\n",
      "   ,\n",
      "   <a class=\"sister\" href=\"http://example.com/lacie\" id=\"link2\">\n",
      "    Lacie\n",
      "   </a>\n",
      "   and\n",
      "   <a class=\"sister\" href=\"http://example.com/tillie\" id=\"link3\">\n",
      "    Tillie\n",
      "   </a>\n",
      "   ;\n",
      "and they lived at the bottom of a well.\n",
      "  </p>\n",
      "  <p class=\"”story”\">\n",
      "   ...\n",
      "  </p>\n",
      " </body>\n",
      "</html>\n"
     ]
    }
   ],
   "source": [
    "# 导包\n",
    "from bs4 import BeautifulSoup\n",
    "soup = BeautifulSoup(html, \"lxml\")\n",
    "print(soup.prettify()) # 以标准展开形式打开html文档，非常舒适，而且还有缩进"
   ],
   "metadata": {
    "collapsed": false,
    "pycharm": {
     "name": "#%%\n"
    }
   }
  },
  {
   "cell_type": "code",
   "execution_count": 62,
   "outputs": [
    {
     "name": "stdout",
     "output_type": "stream",
     "text": [
      "The Dormouse's story\n"
     ]
    }
   ],
   "source": [
    "print(soup.p.string) # ????"
   ],
   "metadata": {
    "collapsed": false,
    "pycharm": {
     "name": "#%%\n"
    }
   }
  },
  {
   "cell_type": "code",
   "execution_count": 63,
   "outputs": [
    {
     "name": "stdout",
     "output_type": "stream",
     "text": [
      "<title>The Dormouse's story</title>\n",
      "<class 'bs4.element.Tag'>\n",
      "[\"The Dormouse's story\"]\n",
      "<class 'bs4.element.NavigableString'>\n",
      "The Dormouse's story\n"
     ]
    }
   ],
   "source": [
    "# 选择元素\n",
    "print(soup.title)\n",
    "print(type(soup.title))\n",
    "print(list(soup.title.strings))\n",
    "print(type(soup.title.string))\n",
    "print(soup.head.string) # 打印第一个出现的"
   ],
   "metadata": {
    "collapsed": false,
    "pycharm": {
     "name": "#%%\n"
    }
   }
  },
  {
   "cell_type": "code",
   "execution_count": 64,
   "outputs": [
    {
     "name": "stdout",
     "output_type": "stream",
     "text": [
      "head\n",
      "html\n"
     ]
    }
   ],
   "source": [
    "# 获取名称\n",
    "print(soup.head.name)\n",
    "print(soup.html.name)"
   ],
   "metadata": {
    "collapsed": false,
    "pycharm": {
     "name": "#%%\n"
    }
   }
  },
  {
   "cell_type": "code",
   "execution_count": 49,
   "outputs": [
    {
     "name": "stdout",
     "output_type": "stream",
     "text": [
      "http://example.com/elsie\n",
      "sister\n",
      "{'href': 'http://example.com/elsie', 'class': ['sister'], 'id': 'linkl'}\n"
     ]
    }
   ],
   "source": [
    "# 获取属性\n",
    "print(soup.a.attrs[\"href\"])\n",
    "print(soup.a.attrs[\"class\"][0])\n",
    "print(soup.a.attrs)"
   ],
   "metadata": {
    "collapsed": false,
    "pycharm": {
     "name": "#%%\n"
    }
   }
  },
  {
   "cell_type": "code",
   "execution_count": 51,
   "outputs": [
    {
     "name": "stdout",
     "output_type": "stream",
     "text": [
      "linkl\n"
     ]
    }
   ],
   "source": [
    "# 直接获取属性值\n",
    "print(soup.a[\"id\"])"
   ],
   "metadata": {
    "collapsed": false,
    "pycharm": {
     "name": "#%%\n"
    }
   }
  },
  {
   "cell_type": "code",
   "execution_count": 65,
   "outputs": [
    {
     "name": "stdout",
     "output_type": "stream",
     "text": [
      "The Dormouse's story\n",
      "The Dormouse's story\n"
     ]
    }
   ],
   "source": [
    "# 获取内容\n",
    "print(soup.head.text)\n",
    "print(soup.head.string)\n",
    "# text\n",
    "# string\n",
    "# 这两个都可以实现打印内容"
   ],
   "metadata": {
    "collapsed": false,
    "pycharm": {
     "name": "#%%\n"
    }
   }
  },
  {
   "cell_type": "code",
   "execution_count": 72,
   "outputs": [],
   "source": [
    "html = \"\"\"\n",
    "<html><head><title>The Dormouse's story</title></head>\n",
    "<body>\n",
    "<p class=\"story\">Once upon a time there were three little sisters; and their names were\n",
    "<a href=\"http://example.com/elsie\" class= \"sister\" id=\"linkl\">Elsie</a>,\n",
    "<a href=\"http://example.com/lacie\" class=\"sister\" id=\"link2\">Lacie</a> and\n",
    "<a href=\"http://example.com/tillie\" class=\"sister\" id=\"link3\">Tillie</a> ;\n",
    "and they lived at the bottom of a well.</p>\n",
    "<p class=”story”>...</p>\n",
    "\"\"\"\n",
    "# 类似于xpath的选择方式，使用节点之间的关系来获取数据\n",
    "soup = BeautifulSoup(html, \"lxml\")\n",
    "contents = soup.p.contents"
   ],
   "metadata": {
    "collapsed": false,
    "pycharm": {
     "name": "#%%\n"
    }
   }
  },
  {
   "cell_type": "code",
   "execution_count": 81,
   "outputs": [
    {
     "data": {
      "text/plain": "<a class=\"sister\" href=\"http://example.com/elsie\" id=\"linkl\">Elsie</a>"
     },
     "execution_count": 81,
     "metadata": {},
     "output_type": "execute_result"
    }
   ],
   "source": [
    "contents[1]\n",
    "# 按照标签来打印内容，遇到换行符号也独自成一行\n",
    "# 子节点列表"
   ],
   "metadata": {
    "collapsed": false,
    "pycharm": {
     "name": "#%%\n"
    }
   }
  },
  {
   "cell_type": "code",
   "execution_count": 84,
   "outputs": [
    {
     "name": "stdout",
     "output_type": "stream",
     "text": [
      "Elsie\n"
     ]
    }
   ],
   "source": [
    "# 可以使用类似于xpath的爬取方式\n",
    "print(soup.html.p.a.string)"
   ],
   "metadata": {
    "collapsed": false,
    "pycharm": {
     "name": "#%%\n"
    }
   }
  },
  {
   "cell_type": "code",
   "execution_count": 90,
   "outputs": [
    {
     "name": "stdout",
     "output_type": "stream",
     "text": [
      "0 Once upon a time there were three little sisters; and their names were\n",
      "\n",
      "1 <a class=\"sister\" href=\"http://example.com/elsie\" id=\"linkl\">Elsie</a>\n",
      "2 Elsie\n",
      "3 ,\n",
      "\n",
      "4 <a class=\"sister\" href=\"http://example.com/lacie\" id=\"link2\">Lacie</a>\n",
      "5 Lacie\n",
      "6  and\n",
      "\n",
      "7 <a class=\"sister\" href=\"http://example.com/tillie\" id=\"link3\">Tillie</a>\n",
      "8 Tillie\n",
      "9  ;\n",
      "and they lived at the bottom of a well.\n"
     ]
    }
   ],
   "source": [
    "for i, elem in enumerate(soup.p.descendants):\n",
    "    print(i, elem,)\n",
    "# 这是打印的所有子孙节点"
   ],
   "metadata": {
    "collapsed": false,
    "pycharm": {
     "name": "#%%\n"
    }
   }
  },
  {
   "cell_type": "code",
   "execution_count": 103,
   "outputs": [
    {
     "name": "stdout",
     "output_type": "stream",
     "text": [
      "<p class=\"story\">Once upon a time there were three little sisters; and their names were\n",
      "<a class=\"sister\" href=\"http://example.com/elsie\" id=\"linkl\">Elsie</a>,\n",
      "<a class=\"sister\" href=\"http://example.com/lacie\" id=\"link2\">Lacie</a> and\n",
      "<a class=\"sister\" href=\"http://example.com/tillie\" id=\"link3\">Tillie</a> ;\n",
      "and they lived at the bottom of a well.</p>\n"
     ]
    }
   ],
   "source": [
    "# 父节点， 祖先节点\n",
    "print(soup.a.parent)"
   ],
   "metadata": {
    "collapsed": false,
    "pycharm": {
     "name": "#%%\n"
    }
   }
  },
  {
   "cell_type": "code",
   "execution_count": 121,
   "outputs": [
    {
     "name": "stdout",
     "output_type": "stream",
     "text": [
      "Once upon a time there were three little sisters; and their names were\n",
      "\n",
      ",\n",
      "\n"
     ]
    }
   ],
   "source": [
    "# 兄弟节点\n",
    "print(soup.a.previous_sibling)\n",
    "print(soup.a.nextSibling)"
   ],
   "metadata": {
    "collapsed": false,
    "pycharm": {
     "name": "#%%\n"
    }
   }
  },
  {
   "cell_type": "code",
   "execution_count": 122,
   "outputs": [],
   "source": [
    "# find_all()可以传入name class attr text 等等参数"
   ],
   "metadata": {
    "collapsed": false,
    "pycharm": {
     "name": "#%%\n"
    }
   }
  },
  {
   "cell_type": "code",
   "execution_count": 125,
   "outputs": [],
   "source": [
    "# css选择器\n",
    "# 调用select（）方法直接使用css选择器， 并且支持嵌套选择\n",
    "# 获得的只是节点，若要得到文本，则需要使用get_text()函数"
   ],
   "metadata": {
    "collapsed": false,
    "pycharm": {
     "name": "#%%\n"
    }
   }
  },
  {
   "cell_type": "code",
   "execution_count": null,
   "outputs": [],
   "source": [],
   "metadata": {
    "collapsed": false,
    "pycharm": {
     "name": "#%%\n"
    }
   }
  }
 ],
 "metadata": {
  "kernelspec": {
   "display_name": "Python 3",
   "language": "python",
   "name": "python3"
  },
  "language_info": {
   "codemirror_mode": {
    "name": "ipython",
    "version": 2
   },
   "file_extension": ".py",
   "mimetype": "text/x-python",
   "name": "python",
   "nbconvert_exporter": "python",
   "pygments_lexer": "ipython2",
   "version": "2.7.6"
  }
 },
 "nbformat": 4,
 "nbformat_minor": 0
}