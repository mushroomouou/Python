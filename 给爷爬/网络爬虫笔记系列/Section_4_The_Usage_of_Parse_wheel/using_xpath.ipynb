{
 "cells": [
  {
   "cell_type": "markdown",
   "metadata": {
    "collapsed": true,
    "pycharm": {
     "name": "#%% md\n"
    }
   },
   "source": [
    "# XPath （一个解析工具）"
   ]
  },
  {
   "cell_type": "markdown",
   "source": [
    "![image.png](https://i.loli.net/2021/01/29/gPvrEWndXF48AVf.png)"
   ],
   "metadata": {
    "collapsed": false,
    "pycharm": {
     "name": "#%% md\n"
    }
   }
  },
  {
   "cell_type": "code",
   "execution_count": 2,
   "outputs": [],
   "source": [
    "# 导包！！！！！！\n",
    "\n",
    "from lxml import etree\n",
    "import os"
   ],
   "metadata": {
    "collapsed": false,
    "pycharm": {
     "name": "#%%\n"
    }
   }
  },
  {
   "cell_type": "code",
   "execution_count": 3,
   "outputs": [
    {
     "name": "stdout",
     "output_type": "stream",
     "text": [
      "<html><body><d iv=\"\">\n",
      "<ul>\n",
      "<li class=\"item-O\"><a href=\"linkl. html\">first item</a><lli>\n",
      "<li class=\"item-1\">&lt; a href=\"link2.html\"&gt; second item<lli>\n",
      "<li class=\"item-inactive\">&lt; a href=\"link3.html\"&gt;third item a&gt;\n",
      "</li><li class=\"item-1\"><a href=\"link4.html\">fourth item</a><lli>\n",
      "<li class=\"item-0\" href=\"\" html=\"\" fi=\"\" th=\"\" item=\"\">\n",
      "</li></lli></li></lli></li></lli></li></ul>\n",
      "\n",
      "</d></body></html>\n"
     ]
    }
   ],
   "source": [
    "text = \"\"\"\n",
    "<d iv>\n",
    "<Ul>\n",
    "<li class=\"item-O\"><a href=\"linkl. html\">first item</a><lli>\n",
    "<li class=\"item-1\">< a href=\"link2.html\"> second item</a><lli>\n",
    "<li class=\"item-inactive\">< a href=\"link3.html\">third item</ a></h>\n",
    "<li class=\"item-1\"><a href=\"link4.html\">fourth item</a><lli>\n",
    "<li class=\"item-0\"＞＜ href＝\"links html\"＞ fi th item</a>\n",
    "</ul>\n",
    "</div>\n",
    "\"\"\"\n",
    "html = etree.HTML(text)\n",
    "result = etree.tostring(html)\n",
    "print(result.decode(\"utf-8\"))"
   ],
   "metadata": {
    "collapsed": false,
    "pycharm": {
     "name": "#%%\n"
    }
   }
  },
  {
   "cell_type": "markdown",
   "source": [
    "* 自动帮助我们不补全缺失的内容,比如这里的确实的li，还有body， html"
   ],
   "metadata": {
    "collapsed": false,
    "pycharm": {
     "name": "#%% md\n"
    }
   }
  },
  {
   "cell_type": "code",
   "execution_count": 4,
   "outputs": [
    {
     "name": "stdout",
     "output_type": "stream",
     "text": [
      "<!DOCTYPE html PUBLIC \"-//W3C//DTD HTML 4.0 Transitional//EN\" \"http://www.w3.org/TR/REC-html40/loose.dtd\">\n",
      "<html><body><div>\n",
      "    <ul>\n",
      "         <li class=\"item-0\"><a href=\"link1.html\">first item</a></li>\n",
      "         <li class=\"item-1\"><a href=\"link2.html\">second item</a></li>\n",
      "         <li class=\"item-inactive\"><a href=\"link3.html\">third item</a></li>\n",
      "         <li class=\"item-1\"><a href=\"link4.html\">fourth item</a></li>\n",
      "         <li class=\"item-0\"><a href=\"link5.html\">fifth item</a>\n",
      "     </li></ul>\n",
      " </div></body></html>\n"
     ]
    }
   ],
   "source": [
    "os.chdir(\"D://Python/给爷爬/网络爬虫笔记系列/Section_4_The_Usage_of_Parse_wheel\")\n",
    "html = etree.parse('test.html', etree.HTMLParser())\n",
    "result = etree.tostring(html)\n",
    "print(result.decode(\"utf-8\"))\n",
    "\n",
    "# 运行路径出现了问题"
   ],
   "metadata": {
    "collapsed": false,
    "pycharm": {
     "name": "#%%\n"
    }
   }
  },
  {
   "cell_type": "code",
   "execution_count": 5,
   "outputs": [
    {
     "name": "stdout",
     "output_type": "stream",
     "text": [
      "[<Element html at 0x2704284d500>, <Element body at 0x2704284c1c0>, <Element div at 0x2704284cdc0>, <Element ul at 0x2704284cb40>, <Element li at 0x2704284c980>, <Element a at 0x2704284cec0>, <Element li at 0x2704284cf40>, <Element a at 0x2704284cf80>, <Element li at 0x2704284c080>, <Element a at 0x2704284c880>, <Element li at 0x2704284b840>, <Element a at 0x2704284bf40>, <Element li at 0x2704284bfc0>, <Element a at 0x2704284b940>]\n",
      "===================\n",
      "<class 'lxml.etree._ElementTree'>\n"
     ]
    }
   ],
   "source": [
    "result = html.xpath(\"//*\")\n",
    "print(result)\n",
    "print(\"===================\")\n",
    "print(type(html))\n",
    "\n",
    "# 获得所有节点，注意解析的类是  lxml.etree._ElementTree"
   ],
   "metadata": {
    "collapsed": false,
    "pycharm": {
     "name": "#%%\n"
    }
   }
  },
  {
   "cell_type": "code",
   "execution_count": 6,
   "outputs": [
    {
     "name": "stdout",
     "output_type": "stream",
     "text": [
      "[<Element li at 0x2704284c980>, <Element li at 0x2704284cf40>, <Element li at 0x2704284c080>, <Element li at 0x2704284b840>, <Element li at 0x2704284bfc0>]\n"
     ]
    }
   ],
   "source": [
    "# 获取所有的li标签\n",
    "\n",
    "result = html.xpath(\"//li\")\n",
    "print(result)\n",
    "# 嗯哼？好方便"
   ],
   "metadata": {
    "collapsed": false,
    "pycharm": {
     "name": "#%%\n"
    }
   }
  },
  {
   "cell_type": "code",
   "execution_count": 7,
   "outputs": [
    {
     "data": {
      "text/plain": "[<Element a at 0x2704284bf00>,\n <Element a at 0x2704284bb40>,\n <Element a at 0x2704284b6c0>,\n <Element a at 0x2704284bf80>,\n <Element a at 0x2704284b080>]"
     },
     "execution_count": 7,
     "metadata": {},
     "output_type": "execute_result"
    }
   ],
   "source": [
    "result = html.xpath(\"//li/a\")\n",
    "result"
   ],
   "metadata": {
    "collapsed": false,
    "pycharm": {
     "name": "#%%\n"
    }
   }
  },
  {
   "cell_type": "code",
   "execution_count": 8,
   "outputs": [
    {
     "data": {
      "text/plain": "[<Element a at 0x2704284bf00>,\n <Element a at 0x2704284bb40>,\n <Element a at 0x2704284b6c0>,\n <Element a at 0x2704284bf80>,\n <Element a at 0x2704284b080>]"
     },
     "execution_count": 8,
     "metadata": {},
     "output_type": "execute_result"
    }
   ],
   "source": [
    "result = html.xpath(\"//ul//a\")\n",
    "result"
   ],
   "metadata": {
    "collapsed": false,
    "pycharm": {
     "name": "#%%\n"
    }
   }
  },
  {
   "cell_type": "code",
   "execution_count": 9,
   "outputs": [
    {
     "data": {
      "text/plain": "[]"
     },
     "execution_count": 9,
     "metadata": {},
     "output_type": "execute_result"
    }
   ],
   "source": [
    "result = html.xpath(\"//ul/a\")\n",
    "result"
   ],
   "metadata": {
    "collapsed": false,
    "pycharm": {
     "name": "#%%\n"
    }
   }
  },
  {
   "cell_type": "code",
   "execution_count": 10,
   "outputs": [
    {
     "name": "stdout",
     "output_type": "stream",
     "text": [
      "<!DOCTYPE html PUBLIC \"-//W3C//DTD HTML 4.0 Transitional//EN\" \"http://www.w3.org/TR/REC-html40/loose.dtd\">\n",
      "<html><body><div>\n",
      "    <ul>\n",
      "         <li class=\"item-0\"><a href=\"link1.html\">first item</a></li>\n",
      "         <li class=\"item-1\"><a href=\"link2.html\">second item</a></li>\n",
      "         <li class=\"item-inactive\"><a href=\"link3.html\">third item</a></li>\n",
      "         <li class=\"item-1\"><a href=\"link4.html\">fourth item</a></li>\n",
      "         <li class=\"item-0\"><a href=\"link5.html\">fifth item</a>\n",
      "     </li></ul>\n",
      " </div></body></html>\n",
      "['item-1']\n"
     ]
    }
   ],
   "source": [
    "from lxml import etree\n",
    "\n",
    "html = etree.parse(\"test.html\", etree.HTMLParser())\n",
    "result = html.xpath('//a[@href=\"link4.html\"]/../@class')\n",
    "text = etree.tostring(html)\n",
    "print(text.decode(\"utf-8\"))\n",
    "print(result)"
   ],
   "metadata": {
    "collapsed": false,
    "pycharm": {
     "name": "#%%\n"
    }
   }
  },
  {
   "cell_type": "code",
   "execution_count": 14,
   "outputs": [
    {
     "name": "stdout",
     "output_type": "stream",
     "text": [
      "['item-1']\n"
     ]
    }
   ],
   "source": [
    "result = html.xpath('//a[@href=\"link4.html\"]/parent::*/@class')\n",
    "print(result)"
   ],
   "metadata": {
    "collapsed": false,
    "pycharm": {
     "name": "#%%\n"
    }
   }
  },
  {
   "cell_type": "code",
   "execution_count": 18,
   "outputs": [
    {
     "name": "stdout",
     "output_type": "stream",
     "text": [
      "<Element li at 0x270427ddb40>\n",
      "<Element li at 0x270427ddac0>\n"
     ]
    }
   ],
   "source": [
    "result = html.xpath('//li[@class = \"item-0\"]')\n",
    "for elem in result:\n",
    "    print(elem)"
   ],
   "metadata": {
    "collapsed": false,
    "pycharm": {
     "name": "#%%\n"
    }
   }
  },
  {
   "cell_type": "markdown",
   "source": [
    "* 文本获取"
   ],
   "metadata": {
    "collapsed": false,
    "pycharm": {
     "name": "#%% md\n"
    }
   }
  },
  {
   "cell_type": "code",
   "execution_count": 23,
   "outputs": [
    {
     "name": "stdout",
     "output_type": "stream",
     "text": [
      "['first item', 'fifth item']\n"
     ]
    }
   ],
   "source": [
    "result = html.xpath('//li[@class=\"item-0\"]/a/text()')\n",
    "print(result)"
   ],
   "metadata": {
    "collapsed": false,
    "pycharm": {
     "name": "#%%\n"
    }
   }
  },
  {
   "cell_type": "code",
   "execution_count": 40,
   "outputs": [
    {
     "name": "stdout",
     "output_type": "stream",
     "text": [
      "['\\n     ']\n"
     ]
    }
   ],
   "source": [
    "result = html.xpath('//li/text()')\n",
    "print(result)\n",
    "# 这里取得的是li标签下面的text，但是很显然，没有text，所以质得到了换行符"
   ],
   "metadata": {
    "collapsed": false,
    "pycharm": {
     "name": "#%%\n"
    }
   }
  },
  {
   "cell_type": "code",
   "execution_count": 58,
   "outputs": [
    {
     "name": "stdout",
     "output_type": "stream",
     "text": [
      "['first item', 'second item', 'third item', 'fourth item', 'fifth item']\n"
     ]
    }
   ],
   "source": [
    "result = html.xpath('//html//li/a/text()')\n",
    "print(result)"
   ],
   "metadata": {
    "collapsed": false,
    "pycharm": {
     "name": "#%%\n"
    }
   }
  },
  {
   "cell_type": "code",
   "execution_count": 67,
   "outputs": [
    {
     "name": "stdout",
     "output_type": "stream",
     "text": [
      "first item\n",
      "fifth item\n",
      "\n",
      "     \n",
      "===================\n"
     ]
    }
   ],
   "source": [
    "result = html.xpath('//li[@class=\"item-0\"]//text()')\n",
    "for elem in result:\n",
    "    print(elem)\n",
    "print(\"===================\")"
   ],
   "metadata": {
    "collapsed": false,
    "pycharm": {
     "name": "#%%\n"
    }
   }
  },
  {
   "cell_type": "markdown",
   "source": [
    "* //获得所有的子孙节点"
   ],
   "metadata": {
    "collapsed": false,
    "pycharm": {
     "name": "#%% md\n"
    }
   }
  },
  {
   "cell_type": "code",
   "execution_count": 71,
   "outputs": [
    {
     "name": "stdout",
     "output_type": "stream",
     "text": [
      "['link1.html', 'link2.html', 'link3.html', 'link4.html', 'link5.html']\n"
     ]
    }
   ],
   "source": [
    "result = html.xpath('//li/a/@href')\n",
    "print(result)"
   ],
   "metadata": {
    "collapsed": false,
    "pycharm": {
     "name": "#%%\n"
    }
   }
  },
  {
   "cell_type": "code",
   "execution_count": 73,
   "outputs": [
    {
     "name": "stdout",
     "output_type": "stream",
     "text": [
      "['item-0', 'item-1', 'item-inactive', 'item-1', 'item-0']\n"
     ]
    }
   ],
   "source": [
    "result = html.xpath('//li/@class')\n",
    "print(result)"
   ],
   "metadata": {
    "collapsed": false,
    "pycharm": {
     "name": "#%%\n"
    }
   }
  },
  {
   "cell_type": "code",
   "execution_count": 74,
   "outputs": [],
   "source": [
    "# 属性多值匹配"
   ],
   "metadata": {
    "collapsed": false,
    "pycharm": {
     "name": "#%%\n"
    }
   }
  },
  {
   "cell_type": "code",
   "execution_count": 82,
   "outputs": [
    {
     "name": "stdout",
     "output_type": "stream",
     "text": [
      "['first item']\n"
     ]
    }
   ],
   "source": [
    "text = \"\"\"\n",
    "<li class=\"li li-first\"><a href=\"link.html\">first item</a></li>\n",
    "\"\"\"\n",
    "\n",
    "html = etree.HTML(text)\n",
    "result = html.xpath('//li[@class=\"li li-first\"]/a/text()')\n",
    "print(result)"
   ],
   "metadata": {
    "collapsed": false,
    "pycharm": {
     "name": "#%%\n"
    }
   }
  },
  {
   "cell_type": "code",
   "execution_count": 100,
   "outputs": [
    {
     "name": "stdout",
     "output_type": "stream",
     "text": [
      "['first item']\n"
     ]
    }
   ],
   "source": [
    "# contains() 函数\n",
    "result = html.xpath('//li[contains(@class, \"li-fi\")]/a/text()')\n",
    "print(result)"
   ],
   "metadata": {
    "collapsed": false,
    "pycharm": {
     "name": "#%%\n"
    }
   }
  },
  {
   "cell_type": "markdown",
   "source": [
    "* 解释一下： 这里的contains函数，指的是有一个类是class，而li这个值包含在这个类里面\n",
    "* 判断的条件是子串，需要判断的是子串， 或者完全相同"
   ],
   "metadata": {
    "collapsed": false,
    "pycharm": {
     "name": "#%% md\n"
    }
   }
  },
  {
   "cell_type": "code",
   "execution_count": 115,
   "outputs": [
    {
     "name": "stdout",
     "output_type": "stream",
     "text": [
      "['first item']\n"
     ]
    }
   ],
   "source": [
    "# 多属性and\n",
    "\n",
    "text = \"\"\"\n",
    "<li class=\"li li-first\" name = \"item\"><a href=\"link.html\">first item</a></li>\n",
    "\"\"\"\n",
    "html = etree.HTML(text)\n",
    "result = html.xpath('//li[contains(@class, \"first\") and @name=\"item\"]/a/text()')\n",
    "print(result)"
   ],
   "metadata": {
    "collapsed": false,
    "pycharm": {
     "name": "#%%\n"
    }
   }
  },
  {
   "cell_type": "code",
   "execution_count": 118,
   "outputs": [
    {
     "name": "stdout",
     "output_type": "stream",
     "text": [
      "['first item']\n"
     ]
    }
   ],
   "source": [
    "# 多属性or\n",
    "\n",
    "text = \"\"\"\n",
    "<li class=\"li li-first\" name = \"item\"><a href=\"link.html\">first item</a></li>\n",
    "\"\"\"\n",
    "html = etree.HTML(text)\n",
    "result = html.xpath('//li[contains(@class, \"sefewf\") or @name=\"item\"]/a/text()')\n",
    "print(result)"
   ],
   "metadata": {
    "collapsed": false,
    "pycharm": {
     "name": "#%%\n"
    }
   }
  },
  {
   "cell_type": "markdown",
   "source": [
    "![image.png](https://i.loli.net/2021/01/29/Dpx1mMPfXwyU8RZ.png)"
   ],
   "metadata": {
    "collapsed": false,
    "pycharm": {
     "name": "#%% md\n"
    }
   }
  },
  {
   "cell_type": "code",
   "execution_count": 122,
   "outputs": [
    {
     "name": "stdout",
     "output_type": "stream",
     "text": [
      "['third item']\n"
     ]
    }
   ],
   "source": [
    "html = etree.parse('test.html', etree.HTMLParser())\n",
    "result = html.xpath('//li[3]/a/text()')\n",
    "print(result)"
   ],
   "metadata": {
    "collapsed": false,
    "pycharm": {
     "name": "#%%\n"
    }
   }
  },
  {
   "cell_type": "code",
   "execution_count": 128,
   "outputs": [
    {
     "name": "stdout",
     "output_type": "stream",
     "text": [
      "['fifth item']\n"
     ]
    }
   ],
   "source": [
    "result = html.xpath('//li[last()]/a/text()')\n",
    "print(result)"
   ],
   "metadata": {
    "collapsed": false,
    "pycharm": {
     "name": "#%%\n"
    }
   }
  },
  {
   "cell_type": "code",
   "execution_count": 132,
   "outputs": [
    {
     "name": "stdout",
     "output_type": "stream",
     "text": [
      "['first item', 'second item', 'third item', 'fourth item', 'fifth item']\n"
     ]
    }
   ],
   "source": [
    "result = html.xpath('//li[position() <= 5]/a/text()')\n",
    "\n",
    "print(result)"
   ],
   "metadata": {
    "collapsed": false,
    "pycharm": {
     "name": "#%%\n"
    }
   }
  },
  {
   "cell_type": "code",
   "execution_count": 133,
   "outputs": [],
   "source": [
    "# 节点轴选择"
   ],
   "metadata": {
    "collapsed": false,
    "pycharm": {
     "name": "#%%\n"
    }
   }
  },
  {
   "cell_type": "code",
   "execution_count": 135,
   "outputs": [
    {
     "name": "stdout",
     "output_type": "stream",
     "text": [
      "[<Element html at 0x270427eea00>, <Element body at 0x270427f2d80>, <Element div at 0x270427f2940>, <Element ul at 0x270427f2980>]\n"
     ]
    }
   ],
   "source": [
    "result = html.xpath('//li[1]/ancestor::*')\n",
    "print(result)"
   ],
   "metadata": {
    "collapsed": false,
    "pycharm": {
     "name": "#%%\n"
    }
   }
  },
  {
   "cell_type": "code",
   "execution_count": 138,
   "outputs": [
    {
     "name": "stdout",
     "output_type": "stream",
     "text": [
      "[<Element div at 0x2704284bcc0>]\n"
     ]
    }
   ],
   "source": [
    "result = html.xpath('//li[1]/ancestor::div')\n",
    "print(result)\n",
    "# 祖先节点"
   ],
   "metadata": {
    "collapsed": false,
    "pycharm": {
     "name": "#%%\n"
    }
   }
  },
  {
   "cell_type": "code",
   "execution_count": 169,
   "outputs": [
    {
     "name": "stdout",
     "output_type": "stream",
     "text": [
      "['item-0']\n"
     ]
    }
   ],
   "source": [
    "result = html.xpath('//li[1]/attribute::*')\n",
    "print(result)\n",
    "# 获得所有的属性"
   ],
   "metadata": {
    "collapsed": false,
    "pycharm": {
     "name": "#%%\n"
    }
   }
  },
  {
   "cell_type": "code",
   "execution_count": 162,
   "outputs": [
    {
     "name": "stdout",
     "output_type": "stream",
     "text": [
      "[<Element a at 0x270427e40c0>]\n"
     ]
    }
   ],
   "source": [
    "result = html.xpath('//li[1]/child::a[@href=\"link1.html\"]')\n",
    "print(result)\n",
    "# 用属性限制"
   ],
   "metadata": {
    "collapsed": false,
    "pycharm": {
     "name": "#%%\n"
    }
   }
  },
  {
   "cell_type": "code",
   "execution_count": 164,
   "outputs": [
    {
     "name": "stdout",
     "output_type": "stream",
     "text": [
      "[]\n"
     ]
    }
   ],
   "source": [
    "result = html.xpath('//li[1]/descendant::span')\n",
    "print(result)\n",
    "# 获得所有的子孙节点， 加了限定的span节点， 返回的只包含span节点，而不包含a节点"
   ],
   "metadata": {
    "collapsed": false,
    "pycharm": {
     "name": "#%%\n"
    }
   }
  },
  {
   "cell_type": "code",
   "execution_count": 166,
   "outputs": [
    {
     "name": "stdout",
     "output_type": "stream",
     "text": [
      "[<Element a at 0x270427f8080>]\n"
     ]
    }
   ],
   "source": [
    "result = html.xpath('//li[1]/following::*[2]')\n",
    "print(result)\n",
    "# 之后的节点"
   ],
   "metadata": {
    "collapsed": false,
    "pycharm": {
     "name": "#%%\n"
    }
   }
  },
  {
   "cell_type": "code",
   "execution_count": 167,
   "outputs": [
    {
     "name": "stdout",
     "output_type": "stream",
     "text": [
      "[<Element li at 0x270427e9200>, <Element li at 0x270427ec3c0>, <Element li at 0x270427ec600>, <Element li at 0x270427ecf80>]\n"
     ]
    }
   ],
   "source": [
    "result = html.xpath('//li[1]/following-sibling::*')\n",
    "print(result)\n",
    "# 之后所有的同级节点"
   ],
   "metadata": {
    "collapsed": false,
    "pycharm": {
     "name": "#%%\n"
    }
   }
  }
 ],
 "metadata": {
  "kernelspec": {
   "display_name": "Python 3",
   "language": "python",
   "name": "python3"
  },
  "language_info": {
   "codemirror_mode": {
    "name": "ipython",
    "version": 2
   },
   "file_extension": ".py",
   "mimetype": "text/x-python",
   "name": "python",
   "nbconvert_exporter": "python",
   "pygments_lexer": "ipython2",
   "version": "2.7.6"
  }
 },
 "nbformat": 4,
 "nbformat_minor": 0
}