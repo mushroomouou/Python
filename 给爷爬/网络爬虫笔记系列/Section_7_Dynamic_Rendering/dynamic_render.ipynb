{
 "cells": [
  {
   "cell_type": "markdown",
   "metadata": {
    "collapsed": true,
    "pycharm": {
     "name": "#%% md\n"
    }
   },
   "source": [
    "# 动态渲染网页的抓取"
   ]
  },
  {
   "cell_type": "code",
   "execution_count": 1,
   "metadata": {
    "pycharm": {
     "name": "#%%\n"
    }
   },
   "outputs": [],
   "source": [
    "# 导包\n",
    "from selenium import webdriver\n",
    "from selenium.common.exceptions import NoSuchElementException\n",
    "from selenium.webdriver.common.by import By\n",
    "from selenium.webdriver.common.keys import Keys\n",
    "from selenium.webdriver.support import expected_conditions as EC\n",
    "from selenium.webdriver.support.wait import WebDriverWait\n",
    "import time\n",
    "from pprint import pprint"
   ]
  },
  {
   "cell_type": "code",
   "execution_count": 2,
   "metadata": {
    "pycharm": {
     "name": "#%%\n"
    }
   },
   "outputs": [
    {
     "name": "stdout",
     "output_type": "stream",
     "text": [
      "https://www.baidu.com/s?ie=utf-8&f=8&rsv_bp=1&rsv_idx=1&tn=baidu&wd=Python&fenlei=256&rsv_pq=c61b60bf0018771a&rsv_t=ed64nAsSI%2FSb86U9%2BcXI5VBbX8e4Q9xtZpMfU6ciPiuWYRkfKE9xQ5ZP0oQ&rqlang=cn&rsv_enter=1&rsv_dl=tb&rsv_sug3=6&rsv_sug2=0&rsv_btype=i&inputT=50&rsv_sug4=50\n",
      "[{'domain': '.baidu.com', 'expiry': 1615013942, 'httpOnly': False, 'name': 'BA_HECTOR', 'path': '/', 'secure': False, 'value': '2d2ga18ka4a40g4gdb1g466h60r'}, {'domain': '.baidu.com', 'httpOnly': False, 'name': 'H_PS_PSSID', 'path': '/', 'secure': False, 'value': '33639_33344_33595_33570_33621_26350'}, {'domain': '.baidu.com', 'httpOnly': False, 'name': 'PSINO', 'path': '/', 'secure': False, 'value': '1'}, {'domain': 'www.baidu.com', 'httpOnly': False, 'name': 'BD_CK_SAM', 'path': '/', 'secure': False, 'value': '1'}, {'domain': '.baidu.com', 'expiry': 1646546339, 'httpOnly': False, 'name': 'BAIDUID', 'path': '/', 'secure': False, 'value': 'D3362B03E31B9D3DB89030956A18878D:FG=1'}, {'domain': '.baidu.com', 'httpOnly': False, 'name': 'delPer', 'path': '/', 'secure': False, 'value': '0'}, {'domain': '.baidu.com', 'expiry': 3762493986, 'httpOnly': False, 'name': 'BIDUPSID', 'path': '/', 'secure': False, 'value': 'D3362B03E31B9D3DA93F19F477797803'}, {'domain': '.baidu.com', 'expiry': 3762493986, 'httpOnly': False, 'name': 'PSTM', 'path': '/', 'secure': False, 'value': '1615010339'}, {'domain': 'www.baidu.com', 'expiry': 1615012934, 'httpOnly': False, 'name': 'H_PS_645EC', 'path': '/', 'secure': False, 'value': 'a0f0kx8RzMsDs1eMmzHB6gcuMYJY5lNQPqWf9sIP3VXVj0lS8tEyv5lc2jM'}, {'domain': 'www.baidu.com', 'expiry': 1615874340, 'httpOnly': False, 'name': 'BD_UPN', 'path': '/', 'secure': False, 'value': '12314753'}, {'domain': 'www.baidu.com', 'httpOnly': False, 'name': 'BD_HOME', 'path': '/', 'secure': False, 'value': '1'}]\n"
     ]
    }
   ],
   "source": [
    "browser = webdriver.Edge()\n",
    "try:\n",
    "    browser.get(url=\"https://www.baidu.com\")\n",
    "    input = browser.find_element_by_id(\"kw\")\n",
    "    # input.send_keys(\"Python\")\n",
    "    # input.send_keys(Keys.ENTER) # 在指定的框中发送些许消息，除了输入文本，还可以输入回车\n",
    "    input.send_keys(\"Python\", Keys.ENTER) # 当然我们也可以使用这个逗号 直接连接两个send消息\n",
    "    wait = WebDriverWait(browser, 10)\n",
    "    wait.until(EC.presence_of_element_located((By.ID, 'content_left')))\n",
    "    print(browser.current_url)\n",
    "    print(browser.get_cookies())\n",
    "    # print(browser.page_source)\n",
    "finally:\n",
    "    # time.sleep(5)\n",
    "    browser.close()\n",
    "    pass"
   ]
  },
  {
   "cell_type": "code",
   "execution_count": 3,
   "metadata": {
    "pycharm": {
     "name": "#%%\n"
    }
   },
   "outputs": [],
   "source": [
    "browser = webdriver.Edge()\n",
    "browser.get(\"https://www.taobao.com/\")\n",
    "# print(browser.page_source)\n",
    "browser.close()"
   ]
  },
  {
   "cell_type": "code",
   "execution_count": 4,
   "metadata": {
    "pycharm": {
     "name": "#%%\n"
    }
   },
   "outputs": [
    {
     "name": "stdout",
     "output_type": "stream",
     "text": [
      "女装 / 内衣 / 家居\n",
      "\n",
      "女鞋 / 男鞋 / 箱包\n",
      "\n",
      "母婴 / 童装 / 玩具\n",
      "\n",
      "男装 / 运动户外\n",
      "\n",
      "美妆 / 彩妆 / 个护\n",
      "\n",
      "手机 / 数码 / 企业\n",
      "\n",
      "大家电 / 生活电器\n",
      "\n",
      "零食 / 生鲜 / 茶酒\n",
      "\n",
      "厨具 / 收纳 / 清洁\n",
      "\n",
      "家纺 / 家饰 / 鲜花\n",
      "\n",
      "图书音像 / 文具\n",
      "\n",
      "医药保健 / 进口\n",
      "\n",
      "汽车 / 二手车 / 用品\n",
      "\n",
      "房产 / 装修家具 / 建材\n",
      "\n",
      "手表 / 眼镜 / 珠宝饰品\n",
      "\n"
     ]
    }
   ],
   "source": [
    "browser = webdriver.Edge()\n",
    "browser.get(\"https://www.taobao.com\")\n",
    "tags = browser.find_elements_by_css_selector('.service-bd li')\n",
    "for elem in tags:\n",
    "    print(elem.text)\n",
    "browser.close()\n",
    "# 慢死了，垃圾，好慢啊\n",
    "# 用requests快的一批"
   ]
  },
  {
   "cell_type": "code",
   "execution_count": 5,
   "metadata": {
    "pycharm": {
     "name": "#%%\n"
    }
   },
   "outputs": [
    {
     "name": "stdout",
     "output_type": "stream",
     "text": [
      "女装\n",
      "内衣\n",
      "家居\n",
      "女鞋\n",
      "男鞋\n",
      "箱包\n",
      "母婴\n",
      "童装\n",
      "玩具\n",
      "男装\n",
      "运动户外\n",
      "美妆\n",
      "彩妆\n",
      "个护\n",
      "手机\n",
      "数码\n",
      "企业\n",
      "大家电\n",
      "生活电器\n",
      "零食\n",
      "生鲜\n",
      "茶酒\n",
      "厨具\n",
      "收纳\n",
      "清洁\n",
      "家纺\n",
      "家饰\n",
      "鲜花\n",
      "图书音像\n",
      "文具\n",
      "医药保健\n",
      "进口\n",
      "汽车\n",
      "二手车\n",
      "用品\n",
      "房产\n",
      "装修家具\n",
      "建材\n",
      "手表\n",
      "眼镜\n",
      "珠宝饰品\n",
      "结束\n"
     ]
    }
   ],
   "source": [
    "import requests\n",
    "from pyquery import PyQuery as pq\n",
    "\n",
    "req = requests.get(\"https://www.taobao.com\")\n",
    "doc = pq(req.text)\n",
    "tags = doc('.service-bd li a')\n",
    "for elem in tags:\n",
    "    print(elem.text)\n",
    "print(\"结束\")"
   ]
  },
  {
   "cell_type": "code",
   "execution_count": 6,
   "metadata": {
    "pycharm": {
     "name": "#%%\n"
    }
   },
   "outputs": [],
   "source": [
    "browser = webdriver.Edge()\n",
    "browser.get(\"https://www.taobao.com\")"
   ]
  },
  {
   "cell_type": "code",
   "execution_count": 7,
   "metadata": {
    "pycharm": {
     "name": "#%%\n"
    }
   },
   "outputs": [],
   "source": [
    "input = browser.find_element_by_id('q')\n",
    "input.send_keys('iphone')\n",
    "button = browser.find_element_by_class_name(\"btn-search.tb-bg\")\n",
    "button.click()"
   ]
  },
  {
   "cell_type": "markdown",
   "metadata": {
    "pycharm": {
     "name": "#%% md\n"
    }
   },
   "source": [
    "## 动作链"
   ]
  },
  {
   "cell_type": "code",
   "execution_count": 8,
   "metadata": {
    "pycharm": {
     "name": "#%%\n"
    }
   },
   "outputs": [
    {
     "name": "stderr",
     "output_type": "stream",
     "text": [
      "<ipython-input-8-8f8e82a4afc9>:4: DeprecationWarning: use driver.switch_to.frame instead\n",
      "  browser.switch_to_frame('iframeResult')\n",
      "<ipython-input-8-8f8e82a4afc9>:11: DeprecationWarning: use driver.switch_to.alert instead\n",
      "  alert = browser.switch_to_alert()\n"
     ]
    }
   ],
   "source": [
    "url = \"https://www.runoob.com/try/try.php?filename=jqueryui-api-droppable\"\n",
    "browser = webdriver.Edge()\n",
    "browser.get(url)\n",
    "browser.switch_to_frame('iframeResult')\n",
    "from selenium.webdriver import ActionChains\n",
    "source = browser.find_element_by_id(\"draggable\")\n",
    "target = browser.find_element_by_id(\"droppable\")\n",
    "actions = ActionChains(browser)\n",
    "actions.drag_and_drop(source, target)\n",
    "actions.perform()\n",
    "alert = browser.switch_to_alert()\n",
    "alert.accept()\n",
    "browser.close()"
   ]
  },
  {
   "cell_type": "code",
   "execution_count": 9,
   "metadata": {
    "pycharm": {
     "name": "#%%\n"
    }
   },
   "outputs": [],
   "source": [
    "# 执行javascript操作"
   ]
  },
  {
   "cell_type": "code",
   "execution_count": 10,
   "metadata": {
    "pycharm": {
     "name": "#%%\n"
    }
   },
   "outputs": [
    {
     "name": "stderr",
     "output_type": "stream",
     "text": [
      "<ipython-input-10-41d9182889fe>:5: DeprecationWarning: use driver.switch_to.alert instead\n",
      "  alert = browser.switch_to_alert()\n"
     ]
    }
   ],
   "source": [
    "browser = webdriver.Edge()\n",
    "browser.get(\"https://www.zhihu.com/explore\")\n",
    "browser.execute_script('window.scrollTo(0, document.body.scrollHeight)') # 执行javascript语法实现跳转到最下的页面\n",
    "browser.execute_script('alert(\"To Bottom\")')\n",
    "alert = browser.switch_to_alert()\n",
    "alert.accept()\n",
    "browser.close()"
   ]
  },
  {
   "cell_type": "code",
   "execution_count": 11,
   "metadata": {
    "pycharm": {
     "name": "#%%\n"
    }
   },
   "outputs": [
    {
     "name": "stdout",
     "output_type": "stream",
     "text": [
      "北大开设电竞人才研修班\n"
     ]
    }
   ],
   "source": [
    "browser = webdriver.Edge()\n",
    "browser.get(\"https://www.zhihu.com/explore\")\n",
    "tag = browser.find_element_by_id(\"Popover1-toggle\")\n",
    "print(tag.get_attribute('placeholder'))\n",
    "browser.close()\n",
    "# 获得属性值"
   ]
  },
  {
   "cell_type": "code",
   "execution_count": 12,
   "metadata": {
    "pycharm": {
     "name": "#%%\n"
    }
   },
   "outputs": [],
   "source": [
    "# 切换iframe结构\n",
    "# switch"
   ]
  },
  {
   "cell_type": "code",
   "execution_count": 13,
   "metadata": {
    "pycharm": {
     "name": "#%%\n"
    }
   },
   "outputs": [
    {
     "name": "stdout",
     "output_type": "stream",
     "text": [
      "中新经纬\n",
      "你是否遭遇过保险理赔纠纷？\n",
      "买了一套新房，你碰到过哪些糟心事？房屋质量、资金交易，是否出现问题？买卖二手房，你被房产中介套路了吗？\n",
      "如何评价一女子高速逆行被抓还理直气壮：我没得选择，直走要 200 公里，我逆行 90 公里就到了？\n",
      "开 车 迷 惑 行 为\n",
      "被交警拦车后自己往嘴里灌酒的人，交警会怎么处理？\n",
      "假如喵星人统治地球，地球会不会变得臭气熏天？\n",
      "有什么是养了猫后才知道的事?\n",
      "拥有一头回头率高的猫是一种什么样的体验？\n",
      "如何看待雷军建议出台手机等设备适老标准，针对老年人用手机的难点，你有什么建议？\n",
      "社保该不该覆盖生育成本？\n",
      "央视新闻 X 知乎「吾辈问答」\n"
     ]
    }
   ],
   "source": [
    "from selenium.webdriver.remote.webelement import WebElement\n",
    "# 获得id\n",
    "browser = webdriver.Edge()\n",
    "browser.get(\"https://www.zhihu.com/explore\")\n",
    "tag = browser.find_elements_by_class_name(\"ExploreSpecialCard-contentTitle\")\n",
    "for elem in tag:\n",
    "    print(elem.text)\n",
    "browser.close()\n",
    "# 神器，这玩意也太离谱了"
   ]
  },
  {
   "cell_type": "code",
   "execution_count": 14,
   "metadata": {
    "pycharm": {
     "name": "#%%\n"
    }
   },
   "outputs": [],
   "source": [
    "# 等待"
   ]
  },
  {
   "cell_type": "code",
   "execution_count": 15,
   "metadata": {
    "pycharm": {
     "name": "#%%\n"
    }
   },
   "outputs": [
    {
     "name": "stdout",
     "output_type": "stream",
     "text": [
      "315消费维权征集令，快来说出你的烦心事儿！\n",
      "迷惑交通行为研究所\n",
      "铲屎进阶手册，解锁猫咪亲近技巧\n",
      "全国两会｜2021 向前冲\n"
     ]
    }
   ],
   "source": [
    "browser = webdriver.Edge()\n",
    "browser.get(\"https://www.zhihu.com/explore\")\n",
    "browser.implicitly_wait(10)\n",
    "topQuestion = browser.find_elements_by_class_name(\"ExploreSpecialCard-title\")\n",
    "for elem in topQuestion:\n",
    "    print(elem.text)\n",
    "browser.close()"
   ]
  },
  {
   "cell_type": "markdown",
   "metadata": {
    "pycharm": {
     "name": "#%% md\n"
    }
   },
   "source": [
    "* 这个等待的意思是，页面的内容刷新出来不是一下子全部出来，而是慢慢的出来，这个等待是指，当页面没有立即发现这个节点时候，继续等待一段时间，\n",
    "如果超过这个时间，那么就会抛出异常。"
   ]
  },
  {
   "cell_type": "code",
   "execution_count": 16,
   "metadata": {
    "pycharm": {
     "name": "#%%\n"
    }
   },
   "outputs": [],
   "source": [
    "from selenium import webdriver\n",
    "from selenium.webdriver.common.by import By\n",
    "from selenium.webdriver.support.ui import WebDriverWait\n",
    "from selenium.webdriver.support import expected_conditions as EC"
   ]
  },
  {
   "cell_type": "code",
   "execution_count": 17,
   "metadata": {
    "pycharm": {
     "name": "#%%\n"
    }
   },
   "outputs": [
    {
     "name": "stdout",
     "output_type": "stream",
     "text": [
      "<selenium.webdriver.remote.webelement.WebElement (session=\"b972c74c8989bac484497361613388a6\", element=\"19a34ffd-1b6e-42b9-aa83-4af360450766\")> \n",
      " <selenium.webdriver.remote.webelement.WebElement (session=\"b972c74c8989bac484497361613388a6\", element=\"dfdbd9a4-21ee-47a1-9045-9167124258a0\")>\n"
     ]
    }
   ],
   "source": [
    "browser = webdriver.Edge()\n",
    "browser.get('https://www.taobao.com')\n",
    "wait = WebDriverWait(browser, 10)\n",
    "input = wait.until(EC.presence_of_element_located((By.ID, 'q')))\n",
    "button = wait.until(EC.element_to_be_clickable((By.CSS_SELECTOR, '.btn-search')))\n",
    "print(input,'\\n' ,button)\n",
    "browser.close()"
   ]
  },
  {
   "cell_type": "code",
   "execution_count": 18,
   "metadata": {
    "pycharm": {
     "name": "#%%\n"
    }
   },
   "outputs": [],
   "source": [
    "import time\n",
    "browser = webdriver.Edge()\n",
    "browser.get('https://www.baidu.com')\n",
    "browser.get('https://www.bilibili.com')\n",
    "time.sleep(1)\n",
    "browser.back()\n",
    "time.sleep(1)\n",
    "browser.back()\n",
    "browser.forward()\n",
    "browser.forward()\n",
    "browser.close()"
   ]
  },
  {
   "cell_type": "code",
   "execution_count": 19,
   "metadata": {
    "pycharm": {
     "name": "#%%\n"
    }
   },
   "outputs": [
    {
     "name": "stdout",
     "output_type": "stream",
     "text": [
      "[{'domain': 'www.zhihu.com',\n",
      "  'httpOnly': False,\n",
      "  'name': 'KLBRSID',\n",
      "  'path': '/',\n",
      "  'secure': False,\n",
      "  'value': '81978cf28cf03c58e07f705c156aa833|1615010422|1615010419'},\n",
      " {'domain': '.zhihu.com',\n",
      "  'expiry': 1646546422,\n",
      "  'httpOnly': False,\n",
      "  'name': 'Hm_lvt_98beee57fd2ef70ccdd5ca52b9740c49',\n",
      "  'path': '/',\n",
      "  'secure': False,\n",
      "  'value': '1615010423'},\n",
      " {'domain': '.zhihu.com',\n",
      "  'httpOnly': False,\n",
      "  'name': 'Hm_lpvt_98beee57fd2ef70ccdd5ca52b9740c49',\n",
      "  'path': '/',\n",
      "  'secure': False,\n",
      "  'value': '1615010423'},\n",
      " {'domain': '.zhihu.com',\n",
      "  'expiry': 1709618420,\n",
      "  'httpOnly': False,\n",
      "  'name': 'd_c0',\n",
      "  'path': '/',\n",
      "  'secure': False,\n",
      "  'value': '\"AIDbIICbwRKPTqV_C92xuuGc4DWJM-pVGhg=|1615010419\"'},\n",
      " {'domain': '.zhihu.com',\n",
      "  'httpOnly': False,\n",
      "  'name': '_xsrf',\n",
      "  'path': '/',\n",
      "  'secure': False,\n",
      "  'value': '5043b199-5489-44e3-84b1-0b42b0aecc30'},\n",
      " {'domain': '.zhihu.com',\n",
      "  'expiry': 1678082420,\n",
      "  'httpOnly': False,\n",
      "  'name': '_zap',\n",
      "  'path': '/',\n",
      "  'secure': False,\n",
      "  'value': '53abf085-b21f-42d7-a87d-69e11affde49'}]\n",
      "[{'domain': '.www.zhihu.com',\n",
      "  'httpOnly': False,\n",
      "  'name': 'John',\n",
      "  'path': '/',\n",
      "  'secure': True,\n",
      "  'value': 'germey'},\n",
      " {'domain': 'www.zhihu.com',\n",
      "  'httpOnly': False,\n",
      "  'name': 'KLBRSID',\n",
      "  'path': '/',\n",
      "  'secure': False,\n",
      "  'value': '81978cf28cf03c58e07f705c156aa833|1615010422|1615010419'},\n",
      " {'domain': '.zhihu.com',\n",
      "  'expiry': 1646546422,\n",
      "  'httpOnly': False,\n",
      "  'name': 'Hm_lvt_98beee57fd2ef70ccdd5ca52b9740c49',\n",
      "  'path': '/',\n",
      "  'secure': False,\n",
      "  'value': '1615010423'},\n",
      " {'domain': '.zhihu.com',\n",
      "  'httpOnly': False,\n",
      "  'name': 'Hm_lpvt_98beee57fd2ef70ccdd5ca52b9740c49',\n",
      "  'path': '/',\n",
      "  'secure': False,\n",
      "  'value': '1615010423'},\n",
      " {'domain': '.zhihu.com',\n",
      "  'expiry': 1709618420,\n",
      "  'httpOnly': False,\n",
      "  'name': 'd_c0',\n",
      "  'path': '/',\n",
      "  'secure': False,\n",
      "  'value': '\"AIDbIICbwRKPTqV_C92xuuGc4DWJM-pVGhg=|1615010419\"'},\n",
      " {'domain': '.zhihu.com',\n",
      "  'httpOnly': False,\n",
      "  'name': '_xsrf',\n",
      "  'path': '/',\n",
      "  'secure': False,\n",
      "  'value': '5043b199-5489-44e3-84b1-0b42b0aecc30'},\n",
      " {'domain': '.zhihu.com',\n",
      "  'expiry': 1678082420,\n",
      "  'httpOnly': False,\n",
      "  'name': '_zap',\n",
      "  'path': '/',\n",
      "  'secure': False,\n",
      "  'value': '53abf085-b21f-42d7-a87d-69e11affde49'}]\n",
      "==============================\n",
      "[]\n"
     ]
    }
   ],
   "source": [
    "browser = webdriver.Edge()\n",
    "browser.get('https://www.zhihu.com/explore')\n",
    "pprint(browser.get_cookies())\n",
    "browser.add_cookie({'name': 'John', 'domain': 'www.zhihu.com', 'value': 'germey'})\n",
    "pprint(browser.get_cookies())\n",
    "browser.delete_all_cookies()\n",
    "print('==============================')\n",
    "pprint(browser.get_cookies())\n",
    "browser.close()"
   ]
  },
  {
   "cell_type": "code",
   "execution_count": 20,
   "metadata": {
    "pycharm": {
     "name": "#%%\n"
    }
   },
   "outputs": [
    {
     "name": "stdout",
     "output_type": "stream",
     "text": [
      "['CDwindow-D017379E4DA505FB0E71E6B00F422DD0', 'CDwindow-7B6C0E00E2EE02D7CFF35459180D08DE']\n"
     ]
    },
    {
     "name": "stderr",
     "output_type": "stream",
     "text": [
      "<ipython-input-20-5513a4e81169>:5: DeprecationWarning: use driver.switch_to.window instead\n",
      "  browser.switch_to_window(browser.window_handles[1])\n",
      "<ipython-input-20-5513a4e81169>:7: DeprecationWarning: use driver.switch_to.window instead\n",
      "  browser.switch_to_window(browser.window_handles[0])\n"
     ]
    }
   ],
   "source": [
    "\n",
    "browser = webdriver.Edge()\n",
    "browser.get('https://www.baidu.com')\n",
    "browser.execute_script('window.open()')\n",
    "print(browser.window_handles)\n",
    "browser.switch_to_window(browser.window_handles[1])\n",
    "browser.get('https://www.bilibili.com')\n",
    "browser.switch_to_window(browser.window_handles[0])\n",
    "browser.close()"
   ]
  },
  {
   "cell_type": "code",
   "execution_count": 21,
   "metadata": {
    "pycharm": {
     "name": "#%%\n"
    }
   },
   "outputs": [
    {
     "name": "stdout",
     "output_type": "stream",
     "text": [
      "No such elem\n"
     ]
    }
   ],
   "source": [
    "from selenium.common.exceptions import NoSuchElementException, TimeoutException\n",
    "browser = webdriver.Edge()\n",
    "try:\n",
    "    browser.get('https://www.baidu.com')\n",
    "except TimeoutException:\n",
    "    print('Time Out!')\n",
    "try:\n",
    "    browser.find_element_by_id('hello')\n",
    "except NoSuchElementException:\n",
    "    print('No such elem')\n",
    "finally:\n",
    "    browser.close()"
   ]
  },
  {
   "cell_type": "code",
   "execution_count": null,
   "metadata": {
    "pycharm": {
     "name": "#%%\n"
    }
   },
   "outputs": [],
   "source": []
  }
 ],
 "metadata": {
  "kernelspec": {
   "display_name": "Python 3",
   "language": "python",
   "name": "python3"
  },
  "language_info": {
   "codemirror_mode": {
    "name": "ipython",
    "version": 3
   },
   "file_extension": ".py",
   "mimetype": "text/x-python",
   "name": "python",
   "nbconvert_exporter": "python",
   "pygments_lexer": "ipython3",
   "version": "3.8.5"
  }
 },
 "nbformat": 4,
 "nbformat_minor": 1
}
