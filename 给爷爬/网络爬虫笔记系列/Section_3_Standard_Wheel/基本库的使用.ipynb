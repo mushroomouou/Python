{
 "cells": [
  {
   "cell_type": "markdown",
   "metadata": {},
   "source": [
    "# 基本库的使用"
   ]
  },
  {
   "cell_type": "markdown",
   "metadata": {},
   "source": [
    "## 3.1使用urllib"
   ]
  },
  {
   "cell_type": "code",
   "execution_count": 1,
   "metadata": {
    "pycharm": {
     "name": "#%%\n"
    }
   },
   "outputs": [],
   "source": [
    "# 导包\n",
    "import urllib# 是内置的一个HTTP请求库\n",
    "from urllib import request\n",
    "from urllib import parse\n",
    "from pprint import pprint"
   ]
  },
  {
   "cell_type": "markdown",
   "metadata": {},
   "source": [
    "![image.png](https://i.loli.net/2021/01/20/KSi7oPsyFQ9hleB.png)\n"
   ]
  },
  {
   "cell_type": "code",
   "execution_count": 2,
   "metadata": {
    "pycharm": {
     "name": "#%%\n"
    }
   },
   "outputs": [
    {
     "name": "stdout",
     "output_type": "stream",
     "text": [
      "<!doctype html>\n",
      "<!--[if lt IE 7]>   <html class=\"no-js ie6 lt-ie7 lt-ie8 lt-ie9\">   <![endif]-->\n",
      "<!--[if IE 7]>      <html class=\"no-js ie7 lt-ie8 lt-ie9\">          <![endif]-->\n",
      "<!--[if IE 8]>      <html class=\"no-js ie8 lt-ie9\">                 <![endif]-->\n",
      "<!--[if gt IE 8]><!--><html class=\"no-js\" lang=\"en\" dir=\"ltr\">  <!--<![endif]-->\n",
      "\n",
      "<head>\n",
      "    <meta charset=\"utf-8\">\n",
      "    <meta http-equiv=\"X-UA-Compatible\" content=\"IE=edge\">\n",
      "\n",
      "    <link rel=\"prefetch\" href=\"//ajax.googleapis.com/ajax/libs/jquery/1.8.2/jquery.min.js\">\n",
      "    <link rel=\"prefetch\" href=\"//ajax.googleapis.com/ajax/libs/jqueryui/1.12.1/jquery-ui.min.js\">\n",
      "\n",
      "    <meta name=\"application-name\" content=\"Python.org\">\n",
      "    <meta name=\"msapplication-tooltip\" content=\"The official home of the Python Programming Language\">\n",
      "    <meta name=\"apple-mobile-web-app-title\" content=\"Python.org\">\n",
      "    <meta name=\"apple-mobile-web-app-capable\" content=\"yes\">\n",
      "    <meta name=\"apple-mobile-web-app-status-bar-style\" content=\"black\">\n",
      "\n",
      "    <meta name=\"viewport\" content=\"width=device-width, initial-scale=1.0\">\n",
      "    <meta name=\"HandheldFriendly\" content=\"True\">\n",
      "    <meta name=\"format-detection\" content=\"telephone=no\">\n",
      "    <meta http-equiv=\"cleartype\" content=\"on\">\n",
      "    <meta http-equiv=\"imagetoolbar\" content=\"false\">\n",
      "\n",
      "    <script src=\"/static/js/libs/modernizr.js\"></script>\n",
      "\n",
      "    <link href=\"/static/stylesheets/style.b50cef9e3bb9.css\" rel=\"stylesheet\" type=\"text/css\" title=\"default\" />\n",
      "    <link href=\"/static/stylesheets/mq.eef77a5d2257.css\" rel=\"stylesheet\" type=\"text/css\" media=\"not print, braille, embossed, speech, tty\" />\n",
      "    \n",
      "\n",
      "    <!--[if (lte IE 8)&(!IEMobile)]>\n",
      "    <link href=\"/static/stylesheets/no-mq.e636abc55522.css\" rel=\"stylesheet\" type=\"text/css\" media=\"screen\" />\n",
      "    \n",
      "    \n",
      "    <![endif]-->\n",
      "    <link rel=\"stylesheet\" href=\"//ajax.googleapis.com/ajax/libs/jqueryui/1.12.1/themes/smoothness/jquery-ui.css\">\n",
      "\n",
      "    \n",
      "    <link rel=\"icon\" type=\"image/x-icon\" href=\"/static/favicon.ico\">\n",
      "    <link rel=\"apple-touch-icon-precomposed\" sizes=\"144x144\" href=\"/static/apple-touch-icon-144x144-precomposed.png\">\n",
      "    <link rel=\"apple-touch-icon-precomposed\" sizes=\"114x114\" href=\"/static/apple-touch-icon-114x114-precomposed.png\">\n",
      "    <link rel=\"apple-touch-icon-precomposed\" sizes=\"72x72\" href=\"/static/apple-touch-icon-72x72-precomposed.png\">\n",
      "    <link rel=\"apple-touch-icon-precomposed\" href=\"/static/apple-touch-icon-precomposed.png\">\n",
      "    <link rel=\"apple-touch-icon\" href=\"/static/apple-touch-icon-precomposed.png\">\n",
      "\n",
      "    \n",
      "    <meta name=\"msapplication-TileImage\" content=\"/static/metro-icon-144x144-precomposed.png\"><!-- white shape -->\n",
      "    <meta name=\"msapplication-TileColor\" content=\"#3673a5\"><!-- python blue -->\n",
      "    <meta name=\"msapplication-navbutton-color\" content=\"#3673a5\">\n",
      "\n",
      "    <title>Welcome to Python.org</title>\n",
      "\n",
      "    <meta name=\"description\" content=\"The official home of the Python Programming Language\">\n",
      "    <meta name=\"keywords\" content=\"Python programming language object oriented web free open source software license documentation download community\">\n",
      "\n",
      "    \n",
      "    <meta property=\"og:type\" content=\"website\">\n",
      "    <meta property=\"og:site_name\" content=\"Python.org\">\n",
      "    <meta property=\"og:title\" content=\"Welcome to Python.org\">\n",
      "    <meta property=\"og:description\" content=\"The official home of the Python Programming Language\">\n",
      "    \n",
      "    <meta property=\"og:image\" content=\"https://www.python.org/static/opengraph-icon-200x200.png\">\n",
      "    <meta property=\"og:image:secure_url\" content=\"https://www.python.org/static/opengraph-icon-200x200.png\">\n",
      "    \n",
      "    <meta property=\"og:url\" content=\"https://www.python.org/\">\n",
      "\n",
      "    <link rel=\"author\" href=\"/static/humans.txt\">\n",
      "\n",
      "    <link rel=\"alternate\" type=\"application/rss+xml\" title=\"Python Enhancement Proposals\"\n",
      "          href=\"https://www.python.org/dev/peps/peps.rss/\">\n",
      "    <link rel=\"alternate\" type=\"application/rss+xml\" title=\"Python Job Opportunities\"\n",
      "          href=\"https://www.python.org/jobs/feed/rss/\">\n",
      "    <link rel=\"alternate\" type=\"application/rss+xml\" title=\"Python Software Foundation News\"\n",
      "          href=\"https://feeds.feedburner.com/PythonSoftwareFoundationNews\">\n",
      "    <link rel=\"alternate\" type=\"application/rss+xml\" title=\"Python Insider\"\n",
      "          href=\"https://feeds.feedburner.com/PythonInsider\">\n",
      "\n",
      "    \n",
      "\n",
      "    \n",
      "    <script type=\"application/ld+json\">\n",
      "     {\n",
      "       \"@context\": \"https://schema.org\",\n",
      "       \"@type\": \"WebSite\",\n",
      "       \"url\": \"https://www.python.org/\",\n",
      "       \"potentialAction\": {\n",
      "         \"@type\": \"SearchAction\",\n",
      "         \"target\": \"https://www.python.org/search/?q={search_term_string}\",\n",
      "         \"query-input\": \"required name=search_term_string\"\n",
      "       }\n",
      "     }\n",
      "    </script>\n",
      "\n",
      "    \n",
      "    <script type=\"text/javascript\">\n",
      "    var _gaq = _gaq || [];\n",
      "    _gaq.push(['_setAccount', 'UA-39055973-1']);\n",
      "    _gaq.push(['_trackPageview']);\n",
      "\n",
      "    (function() {\n",
      "        var ga = document.createElement('script'); ga.type = 'text/javascript'; ga.async = true;\n",
      "        ga.src = ('https:' == document.location.protocol ? 'https://ssl' : 'http://www') + '.google-analytics.com/ga.js';\n",
      "        var s = document.getElementsByTagName('script')[0]; s.parentNode.insertBefore(ga, s);\n",
      "    })();\n",
      "    </script>\n",
      "    \n",
      "</head>\n",
      "\n",
      "<body class=\"python home\" id=\"homepage\">\n",
      "\n",
      "    <div id=\"touchnav-wrapper\">\n",
      "\n",
      "        <div id=\"nojs\" class=\"do-not-print\">\n",
      "            <p><strong>Notice:</strong> While Javascript is not essential for this website, your interaction with the content will be limited. Please turn Javascript on for the full experience. </p>\n",
      "        </div>\n",
      "\n",
      "        <!--[if lte IE 8]>\n",
      "        <div id=\"oldie-warning\" class=\"do-not-print\">\n",
      "            <p>\n",
      "                <strong>Notice:</strong> Your browser is <em>ancient</em>. Please\n",
      "                <a href=\"http://browsehappy.com/\">upgrade to a different browser</a> to experience a better web.\n",
      "            </p>\n",
      "        </div>\n",
      "        <![endif]-->\n",
      "\n",
      "        <!-- Sister Site Links -->\n",
      "        <div id=\"top\" class=\"top-bar do-not-print\">\n",
      "\n",
      "            <nav class=\"meta-navigation container\" role=\"navigation\">\n",
      "\n",
      "                \n",
      "                <div class=\"skip-link screen-reader-text\">\n",
      "                    <a href=\"#content\" title=\"Skip to content\">Skip to content</a>\n",
      "                </div>\n",
      "\n",
      "                \n",
      "                <a id=\"close-python-network\" class=\"jump-link\" href=\"#python-network\" aria-hidden=\"true\">\n",
      "                    <span aria-hidden=\"true\" class=\"icon-arrow-down\"><span>&#9660;</span></span> Close\n",
      "                </a>\n",
      "\n",
      "                \n",
      "\n",
      "<ul class=\"menu\" role=\"tree\">\n",
      "    \n",
      "    <li class=\"python-meta current_item selectedcurrent_branch selected\">\n",
      "        <a href=\"/\" title=\"The Python Programming Language\" class=\"current_item selectedcurrent_branch selected\">Python</a>\n",
      "    </li>\n",
      "    \n",
      "    <li class=\"psf-meta \">\n",
      "        <a href=\"/psf-landing/\" title=\"The Python Software Foundation\" >PSF</a>\n",
      "    </li>\n",
      "    \n",
      "    <li class=\"docs-meta \">\n",
      "        <a href=\"https://docs.python.org\" title=\"Python Documentation\" >Docs</a>\n",
      "    </li>\n",
      "    \n",
      "    <li class=\"pypi-meta \">\n",
      "        <a href=\"https://pypi.org/\" title=\"Python Package Index\" >PyPI</a>\n",
      "    </li>\n",
      "    \n",
      "    <li class=\"jobs-meta \">\n",
      "        <a href=\"/jobs/\" title=\"Python Job Board\" >Jobs</a>\n",
      "    </li>\n",
      "    \n",
      "    <li class=\"shop-meta \">\n",
      "        <a href=\"/community-landing/\"  >Community</a>\n",
      "    </li>\n",
      "    \n",
      "</ul>\n",
      "\n",
      "\n",
      "                <a id=\"python-network\" class=\"jump-link\" href=\"#top\" aria-hidden=\"true\">\n",
      "                    <span aria-hidden=\"true\" class=\"icon-arrow-up\"><span>&#9650;</span></span> The Python Network\n",
      "                </a>\n",
      "\n",
      "            </nav>\n",
      "\n",
      "        </div>\n",
      "\n",
      "        <!-- Header elements -->\n",
      "        <header class=\"main-header\" role=\"banner\">\n",
      "            <div class=\"container\">\n",
      "\n",
      "                <h1 class=\"site-headline\">\n",
      "                    <a href=\"/\"><img class=\"python-logo\" src=\"/static/img/python-logo.png\" alt=\"python&trade;\"></a>\n",
      "                </h1>\n",
      "\n",
      "                <div class=\"options-bar-container do-not-print\">\n",
      "                    <a href=\"https://psfmember.org/civicrm/contribute/transact?reset=1&id=2\" class=\"donate-button\">Donate</a>\n",
      "                    <div class=\"options-bar\">\n",
      "                        \n",
      "                        <a id=\"site-map-link\" class=\"jump-to-menu\" href=\"#site-map\"><span class=\"menu-icon\">&equiv;</span> Menu</a><form class=\"search-the-site\" action=\"/search/\" method=\"get\">\n",
      "                            <fieldset title=\"Search Python.org\">\n",
      "\n",
      "                                <span aria-hidden=\"true\" class=\"icon-search\"></span>\n",
      "\n",
      "                                <label class=\"screen-reader-text\" for=\"id-search-field\">Search This Site</label>\n",
      "                                <input id=\"id-search-field\" name=\"q\" type=\"search\" role=\"textbox\" class=\"search-field\" placeholder=\"Search\" value=\"\" tabindex=\"1\">\n",
      "\n",
      "                                <button type=\"submit\" name=\"submit\" id=\"submit\" class=\"search-button\" title=\"Submit this Search\" tabindex=\"3\">\n",
      "                                    GO\n",
      "                                </button>\n",
      "\n",
      "                                \n",
      "                                <!--[if IE]><input type=\"text\" style=\"display: none;\" disabled=\"disabled\" size=\"1\" tabindex=\"4\"><![endif]-->\n",
      "\n",
      "                            </fieldset>\n",
      "                        </form><span class=\"breaker\"></span><div class=\"adjust-font-size\" aria-hidden=\"true\">\n",
      "                            <ul class=\"navigation menu\" aria-label=\"Adjust Text Size on Page\">\n",
      "                                <li class=\"tier-1 last\" aria-haspopup=\"true\">\n",
      "                                    <a href=\"#\" class=\"action-trigger\"><strong><small>A</small> A</strong></a>\n",
      "                                    <ul class=\"subnav menu\">\n",
      "                                        <li class=\"tier-2 element-1\" role=\"treeitem\"><a class=\"text-shrink\" title=\"Make Text Smaller\" href=\"javascript:;\">Smaller</a></li>\n",
      "                                        <li class=\"tier-2 element-2\" role=\"treeitem\"><a class=\"text-grow\" title=\"Make Text Larger\" href=\"javascript:;\">Larger</a></li>\n",
      "                                        <li class=\"tier-2 element-3\" role=\"treeitem\"><a class=\"text-reset\" title=\"Reset any font size changes I have made\" href=\"javascript:;\">Reset</a></li>\n",
      "                                    </ul>\n",
      "                                </li>\n",
      "                            </ul>\n",
      "                        </div><div class=\"winkwink-nudgenudge\">\n",
      "                            <ul class=\"navigation menu\" aria-label=\"Social Media Navigation\">\n",
      "                                <li class=\"tier-1 last\" aria-haspopup=\"true\">\n",
      "                                    <a href=\"#\" class=\"action-trigger\">Socialize</a>\n",
      "                                    <ul class=\"subnav menu\">\n",
      "                                        <li class=\"tier-2 element-1\" role=\"treeitem\"><a href=\"https://www.facebook.com/pythonlang?fref=ts\"><span aria-hidden=\"true\" class=\"icon-facebook\"></span>Facebook</a></li>\n",
      "                                        <li class=\"tier-2 element-2\" role=\"treeitem\"><a href=\"https://twitter.com/ThePSF\"><span aria-hidden=\"true\" class=\"icon-twitter\"></span>Twitter</a></li>\n",
      "                                        <li class=\"tier-2 element-3\" role=\"treeitem\"><a href=\"/community/irc/\"><span aria-hidden=\"true\" class=\"icon-freenode\"></span>Chat on IRC</a></li>\n",
      "                                    </ul>\n",
      "                                </li>\n",
      "                            </ul>\n",
      "                        </div>\n",
      "                        <span data-html-include=\"/authenticated\"></span>\n",
      "                    </div><!-- end options-bar -->\n",
      "                </div>\n",
      "\n",
      "                <nav id=\"mainnav\" class=\"python-navigation main-navigation do-not-print\" role=\"navigation\">\n",
      "                    \n",
      "                        \n",
      "<ul class=\"navigation menu\" role=\"menubar\" aria-label=\"Main Navigation\">\n",
      "  \n",
      "    \n",
      "    \n",
      "    <li id=\"about\" class=\"tier-1 element-1  \" aria-haspopup=\"true\">\n",
      "        <a href=\"/about/\" title=\"\" class=\"\">About</a>\n",
      "        \n",
      "            \n",
      "\n",
      "<ul class=\"subnav menu\" role=\"menu\" aria-hidden=\"true\">\n",
      "    \n",
      "        <li class=\"tier-2 element-1\" role=\"treeitem\"><a href=\"/about/apps/\" title=\"\">Applications</a></li>\n",
      "    \n",
      "        <li class=\"tier-2 element-2\" role=\"treeitem\"><a href=\"/about/quotes/\" title=\"\">Quotes</a></li>\n",
      "    \n",
      "        <li class=\"tier-2 element-3\" role=\"treeitem\"><a href=\"/about/gettingstarted/\" title=\"\">Getting Started</a></li>\n",
      "    \n",
      "        <li class=\"tier-2 element-4\" role=\"treeitem\"><a href=\"/about/help/\" title=\"\">Help</a></li>\n",
      "    \n",
      "        <li class=\"tier-2 element-5\" role=\"treeitem\"><a href=\"http://brochure.getpython.info/\" title=\"\">Python Brochure</a></li>\n",
      "    \n",
      "</ul>\n",
      "\n",
      "        \n",
      "    </li>\n",
      "    \n",
      "    \n",
      "    \n",
      "    <li id=\"downloads\" class=\"tier-1 element-2  \" aria-haspopup=\"true\">\n",
      "        <a href=\"/downloads/\" title=\"\" class=\"\">Downloads</a>\n",
      "        \n",
      "            \n",
      "\n",
      "<ul class=\"subnav menu\" role=\"menu\" aria-hidden=\"true\">\n",
      "    \n",
      "        <li class=\"tier-2 element-1\" role=\"treeitem\"><a href=\"/downloads/\" title=\"\">All releases</a></li>\n",
      "    \n",
      "        <li class=\"tier-2 element-2\" role=\"treeitem\"><a href=\"/downloads/source/\" title=\"\">Source code</a></li>\n",
      "    \n",
      "        <li class=\"tier-2 element-3\" role=\"treeitem\"><a href=\"/downloads/windows/\" title=\"\">Windows</a></li>\n",
      "    \n",
      "        <li class=\"tier-2 element-4\" role=\"treeitem\"><a href=\"/downloads/mac-osx/\" title=\"\">Mac OS X</a></li>\n",
      "    \n",
      "        <li class=\"tier-2 element-5\" role=\"treeitem\"><a href=\"/download/other/\" title=\"\">Other Platforms</a></li>\n",
      "    \n",
      "        <li class=\"tier-2 element-6\" role=\"treeitem\"><a href=\"https://docs.python.org/3/license.html\" title=\"\">License</a></li>\n",
      "    \n",
      "        <li class=\"tier-2 element-7\" role=\"treeitem\"><a href=\"/download/alternatives\" title=\"\">Alternative Implementations</a></li>\n",
      "    \n",
      "</ul>\n",
      "\n",
      "        \n",
      "    </li>\n",
      "    \n",
      "    \n",
      "    \n",
      "    <li id=\"documentation\" class=\"tier-1 element-3  \" aria-haspopup=\"true\">\n",
      "        <a href=\"/doc/\" title=\"\" class=\"\">Documentation</a>\n",
      "        \n",
      "            \n",
      "\n",
      "<ul class=\"subnav menu\" role=\"menu\" aria-hidden=\"true\">\n",
      "    \n",
      "        <li class=\"tier-2 element-1\" role=\"treeitem\"><a href=\"/doc/\" title=\"\">Docs</a></li>\n",
      "    \n",
      "        <li class=\"tier-2 element-2\" role=\"treeitem\"><a href=\"/doc/av\" title=\"\">Audio/Visual Talks</a></li>\n",
      "    \n",
      "        <li class=\"tier-2 element-3\" role=\"treeitem\"><a href=\"https://wiki.python.org/moin/BeginnersGuide\" title=\"\">Beginner&#39;s Guide</a></li>\n",
      "    \n",
      "        <li class=\"tier-2 element-4\" role=\"treeitem\"><a href=\"https://devguide.python.org/\" title=\"\">Developer&#39;s Guide</a></li>\n",
      "    \n",
      "        <li class=\"tier-2 element-5\" role=\"treeitem\"><a href=\"https://docs.python.org/faq/\" title=\"\">FAQ</a></li>\n",
      "    \n",
      "        <li class=\"tier-2 element-6\" role=\"treeitem\"><a href=\"http://wiki.python.org/moin/Languages\" title=\"\">Non-English Docs</a></li>\n",
      "    \n",
      "        <li class=\"tier-2 element-7\" role=\"treeitem\"><a href=\"http://python.org/dev/peps/\" title=\"\">PEP Index</a></li>\n",
      "    \n",
      "        <li class=\"tier-2 element-8\" role=\"treeitem\"><a href=\"https://wiki.python.org/moin/PythonBooks\" title=\"\">Python Books</a></li>\n",
      "    \n",
      "        <li class=\"tier-2 element-9\" role=\"treeitem\"><a href=\"/doc/essays/\" title=\"\">Python Essays</a></li>\n",
      "    \n",
      "</ul>\n",
      "\n",
      "        \n",
      "    </li>\n",
      "    \n",
      "    \n",
      "    \n",
      "    <li id=\"community\" class=\"tier-1 element-4  \" aria-haspopup=\"true\">\n",
      "        <a href=\"/community/\" title=\"\" class=\"\">Community</a>\n",
      "        \n",
      "            \n",
      "\n",
      "<ul class=\"subnav menu\" role=\"menu\" aria-hidden=\"true\">\n",
      "    \n",
      "        <li class=\"tier-2 element-1\" role=\"treeitem\"><a href=\"/community/survey\" title=\"\">Community Survey</a></li>\n",
      "    \n",
      "        <li class=\"tier-2 element-2\" role=\"treeitem\"><a href=\"/community/diversity/\" title=\"\">Diversity</a></li>\n",
      "    \n",
      "        <li class=\"tier-2 element-3\" role=\"treeitem\"><a href=\"/community/lists/\" title=\"\">Mailing Lists</a></li>\n",
      "    \n",
      "        <li class=\"tier-2 element-4\" role=\"treeitem\"><a href=\"/community/irc/\" title=\"\">IRC</a></li>\n",
      "    \n",
      "        <li class=\"tier-2 element-5\" role=\"treeitem\"><a href=\"/community/forums/\" title=\"\">Forums</a></li>\n",
      "    \n",
      "        <li class=\"tier-2 element-6\" role=\"treeitem\"><a href=\"/psf/annual-report/2020/\" title=\"\">PSF Annual Impact Report</a></li>\n",
      "    \n",
      "        <li class=\"tier-2 element-7\" role=\"treeitem\"><a href=\"/community/workshops/\" title=\"\">Python Conferences</a></li>\n",
      "    \n",
      "        <li class=\"tier-2 element-8\" role=\"treeitem\"><a href=\"/community/sigs/\" title=\"\">Special Interest Groups</a></li>\n",
      "    \n",
      "        <li class=\"tier-2 element-9\" role=\"treeitem\"><a href=\"/community/logos/\" title=\"\">Python Logo</a></li>\n",
      "    \n",
      "        <li class=\"tier-2 element-10\" role=\"treeitem\"><a href=\"https://wiki.python.org/moin/\" title=\"\">Python Wiki</a></li>\n",
      "    \n",
      "        <li class=\"tier-2 element-11\" role=\"treeitem\"><a href=\"/community/merchandise/\" title=\"\">Merchandise</a></li>\n",
      "    \n",
      "        <li class=\"tier-2 element-12\" role=\"treeitem\"><a href=\"/community/awards\" title=\"\">Community Awards</a></li>\n",
      "    \n",
      "        <li class=\"tier-2 element-13\" role=\"treeitem\"><a href=\"/psf/conduct/\" title=\"\">Code of Conduct</a></li>\n",
      "    \n",
      "        <li class=\"tier-2 element-14\" role=\"treeitem\"><a href=\"/psf/get-involved/\" title=\"\">Get Involved</a></li>\n",
      "    \n",
      "</ul>\n",
      "\n",
      "        \n",
      "    </li>\n",
      "    \n",
      "    \n",
      "    \n",
      "    <li id=\"success-stories\" class=\"tier-1 element-5  \" aria-haspopup=\"true\">\n",
      "        <a href=\"/success-stories/\" title=\"success-stories\" class=\"\">Success Stories</a>\n",
      "        \n",
      "            \n",
      "\n",
      "<ul class=\"subnav menu\" role=\"menu\" aria-hidden=\"true\">\n",
      "    \n",
      "        <li class=\"tier-2 element-1\" role=\"treeitem\"><a href=\"/success-stories/category/arts/\" title=\"\">Arts</a></li>\n",
      "    \n",
      "        <li class=\"tier-2 element-2\" role=\"treeitem\"><a href=\"/success-stories/category/business/\" title=\"\">Business</a></li>\n",
      "    \n",
      "        <li class=\"tier-2 element-3\" role=\"treeitem\"><a href=\"/success-stories/category/education/\" title=\"\">Education</a></li>\n",
      "    \n",
      "        <li class=\"tier-2 element-4\" role=\"treeitem\"><a href=\"/success-stories/category/engineering/\" title=\"\">Engineering</a></li>\n",
      "    \n",
      "        <li class=\"tier-2 element-5\" role=\"treeitem\"><a href=\"/success-stories/category/government/\" title=\"\">Government</a></li>\n",
      "    \n",
      "        <li class=\"tier-2 element-6\" role=\"treeitem\"><a href=\"/success-stories/category/scientific/\" title=\"\">Scientific</a></li>\n",
      "    \n",
      "        <li class=\"tier-2 element-7\" role=\"treeitem\"><a href=\"/success-stories/category/software-development/\" title=\"\">Software Development</a></li>\n",
      "    \n",
      "</ul>\n",
      "\n",
      "        \n",
      "    </li>\n",
      "    \n",
      "    \n",
      "    \n",
      "    <li id=\"news\" class=\"tier-1 element-6  \" aria-haspopup=\"true\">\n",
      "        <a href=\"/blogs/\" title=\"News from around the Python world\" class=\"\">News</a>\n",
      "        \n",
      "            \n",
      "\n",
      "<ul class=\"subnav menu\" role=\"menu\" aria-hidden=\"true\">\n",
      "    \n",
      "        <li class=\"tier-2 element-1\" role=\"treeitem\"><a href=\"/blogs/\" title=\"Python Insider Blog Posts\">Python News</a></li>\n",
      "    \n",
      "        <li class=\"tier-2 element-2\" role=\"treeitem\"><a href=\"/psf/newsletter/\" title=\"Python Software Foundation Newsletter\">PSF Newsletter</a></li>\n",
      "    \n",
      "        <li class=\"tier-2 element-3\" role=\"treeitem\"><a href=\"http://planetpython.org/\" title=\"Planet Python\">Community News</a></li>\n",
      "    \n",
      "        <li class=\"tier-2 element-4\" role=\"treeitem\"><a href=\"http://pyfound.blogspot.com/\" title=\"PSF Blog\">PSF News</a></li>\n",
      "    \n",
      "        <li class=\"tier-2 element-5\" role=\"treeitem\"><a href=\"http://pycon.blogspot.com/\" title=\"PyCon Blog\">PyCon News</a></li>\n",
      "    \n",
      "</ul>\n",
      "\n",
      "        \n",
      "    </li>\n",
      "    \n",
      "    \n",
      "    \n",
      "    <li id=\"events\" class=\"tier-1 element-7  \" aria-haspopup=\"true\">\n",
      "        <a href=\"/events/\" title=\"\" class=\"\">Events</a>\n",
      "        \n",
      "            \n",
      "\n",
      "<ul class=\"subnav menu\" role=\"menu\" aria-hidden=\"true\">\n",
      "    \n",
      "        <li class=\"tier-2 element-1\" role=\"treeitem\"><a href=\"/events/python-events\" title=\"\">Python Events</a></li>\n",
      "    \n",
      "        <li class=\"tier-2 element-2\" role=\"treeitem\"><a href=\"/events/python-user-group/\" title=\"\">User Group Events</a></li>\n",
      "    \n",
      "        <li class=\"tier-2 element-3\" role=\"treeitem\"><a href=\"/events/python-events/past/\" title=\"\">Python Events Archive</a></li>\n",
      "    \n",
      "        <li class=\"tier-2 element-4\" role=\"treeitem\"><a href=\"/events/python-user-group/past/\" title=\"\">User Group Events Archive</a></li>\n",
      "    \n",
      "        <li class=\"tier-2 element-5\" role=\"treeitem\"><a href=\"https://wiki.python.org/moin/PythonEventsCalendar#Submitting_an_Event\" title=\"\">Submit an Event</a></li>\n",
      "    \n",
      "</ul>\n",
      "\n",
      "        \n",
      "    </li>\n",
      "    \n",
      "    \n",
      "    \n",
      "    \n",
      "  \n",
      "</ul>\n",
      "\n",
      "                    \n",
      "                </nav>\n",
      "\n",
      "                <div class=\"header-banner \"> <!-- for optional \"do-not-print\" class -->\n",
      "                    \n",
      "        <div id=\"dive-into-python\" class=\"flex-slideshow slideshow\">\n",
      "\n",
      "            <ul class=\"launch-shell menu\" id=\"launch-shell\">\n",
      "                <li>\n",
      "                    <a class=\"button prompt\" id=\"start-shell\" data-shell-container=\"#dive-into-python\" href=\"/shell/\">&gt;_\n",
      "                        <span class=\"message\">Launch Interactive Shell</span>\n",
      "                    </a>\n",
      "                </li>\n",
      "            </ul>\n",
      "\n",
      "            <ul class=\"slides menu\">\n",
      "                \n",
      "                <li>\n",
      "                    <div class=\"slide-code\"><pre><code><span class=\"comment\"># Python 3: Fibonacci series up to n</span>\r\n",
      ">>> def fib(n):\r\n",
      ">>>     a, b = 0, 1\r\n",
      ">>>     while a &lt; n:\r\n",
      ">>>         print(a, end=' ')\r\n",
      ">>>         a, b = b, a+b\r\n",
      ">>>     print()\r\n",
      ">>> fib(1000)\r\n",
      "<span class=\"output\">0 1 1 2 3 5 8 13 21 34 55 89 144 233 377 610 987</span></code></pre></div>\n",
      "                    <div class=\"slide-copy\"><h1>Functions Defined</h1>\r\n",
      "<p>The core of extensible programming is defining functions. Python allows mandatory and optional arguments, keyword arguments, and even arbitrary argument lists. <a href=\"//docs.python.org/3/tutorial/controlflow.html#defining-functions\">More about defining functions in Python&nbsp;3</a></p></div>\n",
      "                </li>\n",
      "                \n",
      "                <li>\n",
      "                    <div class=\"slide-code\"><pre><code><span class=\"comment\"># Python 3: List comprehensions</span>\r\n",
      ">>> fruits = ['Banana', 'Apple', 'Lime']\r\n",
      ">>> loud_fruits = [fruit.upper() for fruit in fruits]\r\n",
      ">>> print(loud_fruits)\r\n",
      "<span class=\"output\">['BANANA', 'APPLE', 'LIME']</span>\r\n",
      "\r\n",
      "<span class=\"comment\"># List and the enumerate function</span>\r\n",
      ">>> list(enumerate(fruits))\r\n",
      "<span class=\"output\">[(0, 'Banana'), (1, 'Apple'), (2, 'Lime')]</span></code></pre></div>\n",
      "                    <div class=\"slide-copy\"><h1>Compound Data Types</h1>\r\n",
      "<p>Lists (known as arrays in other languages) are one of the compound data types that Python understands. Lists can be indexed, sliced and manipulated with other built-in functions. <a href=\"//docs.python.org/3/tutorial/introduction.html#lists\">More about lists in Python&nbsp;3</a></p></div>\n",
      "                </li>\n",
      "                \n",
      "                <li>\n",
      "                    <div class=\"slide-code\"><pre><code><span class=\"comment\"># Python 3: Simple arithmetic</span>\r\n",
      ">>> 1 / 2\r\n",
      "<span class=\"output\">0.5</span>\r\n",
      ">>> 2 ** 3\r\n",
      "<span class=\"output\">8</span>\r\n",
      ">>> 17 / 3  <span class=\"comment\"># classic division returns a float</span>\r\n",
      "<span class=\"output\">5.666666666666667</span>\r\n",
      ">>> 17 // 3  <span class=\"comment\"># floor division</span>\r\n",
      "<span class=\"output\">5</span></code></pre></div>\n",
      "                    <div class=\"slide-copy\"><h1>Intuitive Interpretation</h1>\r\n",
      "<p>Calculations are simple with Python, and expression syntax is straightforward: the operators <code>+</code>, <code>-</code>, <code>*</code> and <code>/</code> work as expected; parentheses <code>()</code> can be used for grouping. <a href=\"http://docs.python.org/3/tutorial/introduction.html#using-python-as-a-calculator\">More about simple math functions in Python&nbsp;3</a>.</p></div>\n",
      "                </li>\n",
      "                \n",
      "                <li>\n",
      "                    <div class=\"slide-code\"><pre><code><span class=\"comment\"># Python 3: Simple output (with Unicode)</span>\r\n",
      ">>> print(\"Hello, I'm Python!\")\r\n",
      "<span class=\"output\">Hello, I'm Python!</span>\r\n",
      "\r\n",
      "<span class=\"comment\"># Input, assignment</span>\r\n",
      ">>> name = input('What is your name?\\n')\r\n",
      ">>> print('Hi, %s.' % name)\r\n",
      "<span class=\"output\">What is your name?\r\n",
      "Python\r\n",
      "Hi, Python.</span></code></pre></div>\n",
      "                    <div class=\"slide-copy\"><h1>Quick &amp; Easy to Learn</h1>\r\n",
      "<p>Experienced programmers in any other language can pick up Python very quickly, and beginners find the clean syntax and indentation structure easy to learn. <a href=\"//docs.python.org/3/tutorial/\">Whet your appetite</a> with our Python&nbsp;3 overview.</p>\r\n",
      "                   </div>\n",
      "                </li>\n",
      "                \n",
      "                <li>\n",
      "                    <div class=\"slide-code\"><pre><code><span class=\"comment\"># For loop on a list</span>\r\n",
      ">>> numbers = [2, 4, 6, 8]\r\n",
      ">>> product = 1\r\n",
      ">>> for number in numbers:\r\n",
      "...    product = product * number\r\n",
      "... \r\n",
      ">>> print('The product is:', product)\r\n",
      "<span class=\"output\">The product is: 384</span></code></pre></div>\n",
      "                    <div class=\"slide-copy\"><h1>All the Flow You&rsquo;d Expect</h1>\r\n",
      "<p>Python knows the usual control flow statements that other languages speak &mdash; <code>if</code>, <code>for</code>, <code>while</code> and <code>range</code> &mdash; with some of its own twists, of course. <a href=\"//docs.python.org/3/tutorial/controlflow.html\">More control flow tools in Python&nbsp;3</a></p></div>\n",
      "                </li>\n",
      "                \n",
      "            </ul>\n",
      "        </div>\n",
      "\n",
      "\n",
      "                </div>\n",
      "\n",
      "                \n",
      "        <div class=\"introduction\">\n",
      "            <p>Python is a programming language that lets you work quickly <span class=\"breaker\"></span>and integrate systems more effectively. <a class=\"readmore\" href=\"/doc/\">Learn More</a></p>\n",
      "        </div>\n",
      "\n",
      "\n",
      "             </div><!-- end .container -->\n",
      "        </header>\n",
      "\n",
      "        <div id=\"content\" class=\"content-wrapper\">\n",
      "            <!-- Main Content Column -->\n",
      "            <div class=\"container\">\n",
      "\n",
      "                <section class=\"main-content \" role=\"main\">\n",
      "\n",
      "                    \n",
      "                    \n",
      "\n",
      "                    \n",
      "\n",
      "                    \n",
      "\n",
      "                \n",
      "\n",
      "                <div class=\"row\">\n",
      "\n",
      "                    <div class=\"small-widget get-started-widget\">\n",
      "                        <h2 class=\"widget-title\"><span aria-hidden=\"true\" class=\"icon-get-started\"></span>Get Started</h2>\r\n",
      "<p>Whether you're new to programming or an experienced developer, it's easy to learn and use Python.</p>\r\n",
      "<p><a href=\"/about/gettingstarted/\">Start with our Beginner&rsquo;s Guide</a></p>\n",
      "                    </div>\n",
      "\n",
      "                    <div class=\"small-widget download-widget\">\n",
      "                        <h2 class=\"widget-title\"><span aria-hidden=\"true\" class=\"icon-download\"></span>Download</h2>\n",
      "<p>Python source code and installers are available for download for all versions!</p>\n",
      "<p>Latest: <a href=\"/downloads/release/python-391/\">Python 3.9.1</a></p>\n",
      "                    </div>\n",
      "\n",
      "                    <div class=\"small-widget documentation-widget\">\n",
      "                        <h2 class=\"widget-title\"><span aria-hidden=\"true\" class=\"icon-documentation\"></span>Docs</h2>\r\n",
      "<p>Documentation for Python's standard library, along with tutorials and guides, are available online.</p>\r\n",
      "<p><a href=\"https://docs.python.org\">docs.python.org</a></p>\n",
      "                    </div>\n",
      "\n",
      "                    <div class=\"small-widget jobs-widget last\">\n",
      "                        <h2 class=\"widget-title\"><span aria-hidden=\"true\" class=\"icon-jobs\"></span>Jobs</h2>\r\n",
      "<p>Looking for work or have a Python related position that you're trying to hire for? Our <strong>relaunched community-run job board</strong> is the place to go.</p>\r\n",
      "<p><a href=\"//jobs.python.org\">jobs.python.org</a></p>\n",
      "                    </div>\n",
      "\n",
      "                </div>\n",
      "\n",
      "                <div class=\"list-widgets row\">\n",
      "\n",
      "                    <div class=\"medium-widget blog-widget\">\n",
      "                        \n",
      "                        <div class=\"shrubbery\">\n",
      "                        \n",
      "                            <h2 class=\"widget-title\"><span aria-hidden=\"true\" class=\"icon-news\"></span>Latest News</h2>\n",
      "                            <p class=\"give-me-more\"><a href=\"https://blog.python.org\" title=\"More News\">More</a></p>\n",
      "                            \n",
      "                            <ul class=\"menu\">\n",
      "                                \n",
      "                                \n",
      "                                <li>\n",
      "<time datetime=\"2021-02-03T10:59:00.000002+00:00\"><span class=\"say-no-more\">2021-</span>02-03</time>\n",
      " <a href=\"http://feedproxy.google.com/~r/PythonInsider/~3/L5BoMSqFEvw/python-3100a5-is-now-available-for.html\">Python 3.10.0a5 is now available for testing</a></li>\n",
      "                                \n",
      "                                <li>\n",
      "<time datetime=\"2021-01-13T15:58:04.000002+00:00\"><span class=\"say-no-more\">2021-</span>01-13</time>\n",
      " <a href=\"https://mailchi.mp/python/psf-jan-2021\">Python Software Foundation - January 2021 Newsletter</a></li>\n",
      "                                \n",
      "                                <li>\n",
      "<time datetime=\"2021-01-12T21:36:00.000001+00:00\"><span class=\"say-no-more\">2021-</span>01-12</time>\n",
      " <a href=\"http://feedproxy.google.com/~r/PythonSoftwareFoundationNews/~3/aD42dOPti1M/2020-in-review.html\">2020 in Review</a></li>\n",
      "                                \n",
      "                                <li>\n",
      "<time datetime=\"2021-01-04T21:37:00+00:00\"><span class=\"say-no-more\">2021-</span>01-04</time>\n",
      " <a href=\"http://feedproxy.google.com/~r/PythonInsider/~3/N_JPVuqR_Hc/python-3100a4-is-now-available-for.html\">Python 3.10.0a4 is now available for testing</a></li>\n",
      "                                \n",
      "                                <li>\n",
      "<time datetime=\"2020-12-28T16:00:00+00:00\"><span class=\"say-no-more\">2020-</span>12-28</time>\n",
      " <a href=\"http://feedproxy.google.com/~r/PythonSoftwareFoundationNews/~3/ACCQGgHVRuk/election-reform-update.html\">Election Reform Community Update</a></li>\n",
      "                                \n",
      "                            </ul>\n",
      "                        </div><!-- end .shrubbery -->\n",
      "\n",
      "                    </div>\n",
      "\n",
      "                    <div class=\"medium-widget event-widget last\">\n",
      "                        \n",
      "                        <div class=\"shrubbery\">\n",
      "                        \n",
      "                            <h2 class=\"widget-title\"><span aria-hidden=\"true\" class=\"icon-calendar\"></span>Upcoming Events</h2>\n",
      "                            <p class=\"give-me-more\"><a href=\"/events/calendars/\" title=\"More Events\">More</a></p>\n",
      "                            \n",
      "                            <ul class=\"menu\">\n",
      "                                \n",
      "                                \n",
      "                                \n",
      "                                <li>\n",
      "<time datetime=\"2021-02-19T00:00:00+00:00\"><span class=\"say-no-more\">2021-</span>02-19</time>\n",
      " <a href=\"/events/python-events/999/\">PyCascades 2021</a></li>\n",
      "                                \n",
      "                                \n",
      "                                \n",
      "                                <li>\n",
      "<time datetime=\"2021-03-18T00:00:00+00:00\"><span class=\"say-no-more\">2021-</span>03-18</time>\n",
      " <a href=\"/events/python-events/995/\">PyCon Cameroon 2021</a></li>\n",
      "                                \n",
      "                                \n",
      "                                \n",
      "                                <li>\n",
      "<time datetime=\"2021-03-22T12:00:00+00:00\"><span class=\"say-no-more\">2021-</span>03-22</time>\n",
      " <a href=\"/events/python-events/1041/\">Python Web Conference 2021</a></li>\n",
      "                                \n",
      "                                \n",
      "                                \n",
      "                                <li>\n",
      "<time datetime=\"2021-04-22T00:00:00+00:00\"><span class=\"say-no-more\">2021-</span>04-22</time>\n",
      " <a href=\"/events/python-events/1002/\"> GeoPython 2021</a></li>\n",
      "                                \n",
      "                                \n",
      "                                \n",
      "                                <li>\n",
      "<time datetime=\"2021-05-12T00:00:00+00:00\"><span class=\"say-no-more\">2021-</span>05-12</time>\n",
      " <a href=\"/events/python-events/893/\">PyCon US 2021</a></li>\n",
      "                                \n",
      "                                \n",
      "                            </ul>\n",
      "                        </div>\n",
      "\n",
      "                    </div>\n",
      "\n",
      "                </div>\n",
      "\n",
      "                <div class=\"row\">\n",
      "\n",
      "                    <div class=\"medium-widget success-stories-widget\">\n",
      "                        \n",
      "\n",
      "\n",
      "\n",
      "                        <div class=\"shrubbery\">\n",
      "                            \n",
      "\n",
      "                            <h2 class=\"widget-title\"><span aria-hidden=\"true\" class=\"icon-success-stories\"></span>Success Stories</h2>\n",
      "                            <p class=\"give-me-more\"><a href=\"/success-stories/\" title=\"More Success Stories\">More</a></p>\n",
      "\n",
      "                            \n",
      "                            <div class=\"success-story-item\" id=\"success-story-932\">\n",
      "\n",
      "                            <blockquote>\n",
      "                                <a href=\"/success-stories/abridging-clinical-conversations-using-python/\">Python powers major aspects of Abridge’s ML lifecycle, including data annotation,  research and experimentation, and ML model deployment to production.</a>\n",
      "                            </blockquote>\n",
      "\n",
      "                            <table cellpadding=\"0\" cellspacing=\"0\" border=\"0\" width=\"100%\" class=\"quote-from\">\n",
      "                                <tbody>\n",
      "                                    <tr>\n",
      "                                        \n",
      "                                        <td><p><a href=\"/success-stories/abridging-clinical-conversations-using-python/\">Abridging clinical conversations using Python</a> <em>by Nimshi Venkat and Sandeep Konam</em></p></td>\n",
      "                                    </tr>\n",
      "                                </tbody>\n",
      "                            </table>\n",
      "                            </div>\n",
      "                            \n",
      "\n",
      "                        </div><!-- end .shrubbery -->\n",
      "\n",
      "                    </div>\n",
      "\n",
      "                    <div class=\"medium-widget applications-widget last\">\n",
      "                        <div class=\"shrubbery\">\n",
      "                            <h2 class=\"widget-title\"><span aria-hidden=\"true\" class=\"icon-python\"></span>Use Python for&hellip;</h2>\r\n",
      "<p class=\"give-me-more\"><a href=\"/about/apps\" title=\"More Applications\">More</a></p>\r\n",
      "\r\n",
      "<ul class=\"menu\">\r\n",
      "    <li><b>Web Development</b>:\r\n",
      "        <span class=\"tag-wrapper\"><a class=\"tag\" href=\"http://www.djangoproject.com/\">Django</a>, <a class=\"tag\" href=\"http://www.pylonsproject.org/\">Pyramid</a>, <a class=\"tag\" href=\"http://bottlepy.org\">Bottle</a>, <a class=\"tag\" href=\"http://tornadoweb.org\">Tornado</a>, <a href=\"http://flask.pocoo.org/\" class=\"tag\">Flask</a>, <a class=\"tag\" href=\"http://www.web2py.com/\">web2py</a></span></li>\r\n",
      "    <li><b>GUI Development</b>:\r\n",
      "        <span class=\"tag-wrapper\"><a class=\"tag\" href=\"http://wiki.python.org/moin/TkInter\">tkInter</a>, <a class=\"tag\" href=\"https://wiki.gnome.org/Projects/PyGObject\">PyGObject</a>, <a class=\"tag\" href=\"http://www.riverbankcomputing.co.uk/software/pyqt/intro\">PyQt</a>, <a class=\"tag\" href=\"https://wiki.qt.io/PySide\">PySide</a>, <a class=\"tag\" href=\"https://kivy.org/\">Kivy</a>, <a class=\"tag\" href=\"http://www.wxpython.org/\">wxPython</a></span></li>\r\n",
      "    <li><b>Scientific and Numeric</b>:\r\n",
      "        <span class=\"tag-wrapper\">\r\n",
      "<a class=\"tag\" href=\"http://www.scipy.org\">SciPy</a>, <a class=\"tag\" href=\"http://pandas.pydata.org/\">Pandas</a>, <a href=\"http://ipython.org\" class=\"tag\">IPython</a></span></li>\r\n",
      "    <li><b>Software Development</b>:\r\n",
      "        <span class=\"tag-wrapper\"><a class=\"tag\" href=\"http://buildbot.net/\">Buildbot</a>, <a class=\"tag\" href=\"http://trac.edgewall.org/\">Trac</a>, <a class=\"tag\" href=\"http://roundup.sourceforge.net/\">Roundup</a></span></li>\r\n",
      "    <li><b>System Administration</b>:\r\n",
      "        <span class=\"tag-wrapper\"><a class=\"tag\" href=\"http://www.ansible.com\">Ansible</a>, <a class=\"tag\" href=\"http://www.saltstack.com\">Salt</a>, <a class=\"tag\" href=\"https://www.openstack.org\">OpenStack</a></span></li>\r\n",
      "</ul>\r\n",
      "\n",
      "                        </div><!-- end .shrubbery -->\n",
      "                    </div>\n",
      "\n",
      "                </div>\n",
      "\n",
      "                \n",
      "                <div class=\"pep-widget\">\n",
      "\n",
      "                    <h2 class=\"widget-title\">\n",
      "                        <span class=\"prompt\">&gt;&gt;&gt;</span> <a href=\"/dev/peps/\">Python Enhancement Proposals<span class=\"say-no-more\"> (PEPs)</span></a>: The future of Python<span class=\"say-no-more\"> is discussed here.</span>\n",
      "                        <a aria-hidden=\"true\" class=\"rss-link\" href=\"/dev/peps/peps.rss\"><span class=\"icon-feed\"></span> RSS</a>\n",
      "                    </h2>\n",
      "\n",
      "\n",
      "                    \n",
      "                    \n",
      "                </div>\n",
      "\n",
      "                                <div class=\"psf-widget\">\n",
      "\n",
      "                    <div class=\"python-logo\"></div>\n",
      "                    \n",
      "                    <h2 class=\"widget-title\">\r\n",
      "    <span class=\"prompt\">&gt;&gt;&gt;</span> <a href=\"/psf/\">Python Software Foundation</a>\r\n",
      "</h2>\r\n",
      "<p>The mission of the Python Software Foundation is to promote, protect, and advance the Python programming language, and to support and facilitate the growth of a diverse and international community of Python programmers. <a class=\"readmore\" href=\"/psf/\">Learn more</a> </p>\r\n",
      "<p class=\"click-these\">\r\n",
      "    <a class=\"button\" href=\"/users/membership/\">Become a Member</a>\r\n",
      "    <a class=\"button\" href=\"/psf/donations/\">Donate to the PSF</a>\r\n",
      "</p>\n",
      "                </div>\n",
      "\n",
      "\n",
      "\n",
      "\n",
      "                </section>\n",
      "\n",
      "                \n",
      "                \n",
      "\n",
      "                \n",
      "                \n",
      "\n",
      "\n",
      "            </div><!-- end .container -->\n",
      "        </div><!-- end #content .content-wrapper -->\n",
      "\n",
      "        <!-- Footer and social media list -->\n",
      "        <footer id=\"site-map\" class=\"main-footer\" role=\"contentinfo\">\n",
      "            <div class=\"main-footer-links\">\n",
      "                <div class=\"container\">\n",
      "\n",
      "                    \n",
      "                    <a id=\"back-to-top-1\" class=\"jump-link\" href=\"#python-network\"><span aria-hidden=\"true\" class=\"icon-arrow-up\"><span>&#9650;</span></span> Back to Top</a>\n",
      "\n",
      "                    \n",
      "\n",
      "<ul class=\"sitemap navigation menu do-not-print\" role=\"tree\" id=\"container\">\n",
      "    \n",
      "    <li class=\"tier-1 element-1\">\n",
      "        <a href=\"/about/\" >About</a>\n",
      "        \n",
      "            \n",
      "\n",
      "<ul class=\"subnav menu\">\n",
      "    \n",
      "        <li class=\"tier-2 element-1\" role=\"treeitem\"><a href=\"/about/apps/\" title=\"\">Applications</a></li>\n",
      "    \n",
      "        <li class=\"tier-2 element-2\" role=\"treeitem\"><a href=\"/about/quotes/\" title=\"\">Quotes</a></li>\n",
      "    \n",
      "        <li class=\"tier-2 element-3\" role=\"treeitem\"><a href=\"/about/gettingstarted/\" title=\"\">Getting Started</a></li>\n",
      "    \n",
      "        <li class=\"tier-2 element-4\" role=\"treeitem\"><a href=\"/about/help/\" title=\"\">Help</a></li>\n",
      "    \n",
      "        <li class=\"tier-2 element-5\" role=\"treeitem\"><a href=\"http://brochure.getpython.info/\" title=\"\">Python Brochure</a></li>\n",
      "    \n",
      "</ul>\n",
      "\n",
      "        \n",
      "    </li>\n",
      "    \n",
      "    <li class=\"tier-1 element-2\">\n",
      "        <a href=\"/downloads/\" >Downloads</a>\n",
      "        \n",
      "            \n",
      "\n",
      "<ul class=\"subnav menu\">\n",
      "    \n",
      "        <li class=\"tier-2 element-1\" role=\"treeitem\"><a href=\"/downloads/\" title=\"\">All releases</a></li>\n",
      "    \n",
      "        <li class=\"tier-2 element-2\" role=\"treeitem\"><a href=\"/downloads/source/\" title=\"\">Source code</a></li>\n",
      "    \n",
      "        <li class=\"tier-2 element-3\" role=\"treeitem\"><a href=\"/downloads/windows/\" title=\"\">Windows</a></li>\n",
      "    \n",
      "        <li class=\"tier-2 element-4\" role=\"treeitem\"><a href=\"/downloads/mac-osx/\" title=\"\">Mac OS X</a></li>\n",
      "    \n",
      "        <li class=\"tier-2 element-5\" role=\"treeitem\"><a href=\"/download/other/\" title=\"\">Other Platforms</a></li>\n",
      "    \n",
      "        <li class=\"tier-2 element-6\" role=\"treeitem\"><a href=\"https://docs.python.org/3/license.html\" title=\"\">License</a></li>\n",
      "    \n",
      "        <li class=\"tier-2 element-7\" role=\"treeitem\"><a href=\"/download/alternatives\" title=\"\">Alternative Implementations</a></li>\n",
      "    \n",
      "</ul>\n",
      "\n",
      "        \n",
      "    </li>\n",
      "    \n",
      "    <li class=\"tier-1 element-3\">\n",
      "        <a href=\"/doc/\" >Documentation</a>\n",
      "        \n",
      "            \n",
      "\n",
      "<ul class=\"subnav menu\">\n",
      "    \n",
      "        <li class=\"tier-2 element-1\" role=\"treeitem\"><a href=\"/doc/\" title=\"\">Docs</a></li>\n",
      "    \n",
      "        <li class=\"tier-2 element-2\" role=\"treeitem\"><a href=\"/doc/av\" title=\"\">Audio/Visual Talks</a></li>\n",
      "    \n",
      "        <li class=\"tier-2 element-3\" role=\"treeitem\"><a href=\"https://wiki.python.org/moin/BeginnersGuide\" title=\"\">Beginner&#39;s Guide</a></li>\n",
      "    \n",
      "        <li class=\"tier-2 element-4\" role=\"treeitem\"><a href=\"https://devguide.python.org/\" title=\"\">Developer&#39;s Guide</a></li>\n",
      "    \n",
      "        <li class=\"tier-2 element-5\" role=\"treeitem\"><a href=\"https://docs.python.org/faq/\" title=\"\">FAQ</a></li>\n",
      "    \n",
      "        <li class=\"tier-2 element-6\" role=\"treeitem\"><a href=\"http://wiki.python.org/moin/Languages\" title=\"\">Non-English Docs</a></li>\n",
      "    \n",
      "        <li class=\"tier-2 element-7\" role=\"treeitem\"><a href=\"http://python.org/dev/peps/\" title=\"\">PEP Index</a></li>\n",
      "    \n",
      "        <li class=\"tier-2 element-8\" role=\"treeitem\"><a href=\"https://wiki.python.org/moin/PythonBooks\" title=\"\">Python Books</a></li>\n",
      "    \n",
      "        <li class=\"tier-2 element-9\" role=\"treeitem\"><a href=\"/doc/essays/\" title=\"\">Python Essays</a></li>\n",
      "    \n",
      "</ul>\n",
      "\n",
      "        \n",
      "    </li>\n",
      "    \n",
      "    <li class=\"tier-1 element-4\">\n",
      "        <a href=\"/community/\" >Community</a>\n",
      "        \n",
      "            \n",
      "\n",
      "<ul class=\"subnav menu\">\n",
      "    \n",
      "        <li class=\"tier-2 element-1\" role=\"treeitem\"><a href=\"/community/survey\" title=\"\">Community Survey</a></li>\n",
      "    \n",
      "        <li class=\"tier-2 element-2\" role=\"treeitem\"><a href=\"/community/diversity/\" title=\"\">Diversity</a></li>\n",
      "    \n",
      "        <li class=\"tier-2 element-3\" role=\"treeitem\"><a href=\"/community/lists/\" title=\"\">Mailing Lists</a></li>\n",
      "    \n",
      "        <li class=\"tier-2 element-4\" role=\"treeitem\"><a href=\"/community/irc/\" title=\"\">IRC</a></li>\n",
      "    \n",
      "        <li class=\"tier-2 element-5\" role=\"treeitem\"><a href=\"/community/forums/\" title=\"\">Forums</a></li>\n",
      "    \n",
      "        <li class=\"tier-2 element-6\" role=\"treeitem\"><a href=\"/psf/annual-report/2020/\" title=\"\">PSF Annual Impact Report</a></li>\n",
      "    \n",
      "        <li class=\"tier-2 element-7\" role=\"treeitem\"><a href=\"/community/workshops/\" title=\"\">Python Conferences</a></li>\n",
      "    \n",
      "        <li class=\"tier-2 element-8\" role=\"treeitem\"><a href=\"/community/sigs/\" title=\"\">Special Interest Groups</a></li>\n",
      "    \n",
      "        <li class=\"tier-2 element-9\" role=\"treeitem\"><a href=\"/community/logos/\" title=\"\">Python Logo</a></li>\n",
      "    \n",
      "        <li class=\"tier-2 element-10\" role=\"treeitem\"><a href=\"https://wiki.python.org/moin/\" title=\"\">Python Wiki</a></li>\n",
      "    \n",
      "        <li class=\"tier-2 element-11\" role=\"treeitem\"><a href=\"/community/merchandise/\" title=\"\">Merchandise</a></li>\n",
      "    \n",
      "        <li class=\"tier-2 element-12\" role=\"treeitem\"><a href=\"/community/awards\" title=\"\">Community Awards</a></li>\n",
      "    \n",
      "        <li class=\"tier-2 element-13\" role=\"treeitem\"><a href=\"/psf/conduct/\" title=\"\">Code of Conduct</a></li>\n",
      "    \n",
      "        <li class=\"tier-2 element-14\" role=\"treeitem\"><a href=\"/psf/get-involved/\" title=\"\">Get Involved</a></li>\n",
      "    \n",
      "</ul>\n",
      "\n",
      "        \n",
      "    </li>\n",
      "    \n",
      "    <li class=\"tier-1 element-5\">\n",
      "        <a href=\"/success-stories/\" title=\"success-stories\">Success Stories</a>\n",
      "        \n",
      "            \n",
      "\n",
      "<ul class=\"subnav menu\">\n",
      "    \n",
      "        <li class=\"tier-2 element-1\" role=\"treeitem\"><a href=\"/success-stories/category/arts/\" title=\"\">Arts</a></li>\n",
      "    \n",
      "        <li class=\"tier-2 element-2\" role=\"treeitem\"><a href=\"/success-stories/category/business/\" title=\"\">Business</a></li>\n",
      "    \n",
      "        <li class=\"tier-2 element-3\" role=\"treeitem\"><a href=\"/success-stories/category/education/\" title=\"\">Education</a></li>\n",
      "    \n",
      "        <li class=\"tier-2 element-4\" role=\"treeitem\"><a href=\"/success-stories/category/engineering/\" title=\"\">Engineering</a></li>\n",
      "    \n",
      "        <li class=\"tier-2 element-5\" role=\"treeitem\"><a href=\"/success-stories/category/government/\" title=\"\">Government</a></li>\n",
      "    \n",
      "        <li class=\"tier-2 element-6\" role=\"treeitem\"><a href=\"/success-stories/category/scientific/\" title=\"\">Scientific</a></li>\n",
      "    \n",
      "        <li class=\"tier-2 element-7\" role=\"treeitem\"><a href=\"/success-stories/category/software-development/\" title=\"\">Software Development</a></li>\n",
      "    \n",
      "</ul>\n",
      "\n",
      "        \n",
      "    </li>\n",
      "    \n",
      "    <li class=\"tier-1 element-6\">\n",
      "        <a href=\"/blogs/\" title=\"News from around the Python world\">News</a>\n",
      "        \n",
      "            \n",
      "\n",
      "<ul class=\"subnav menu\">\n",
      "    \n",
      "        <li class=\"tier-2 element-1\" role=\"treeitem\"><a href=\"/blogs/\" title=\"Python Insider Blog Posts\">Python News</a></li>\n",
      "    \n",
      "        <li class=\"tier-2 element-2\" role=\"treeitem\"><a href=\"/psf/newsletter/\" title=\"Python Software Foundation Newsletter\">PSF Newsletter</a></li>\n",
      "    \n",
      "        <li class=\"tier-2 element-3\" role=\"treeitem\"><a href=\"http://planetpython.org/\" title=\"Planet Python\">Community News</a></li>\n",
      "    \n",
      "        <li class=\"tier-2 element-4\" role=\"treeitem\"><a href=\"http://pyfound.blogspot.com/\" title=\"PSF Blog\">PSF News</a></li>\n",
      "    \n",
      "        <li class=\"tier-2 element-5\" role=\"treeitem\"><a href=\"http://pycon.blogspot.com/\" title=\"PyCon Blog\">PyCon News</a></li>\n",
      "    \n",
      "</ul>\n",
      "\n",
      "        \n",
      "    </li>\n",
      "    \n",
      "    <li class=\"tier-1 element-7\">\n",
      "        <a href=\"/events/\" >Events</a>\n",
      "        \n",
      "            \n",
      "\n",
      "<ul class=\"subnav menu\">\n",
      "    \n",
      "        <li class=\"tier-2 element-1\" role=\"treeitem\"><a href=\"/events/python-events\" title=\"\">Python Events</a></li>\n",
      "    \n",
      "        <li class=\"tier-2 element-2\" role=\"treeitem\"><a href=\"/events/python-user-group/\" title=\"\">User Group Events</a></li>\n",
      "    \n",
      "        <li class=\"tier-2 element-3\" role=\"treeitem\"><a href=\"/events/python-events/past/\" title=\"\">Python Events Archive</a></li>\n",
      "    \n",
      "        <li class=\"tier-2 element-4\" role=\"treeitem\"><a href=\"/events/python-user-group/past/\" title=\"\">User Group Events Archive</a></li>\n",
      "    \n",
      "        <li class=\"tier-2 element-5\" role=\"treeitem\"><a href=\"https://wiki.python.org/moin/PythonEventsCalendar#Submitting_an_Event\" title=\"\">Submit an Event</a></li>\n",
      "    \n",
      "</ul>\n",
      "\n",
      "        \n",
      "    </li>\n",
      "    \n",
      "    <li class=\"tier-1 element-8\">\n",
      "        <a href=\"/dev/\" >Contributing</a>\n",
      "        \n",
      "            \n",
      "\n",
      "<ul class=\"subnav menu\">\n",
      "    \n",
      "        <li class=\"tier-2 element-1\" role=\"treeitem\"><a href=\"https://devguide.python.org/\" title=\"\">Developer&#39;s Guide</a></li>\n",
      "    \n",
      "        <li class=\"tier-2 element-2\" role=\"treeitem\"><a href=\"https://bugs.python.org/\" title=\"\">Issue Tracker</a></li>\n",
      "    \n",
      "        <li class=\"tier-2 element-3\" role=\"treeitem\"><a href=\"https://mail.python.org/mailman/listinfo/python-dev\" title=\"\">python-dev list</a></li>\n",
      "    \n",
      "        <li class=\"tier-2 element-4\" role=\"treeitem\"><a href=\"/dev/core-mentorship/\" title=\"\">Core Mentorship</a></li>\n",
      "    \n",
      "        <li class=\"tier-2 element-5\" role=\"treeitem\"><a href=\"/dev/security/\" title=\"\">Report a Security Issue</a></li>\n",
      "    \n",
      "</ul>\n",
      "\n",
      "        \n",
      "    </li>\n",
      "    \n",
      "</ul>\n",
      "\n",
      "\n",
      "                    <a id=\"back-to-top-2\" class=\"jump-link\" href=\"#python-network\"><span aria-hidden=\"true\" class=\"icon-arrow-up\"><span>&#9650;</span></span> Back to Top</a>\n",
      "                    \n",
      "\n",
      "                </div><!-- end .container -->\n",
      "            </div> <!-- end .main-footer-links -->\n",
      "\n",
      "            <div class=\"site-base\">\n",
      "                <div class=\"container\">\n",
      "                    \n",
      "                    <ul class=\"footer-links navigation menu do-not-print\" role=\"tree\">\n",
      "                        <li class=\"tier-1 element-1\"><a href=\"/about/help/\">Help &amp; <span class=\"say-no-more\">General</span> Contact</a></li>\n",
      "                        <li class=\"tier-1 element-2\"><a href=\"/community/diversity/\">Diversity <span class=\"say-no-more\">Initiatives</span></a></li>\n",
      "                        <li class=\"tier-1 element-3\"><a href=\"https://github.com/python/pythondotorg/issues\">Submit Website Bug</a></li>\n",
      "                        <li class=\"tier-1 element-4\">\n",
      "                            <a href=\"https://status.python.org/\">Status <span class=\"python-status-indicator-default\" id=\"python-status-indicator\"></span></a>\n",
      "                        </li>\n",
      "                    </ul>\n",
      "\n",
      "                    <div class=\"copyright\">\n",
      "                        <p><small>\n",
      "                            <span class=\"pre\">Copyright &copy;2001-2021.</span>\n",
      "                            &nbsp;<span class=\"pre\"><a href=\"/psf-landing/\">Python Software Foundation</a></span>\n",
      "                            &nbsp;<span class=\"pre\"><a href=\"/about/legal/\">Legal Statements</a></span>\n",
      "                            &nbsp;<span class=\"pre\"><a href=\"/privacy/\">Privacy Policy</a></span>\n",
      "                            &nbsp;<span class=\"pre\"><a href=\"/psf/sponsorship/sponsors/#heroku\">Powered by Heroku</a></span>\n",
      "                        </small></p>\n",
      "                    </div>\n",
      "\n",
      "                </div><!-- end .container -->\n",
      "            </div><!-- end .site-base -->\n",
      "\n",
      "        </footer>\n",
      "\n",
      "    </div><!-- end #touchnav-wrapper -->\n",
      "\n",
      "    \n",
      "    <script src=\"//ajax.googleapis.com/ajax/libs/jquery/1.8.2/jquery.min.js\"></script>\n",
      "    <script>window.jQuery || document.write('<script src=\"/static/js/libs/jquery-1.8.2.min.js\"><\\/script>')</script>\n",
      "    <script src=\"//ajax.googleapis.com/ajax/libs/jqueryui/1.12.1/jquery-ui.min.js\"></script>\n",
      "    <script>window.jQuery || document.write('<script src=\"/static/js/libs/jquery-ui-1.12.1.min.js\"><\\/script>')</script>\n",
      "\n",
      "    <script src=\"/static/js/libs/masonry.pkgd.min.js\"></script>\n",
      "    <script src=\"/static/js/libs/html-includes.js\"></script>\n",
      "\n",
      "    <script type=\"text/javascript\" src=\"/static/js/main-min.d5f95c9c5614.js\" charset=\"utf-8\"></script>\n",
      "    \n",
      "\n",
      "    <!--[if lte IE 7]>\n",
      "    <script type=\"text/javascript\" src=\"/static/js/plugins/IE8-min.6e7c7146fcf4.js\" charset=\"utf-8\"></script>\n",
      "    \n",
      "    \n",
      "    <![endif]-->\n",
      "\n",
      "    <!--[if lte IE 8]>\n",
      "    <script type=\"text/javascript\" src=\"/static/js/plugins/getComputedStyle-min.c3860be1d290.js\" charset=\"utf-8\"></script>\n",
      "    \n",
      "    \n",
      "    <![endif]-->\n",
      "\n",
      "    \n",
      "\n",
      "    \n",
      "    \n",
      "\n",
      "</body>\n",
      "</html>\n",
      "\n"
     ]
    }
   ],
   "source": [
    "# urlopen()\n",
    "\n",
    "response = request.urlopen(\"https://www.python.org\")\n",
    "print(response.read().decode(\"utf-8\"))\n",
    "\n",
    "# 这样我们就拿到了python官网的源代码"
   ]
  },
  {
   "cell_type": "code",
   "execution_count": 3,
   "metadata": {
    "pycharm": {
     "name": "#%%\n"
    }
   },
   "outputs": [
    {
     "name": "stdout",
     "output_type": "stream",
     "text": [
      "<class 'http.client.HTTPResponse'>\n"
     ]
    }
   ],
   "source": [
    "print(type(response))\n",
    "# 这是一个HTTPResponse类的对象"
   ]
  },
  {
   "cell_type": "code",
   "execution_count": 4,
   "metadata": {
    "pycharm": {
     "name": "#%%\n"
    }
   },
   "outputs": [
    {
     "name": "stdout",
     "output_type": "stream",
     "text": [
      "200\n",
      "OK\n",
      "11\n"
     ]
    }
   ],
   "source": [
    "print(response.status) # 状态码\n",
    "print(response.msg)\n",
    "print(response.version)"
   ]
  },
  {
   "cell_type": "code",
   "execution_count": 5,
   "metadata": {
    "pycharm": {
     "name": "#%%\n"
    }
   },
   "outputs": [
    {
     "name": "stdout",
     "output_type": "stream",
     "text": [
      "[('Connection', 'close'), ('Content-Length', '49377'), ('Server', 'nginx'), ('Content-Type', 'text/html; charset=utf-8'), ('X-Frame-Options', 'DENY'), ('Via', '1.1 vegur, 1.1 varnish, 1.1 varnish'), ('Accept-Ranges', 'bytes'), ('Date', 'Thu, 04 Feb 2021 09:27:59 GMT'), ('Age', '187'), ('X-Served-By', 'cache-bwi5136-BWI, cache-tyo11923-TYO'), ('X-Cache', 'HIT, HIT'), ('X-Cache-Hits', '3, 140'), ('X-Timer', 'S1612430879.400933,VS0,VE0'), ('Vary', 'Cookie'), ('Strict-Transport-Security', 'max-age=63072000; includeSubDomains')]\n"
     ]
    }
   ],
   "source": [
    "print(response.getheaders())\n",
    "# 可以发现我们获得了这些响应头的信息"
   ]
  },
  {
   "cell_type": "code",
   "execution_count": 6,
   "metadata": {
    "pycharm": {
     "name": "#%%\n"
    }
   },
   "outputs": [
    {
     "name": "stdout",
     "output_type": "stream",
     "text": [
      "Thu, 04 Feb 2021 09:27:59 GMT\n",
      "nginx\n"
     ]
    }
   ],
   "source": [
    "print(response.getheader(\"Date\"))\n",
    "print(response.getheader(\"Server\"))"
   ]
  },
  {
   "cell_type": "markdown",
   "metadata": {},
   "source": [
    "* 除了第一个参数传递URL之外，还可以传递比如说data（附加数据）timeout（超时时间）等"
   ]
  },
  {
   "cell_type": "markdown",
   "metadata": {},
   "source": [
    "* data参数"
   ]
  },
  {
   "cell_type": "code",
   "execution_count": null,
   "metadata": {
    "pycharm": {
     "name": "#%%\n",
     "is_executing": true
    }
   },
   "outputs": [],
   "source": [
    "data = bytes(parse.urlencode({\"word\": \"hello\"}), encoding=\"utf8\")\n",
    "response = urllib.request.urlopen(\"http://httpbin.org/post\", data=data)\n",
    "print(response.read().decode(\"utf-8\"))"
   ]
  },
  {
   "cell_type": "markdown",
   "metadata": {},
   "source": [
    "* 发现我们传递的数据出现在了form里面\n",
    "* 这表明我们的是模拟了表单提取的方式，以post方式传递数据"
   ]
  },
  {
   "cell_type": "markdown",
   "metadata": {},
   "source": [
    "* timeout 参数"
   ]
  },
  {
   "cell_type": "code",
   "execution_count": null,
   "metadata": {
    "pycharm": {
     "name": "#%%\n",
     "is_executing": true
    }
   },
   "outputs": [],
   "source": [
    "# response = request.urlopen(\"http://httpbin.org/get\", timeout=0.1)\n",
    "# print(response.read().decode(\"utf-8\"))\n",
    "# 显示超时了，所以失效了"
   ]
  },
  {
   "cell_type": "markdown",
   "metadata": {},
   "source": [
    "> 因此可以设置超时时间，如果一个网页长时间没响应就跳过这个网站的抓取工作"
   ]
  },
  {
   "cell_type": "code",
   "execution_count": null,
   "metadata": {
    "pycharm": {
     "name": "#%%\n",
     "is_executing": true
    }
   },
   "outputs": [],
   "source": [
    "import socket"
   ]
  },
  {
   "cell_type": "code",
   "execution_count": null,
   "metadata": {
    "pycharm": {
     "name": "#%%\n",
     "is_executing": true
    }
   },
   "outputs": [],
   "source": [
    "import urllib.error"
   ]
  },
  {
   "cell_type": "code",
   "execution_count": null,
   "metadata": {
    "pycharm": {
     "name": "#%%\n",
     "is_executing": true
    }
   },
   "outputs": [],
   "source": [
    "try:\n",
    "    response = request.urlopen(\"http://httpbin.org/get\", timeout=0.2)\n",
    "except urllib.error.URLError as e:\n",
    "    if isinstance(e.reason, socket.timeout):\n",
    "        print(\"TIME OUT!\")"
   ]
  },
  {
   "cell_type": "markdown",
   "metadata": {},
   "source": [
    "* 其他参数"
   ]
  },
  {
   "cell_type": "markdown",
   "metadata": {},
   "source": [
    "cafile： CA证书\n",
    "capath： CA证书的路径，在请求HTTPS的时候会有用\n",
    "cadefault已经默认弃用了"
   ]
  },
  {
   "cell_type": "markdown",
   "metadata": {},
   "source": [
    "Request"
   ]
  },
  {
   "cell_type": "code",
   "execution_count": null,
   "metadata": {
    "pycharm": {
     "name": "#%%\n",
     "is_executing": true
    }
   },
   "outputs": [],
   "source": [
    "request = urllib.request.Request(\"http://www.4399.com/flash/216970.htm\")\n",
    "response = urllib.request.urlopen(request)\n",
    "print(response.read().decode(\"gb2312\"))\n",
    "# 在爬取的过程中会有不同的网站采取的编码的格式不一定相同，所以需要自己去看看"
   ]
  },
  {
   "cell_type": "markdown",
   "metadata": {},
   "source": [
    "class urllib. request. Request ( ur 1, data=None, headers={}, origin_req_host=None, unverifiable=False, method=None)"
   ]
  },
  {
   "cell_type": "markdown",
   "metadata": {},
   "source": [
    "第一个参数是URL：用于请求"
   ]
  },
  {
   "cell_type": "markdown",
   "metadata": {},
   "source": [
    "第二个参数是data：表示要传入的数据，必须是bytes（字节流）类型的，如果是字典，则需要先使用urllib.parse模块里面的urlencode（）编码"
   ]
  },
  {
   "cell_type": "markdown",
   "metadata": {},
   "source": [
    "第三个参数是headers是一个字典，也就是请求头，在我们构造的时候，可以通过构造请求头的构造，也可以使用add_header()方法直接添加，最常用的是User-Agent来伪装浏览器，默认的User-Agent是Python-urllib，我们可以同修改它来伪装浏览器，Mozilla/s.o (X11; U; Linux i686) Gecko/20071127 Firefox/2.0.0.11"
   ]
  },
  {
   "cell_type": "markdown",
   "metadata": {},
   "source": [
    "第四个参数是：origin_req_host:指的是请求方的host名称或者是IP地址"
   ]
  },
  {
   "cell_type": "markdown",
   "metadata": {},
   "source": [
    "第五个参数是：unverifiable：表示这个请求是否无法验证，默认是False，意思是用户没有足够的权限来选择接受这个请求的结果，例如，我们请求一个HTML文档中的图片，但我们没有自动抓取图片的权限，这时候unverifiable的值就是True"
   ]
  },
  {
   "cell_type": "markdown",
   "metadata": {},
   "source": [
    "第六个参数是：method是一个字符串，指出请求的方法"
   ]
  },
  {
   "cell_type": "code",
   "execution_count": null,
   "metadata": {
    "pycharm": {
     "name": "#%%\n",
     "is_executing": true
    }
   },
   "outputs": [],
   "source": [
    "url = \"http://httpbin.org/post\"\n",
    "dic = {\n",
    "    \"name\": \"Germey\"\n",
    "}\n",
    "headers = {\n",
    "    \"User-Agent\": \"Mozilla/5.0 (Windows NT 10.0; Win64; x64) AppleWebKit/537.36 (KHTML, like Gecko) Chrome/87.0.4280.141 Safari/537.36 Edg/87.0.664.75\",\n",
    "    \"Host\": \"httpbin.org\"\n",
    "}\n",
    "data = bytes(parse.urlencode(dic), encoding=\"utf8\")# 传入的一定是二进制流，bytes可以使用二进制编码\n",
    "req = urllib.request.Request(url=url, data=data, headers=headers, method=\"POST\")\n",
    "response = urllib.request.urlopen(req)\n",
    "print(response.read().decode(\"utf-8\"))"
   ]
  },
  {
   "cell_type": "markdown",
   "metadata": {},
   "source": [
    "当然我们也可以使用add_header方法来添加，这个是Request类的方法"
   ]
  },
  {
   "cell_type": "markdown",
   "metadata": {},
   "source": [
    "高阶方法"
   ]
  },
  {
   "cell_type": "markdown",
   "metadata": {},
   "source": [
    "* 在上述的论述中，虽然我们可以构造请求，但是对于一些高级的操作，（比如Cookie代理，代理设置等）"
   ]
  },
  {
   "cell_type": "markdown",
   "metadata": {},
   "source": [
    "* 现在就需要一个更加强大的工具Handler登场，简而言之，我们可以理解为各种处理器，有专门处理登录验证的，有处理Cookie的，还有处理代理设置的，利用它们，我们几乎可以做到http请求中的所有事情"
   ]
  },
  {
   "cell_type": "markdown",
   "metadata": {},
   "source": [
    "最基础的就是urllib.request模块里面的BaseHandler类，简单来说它是所有类的父类，它提供了最基本的方法，例如default_open(), protocol_request()等"
   ]
  },
  {
   "cell_type": "markdown",
   "metadata": {},
   "source": [
    "* HTTPDefaultErrorHandler: 同于处理HTTP响应错误，错误时候会抛出HTTPError类型的异常\n",
    "* HTTPRedirectHandler: 用于处理重定向\n",
    "* HTTPCookieProcessor: 用于处理Cookie\n",
    "* ProxyHandler: 用于处理代理，默认代理为空\n",
    "* HTTPPasswordMgr： 用于管理密码，它维护了用户名与密码的表\n",
    "* HTTPBasicAuthHandler： 用于管理认证，如果一个链接打开的时候需要认证，那么可以用它来解决认证问题"
   ]
  },
  {
   "cell_type": "markdown",
   "metadata": {},
   "source": [
    "另外的"
   ]
  },
  {
   "cell_type": "markdown",
   "metadata": {},
   "source": [
    "还有一个重要的类是OpenerDirector，我们可以称为Opener，urllib的urlopen就是一个opener类，用urlopen确实可以满足一些需求，但是却也不够，我们需要进一步深入的配置，使用更加底层的实例去完成操作，我们就需要使用Handler去构建Opener"
   ]
  },
  {
   "cell_type": "code",
   "execution_count": null,
   "metadata": {
    "pycharm": {
     "name": "#%%\n",
     "is_executing": true
    }
   },
   "outputs": [],
   "source": [
    "from urllib.request import HTTPPasswordMgrWithDefaultRealm, HTTPBasicAuthHandler, build_opener\n",
    "from urllib.error import URLError\n",
    "\n",
    "username = \"username\"\n",
    "password = \"password\"\n",
    "url = \"http://localhost:5000/\"\n",
    "\n",
    "p = HTTPPasswordMgrWithDefaultRealm()\n",
    "p.add_password(None, url, username, password) # 使用add_password 就添加了一个待处理验证的Handler\n",
    "auth_handler = HTTPBasicAuthHandler(p) # 传入构建好的\n",
    "opener = build_opener(auth_handler) # 构建一个opener\n",
    "\n",
    "try:\n",
    "    result = opener.open(url)  # 使用open函数打开指定的url\n",
    "    html = result.read().decode(\"utf-8\")\n",
    "    print(html)\n",
    "except URLError as e:\n",
    "    print(e.reason)"
   ]
  },
  {
   "cell_type": "markdown",
   "metadata": {},
   "source": [
    "使用代理"
   ]
  },
  {
   "cell_type": "code",
   "execution_count": null,
   "metadata": {
    "pycharm": {
     "name": "#%%\n",
     "is_executing": true
    }
   },
   "outputs": [],
   "source": [
    "from urllib.error import URLError\n",
    "from urllib.request import ProxyHandler, build_opener\n",
    "\n",
    "proxy_handler = ProxyHandler({\n",
    "    \"http\": \"http://127.0.0.1:9743\",\n",
    "    \"https\": \"https://127.0.0.1:9743\"\n",
    "}) # 设置本地为代理服务器，我代理我自己\n",
    "opener = build_opener(proxy_handler)\n",
    "\n",
    "try:\n",
    "    response = opener.open(\"https://www.baidu/com\")\n",
    "    print(response.read().decode(\"utf-8\"))\n",
    "except URLError as e:\n",
    "    print(e.reason)\n",
    "\n",
    "# 至于如何搭建本地的代理，我不太清楚"
   ]
  },
  {
   "cell_type": "markdown",
   "metadata": {},
   "source": [
    "Cookie"
   ]
  },
  {
   "cell_type": "code",
   "execution_count": null,
   "metadata": {
    "pycharm": {
     "name": "#%%\n",
     "is_executing": true
    }
   },
   "outputs": [],
   "source": [
    "import http.cookiejar, urllib.request\n",
    "\n",
    "cookie = http.cookiejar.CookieJar()\n",
    "handler = urllib.request.HTTPCookieProcessor(cookie)\n",
    "opener = urllib.request.build_opener(handler)\n",
    "\n",
    "response = opener.open(\"https://www.baidu.com\")\n",
    "for item in cookie:\n",
    "    print(item.name + \"=\" + item.value)\n",
    "\n",
    "# 观察到输出了cookie 的值"
   ]
  },
  {
   "cell_type": "code",
   "execution_count": null,
   "metadata": {
    "pycharm": {
     "name": "#%%\n",
     "is_executing": true
    }
   },
   "outputs": [],
   "source": [
    "# B站的Cookie\n",
    "import http.cookiejar\n",
    "\n",
    "cookie = http.cookiejar.CookieJar()\n",
    "handler = urllib.request.HTTPCookieProcessor(cookie)\n",
    "opener = urllib.request.build_opener(handler)\n",
    "\n",
    "response = opener.open(\"https://www.bilibili.com\")\n",
    "print(response.status)\n",
    "for item in cookie:\n",
    "    print(item.name + \"=\" + item.value)"
   ]
  },
  {
   "cell_type": "markdown",
   "metadata": {},
   "source": [
    "Cookie的文件保存与利用"
   ]
  },
  {
   "cell_type": "code",
   "execution_count": null,
   "metadata": {
    "pycharm": {
     "name": "#%%\n",
     "is_executing": true
    }
   },
   "outputs": [],
   "source": [
    "# 使用MozillaCookieJar\n",
    "filename = \"cookie.txt\"\n",
    "cookie = http.cookiejar.MozillaCookieJar(filename)\n",
    "handler = urllib.request.HTTPCookieProcessor(cookie)\n",
    "opener = urllib.request.build_opener(handler)\n",
    "response = opener.open(\"https://www.baidu.com\")\n",
    "cookie.save(ignore_discard=True, ignore_expires=True)\n",
    "# 这样就把cookie信息存储起来了"
   ]
  },
  {
   "cell_type": "code",
   "execution_count": null,
   "metadata": {
    "pycharm": {
     "name": "#%%\n",
     "is_executing": true
    }
   },
   "outputs": [],
   "source": [
    "# 使用LWP格式\n",
    "filename = \"cookie1.txt\"\n",
    "cookie = http.cookiejar.LWPCookieJar(filename)\n",
    "handler = urllib.request.HTTPCookieProcessor(cookie)\n",
    "opener = urllib.request.build_opener(handler)\n",
    "response = opener.open(\"https://www.baidu.com\")\n",
    "cookie.save(ignore_discard=True, ignore_expires=True)"
   ]
  },
  {
   "cell_type": "code",
   "execution_count": null,
   "metadata": {
    "pycharm": {
     "name": "#%%\n",
     "is_executing": true
    }
   },
   "outputs": [],
   "source": [
    "filename = \"bilibiliCookie.txt\"\n",
    "cookie = http.cookiejar.LWPCookieJar(filename)\n",
    "handler = urllib.request.HTTPCookieProcessor(cookie)\n",
    "opener = urllib.request.build_opener(handler)\n",
    "\n",
    "response = opener.open(\"https://www.bilibili.com\")\n",
    "cookie.save()"
   ]
  },
  {
   "cell_type": "markdown",
   "metadata": {},
   "source": [
    "* cookie的导入"
   ]
  },
  {
   "cell_type": "code",
   "execution_count": null,
   "metadata": {
    "pycharm": {
     "name": "#%%\n",
     "is_executing": true
    }
   },
   "outputs": [],
   "source": [
    "cookie = http.cookiejar.LWPCookieJar()\n",
    "cookie.load(\"bilibiliCookie.txt\", ignore_discard=True, ignore_expires=True)\n",
    "handler = urllib.request.HTTPCookieProcessor(cookie)\n",
    "opener= urllib.request.build_opener(handler)\n",
    "response = opener.open(\"https://www.bilibili.com\")\n",
    "print(response.read().decode(\"utf-8\"))"
   ]
  },
  {
   "cell_type": "markdown",
   "metadata": {},
   "source": [
    "## 处理异常"
   ]
  },
  {
   "cell_type": "markdown",
   "metadata": {},
   "source": [
    "1. URLError"
   ]
  },
  {
   "cell_type": "code",
   "execution_count": null,
   "metadata": {
    "pycharm": {
     "name": "#%%\n",
     "is_executing": true
    }
   },
   "outputs": [],
   "source": [
    "from urllib import error, request\n",
    "\n",
    "try:\n",
    "    response = request.urlopen(\"http://huangxingjie.com/index.html\")\n",
    "except error.URLError as e:\n",
    "    print(e.reason)\n",
    "# 由request产生的error都可以由这个URLError捕获\n",
    "# 这个URLError的父类是OSError，是error中的基类"
   ]
  },
  {
   "cell_type": "markdown",
   "metadata": {},
   "source": [
    "2.HTTPError\n",
    "* 它是URLError的子类，专门处理HTTP的请求错误，比如说认证失败\n",
    "* code： 返回状态码\n",
    "* reason： 同父类一样，用于返回原因\n",
    "* headers： 返回请求头"
   ]
  },
  {
   "cell_type": "code",
   "execution_count": null,
   "metadata": {
    "pycharm": {
     "name": "#%%\n",
     "is_executing": true
    }
   },
   "outputs": [],
   "source": [
    "try:\n",
    "    response = request.urlopen(\"https://www.bilibili.com\")\n",
    "    print(response.read().decode(\"utf-8\"))\n",
    "except error.HTTPError as e:\n",
    "    print(e.headers, e.reason, e.code)\n",
    "except error.URLError as e:\n",
    "    print(e.reason)\n",
    "else:\n",
    "    print(\"Request Successfully\")\n",
    "\n",
    "# 这样就会先捕获HTTP错误，然后再检查URL错误\n",
    "# 有时候不一定返回来的是一个字符串，也有可能是一个对象"
   ]
  },
  {
   "cell_type": "markdown",
   "metadata": {},
   "source": [
    "## 解析链接\n",
    "前面说过， urllib 库里还提供了 parse 模块，它定义了处理 URL 的标准接口，例如实现 URL 各部\n",
    "分的抽取、合并以及链接转换 它支持如下协议的 URL 处理：日le 、企 gopher hdl 即、 https imap\n",
    "mail to mms news nntp prospero rsync rtsp rts pu sftp sip sips snews svn svn+ssh telnet\n",
    "wais 本节中，我们介绍一下该模块中常用的方法来看一下它的便捷之处"
   ]
  },
  {
   "cell_type": "markdown",
   "metadata": {},
   "source": [
    "1. urlparse\n",
    "该方法可以实现URL的识别与分段"
   ]
  },
  {
   "cell_type": "code",
   "execution_count": null,
   "metadata": {
    "pycharm": {
     "name": "#%%\n",
     "is_executing": true
    }
   },
   "outputs": [],
   "source": [
    "from urllib.parse import urlparse\n",
    "\n",
    "result = urlparse(\"https://www.baidu.com/index.html;user?id=#comment\")\n",
    "print(type(result))\n",
    "print(result)"
   ]
  },
  {
   "cell_type": "markdown",
   "metadata": {},
   "source": [
    "* scheme 代表的是协议\n",
    "* netloc 域名\n",
    "* path 访问路径\n",
    "* params 代表参数\n",
    "* query 代表问号查询条件\n",
    "* 井号#后面是锚点，直接定位页面内部的下拉位置\n",
    "scheme://netloc/path ;params?query#fragment‘"
   ]
  },
  {
   "cell_type": "code",
   "execution_count": null,
   "metadata": {
    "pycharm": {
     "name": "#%%\n",
     "is_executing": true
    }
   },
   "outputs": [],
   "source": [
    "from urllib.parse import urlparse\n",
    "result = urlparse ('http://www.baidu.com/index. html#comment ', allow_fragments=False)\n",
    "print(result. scheme, result[0], result. netloc , result[1], sep=\"\\n\")\n",
    "# 可以直接使用添加方法参数，去解析不全的URL\n",
    "# ：即是否忽略 fragment 如果它被设置为 False ，干ragment 部分就会被忽略，\n",
    "# 它会被解析为 path parameters 或者 query 的一部分，而 fragment 部分为空"
   ]
  },
  {
   "cell_type": "markdown",
   "metadata": {
    "pycharm": {
     "name": "#%% md\n"
    }
   },
   "source": [
    "2. urlunparse()\n",
    "可选的参数一定是6个"
   ]
  },
  {
   "cell_type": "code",
   "execution_count": null,
   "metadata": {
    "pycharm": {
     "name": "#%%\n",
     "is_executing": true
    }
   },
   "outputs": [],
   "source": [
    "from urllib.parse import urlunparse\n",
    "\n",
    "data = [\"http\", \"www.bilibili.com\", \"index.html\", \"user\", \"a=6\", \"comment\"]\n",
    "print(urlunparse(data))"
   ]
  },
  {
   "cell_type": "markdown",
   "metadata": {
    "pycharm": {
     "name": "#%% md\n"
    }
   },
   "source": [
    "3. urlsplit\n",
    "与urlparse十分像，只不过不特地解析params一项"
   ]
  },
  {
   "cell_type": "markdown",
   "metadata": {
    "pycharm": {
     "name": "#%% md\n"
    }
   },
   "source": [
    "4. urlunsplit\n",
    "与urlunparse非常像但是传入的参数只需要是5个就好了"
   ]
  },
  {
   "cell_type": "markdown",
   "metadata": {
    "pycharm": {
     "name": "#%% md\n"
    }
   },
   "source": [
    "5. urljoin"
   ]
  },
  {
   "cell_type": "code",
   "execution_count": null,
   "metadata": {
    "pycharm": {
     "name": "#%%\n",
     "is_executing": true
    }
   },
   "outputs": [],
   "source": [
    "from urllib.parse import urljoin\n",
    "\n",
    "print(urljoin(\"http://www.baidu.com\", \"FAQ.html\"))\n",
    "print(urljoin(\"http://www.baidu.com\", \"https://www.bilibili.com/FAQ.html\"))\n",
    "print(urljoin(\"http://www.baidu.com/about.html\", \"FAQ.html\"))\n",
    "print(urljoin(\"http://www.baidu.com?wd=abc\", \"FAQ.html\"))\n",
    "print(urljoin(\"www.baidu.com\", \"?category=2#comment\"))\n"
   ]
  },
  {
   "cell_type": "markdown",
   "metadata": {
    "pycharm": {
     "name": "#%% md\n"
    }
   },
   "source": [
    "base_url 提供了三项内容scheme， netloc， path，如果说这三项在链接里面都不存在的话就予以补充\n",
    "base_url 里面的后三项是不起作用的"
   ]
  },
  {
   "cell_type": "markdown",
   "metadata": {
    "pycharm": {
     "name": "#%% md\n"
    }
   },
   "source": [
    "6. urlencode()\n"
   ]
  },
  {
   "cell_type": "code",
   "execution_count": null,
   "metadata": {
    "pycharm": {
     "name": "#%%\n",
     "is_executing": true
    }
   },
   "outputs": [],
   "source": [
    "from urllib.parse import urlencode\n",
    "\n",
    "params = {\n",
    "    \"name\": \"germey\",\n",
    "    \"age\": 22\n",
    "}\n",
    "\n",
    "base_url = \"http://www.baidu.com?\"\n",
    "url = base_url + urlencode(params)\n",
    "print(url)\n",
    "# 这样就把params转化成为了url的参数去输出"
   ]
  },
  {
   "cell_type": "markdown",
   "metadata": {
    "pycharm": {
     "name": "#%% md\n"
    }
   },
   "source": [
    "7. parse_qs()\n",
    "反序列化"
   ]
  },
  {
   "cell_type": "code",
   "execution_count": null,
   "metadata": {
    "pycharm": {
     "name": "#%%\n",
     "is_executing": true
    }
   },
   "outputs": [],
   "source": [
    "from urllib.parse import parse_qs\n",
    "\n",
    "query = \"name=germey&age=22\"\n",
    "print(parse_qs(query))"
   ]
  },
  {
   "cell_type": "code",
   "execution_count": null,
   "metadata": {
    "pycharm": {
     "name": "#%%\n",
     "is_executing": true
    }
   },
   "outputs": [],
   "source": [
    "from urllib.parse import parse_qsl\n",
    "\n",
    "query = \"name=germey&age=22\"\n",
    "print(parse_qsl(query))\n",
    "# 转化为元组类型"
   ]
  },
  {
   "cell_type": "markdown",
   "metadata": {
    "pycharm": {
     "name": "#%% md\n"
    }
   },
   "source": [
    "9. quote()\n",
    "汉字的url编码"
   ]
  },
  {
   "cell_type": "code",
   "execution_count": null,
   "metadata": {
    "pycharm": {
     "name": "#%%\n",
     "is_executing": true
    }
   },
   "outputs": [],
   "source": [
    "from urllib.parse import quote\n",
    "\n",
    "keyword = \"壁画\"\n",
    "url = \"https://cn.bing.com/search?q=\" + quote(keyword)\n",
    "print(url)"
   ]
  },
  {
   "cell_type": "markdown",
   "metadata": {
    "pycharm": {
     "name": "#%% md\n"
    }
   },
   "source": [
    "10. unquote\n",
    "汉字的解编码"
   ]
  },
  {
   "cell_type": "code",
   "execution_count": null,
   "metadata": {
    "pycharm": {
     "name": "#%%\n",
     "is_executing": true
    }
   },
   "outputs": [],
   "source": [
    "from urllib.parse import unquote\n",
    "url = \"https://cn.bing.com/search?q=%E5%A3%81%E7%94%BB\"\n",
    "\n",
    "print(unquote(url))"
   ]
  },
  {
   "cell_type": "markdown",
   "metadata": {
    "pycharm": {
     "name": "#%% md\n"
    }
   },
   "source": [
    "* 分析Robots协议"
   ]
  },
  {
   "cell_type": "code",
   "execution_count": null,
   "metadata": {
    "pycharm": {
     "name": "#%%\n",
     "is_executing": true
    }
   },
   "outputs": [],
   "source": [
    "from urllib.robotparser import RobotFileParser\n",
    "\n",
    "import socket\n",
    "print(\"Yes\")\n",
    "# Robot打印函数\n",
    "def printrobot(url):\n",
    "    true_url = urllib.parse.urljoin(url, \"robots.txt\")\n",
    "    print(true_url)\n",
    "    rob.set_url(true_url)\n",
    "    try:\n",
    "        req = urllib.request.urlopen(true_url, timeout=0.5)\n",
    "        print(\"Robot:\\n {}\".format(req.read().decode(\"utf-8\")))\n",
    "    except urllib.error.HTTPError as e:\n",
    "        print(e.reason)\n",
    "    except URLError as e:\n",
    "        if isinstance(e.reason, socket.timeout):\n",
    "            print(\"Time Out!\")\n",
    "        else:\n",
    "            print(\"没这个网站!\")"
   ]
  },
  {
   "cell_type": "code",
   "execution_count": null,
   "metadata": {
    "pycharm": {
     "name": "#%%\n",
     "is_executing": true
    }
   },
   "outputs": [],
   "source": [
    "from urllib.robotparser import RobotFileParser\n",
    "\n",
    "rob = RobotFileParser()\n",
    "rob.set_url(\"https://www.bilibili.com/robots.txt\")\n",
    "\n",
    "printrobot(\"http://www.bilibili.com\")\n"
   ]
  },
  {
   "cell_type": "code",
   "execution_count": null,
   "metadata": {
    "pycharm": {
     "is_executing": true
    }
   },
   "outputs": [],
   "source": []
  }
 ],
 "metadata": {
  "kernelspec": {
   "display_name": "Python 3",
   "language": "python",
   "name": "python3"
  },
  "language_info": {
   "codemirror_mode": {
    "name": "ipython",
    "version": 3
   },
   "file_extension": ".py",
   "mimetype": "text/x-python",
   "name": "python",
   "nbconvert_exporter": "python",
   "pygments_lexer": "ipython3",
   "version": "3.8.5"
  }
 },
 "nbformat": 4,
 "nbformat_minor": 1
}