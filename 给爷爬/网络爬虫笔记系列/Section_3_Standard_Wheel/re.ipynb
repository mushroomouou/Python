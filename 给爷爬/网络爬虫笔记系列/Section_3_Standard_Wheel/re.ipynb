{
 "cells": [
  {
   "cell_type": "markdown",
   "metadata": {
    "collapsed": true,
    "pycharm": {
     "name": "#%% md\n"
    }
   },
   "source": [
    "# 正则表达式"
   ]
  },
  {
   "cell_type": "markdown",
   "source": [
    "![image.png](https://i.loli.net/2021/01/26/4cGDYKwpiREMHoj.png)"
   ],
   "metadata": {
    "collapsed": false,
    "pycharm": {
     "name": "#%% md\n"
    }
   }
  },
  {
   "cell_type": "code",
   "execution_count": 2,
   "outputs": [],
   "source": [
    "# 用于文本处理的sub"
   ],
   "metadata": {
    "collapsed": false,
    "pycharm": {
     "name": "#%%\n"
    }
   }
  },
  {
   "cell_type": "code",
   "execution_count": 4,
   "outputs": [],
   "source": [
    "import re"
   ],
   "metadata": {
    "collapsed": false,
    "pycharm": {
     "name": "#%%\n"
    }
   }
  },
  {
   "cell_type": "code",
   "execution_count": 35,
   "outputs": [
    {
     "name": "stdout",
     "output_type": "stream",
     "text": [
      "('13 years old!</p>',)\n",
      "<p>I am 13 years old!</p>\n"
     ]
    }
   ],
   "source": [
    "text = \"\"\"\n",
    "<p>你好啊 我今年18岁</p>\n",
    "\"\"\"\n",
    "text2 = \"<p>I am 13 years old!</p>\"\n",
    "r = re.match(r\"<p>.*?(\\d+.*</p>)\", text2, re.S)\n",
    "print(r.groups(1))\n",
    "re.sub(r\"(<p>.*?\\d+.*</p>)\", \"十三\", text2)\n",
    "print(text2)"
   ],
   "metadata": {
    "collapsed": false,
    "pycharm": {
     "name": "#%%\n"
    }
   }
  },
  {
   "cell_type": "code",
   "execution_count": null,
   "outputs": [],
   "source": [],
   "metadata": {
    "collapsed": false,
    "pycharm": {
     "name": "#%%\n"
    }
   }
  }
 ],
 "metadata": {
  "kernelspec": {
   "display_name": "Python 3",
   "language": "python",
   "name": "python3"
  },
  "language_info": {
   "codemirror_mode": {
    "name": "ipython",
    "version": 2
   },
   "file_extension": ".py",
   "mimetype": "text/x-python",
   "name": "python",
   "nbconvert_exporter": "python",
   "pygments_lexer": "ipython2",
   "version": "2.7.6"
  }
 },
 "nbformat": 4,
 "nbformat_minor": 0
}