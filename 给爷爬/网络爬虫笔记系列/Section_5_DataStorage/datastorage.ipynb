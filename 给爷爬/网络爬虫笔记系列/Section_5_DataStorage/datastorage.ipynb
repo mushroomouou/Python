{
 "cells": [
  {
   "cell_type": "markdown",
   "metadata": {
    "collapsed": true,
    "pycharm": {
     "name": "#%% md\n"
    }
   },
   "source": [
    "# 数据存储"
   ]
  },
  {
   "cell_type": "markdown",
   "source": [
    "## 文件存储"
   ],
   "metadata": {
    "collapsed": false,
    "pycharm": {
     "name": "#%% md\n"
    }
   }
  },
  {
   "cell_type": "markdown",
   "source": [
    "### TXT文本存储"
   ],
   "metadata": {
    "collapsed": false,
    "pycharm": {
     "name": "#%% md\n"
    }
   }
  },
  {
   "cell_type": "code",
   "execution_count": 1,
   "outputs": [
    {
     "name": "stdout",
     "output_type": "stream",
     "text": [
      "写入完成\n"
     ]
    }
   ],
   "source": [
    "import requests\n",
    "from pyquery import PyQuery as pq\n",
    "headers = {\n",
    "    \"user-agent\": \"Mozilla/5.0 (Windows NT 10.0; Win64; x64) AppleWebKit/537.36 (KHTML, like Gecko) Chrome/88.0.4324.96 Safari/537.36 Edg/88.0.705.50\",\n",
    "    \"http\": \"http://119.28.155.202:9999\",\n",
    "    \"https\": \"https://58.253.159.136:9999\"\n",
    "}\n",
    "url = \"https://www.zhihu.com/explore\"\n",
    "html = requests.get(url, headers=headers).text\n",
    "doc = pq(html)\n",
    "items = doc('div .ExploreCollectionCard-contentItem').items()\n",
    "for i in items:\n",
    "    title = i.find('.ExploreCollectionCard-contentTitle').text()\n",
    "    content = pq(i.find('a').attr.href, headers=headers).find('div .RichContent-inner').text()\n",
    "    name = i.find('.ExploreCollectionCard-contentExcerpt').text().split('：')[0]\n",
    "    f = open('D://Python/给爷爬/网络爬虫笔记系列/Section_5_DataStorage/explore.txt', 'a', encoding='utf-8')\n",
    "    f.write(\"=\" * 100 + \"\\n\")\n",
    "    f.write(\"\\n\".join([title, name, content]))\n",
    "    f.close()\n",
    "print(\"写入完成\")"
   ],
   "metadata": {
    "collapsed": false,
    "pycharm": {
     "name": "#%%\n"
    }
   }
  },
  {
   "cell_type": "markdown",
   "source": [
    "* 写入方式\n",
    "    * a： 写入的追加模式， 追加模式，对已存在的文件，指针会放在文件的结尾处。\n",
    "    * r： 只读的方式\n",
    "    * w： 写入模式， 会覆盖\n",
    "    * 加上b，表示二进制书写\n",
    "    * 加上+， 表示读写"
   ],
   "metadata": {
    "collapsed": false,
    "pycharm": {
     "name": "#%% md\n"
    }
   }
  },
  {
   "cell_type": "markdown",
   "source": [
    "### Json格式"
   ],
   "metadata": {
    "collapsed": false,
    "pycharm": {
     "name": "#%% md\n"
    }
   }
  },
  {
   "cell_type": "code",
   "execution_count": 2,
   "outputs": [
    {
     "name": "stdout",
     "output_type": "stream",
     "text": [
      "写入完成\n"
     ]
    }
   ],
   "source": [
    "import json\n",
    "import os\n",
    "data = [{\n",
    "    \"name\": \"李斯茂\",\n",
    "    \"age\": 18,\n",
    "    \"学校\": \"湖北中医药大学\"\n",
    "}]\n",
    "os.chdir(\"D://Python/给爷爬/网络爬虫笔记系列/Section_5_DataStorage\")\n",
    "with open(\"TEST.json\", 'w', encoding='utf-8') as f:\n",
    "    f.write(json.dumps(data, indent=2, ensure_ascii=False))\n",
    "print(\"写入完成\")"
   ],
   "metadata": {
    "collapsed": false,
    "pycharm": {
     "name": "#%%\n"
    }
   }
  },
  {
   "cell_type": "code",
   "execution_count": 3,
   "outputs": [
    {
     "name": "stdout",
     "output_type": "stream",
     "text": [
      "[{'name': '李斯茂', 'age': 18, '学校': '湖北中医药大学'}]\n"
     ]
    }
   ],
   "source": [
    "f = open(\"TEST.json\")\n",
    "text = f.read()\n",
    "string = json.loads(text)\n",
    "print(string)"
   ],
   "metadata": {
    "collapsed": false,
    "pycharm": {
     "name": "#%%\n"
    }
   }
  },
  {
   "cell_type": "markdown",
   "source": [
    "* indent 表示缩进\n",
    "* ensure_ascii 表示是否为ascii模式\n",
    "* dumps 转化为字符串，然后写入文件"
   ],
   "metadata": {
    "collapsed": false,
    "pycharm": {
     "name": "#%% md\n"
    }
   }
  },
  {
   "cell_type": "markdown",
   "source": [
    "### CSV格式"
   ],
   "metadata": {
    "collapsed": false,
    "pycharm": {
     "name": "#%% md\n"
    }
   }
  },
  {
   "cell_type": "code",
   "execution_count": 4,
   "outputs": [
    {
     "name": "stdout",
     "output_type": "stream",
     "text": [
      "写入完成\n"
     ]
    }
   ],
   "source": [
    "import csv\n",
    "\n",
    "with open(\"test1.csv\", 'w') as csvfile:\n",
    "    writer = csv.writer(csvfile)\n",
    "    writer.writerow(['id','name','age'])\n",
    "    writer.writerow(['01','Pual', 15])\n",
    "    writer.writerow(['02','Tom',18])\n",
    "    writer.writerow(['03','Merry',17])\n",
    "print(\"写入完成\")"
   ],
   "metadata": {
    "collapsed": false,
    "pycharm": {
     "name": "#%%\n"
    }
   }
  },
  {
   "cell_type": "code",
   "execution_count": 5,
   "outputs": [
    {
     "name": "stdout",
     "output_type": "stream",
     "text": [
      "写入完成\n"
     ]
    }
   ],
   "source": [
    "with open(\"test2.csv\", 'w') as csvfile:\n",
    "    writer = csv.writer(csvfile, delimiter=\" \")\n",
    "    writer.writerow(['id','name','age'])\n",
    "    writer.writerow(['01','Pual', 15])\n",
    "    writer.writerow(['02','Tom',18])\n",
    "    writer.writerow(['03','Merry',17])\n",
    "print(\"写入完成\")\n"
   ],
   "metadata": {
    "collapsed": false,
    "pycharm": {
     "name": "#%%\n"
    }
   }
  },
  {
   "cell_type": "markdown",
   "source": [
    "* 更改间隔符号"
   ],
   "metadata": {
    "collapsed": false,
    "pycharm": {
     "name": "#%% md\n"
    }
   }
  },
  {
   "cell_type": "markdown",
   "source": [
    "### 字典类型写入"
   ],
   "metadata": {
    "collapsed": false,
    "pycharm": {
     "name": "#%% md\n"
    }
   }
  },
  {
   "cell_type": "code",
   "execution_count": 6,
   "outputs": [
    {
     "name": "stdout",
     "output_type": "stream",
     "text": [
      "写入完成\n"
     ]
    }
   ],
   "source": [
    "import csv\n",
    "\n",
    "fieldnames = ['id', 'name', 'age']\n",
    "with open('data.csv', 'w', newline='') as f:\n",
    "    writer = csv.DictWriter(f, fieldnames=fieldnames)\n",
    "    writer.writeheader()\n",
    "    writer.writerow({'id': 10080, 'name': \"李斯茂\", 'age': 18})\n",
    "    writer.writerow({'id': 10081, 'name': \"黄星杰\", 'age': 18})\n",
    "    writer.writerow({'id': 10082, 'name': \"欧拉\", 'age': 15})\n",
    "    writer.writerow({'id': 10083, 'name': \"张心雨\", 'age': 18})\n",
    "print(\"写入完成\")"
   ],
   "metadata": {
    "collapsed": false,
    "pycharm": {
     "name": "#%%\n"
    }
   }
  },
  {
   "cell_type": "code",
   "execution_count": 7,
   "outputs": [
    {
     "name": "stdout",
     "output_type": "stream",
     "text": [
      "['id', 'name', 'age']\n",
      "['10080', '李斯茂', '18']\n",
      "['10081', '黄星杰', '18']\n",
      "['10082', '欧拉', '15']\n",
      "['10083', '张心雨', '18']\n"
     ]
    }
   ],
   "source": [
    "with open('data.csv', 'r', encoding='utf-8') as f:\n",
    "    reader = csv.reader(f)\n",
    "    for row in reader:\n",
    "        print(row)"
   ],
   "metadata": {
    "collapsed": false,
    "pycharm": {
     "name": "#%%\n"
    }
   }
  },
  {
   "cell_type": "markdown",
   "source": [
    "* 使用reader直接读取文件，打印出来\n",
    "* 使用newline=''表示不空行"
   ],
   "metadata": {
    "collapsed": false,
    "pycharm": {
     "name": "#%% md\n"
    }
   }
  },
  {
   "cell_type": "code",
   "execution_count": 8,
   "outputs": [
    {
     "name": "stdout",
     "output_type": "stream",
     "text": [
      "      id name  age\n",
      "0  10080  李斯茂   18\n",
      "1  10081  黄星杰   18\n",
      "2  10082   欧拉   15\n",
      "3  10083  张心雨   18\n"
     ]
    }
   ],
   "source": [
    "import pandas as pd\n",
    "print(pd.read_csv('data.csv'))"
   ],
   "metadata": {
    "collapsed": false,
    "pycharm": {
     "name": "#%%\n"
    }
   }
  },
  {
   "cell_type": "markdown",
   "source": [
    "## 关系型数据的存储"
   ],
   "metadata": {
    "collapsed": false,
    "pycharm": {
     "name": "#%% md\n"
    }
   }
  },
  {
   "cell_type": "markdown",
   "source": [
    "### mysql存储"
   ],
   "metadata": {
    "collapsed": false,
    "pycharm": {
     "name": "#%% md\n"
    }
   }
  },
  {
   "cell_type": "code",
   "execution_count": 9,
   "outputs": [],
   "source": [
    "import pymysql\n",
    "\n",
    "# db = pymysql.connect('localhost', 'mushroom', 'hxj20020323')\n",
    "# cursor = db.cursor()\n",
    "# cursor.execute('SELECT VERSION()')\n",
    "# data = cursor.fetchone()\n",
    "# print(\"Version: {}\".format(data))\n",
    "# cursor.execute('CREATE DATABASE spider DEFAULT CHARACTER SET utf8')\n",
    "# db.close()\n",
    "# print(\"完成\")"
   ],
   "metadata": {
    "collapsed": false,
    "pycharm": {
     "name": "#%%\n"
    }
   }
  },
  {
   "cell_type": "code",
   "execution_count": 10,
   "outputs": [
    {
     "name": "stdout",
     "output_type": "stream",
     "text": [
      "完成\n"
     ]
    }
   ],
   "source": [
    "# 建表\n",
    "sql = '''\n",
    "CREATE TABLE IF NOT EXISTS students (id Varchar(255) NOT NULL, name Varchar(255) NOT NULL, age INT NOT NULL, PRIMARY KEY (id))\n",
    "'''\n",
    "db = pymysql.connect('localhost', 'mushroom', 'hxj20020323', 'spider')\n",
    "cursor = db.cursor()\n",
    "try:\n",
    "    cursor.execute(sql)\n",
    "    print(\"完成\")\n",
    "except:\n",
    "    db.rollback()"
   ],
   "metadata": {
    "collapsed": false,
    "pycharm": {
     "name": "#%%\n"
    }
   }
  },
  {
   "cell_type": "code",
   "execution_count": 11,
   "outputs": [
    {
     "name": "stdout",
     "output_type": "stream",
     "text": [
      "成功！\n"
     ]
    }
   ],
   "source": [
    "id = '20120001'\n",
    "name = \"lisimao\"\n",
    "age = 15\n",
    "db = pymysql.connect('localhost', 'mushroom', 'hxj20020323', 'spider')\n",
    "sql = '''\n",
    "INSERT INTO students(id, name, age) value(%s, %s, %s)\n",
    "'''\n",
    "cursor = db.cursor()\n",
    "try:\n",
    "    cursor.execute(sql, (id, name, age)) # 直接使用这种方式填入数据\n",
    "    db.commit()\n",
    "    print(\"成功！\")\n",
    "except:\n",
    "    db.rollback()\n",
    "    print(\"EOFError\")"
   ],
   "metadata": {
    "collapsed": false,
    "pycharm": {
     "name": "#%%\n"
    }
   }
  },
  {
   "cell_type": "markdown",
   "source": [
    "![image.png](https://i.loli.net/2021/02/02/Klit9Hso7zNGjAy.png)"
   ],
   "metadata": {
    "collapsed": false,
    "pycharm": {
     "name": "#%% md\n"
    }
   }
  },
  {
   "cell_type": "code",
   "execution_count": 12,
   "outputs": [
    {
     "name": "stdout",
     "output_type": "stream",
     "text": [
      "error\n"
     ]
    }
   ],
   "source": [
    "data = {\n",
    "    'id': '20120002',\n",
    "    'name': 'ajay',\n",
    "    'age': 12\n",
    "}\n",
    "table = 'students'\n",
    "keys = ', '.join(data.keys())\n",
    "values = ', '.join(['%s'] * len(data))\n",
    "sql = 'INSERT INTO {table}({key}) VALUES ({values})'.format(table=table, key=keys, values=values)\n",
    "try:\n",
    "    if cursor.execute(sql, tuple(data.values())):\n",
    "        print('Successfully')\n",
    "        db.commit()\n",
    "except:\n",
    "    print(\"error\")\n",
    "    db.rollback()"
   ],
   "metadata": {
    "collapsed": false,
    "pycharm": {
     "name": "#%%\n"
    }
   }
  },
  {
   "cell_type": "code",
   "execution_count": 13,
   "outputs": [
    {
     "data": {
      "text/plain": "dict_values(['20120002', 'ajay', 12])"
     },
     "execution_count": 13,
     "metadata": {},
     "output_type": "execute_result"
    }
   ],
   "source": [
    "data.values()"
   ],
   "metadata": {
    "collapsed": false,
    "pycharm": {
     "name": "#%%\n"
    }
   }
  },
  {
   "cell_type": "code",
   "execution_count": 14,
   "outputs": [
    {
     "name": "stdout",
     "output_type": "stream",
     "text": [
      "Update successfully!\n",
      "TEST\n"
     ]
    }
   ],
   "source": [
    "db = pymysql.connect('localhost', 'mushroom', 'hxj20020323', 'spider')\n",
    "cursor = db.cursor() # 少了个Mysql启动类!!\n",
    "sql = 'UPDATE students SET age = %s WHERE name = \"%s\"'\n",
    "try:\n",
    "    cursor.execute(sql, (15, 'ajay'))\n",
    "    print(\"Update successfully!\")\n",
    "    db.commit()\n",
    "except:\n",
    "    print(\"Update failure\")\n",
    "    db.rollback()\n",
    "db.close()\n",
    "print(\"TEST\")"
   ],
   "metadata": {
    "collapsed": false,
    "pycharm": {
     "name": "#%%\n"
    }
   }
  },
  {
   "cell_type": "code",
   "execution_count": 15,
   "outputs": [
    {
     "name": "stdout",
     "output_type": "stream",
     "text": [
      "Update successfully!\n"
     ]
    }
   ],
   "source": [
    "db = pymysql.connect('localhost', 'mushroom', 'hxj20020323', 'spider')\n",
    "data = {\n",
    "    'id': '20120001',\n",
    "    'name': 'lisimao',\n",
    "    'age': 4,\n",
    "}\n",
    "cursor = db.cursor()\n",
    "table = 'students'\n",
    "key = \", \".join(data.keys())\n",
    "values = \", \".join([\"%s\"] * len(data))\n",
    "sql = 'INSERT INTO {table}({key}) VALUES({values}) ON DUPLICATE KEY UPDATE '.format(table=table, key=keys, values=values)\n",
    "update = ', '.join([\"{key} = %s\".format(key=key) for key in data.keys()])\n",
    "sql += update\n",
    "try:\n",
    "    cursor.execute(sql, tuple(data.values()) * 2)\n",
    "    print(\"Update successfully!\")\n",
    "    db.commit()\n",
    "except:\n",
    "    print(\"Update Error!\")\n",
    "    db.rollback()\n",
    "db.close()"
   ],
   "metadata": {
    "collapsed": false,
    "pycharm": {
     "name": "#%%\n"
    }
   }
  },
  {
   "cell_type": "markdown",
   "source": [
    "* 注意传入的是元组，一定不要弄混了\n",
    "* 记得多分析在写"
   ],
   "metadata": {
    "collapsed": false,
    "pycharm": {
     "name": "#%% md\n"
    }
   }
  },
  {
   "cell_type": "code",
   "execution_count": 16,
   "outputs": [
    {
     "name": "stdout",
     "output_type": "stream",
     "text": [
      "Successfully!\n"
     ]
    }
   ],
   "source": [
    "data = {\n",
    "    'id': '20120004',\n",
    "    'name': 'Euler',\n",
    "    'age': 76\n",
    "}\n",
    "db = pymysql.connect('localhost', 'mushroom', 'hxj20020323', 'spider')\n",
    "cursor = db.cursor()\n",
    "\n",
    "keys = ', '.join(data.keys())\n",
    "values = ', '.join([\"%s\"] * len(data))\n",
    "table = 'students'\n",
    "\n",
    "sql = 'INSERT INTO {table}({key}) VALUES({value}) ON DUPLICATE KEY UPDATE'.format(table=table, key=keys, value=values)\n",
    "update = ', '.join(\" {key} = %s\".format(key=key) for key in data)\n",
    "sql += update\n",
    "\n",
    "try:\n",
    "    cursor.execute(sql, tuple(data.values()) * 2)\n",
    "    print(\"Successfully!\")\n",
    "    db.commit()\n",
    "except:\n",
    "    db.rollback()\n",
    "    print(\"Error\")\n",
    "db.close()"
   ],
   "metadata": {
    "collapsed": false,
    "pycharm": {
     "name": "#%%\n"
    }
   }
  },
  {
   "cell_type": "code",
   "execution_count": 17,
   "outputs": [
    {
     "name": "stdout",
     "output_type": "stream",
     "text": [
      "Delete successfully!\n"
     ]
    }
   ],
   "source": [
    "# 删除\n",
    "table = 'students'\n",
    "condition = 'age < 18'\n",
    "\n",
    "db = pymysql.connect('localhost', 'mushroom', 'hxj20020323', 'spider')\n",
    "cursor = db.cursor()\n",
    "\n",
    "sql = 'DELETE FROM {table} WHERE {condition}'.format(table=table, condition=condition)\n",
    "try:\n",
    "    cursor.execute(sql)\n",
    "    db.commit()\n",
    "    print(\"Delete successfully!\")\n",
    "except:\n",
    "    db.rollback()\n",
    "    print(\"Error\")\n",
    "db.close()"
   ],
   "metadata": {
    "collapsed": false,
    "pycharm": {
     "name": "#%%\n"
    }
   }
  },
  {
   "cell_type": "code",
   "execution_count": 18,
   "outputs": [
    {
     "name": "stdout",
     "output_type": "stream",
     "text": [
      "Fetched data:\n",
      "['20120003', 'Pythagoras', 76]\n",
      "['20120004', 'Euler', 76]\n",
      "The number of row: 2\n"
     ]
    }
   ],
   "source": [
    "# 查询数据\n",
    "\n",
    "# 第一类直接获取所有返回的信息，也就是使用fetchall函数\n",
    "db = pymysql.connect('localhost', 'mushroom', 'hxj20020323', 'spider')\n",
    "cursor = db.cursor()\n",
    "\n",
    "sql = 'SELECT * FROM students WHERE age >= 70'\n",
    "\n",
    "try:\n",
    "    cursor.execute(sql)\n",
    "    rows = cursor.rowcount\n",
    "    data = cursor.fetchall()\n",
    "    data = list(map(list, data))\n",
    "    print(\"Fetched data:\")\n",
    "    for elem in data:\n",
    "        print(elem)\n",
    "    print(\"The number of row: {}\".format(rows))\n",
    "except:\n",
    "    db.rollback()"
   ],
   "metadata": {
    "collapsed": false,
    "pycharm": {
     "name": "#%%\n"
    }
   }
  },
  {
   "cell_type": "code",
   "execution_count": 19,
   "outputs": [
    {
     "name": "stdout",
     "output_type": "stream",
     "text": [
      "Fetched data:\n",
      "['20120003', 'Pythagoras', 76]\n",
      "['20120004', 'Euler', 76]\n"
     ]
    }
   ],
   "source": [
    "\n",
    "# 第二类一个一个的拿取然后一个一个输出，节省内存，延长时间\n",
    "\n",
    "try:\n",
    "    cursor.execute(sql)\n",
    "    rows = cursor.rowcount\n",
    "    print(\"Fetched data:\")\n",
    "    while rows:\n",
    "        print(list(cursor.fetchone()))\n",
    "        rows -= 1\n",
    "except:\n",
    "    db.rollback()\n",
    "# 一个一个打印， 缓解了大表获取的时候出现的内存过大的情况"
   ],
   "metadata": {
    "collapsed": false,
    "pycharm": {
     "name": "#%%\n"
    }
   }
  },
  {
   "cell_type": "markdown",
   "source": [
    "\n",
    "### MongoDB"
   ],
   "metadata": {
    "collapsed": false,
    "pycharm": {
     "name": "#%% md\n"
    }
   }
  },
  {
   "cell_type": "code",
   "execution_count": 20,
   "outputs": [],
   "source": [
    "# 导包\n",
    "import pymongo"
   ],
   "metadata": {
    "collapsed": false,
    "pycharm": {
     "name": "#%%\n"
    }
   }
  },
  {
   "cell_type": "code",
   "execution_count": 21,
   "outputs": [],
   "source": [
    "client = pymongo.MongoClient(host='localhost', port=27017)"
   ],
   "metadata": {
    "collapsed": false,
    "pycharm": {
     "name": "#%%\n"
    }
   }
  },
  {
   "cell_type": "code",
   "execution_count": 26,
   "outputs": [],
   "source": [
    "# 构建连接到database和collection\n",
    "db = client['test']\n",
    "collections = db['students']"
   ],
   "metadata": {
    "collapsed": false,
    "pycharm": {
     "name": "#%%\n"
    }
   }
  },
  {
   "cell_type": "code",
   "execution_count": 38,
   "outputs": [
    {
     "name": "stdout",
     "output_type": "stream",
     "text": [
      "601b7822bab18138f16f2e39\n"
     ]
    }
   ],
   "source": [
    "\n",
    "student = {\n",
    "    'id': '20120001',\n",
    "    'name': 'lisimao',\n",
    "    'gender': 'man',\n",
    "    'age': 18\n",
    "}\n",
    "\n",
    "result = collections.insert_one(student)\n",
    "\n",
    "print(result.inserted_id)\n",
    "# 返回唯一的_id码"
   ],
   "metadata": {
    "collapsed": false,
    "pycharm": {
     "name": "#%%\n"
    }
   }
  },
  {
   "cell_type": "code",
   "execution_count": 37,
   "outputs": [
    {
     "name": "stdout",
     "output_type": "stream",
     "text": [
      "[ObjectId('601b781cbab18138f16f2e37'), ObjectId('601b781cbab18138f16f2e38')]\n"
     ]
    }
   ],
   "source": [
    "studentOne = {\n",
    "    'id': '20120002',\n",
    "    'name': 'Euler',\n",
    "    'gender': 'male',\n",
    "    'age': 76,\n",
    "}\n",
    "\n",
    "studentTwo = {\n",
    "    'id': '20120003',\n",
    "    'name': 'Polar',\n",
    "    'gender': 'male',\n",
    "    'age': 76\n",
    "}\n",
    "\n",
    "result = collections.insert_many([studentOne, studentTwo])\n",
    "print(result.inserted_ids)"
   ],
   "metadata": {
    "collapsed": false,
    "pycharm": {
     "name": "#%%\n"
    }
   }
  },
  {
   "cell_type": "code",
   "execution_count": 41,
   "outputs": [
    {
     "name": "stdout",
     "output_type": "stream",
     "text": [
      "{'_id': ObjectId('601b779bbab18138f16f2e2e'),\n",
      " 'age': 76,\n",
      " 'gender': 'male',\n",
      " 'id': '20120002',\n",
      " 'name': 'Euler'}\n"
     ]
    }
   ],
   "source": [
    "from pprint import pprint\n",
    "result = collections.find_one({'name': 'Euler'})\n",
    "pprint(result)\n"
   ],
   "metadata": {
    "collapsed": false,
    "pycharm": {
     "name": "#%%\n"
    }
   }
  },
  {
   "cell_type": "code",
   "execution_count": 43,
   "outputs": [
    {
     "name": "stdout",
     "output_type": "stream",
     "text": [
      "{'_id': ObjectId('601b779bbab18138f16f2e2e'), 'id': '20120002', 'name': 'Euler', 'gender': 'male', 'age': 76}\n"
     ]
    }
   ],
   "source": [
    "from bson import ObjectId\n",
    "\n",
    "obid = ObjectId('601b779bbab18138f16f2e2e')\n",
    "result = collections.find_one({'_id': obid})\n",
    "print(result)"
   ],
   "metadata": {
    "collapsed": false,
    "pycharm": {
     "name": "#%%\n"
    }
   }
  },
  {
   "cell_type": "code",
   "execution_count": 57,
   "outputs": [
    {
     "name": "stdout",
     "output_type": "stream",
     "text": [
      "{'_id': ObjectId('601b8949bab18138f16f2e3a'), 'id': '20120004', 'name': 'Cat', 'gender': 'male', 'age': 20}\n",
      "{'_id': ObjectId('601b8958bab18138f16f2e3b'), 'id': '20120005', 'name': 'Pig', 'gender': 'male', 'age': 20}\n"
     ]
    }
   ],
   "source": [
    "# 如果是多个数据返回一个构造器\n",
    "student = {\n",
    "    'id': '20120005',\n",
    "    'name': 'Pig',\n",
    "    'gender': 'male',\n",
    "    'age': 20\n",
    "}\n",
    "\n",
    "results = collections.find({'age': 20})\n",
    "for people in results:\n",
    "    print(people)"
   ],
   "metadata": {
    "collapsed": false,
    "pycharm": {
     "name": "#%%\n"
    }
   }
  },
  {
   "cell_type": "code",
   "execution_count": 63,
   "outputs": [
    {
     "name": "stdout",
     "output_type": "stream",
     "text": [
      "{'_id': ObjectId('601b779bbab18138f16f2e2e'), 'id': '20120002', 'name': 'Euler', 'gender': 'male', 'age': 76}\n",
      "{'_id': ObjectId('601b779bbab18138f16f2e2f'), 'id': '20120003', 'name': 'Polar', 'gender': 'male', 'age': 76}\n",
      "{'_id': ObjectId('601b77a2bab18138f16f2e30'), 'id': '20120002', 'name': 'Euler', 'gender': 'male', 'age': 76}\n",
      "{'_id': ObjectId('601b77a2bab18138f16f2e31'), 'id': '20120003', 'name': 'Polar', 'gender': 'male', 'age': 76}\n",
      "{'_id': ObjectId('601b77a7bab18138f16f2e32'), 'id': '20120002', 'name': 'Euler', 'gender': 'male', 'age': 76}\n",
      "{'_id': ObjectId('601b77a7bab18138f16f2e33'), 'id': '20120003', 'name': 'Polar', 'gender': 'male', 'age': 76}\n",
      "{'_id': ObjectId('601b77aabab18138f16f2e34'), 'id': '20120002', 'name': 'Euler', 'gender': 'male', 'age': 76}\n",
      "{'_id': ObjectId('601b77aabab18138f16f2e35'), 'id': '20120003', 'name': 'Polar', 'gender': 'male', 'age': 76}\n",
      "{'_id': ObjectId('601b781cbab18138f16f2e37'), 'id': '20120002', 'name': 'Euler', 'gender': 'male', 'age': 76}\n",
      "{'_id': ObjectId('601b781cbab18138f16f2e38'), 'id': '20120003', 'name': 'Polar', 'gender': 'male', 'age': 76}\n"
     ]
    }
   ],
   "source": [
    "results = collections.find({'age': {'$gt': 75}})\n",
    "for people in results:\n",
    "    print(people)\n",
    "\n",
    "# $gt大于那个年龄"
   ],
   "metadata": {
    "collapsed": false,
    "pycharm": {
     "name": "#%%\n"
    }
   }
  },
  {
   "cell_type": "markdown",
   "source": [
    "\n",
    "![image.png](https://i.loli.net/2021/02/04/sS1dZVcGyrueaNF.png)\n",
    "![image.png](https://i.loli.net/2021/02/04/R16z8glTNdDenBA.png)"
   ],
   "metadata": {
    "collapsed": false,
    "pycharm": {
     "name": "#%% md\n"
    }
   }
  },
  {
   "cell_type": "code",
   "execution_count": 68,
   "outputs": [
    {
     "name": "stdout",
     "output_type": "stream",
     "text": [
      "19\n"
     ]
    },
    {
     "name": "stderr",
     "output_type": "stream",
     "text": [
      "<ipython-input-68-f715a3041881>:2: DeprecationWarning: count is deprecated. Use Collection.count_documents instead.\n",
      "  count = collections.find().count()\n"
     ]
    }
   ],
   "source": [
    "# 计数\n",
    "count = collections.find().count()\n",
    "print(count)"
   ],
   "metadata": {
    "collapsed": false,
    "pycharm": {
     "name": "#%%\n"
    }
   }
  },
  {
   "cell_type": "code",
   "execution_count": 70,
   "outputs": [
    {
     "name": "stdout",
     "output_type": "stream",
     "text": [
      "2\n"
     ]
    },
    {
     "name": "stderr",
     "output_type": "stream",
     "text": [
      "<ipython-input-70-c1dbf15add7e>:1: DeprecationWarning: count is deprecated. Use Collection.count_documents instead.\n",
      "  count = collections.find({'age': 20}).count()\n"
     ]
    }
   ],
   "source": [
    "count = collections.find({'age': 20}).count()\n",
    "print(count)"
   ],
   "metadata": {
    "collapsed": false,
    "pycharm": {
     "name": "#%%\n"
    }
   }
  },
  {
   "cell_type": "code",
   "execution_count": 72,
   "outputs": [
    {
     "name": "stdout",
     "output_type": "stream",
     "text": [
      "2\n"
     ]
    }
   ],
   "source": [
    "count = collections.count_documents({'age': 20})\n",
    "print(count)"
   ],
   "metadata": {
    "collapsed": false,
    "pycharm": {
     "name": "#%%\n"
    }
   }
  },
  {
   "cell_type": "code",
   "execution_count": 74,
   "outputs": [
    {
     "name": "stdout",
     "output_type": "stream",
     "text": [
      "Cat\n",
      "Euler\n",
      "Euler\n",
      "Euler\n",
      "Euler\n",
      "Euler\n",
      "Pig\n",
      "Polar\n",
      "Polar\n",
      "Polar\n",
      "Polar\n",
      "Polar\n",
      "lisimao\n",
      "lisimao\n",
      "lisimao\n",
      "lisimao\n",
      "lisimao\n",
      "lisimao\n",
      "lisimao\n"
     ]
    }
   ],
   "source": [
    "result = collections.find().sort('name', pymongo.ASCENDING)\n",
    "for people in result:\n",
    "    print(people['name'])"
   ],
   "metadata": {
    "collapsed": false,
    "pycharm": {
     "name": "#%%\n"
    }
   }
  },
  {
   "cell_type": "code",
   "execution_count": 84,
   "outputs": [
    {
     "name": "stdout",
     "output_type": "stream",
     "text": [
      "76\n",
      "76\n",
      "18\n",
      "18\n",
      "18\n",
      "18\n",
      "18\n",
      "18\n",
      "18\n",
      "0\n"
     ]
    }
   ],
   "source": [
    "# 使用skip函数跳过\n",
    "result = collections.find().sort('name', pymongo.ASCENDING).skip(10)\n",
    "for people in result:\n",
    "    print(people['age'])\n"
   ],
   "metadata": {
    "collapsed": false,
    "pycharm": {
     "name": "#%%\n"
    }
   }
  },
  {
   "cell_type": "code",
   "execution_count": 86,
   "outputs": [
    {
     "name": "stdout",
     "output_type": "stream",
     "text": [
      "{'_id': ObjectId('601b77a7bab18138f16f2e33'), 'id': '20120003', 'name': 'Polar', 'gender': 'male', 'age': 76}\n",
      "{'_id': ObjectId('601b77aabab18138f16f2e34'), 'id': '20120002', 'name': 'Euler', 'gender': 'male', 'age': 76}\n",
      "{'_id': ObjectId('601b77aabab18138f16f2e35'), 'id': '20120003', 'name': 'Polar', 'gender': 'male', 'age': 76}\n",
      "{'_id': ObjectId('601b77afbab18138f16f2e36'), 'id': '20120001', 'name': 'lisimao', 'gender': 'man', 'age': 18}\n",
      "{'_id': ObjectId('601b781cbab18138f16f2e37'), 'id': '20120002', 'name': 'Euler', 'gender': 'male', 'age': 76}\n",
      "{'_id': ObjectId('601b781cbab18138f16f2e38'), 'id': '20120003', 'name': 'Polar', 'gender': 'male', 'age': 76}\n",
      "{'_id': ObjectId('601b7822bab18138f16f2e39'), 'id': '20120001', 'name': 'lisimao', 'gender': 'man', 'age': 18}\n",
      "{'_id': ObjectId('601b8949bab18138f16f2e3a'), 'id': '20120004', 'name': 'Cat', 'gender': 'male', 'age': 20}\n",
      "{'_id': ObjectId('601b8958bab18138f16f2e3b'), 'id': '20120005', 'name': 'Pig', 'gender': 'male', 'age': 20}\n"
     ]
    }
   ],
   "source": [
    "# 数量过大的时候需要记录下objectid来限定所要输出的内容\n",
    "result = collections.find({'_id': {'$gt': ObjectId('601b77a7bab18138f16f2e32')}})\n",
    "for people in result:\n",
    "    print(people)"
   ],
   "metadata": {
    "collapsed": false,
    "pycharm": {
     "name": "#%%\n"
    }
   }
  },
  {
   "cell_type": "code",
   "execution_count": 96,
   "outputs": [
    {
     "name": "stderr",
     "output_type": "stream",
     "text": [
      "<ipython-input-96-58b0d04ccfda>:3: DeprecationWarning: update is deprecated. Use replace_one, update_one or update_many instead.\n",
      "  result = collections.update({'name': 'Cat'}, student)\n"
     ]
    }
   ],
   "source": [
    "student = collections.find_one({'name': 'Cat'})\n",
    "student['age'] = 76\n",
    "result = collections.update({'name': 'Cat'}, student)\n",
    "\n",
    "# 条件放在前面，被修改的对象放在后面"
   ],
   "metadata": {
    "collapsed": false,
    "pycharm": {
     "name": "#%%\n"
    }
   }
  },
  {
   "cell_type": "code",
   "execution_count": 99,
   "outputs": [
    {
     "name": "stdout",
     "output_type": "stream",
     "text": [
      "{'_id': ObjectId('601b8949bab18138f16f2e3a'),\n",
      " 'age': 76,\n",
      " 'gender': 'male',\n",
      " 'id': '20120004',\n",
      " 'name': 'Cat'}\n",
      "{'n': 1, 'nModified': 0, 'ok': 1.0, 'updatedExisting': True}\n"
     ]
    }
   ],
   "source": [
    "student = collections.find_one({'name': 'Cat'})\n",
    "pprint(student)\n",
    "pprint(result)\n",
    "# 这表示修改成功， nModified：表示被修改的数据个数"
   ],
   "metadata": {
    "collapsed": false,
    "pycharm": {
     "name": "#%%\n"
    }
   }
  },
  {
   "cell_type": "code",
   "execution_count": 103,
   "outputs": [
    {
     "name": "stdout",
     "output_type": "stream",
     "text": [
      "<pymongo.results.UpdateResult object at 0x0000028F9913CA80>\n",
      "1 0\n"
     ]
    }
   ],
   "source": [
    "condition = {'name': 'lisimao'}\n",
    "student = collections.find_one(condition)\n",
    "student['age'] = 1900\n",
    "result = collections.update_one(condition, {'$set': student})\n",
    "print(result)\n",
    "print(result.matched_count, result.modified_count)"
   ],
   "metadata": {
    "collapsed": false,
    "pycharm": {
     "name": "#%%\n"
    }
   }
  },
  {
   "cell_type": "code",
   "execution_count": 106,
   "outputs": [
    {
     "name": "stdout",
     "output_type": "stream",
     "text": [
      "<pymongo.results.UpdateResult object at 0x0000028F99668B80>\n",
      "13 13\n"
     ]
    }
   ],
   "source": [
    "condition = {'age': {'$gte': 20}}\n",
    "result = collections.update_many(condition, {'$inc': {'age': 1}})\n",
    "print(result)\n",
    "print(result.matched_count, result.modified_count)"
   ],
   "metadata": {
    "collapsed": false,
    "pycharm": {
     "name": "#%%\n"
    }
   }
  },
  {
   "cell_type": "code",
   "execution_count": 114,
   "outputs": [
    {
     "name": "stdout",
     "output_type": "stream",
     "text": [
      "0\n"
     ]
    }
   ],
   "source": [
    "# 删除数据\n",
    "req = collections.delete_many({'name': 'lisimao'})\n",
    "print(req.deleted_count)"
   ],
   "metadata": {
    "collapsed": false,
    "pycharm": {
     "name": "#%%\n"
    }
   }
  },
  {
   "cell_type": "code",
   "execution_count": 115,
   "outputs": [],
   "source": [
    "# redis"
   ],
   "metadata": {
    "collapsed": false,
    "pycharm": {
     "name": "#%%\n"
    }
   }
  },
  {
   "cell_type": "code",
   "execution_count": 120,
   "outputs": [
    {
     "name": "stdout",
     "output_type": "stream",
     "text": [
      "b'cat'\n"
     ]
    }
   ],
   "source": [
    "from redis import StrictRedis\n",
    "red = StrictRedis(host='localhost', port=6379, password=\"hxj...\")\n",
    "red.set('name', 'cat')\n",
    "print(red.get('name'))\n",
    "\n",
    "# 可怕， redis后面再看再学"
   ],
   "metadata": {
    "collapsed": false,
    "pycharm": {
     "name": "#%%\n"
    }
   }
  },
  {
   "cell_type": "code",
   "execution_count": null,
   "outputs": [],
   "source": [],
   "metadata": {
    "collapsed": false,
    "pycharm": {
     "name": "#%%\n"
    }
   }
  }
 ],
 "metadata": {
  "kernelspec": {
   "display_name": "Python 3",
   "language": "python",
   "name": "python3"
  },
  "language_info": {
   "codemirror_mode": {
    "name": "ipython",
    "version": 2
   },
   "file_extension": ".py",
   "mimetype": "text/x-python",
   "name": "python",
   "nbconvert_exporter": "python",
   "pygments_lexer": "ipython2",
   "version": "2.7.6"
  }
 },
 "nbformat": 4,
 "nbformat_minor": 0
}