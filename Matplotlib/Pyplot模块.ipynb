{
 "cells": [
  {
   "cell_type": "markdown",
   "metadata": {
    "collapsed": true,
    "pycharm": {
     "name": "#%% md\n"
    }
   },
   "source": [
    " ### plot函数\n",
    "```\n",
    "from matplotlib import pyplot as plt\n",
    "plt.plot()\n",
    "```"
   ]
  },
  {
   "cell_type": "markdown",
   "source": [
    "##### plot完整函数调用书写\n"
   ],
   "metadata": {
    "collapsed": false,
    "pycharm": {
     "name": "#%% md\n"
    }
   }
  },
  {
   "cell_type": "code",
   "execution_count": 3,
   "outputs": [],
   "source": [
    "from matplotlib import pyplot as plt\n",
    "import numpy as np\n",
    "import sys"
   ],
   "metadata": {
    "collapsed": false,
    "pycharm": {
     "name": "#%%\n"
    }
   }
  },
  {
   "cell_type": "code",
   "execution_count": 26,
   "outputs": [
    {
     "data": {
      "text/plain": "<Figure size 432x288 with 0 Axes>"
     },
     "execution_count": 26,
     "metadata": {},
     "output_type": "execute_result"
    },
    {
     "data": {
      "text/plain": "<Figure size 432x288 with 1 Axes>",
      "image/png": "[encoded data removed]"
     },
     "metadata": {
      "needs_background": "dark"
     },
     "output_type": "display_data"
    },
    {
     "data": {
      "text/plain": "<Figure size 432x288 with 0 Axes>"
     },
     "metadata": {},
     "output_type": "display_data"
    }
   ],
   "source": [
    "x_values = [x for x in np.arange(-5,5,0.1)]\n",
    "y_values = [np.sin(np.cos(np.exp(x))) for x in x_values]\n",
    "plt.title('test',c='pink',fontsize=20)\n",
    "plt.xticks(c='white',fontsize=15)\n",
    "plt.yticks(c='white',fontsize=15)\n",
    "plt.axis([-5,5,-5,5])\n",
    "plt.plot(x_values,y_values,'#FFAA02',label='line')\n",
    "plt.legend(fontsize=20,shadow=True)\n",
    "plt.figure()"
   ],
   "metadata": {
    "collapsed": false,
    "pycharm": {
     "name": "#%%\n"
    }
   }
  },
  {
   "cell_type": "markdown",
   "source": [
    "`plt.plot(x,y,format_string,**kwargs)`\n",
    "`x`:x轴数据，列表或者数组都可以\n",
    "`y`:y轴数据,列表或者数组\n",
    "`format_string`:可以控制曲线的格式字符串，可选内容，由颜色字符，风格字符，标记字符组成\n",
    "`**kwargs`：表示第二组更多的参数"
   ],
   "metadata": {
    "collapsed": false,
    "pycharm": {
     "name": "#%% md\n"
    }
   }
  },
  {
   "cell_type": "markdown",
   "source": [
    "|颜色字符|说明|颜色字符|说明|\n",
    "|:-:|:-:|:-:|:-:|\n",
    "|'b'|蓝色|'m'|洋红色|\n",
    "|'g'|绿色|'y'|黄色|\n",
    "|'r'|红色|'k'|黑色|\n",
    "|'c'|青绿色|'w'|白色|\n",
    "|'#008000'|RGB颜色|’0.8‘|灰度设置|\n",
    "\n"
   ],
   "metadata": {
    "collapsed": false,
    "pycharm": {
     "name": "#%% md\n"
    }
   }
  },
  {
   "cell_type": "markdown",
   "source": [
    "|风格字符|说明|风格字符|说明|\n",
    "|:-:|:-:|:-:|:-:|\n",
    "|‘.’|点标记|‘1’|下花三角标记|\n",
    "|‘,’|像素标记（极小点）|‘2’|上花三角标记|\n",
    "|‘o’|实心圈标记|‘3’|左花三角标记|\n",
    "|‘v’|倒三角标记|‘4’|右花三角标记|\n",
    "|‘^’|上三角标记|’s’|实心方形标记|\n",
    "|‘>’|右三角标记|‘p’|实心五角标记|\n",
    "|‘<’|左三角标记|‘*’|星形标记|\n",
    "|‘h’|竖六边形标记|\n",
    "|‘H’|横六边形标记|\n",
    "|‘+’|十字标记|\n",
    "|‘x’|x标记|\n",
    "|‘D’|菱形标记|\n",
    "|‘d’|瘦菱形标记|\n",
    "|'\\|'|垂直线标记|\n",
    "> 注意可以直接加到字符串格式里面作为模型输出。verynice\n",
    "\n",
    "* color可以控制颜色\n",
    "* linestyle可以控制线段的风格\n",
    "* marker标记的风格\n",
    "* markerfarecolor控制标记的颜色，markerfacecolor='blue'\n",
    "* markersize:标记尺寸大小\n",
    "* label可以控制图像的标签，方便后续打印图例"
   ],
   "metadata": {
    "collapsed": false,
    "pycharm": {
     "name": "#%% md\n"
    }
   }
  }
 ],
 "metadata": {
  "kernelspec": {
   "display_name": "Python 3",
   "language": "python",
   "name": "python3"
  },
  "language_info": {
   "codemirror_mode": {
    "name": "ipython",
    "version": 2
   },
   "file_extension": ".py",
   "mimetype": "text/x-python",
   "name": "python",
   "nbconvert_exporter": "python",
   "pygments_lexer": "ipython2",
   "version": "2.7.6"
  }
 },
 "nbformat": 4,
 "nbformat_minor": 0
}