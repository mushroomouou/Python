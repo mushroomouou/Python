{
 "cells": [
  {
   "cell_type": "markdown",
   "metadata": {
    "collapsed": true,
    "pycharm": {
     "name": "#%% md\n"
    }
   },
   "source": [
    "## Pandas入门\n",
    "> 我们对pandas的引入这样的规定，\n",
    "```\n",
    "import pandas as pd\n",
    "from pandas imort Series,DataFrame\n",
    "```\n",
    "* 我们一般这么写pandas的引入。注意这是规定，为了方便你的理解。"
   ]
  },
  {
   "cell_type": "markdown",
   "source": [
    "### pandas的数据结构介绍："
   ],
   "metadata": {
    "collapsed": false,
    "pycharm": {
     "name": "#%% md\n"
    }
   }
  },
  {
   "cell_type": "markdown",
   "source": [
    "#### Series\n",
    "> Series是一类类似于一维数组的对象，它是由一组数据(各种numpy数据类型)以及一组与之相关联的数据标签，仅由一组数据即可产生最简单的Series"
   ],
   "metadata": {
    "collapsed": false,
    "pycharm": {
     "name": "#%% md\n"
    }
   }
  },
  {
   "cell_type": "code",
   "execution_count": 30,
   "outputs": [],
   "source": [
    "import numpy as np\n",
    "import pandas as pd\n",
    "from pandas import Series,DataFrame\n"
   ],
   "metadata": {
    "collapsed": false,
    "pycharm": {
     "name": "#%%\n"
    }
   }
  },
  {
   "cell_type": "code",
   "execution_count": 31,
   "outputs": [
    {
     "data": {
      "text/plain": "first     a\nsecend    b\nthird     c\nfourth    d\ndtype: object"
     },
     "execution_count": 31,
     "metadata": {},
     "output_type": "execute_result"
    }
   ],
   "source": [
    "ser = Series(['a','b','c','d'])\n",
    "ser.index = ('first','secend','third','fourth')\n",
    "ser"
   ],
   "metadata": {
    "collapsed": false,
    "pycharm": {
     "name": "#%%\n"
    }
   }
  },
  {
   "cell_type": "code",
   "execution_count": 32,
   "outputs": [
    {
     "data": {
      "text/plain": "array(['a', 'b', 'c', 'd'], dtype=object)"
     },
     "execution_count": 32,
     "metadata": {},
     "output_type": "execute_result"
    }
   ],
   "source": [
    "# 使用values函数可以实现值的访问\n",
    "ser.values"
   ],
   "metadata": {
    "collapsed": false,
    "pycharm": {
     "name": "#%%\n"
    }
   }
  },
  {
   "cell_type": "code",
   "execution_count": 33,
   "outputs": [
    {
     "data": {
      "text/plain": "Index(['first', 'secend', 'third', 'fourth'], dtype='object')"
     },
     "execution_count": 33,
     "metadata": {},
     "output_type": "execute_result"
    }
   ],
   "source": [
    "# 使用index函数可以实现对于index的调用\n",
    "ser.index"
   ],
   "metadata": {
    "collapsed": false,
    "pycharm": {
     "name": "#%%\n"
    }
   }
  },
  {
   "cell_type": "code",
   "execution_count": 34,
   "outputs": [
    {
     "data": {
      "text/plain": "a    1\nb    2\nc    3\nd   -5\ne    6\nf    7\ndtype: int64"
     },
     "execution_count": 34,
     "metadata": {},
     "output_type": "execute_result"
    }
   ],
   "source": [
    "ser_number = Series([1,2,3,-5,6,7],index=['a','b','c','d','e','f'])\n",
    "ser_number"
   ],
   "metadata": {
    "collapsed": false,
    "pycharm": {
     "name": "#%%\n"
    }
   }
  },
  {
   "cell_type": "code",
   "execution_count": 35,
   "outputs": [
    {
     "data": {
      "text/plain": "a    1\nb    2\nc    3\ne    6\nf    7\ndtype: int64"
     },
     "execution_count": 35,
     "metadata": {},
     "output_type": "execute_result"
    }
   ],
   "source": [
    "# 实现对特定元素的读取\n",
    "# 对于元素的提取我们同样需要使用中括号给函数限定范围。以用来适合用。\n",
    "ser_number[ser_number.values >= 0]\n"
   ],
   "metadata": {
    "collapsed": false,
    "pycharm": {
     "name": "#%%\n"
    }
   }
  },
  {
   "cell_type": "code",
   "execution_count": 36,
   "outputs": [
    {
     "data": {
      "text/plain": "a                    1\nb              1048576\nc           3486784401\nd       95367431640625\ne     3656158440062976\nf    79792266297612001\ndtype: int64"
     },
     "execution_count": 36,
     "metadata": {},
     "output_type": "execute_result"
    }
   ],
   "source": [
    "# series数据类型之间的运算。\n",
    "ser_number ** 20"
   ],
   "metadata": {
    "collapsed": false,
    "pycharm": {
     "name": "#%%\n"
    }
   }
  },
  {
   "cell_type": "code",
   "execution_count": 37,
   "outputs": [],
   "source": [
    "# 我们同样可以使用字典直接导入，为一个series\n",
    "# 同样我们可以使用很多numpy中的函数。\n",
    "# 可以说是非常的nice"
   ],
   "metadata": {
    "collapsed": false,
    "pycharm": {
     "name": "#%%\n"
    }
   }
  },
  {
   "cell_type": "markdown",
   "source": [
    "### Dataframe"
   ],
   "metadata": {
    "collapsed": false,
    "pycharm": {
     "name": "#%% md\n"
    }
   }
  },
  {
   "cell_type": "code",
   "execution_count": 38,
   "outputs": [
    {
     "ename": "FileNotFoundError",
     "evalue": "[Errno 2] No such file or directory: 'c:\\\\users\\\\HP2\\\\PycharmProjects\\\\Python\\\\pydata-book-2nd-edition\\\\datasets\\\\babynames\\\\yob1880.txt'",
     "output_type": "error",
     "traceback": [
      "\u001B[1;31m---------------------------------------------------------------------------\u001B[0m",
      "\u001B[1;31mFileNotFoundError\u001B[0m                         Traceback (most recent call last)",
      "\u001B[1;32m<ipython-input-38-dcab8415379c>\u001B[0m in \u001B[0;36m<module>\u001B[1;34m\u001B[0m\n\u001B[0;32m      1\u001B[0m \u001B[0mbabyname\u001B[0m \u001B[1;33m=\u001B[0m \u001B[1;34m\"c:\\\\users\\\\HP2\\\\PycharmProjects\\\\Python\\\\pydata-book-2nd-edition\\\\datasets\\\\babynames\\\\yob1880.txt\"\u001B[0m\u001B[1;33m\u001B[0m\u001B[1;33m\u001B[0m\u001B[0m\n\u001B[1;32m----> 2\u001B[1;33m \u001B[0mopen\u001B[0m\u001B[1;33m(\u001B[0m\u001B[0mbabyname\u001B[0m\u001B[1;33m,\u001B[0m\u001B[0mencoding\u001B[0m\u001B[1;33m=\u001B[0m\u001B[1;34m'UTF-8'\u001B[0m\u001B[1;33m)\u001B[0m\u001B[1;33m.\u001B[0m\u001B[0mreadlines\u001B[0m\u001B[1;33m(\u001B[0m\u001B[1;33m)\u001B[0m\u001B[1;33m\u001B[0m\u001B[1;33m\u001B[0m\u001B[0m\n\u001B[0m\u001B[0;32m      3\u001B[0m \u001B[1;33m\u001B[0m\u001B[0m\n",
      "\u001B[1;31mFileNotFoundError\u001B[0m: [Errno 2] No such file or directory: 'c:\\\\users\\\\HP2\\\\PycharmProjects\\\\Python\\\\pydata-book-2nd-edition\\\\datasets\\\\babynames\\\\yob1880.txt'"
     ]
    }
   ],
   "source": [
    "babyname = \"c:\\\\users\\\\HP2\\\\PycharmProjects\\\\Python\\\\pydata-book-2nd-edition\\\\datasets\\\\babynames\\\\yob1880.txt\"\n",
    "open(babyname,encoding='UTF-8').readlines()"
   ],
   "metadata": {
    "collapsed": false,
    "pycharm": {
     "name": "#%%\n"
    }
   }
  },
  {
   "cell_type": "code",
   "execution_count": null,
   "outputs": [],
   "source": [
    "data = {'name':['huangxingjie','lisimao','oulaoula'],\n",
    "        'ages':[18,19,77],\n",
    "        'grene':['boy','boy','girl'],\n",
    "       }\n",
    "# 可以在构建dataframe内部应用这个index实现对每一个初始index赋值。\n",
    "dataframe1 = DataFrame(data,index=['student1','student2','student3'])\n",
    "dataframe1"
   ],
   "metadata": {
    "collapsed": false,
    "pycharm": {
     "name": "#%%\n"
    }
   }
  },
  {
   "cell_type": "code",
   "execution_count": null,
   "outputs": [],
   "source": [
    "dataframe1['ages'][dataframe1['ages'] >= 19]"
   ],
   "metadata": {
    "collapsed": false,
    "pycharm": {
     "name": "#%%\n"
    }
   }
  },
  {
   "cell_type": "code",
   "execution_count": null,
   "outputs": [],
   "source": [
    "# dataframe的切片任然可以使用只不过这里的是对列元素的切片。\n",
    "dataframe1[:2]\n"
   ],
   "metadata": {
    "collapsed": false,
    "pycharm": {
     "name": "#%%\n"
    }
   }
  },
  {
   "cell_type": "code",
   "execution_count": null,
   "outputs": [],
   "source": [
    "# 使用del语句可以指定列的删除。"
   ],
   "metadata": {
    "collapsed": false,
    "pycharm": {
     "name": "#%%\n"
    }
   }
  },
  {
   "cell_type": "code",
   "execution_count": null,
   "outputs": [],
   "source": [
    "# 也可以使用转置方法实现另一个demension 的切片。"
   ],
   "metadata": {
    "collapsed": false,
    "pycharm": {
     "name": "#%%\n"
    }
   }
  },
  {
   "cell_type": "markdown",
   "source": [
    "#### 可以输入给DataFrame构造器的数据\n",
    "|类型|说明|\n",
    "|:-|:-|\n",
    "|二维ndarry|数据矩阵，还可以传入相关行列标|\n",
    "|由数组列表元组构成的字典|每个序列将变成dataframe的一列，且每列的长度必须相同|\n",
    "|numpy结构化/记录数组|类似于由数组构成的字典|\n",
    "|由Series构成的字典|每个series将成为一列，如果没有显式索引，我们将把每一个索引叠加后成为统一的索引|\n",
    "|由字典构成的字典|每个内层的字典为单独的一列|\n",
    "|字典或者Series列表|各项将成为dataframe的一行，字典的key或者series的索引将合并为行标|\n",
    "|由元组或者列表构成的列表|类似于二维adarry|\n",
    "|另外一个dataframe|该dataframe的索引将继续被使用|\n",
    "|numpy的maskedarray|类似于二维的nadarry，除了掩盖码会在dataframe中呈现为NaN的奇怪值|\n",
    "\n"
   ],
   "metadata": {
    "collapsed": false,
    "pycharm": {
     "name": "#%% md\n"
    }
   }
  },
  {
   "cell_type": "markdown",
   "source": [
    "### 索引对象\n",
    "> dataframe的索引不可更改"
   ],
   "metadata": {
    "collapsed": false,
    "pycharm": {
     "name": "#%% md\n"
    }
   }
  },
  {
   "cell_type": "markdown",
   "source": [
    "#### pandas中主要的index对象：\n",
    "|类|说明|\n",
    "|:-|:-|\n",
    "|Index|最泛化的Index对象，将轴标签表示为一个由Python对象组成的Numpy数组\n",
    "|Index64Index|针对整数的特殊的index|\n",
    "|MultiIndex|”层次化“索引对象，表示单个轴上的多层索引，可以看作由元组组成的数组|\n",
    "|DatetimeIndex|储存纳秒级别的时间戳(用Numpy的datetime64类型表示)|\n",
    "|PeriodIndex|针对Period数据(时间间隔)的特殊Index|\n",
    "\n"
   ],
   "metadata": {
    "collapsed": false,
    "pycharm": {
     "name": "#%% md\n"
    }
   }
  },
  {
   "cell_type": "markdown",
   "source": [
    "#### Index的方法和属性\n",
    "|方法|说明|\n",
    "|:-|:-|\n",
    "|append|连接另外一个index对象，产生一个新的index|\n",
    "|diff|计算差集|\n",
    "|intersection|计算交集(这里可以针对一个数据集合之中的一些数据的feature_name进行筛选，从而得到一个比较共有的一个数据类，借由这个作出分析，或者是deepmind)|\n",
    "|union|计算交集|\n",
    "|# isin|计算一个指示各个值是否包含于参数集合中的布尔型数组|\n"
   ],
   "metadata": {
    "collapsed": false,
    "pycharm": {
     "name": "#%% md\n"
    }
   }
  },
  {
   "cell_type": "markdown",
   "source": [
    "##### 一些奇怪的算法"
   ],
   "metadata": {
    "collapsed": false,
    "pycharm": {
     "name": "#%% md\n"
    }
   }
  },
  {
   "cell_type": "code",
   "execution_count": null,
   "outputs": [],
   "source": [
    "obj  = Series([1,2,3,4,5,6],index=('a','b','c','d','e','f'),dtype='float')\n",
    "index_obj = obj.index\n",
    "# 可以发现我们使用的index是一个类似于列表的形式，我们甚至可以使用切片对这个进行处理。"
   ],
   "metadata": {
    "collapsed": false,
    "pycharm": {
     "name": "#%%\n"
    }
   }
  },
  {
   "cell_type": "code",
   "execution_count": null,
   "outputs": [],
   "source": [
    "# 想一下，我们可以改变我们的index嘛我们试一下可不可以改变\n",
    "# index_obj[1] = 'c'\n",
    "# 所以我们不可以易更改我们的index值"
   ],
   "metadata": {
    "collapsed": false,
    "pycharm": {
     "name": "#%%\n"
    }
   }
  },
  {
   "cell_type": "code",
   "execution_count": null,
   "outputs": [],
   "source": [
    "index = pd.Index(np.arange(3))\n",
    "obj2 = Series([1,2,3],index=index)\n",
    "obj2.index is index\n",
    "# 这里的is语句我们可以直接使用来用以=判断是否这两个东西是完全一样的东西再来一个东西"
   ],
   "metadata": {
    "collapsed": false,
    "pycharm": {
     "name": "#%%\n"
    }
   }
  },
  {
   "cell_type": "code",
   "execution_count": null,
   "outputs": [],
   "source": [
    "arr1 = np.array([1,2,3,4,5])\n",
    "arr2 = np.array([1,2,3,4,5])\n",
    "arr1 is arr2\n",
    "# 由此得之，我们的arr1与arr2完全不是一个东西，而是虽然相同但是其内核完全不同的东西，即所谓他们的地址不同，不是一个东西·"
   ],
   "metadata": {
    "collapsed": false,
    "pycharm": {
     "name": "#%%\n"
    }
   }
  },
  {
   "cell_type": "markdown",
   "source": [
    "##### 针对于index的操作其实是为了让我们更加容易的找到我们所需要的数据名称，需要的是什么样的，什么是共有的数据"
   ],
   "metadata": {
    "collapsed": false,
    "pycharm": {
     "name": "#%% md\n"
    }
   }
  },
  {
   "cell_type": "code",
   "execution_count": null,
   "outputs": [],
   "source": [
    "# 我们也可以实现对于index 的重构，虽然无法对某一个index进行改变"
   ],
   "metadata": {
    "collapsed": false,
    "pycharm": {
     "name": "#%%\n"
    }
   }
  },
  {
   "cell_type": "code",
   "execution_count": null,
   "outputs": [],
   "source": [
    "obj2 = obj2.reindex(['a','c','b'])\n",
    "obj2.index"
   ],
   "metadata": {
    "collapsed": false,
    "pycharm": {
     "name": "#%%\n"
    }
   }
  },
  {
   "cell_type": "code",
   "execution_count": null,
   "outputs": [],
   "source": [
    "obj3 = Series(['blue','purple','yellow'],index=[0,2,4])\n",
    "obj3.reindex(range(6),method='ffill')"
   ],
   "metadata": {
    "collapsed": false,
    "pycharm": {
     "name": "#%%\n"
    }
   }
  },
  {
   "cell_type": "markdown",
   "source": [
    "### reindex的(插值)method选项\n",
    "|参数|说明|\n",
    "|:-|:-|\n",
    "|ffill或者pad|前向填充(或者搬运)值|\n",
    "|bfill或者##backfill|向后填充或者搬运|"
   ],
   "metadata": {
    "collapsed": false,
    "pycharm": {
     "name": "#%% md\n"
    }
   }
  },
  {
   "cell_type": "code",
   "execution_count": null,
   "outputs": [],
   "source": [
    "frame = DataFrame(np.arange(9).reshape(3,3),index=['a','c','d'],columns=['Ohio','Texas','California'])"
   ],
   "metadata": {
    "collapsed": false,
    "pycharm": {
     "name": "#%%\n"
    }
   }
  },
  {
   "cell_type": "code",
   "execution_count": null,
   "outputs": [],
   "source": [
    "frame.reindex(['a','b','c','d'])\n",
    "frame"
   ],
   "metadata": {
    "collapsed": false,
    "pycharm": {
     "name": "#%%\n"
    }
   }
  },
  {
   "cell_type": "code",
   "execution_count": null,
   "outputs": [],
   "source": [
    "states = ['Ohio','Utah','California']\n",
    "# 可以发现这里的列向有一列啥数据都没有，所以我们计算机给他附上NaN的值，代表它啥也不是。\n",
    "frame.reindex(columns=states)\n"
   ],
   "metadata": {
    "collapsed": false,
    "pycharm": {
     "name": "#%%\n"
    }
   }
  },
  {
   "cell_type": "code",
   "execution_count": null,
   "outputs": [],
   "source": [
    "# 当然我们还哦可以使用这个ix函数来直接给index和column赋值老改变数据类型"
   ],
   "metadata": {
    "collapsed": false,
    "pycharm": {
     "name": "#%%\n"
    }
   }
  },
  {
   "cell_type": "markdown",
   "source": [
    "##### reindex函数的参数\n",
    "|参数|说明|\n",
    "|:-|:-|\n",
    "|index|用作于输入数据的index索引值的确切数值|\n",
    "|method|插值(填充)方式|\n",
    "|fill_value|在重新索引的过程中，需要引入缺失值时的替代值|\n",
    "|limit|向前或者向后填充时的最大填充量|\n",
    "|level|在MultiIndex的指定级别上匹配简单的索引，否则取子集|\n",
    "|copy|默认为True，无论如何都赋值，如果为False，则此时新旧不相等就停止复制|"
   ],
   "metadata": {
    "collapsed": false,
    "pycharm": {
     "name": "#%% md\n"
    }
   }
  },
  {
   "cell_type": "markdown",
   "source": [
    "#### reindex函数的一些内涵："
   ],
   "metadata": {
    "collapsed": false,
    "pycharm": {
     "name": "#%% md\n"
    }
   }
  },
  {
   "cell_type": "code",
   "execution_count": null,
   "outputs": [],
   "source": [
    "test_reindex = Series([1,2,3,4,5],index=['a','b','c','d','e'])\n",
    "new_index = ['a','b','c','d','e','z']\n",
    "test_reindex.reindex(index=new_index)\n",
    "# 看到我们更新之后发现数据多了一行而且是空的"
   ],
   "metadata": {
    "collapsed": false,
    "pycharm": {
     "name": "#%%\n"
    }
   }
  },
  {
   "cell_type": "code",
   "execution_count": null,
   "outputs": [],
   "source": [
    "# 我们来给那个值附上一个值\n",
    "test_reindex.reindex(fill_value=1,index=new_index)"
   ],
   "metadata": {
    "collapsed": false,
    "pycharm": {
     "name": "#%%\n"
    }
   }
  },
  {
   "cell_type": "code",
   "execution_count": null,
   "outputs": [],
   "source": [
    "test_reindex_limit = Series(['a','b','c','d'],index=[0,2,4,8])"
   ],
   "metadata": {
    "collapsed": false,
    "pycharm": {
     "name": "#%%\n"
    }
   }
  },
  {
   "cell_type": "markdown",
   "source": [
    "#### 丢弃指定轴上的项\n",
    "> 使用的是drop函数进行操作"
   ],
   "metadata": {
    "collapsed": false,
    "pycharm": {
     "name": "#%% md\n"
    }
   }
  },
  {
   "cell_type": "code",
   "execution_count": null,
   "outputs": [],
   "source": [
    "obj4 = Series(np.arange(5.),index=['a','b','c','d','e'])\n",
    "# 可以这么使用，我们在drop函数里面加上我们的index索引值，或者在drop里面直接加上所选index列表切片就可以实现对指定的东西的切割提取"
   ],
   "metadata": {
    "collapsed": false,
    "pycharm": {
     "name": "#%%\n"
    }
   }
  },
  {
   "cell_type": "code",
   "execution_count": null,
   "outputs": [],
   "source": [
    "obj4.drop(obj4.index[1:4])\n",
    "# 非常有意思，花里胡商的"
   ],
   "metadata": {
    "collapsed": false,
    "pycharm": {
     "name": "#%%\n"
    }
   }
  },
  {
   "cell_type": "code",
   "execution_count": null,
   "outputs": [],
   "source": [
    "# 有关于dataframe的索引值打印\n",
    "data_frame_city = DataFrame(np.arange(16).reshape(4,4),index=['City1','City2','City3','City4',],columns=['Square1','Square2','Square3','Square4',])\n",
    "data_frame_city"
   ],
   "metadata": {
    "collapsed": false,
    "pycharm": {
     "name": "#%%\n"
    }
   }
  },
  {
   "cell_type": "code",
   "execution_count": null,
   "outputs": [],
   "source": [
    "# 对列也可以使用这种骚操作\n",
    "data_frame_city.drop(columns=['Square1'])"
   ],
   "metadata": {
    "collapsed": false,
    "pycharm": {
     "name": "#%%\n"
    }
   }
  },
  {
   "cell_type": "markdown",
   "source": [
    "#### 索引筛取与过滤"
   ],
   "metadata": {
    "collapsed": false,
    "pycharm": {
     "name": "#%% md\n"
    }
   }
  },
  {
   "cell_type": "code",
   "execution_count": null,
   "outputs": [],
   "source": [
    "data_standard = DataFrame(np.arange(16).reshape(4,4),index=['Ohio','Colorado','Utah','New York'],columns=['One','Two','Three','Four'])\n",
    "data_standard"
   ],
   "metadata": {
    "collapsed": false,
    "pycharm": {
     "name": "#%%\n"
    }
   }
  },
  {
   "cell_type": "code",
   "execution_count": null,
   "outputs": [],
   "source": [
    "data_standard[data_standard > 3 ]"
   ],
   "metadata": {
    "collapsed": false,
    "pycharm": {
     "name": "#%%\n"
    }
   }
  },
  {
   "cell_type": "code",
   "execution_count": null,
   "outputs": [],
   "source": [
    "# 直接不通过我们的中括号来进行索引值的筛选的话，就会哦返回一个bool类型的DateFrame\n",
    "data_standard_bool = data_standard < 5\n",
    "# 可以进行赋值以留下我们所需要的数据"
   ],
   "metadata": {
    "collapsed": false,
    "pycharm": {
     "name": "#%%\n"
    }
   }
  },
  {
   "cell_type": "markdown",
   "source": [
    "### 介绍一下我们的ix函数"
   ],
   "metadata": {
    "collapsed": false,
    "pycharm": {
     "name": "#%% md\n"
    }
   }
  },
  {
   "cell_type": "code",
   "execution_count": null,
   "outputs": [],
   "source": [
    "# 秒呀秒呀秒呀\n",
    "# 这样就是实现了DataFrame的切片\n",
    "data_standard.iloc[:3,1:4]"
   ],
   "metadata": {
    "collapsed": false,
    "pycharm": {
     "name": "#%%\n"
    }
   }
  },
  {
   "cell_type": "code",
   "source": [
    "data_standard._get_value(index='Ohio',col='One')\n",
    "# 使用的是我们标准的索引值，而非内在索引值"
   ],
   "metadata": {
    "collapsed": false,
    "pycharm": {
     "name": "#%%\n"
    }
   },
   "execution_count": null,
   "outputs": []
  },
  {
   "cell_type": "markdown",
   "source": [
    "#### DataFrame的索引选项\n",
    "|类型|说明|\n",
    "|:-|:-|\n",
    "|obj[val]|选取一个DataFrame的单个列，或者一组列，在某些特殊情况下比较便利，如bool型数组，切片|\n",
    "|obj.iloc[val]|选取特定列与行的int索引值，对其进行输出|\n",
    "|get_value,set_value|根据行标签和列标签选取单个值|"
   ],
   "metadata": {
    "collapsed": false,
    "pycharm": {
     "name": "#%% md\n"
    }
   }
  },
  {
   "cell_type": "markdown",
   "source": [
    "#### 算数运算和数据对齐"
   ],
   "metadata": {
    "collapsed": false,
    "pycharm": {
     "name": "#%% md\n"
    }
   }
  },
  {
   "cell_type": "code",
   "execution_count": null,
   "outputs": [],
   "source": [
    "s1 = Series([7.3,-2.5,3.4,1.5],index=['a','c','d','e'])\n",
    "s2 = Series([-2.1,-2.2,1.4,4.5,0.3],index=['a','c','e','f','g'])\n",
    "# 同样的我们的DataFrame也可以使用这种操作用来做加减法，就有点想numpy里面的ufunc\n",
    "s1 + s2"
   ],
   "metadata": {
    "collapsed": false,
    "pycharm": {
     "name": "#%%\n"
    }
   }
  },
  {
   "cell_type": "markdown",
   "source": [
    "#### 在算数方法中填充值"
   ],
   "metadata": {
    "collapsed": false,
    "pycharm": {
     "name": "#%% md\n"
    }
   }
  },
  {
   "cell_type": "code",
   "execution_count": null,
   "outputs": [],
   "source": [
    "df1 = DataFrame(np.arange(12).reshape(3,4),columns=list(\"abcd\"))\n",
    "df2 = DataFrame(np.arange(16).reshape(4,4),columns=list(\"abed\"))"
   ],
   "metadata": {
    "collapsed": false,
    "pycharm": {
     "name": "#%%\n"
    }
   }
  },
  {
   "cell_type": "code",
   "execution_count": null,
   "outputs": [],
   "source": [
    "df1"
   ],
   "metadata": {
    "collapsed": false,
    "pycharm": {
     "name": "#%%\n"
    }
   }
  },
  {
   "cell_type": "code",
   "execution_count": null,
   "outputs": [],
   "source": [
    "df2"
   ],
   "metadata": {
    "collapsed": false,
    "pycharm": {
     "name": "#%%\n"
    }
   }
  },
  {
   "cell_type": "code",
   "execution_count": null,
   "outputs": [],
   "source": [
    "# 使用add函数可以进行加和函数\n",
    "df1.add(df2,fill_value=0)"
   ],
   "metadata": {
    "collapsed": false,
    "pycharm": {
     "name": "#%%\n"
    }
   }
  },
  {
   "cell_type": "markdown",
   "source": [
    "##### 灵活的算术方法\n",
    "|方法|说明|\n",
    "|:-|:-|\n",
    "|add|用于加法|\n",
    "|sub|用于减法|\n",
    "|div|用于除法|\n",
    "|mul|用于乘法（*）|"
   ],
   "metadata": {
    "collapsed": false,
    "pycharm": {
     "name": "#%% md\n"
    }
   }
  },
  {
   "cell_type": "code",
   "execution_count": null,
   "outputs": [],
   "source": [
    "df1.reindex(columns=df2.columns,fill_value=0)\n"
   ],
   "metadata": {
    "collapsed": false,
    "pycharm": {
     "name": "#%%\n"
    }
   }
  },
  {
   "cell_type": "code",
   "execution_count": null,
   "outputs": [],
   "source": [
    "df1.sub(df2,fill_value=0)\n",
    "df1.mul(df2,fill_value=0)"
   ],
   "metadata": {
    "collapsed": false,
    "pycharm": {
     "name": "#%%\n"
    }
   }
  },
  {
   "cell_type": "markdown",
   "source": [
    "#### DataFrame 与 Series之间的一些运算法则"
   ],
   "metadata": {
    "collapsed": false,
    "pycharm": {
     "name": "#%% md\n"
    }
   }
  },
  {
   "cell_type": "code",
   "execution_count": null,
   "outputs": [],
   "source": [
    "test_DataFrame  = DataFrame(np.arange(12).reshape(4,3),index=['a','b','c','d'],columns=['First','Second','Third'])\n",
    "test_Series = test_DataFrame[:1]"
   ],
   "metadata": {
    "collapsed": false,
    "pycharm": {
     "name": "#%%\n"
    }
   }
  },
  {
   "cell_type": "code",
   "execution_count": null,
   "outputs": [],
   "source": [
    "test_DataFrame"
   ],
   "metadata": {
    "collapsed": false,
    "pycharm": {
     "name": "#%%\n"
    }
   }
  },
  {
   "cell_type": "code",
   "execution_count": null,
   "outputs": [],
   "source": [
    "test_DataFrame.add(test_Series,fill_value=0)"
   ],
   "metadata": {
    "collapsed": false,
    "pycharm": {
     "name": "#%%\n"
    }
   }
  },
  {
   "cell_type": "markdown",
   "source": [
    "> 注意我们的版本变了，使用原来的ix函数直接行不通了，所以我们需要进行如下操作，将各个行的数字以DataFrame的格式保留，然后使用add等方法进行加和。"
   ],
   "metadata": {
    "collapsed": false,
    "pycharm": {
     "name": "#%% md\n"
    }
   }
  },
  {
   "cell_type": "markdown",
   "source": [
    "#### 函数的应用与映射"
   ],
   "metadata": {
    "collapsed": false,
    "pycharm": {
     "name": "#%% md\n"
    }
   }
  },
  {
   "cell_type": "code",
   "execution_count": null,
   "outputs": [],
   "source": [
    "func_output = DataFrame(np.random.randn(4,4))\n",
    "func_output\n",
    "# 可以直接使用函数对每一个数值进行操作。"
   ],
   "metadata": {
    "collapsed": false,
    "pycharm": {
     "name": "#%%\n"
    }
   }
  },
  {
   "cell_type": "code",
   "execution_count": null,
   "outputs": [],
   "source": [
    "np.sum(func_output)\n",
    "# 行相加，得出值"
   ],
   "metadata": {
    "collapsed": false,
    "pycharm": {
     "name": "#%%\n"
    }
   }
  },
  {
   "cell_type": "code",
   "execution_count": null,
   "outputs": [],
   "source": [
    "# 复习一下，我们说的axis=1 是指对行进行比较，而当axis=0时我们比较的是列向比，而且我们常用的是把每个feature——name相同的对象放在一起构成index，所以日常需要的是列向比较，如果非得使用这种比较的话我们采用axis换轴操作\n",
    "func_output.apply(lambda x:x.max(),axis=1)"
   ],
   "metadata": {
    "collapsed": false,
    "pycharm": {
     "name": "#%%\n"
    }
   }
  },
  {
   "cell_type": "code",
   "execution_count": null,
   "outputs": [],
   "source": [
    "func_output.applymap(lambda x:'%.2f'%x)\n",
    "# 这样就实现了四舍五入，从而达到了相对简化的一个数据的功能"
   ],
   "metadata": {
    "collapsed": false,
    "pycharm": {
     "name": "#%%\n"
    }
   }
  },
  {
   "cell_type": "markdown",
   "source": [
    "#### 排序"
   ],
   "metadata": {
    "collapsed": false,
    "pycharm": {
     "name": "#%% md\n"
    }
   }
  },
  {
   "cell_type": "code",
   "execution_count": null,
   "outputs": [],
   "source": [
    "test_Series_sort = Series(np.arange(4),index=['a','c','b','d'])\n",
    "# sort_index()函数是针对我们的index进行排列的东西\n",
    "test_Series_sort.sort_index()"
   ],
   "metadata": {
    "collapsed": false,
    "pycharm": {
     "name": "#%%\n"
    }
   }
  },
  {
   "cell_type": "code",
   "execution_count": null,
   "outputs": [],
   "source": [
    "# 使用对值的排序是针对我们的每个列的数字的\n",
    "func_output.sort_values(0)\n",
    "# 当对象为Series时我们不需要by这个参数"
   ],
   "metadata": {
    "collapsed": false,
    "pycharm": {
     "name": "#%%\n"
    }
   }
  },
  {
   "cell_type": "markdown",
   "source": [
    "```python\n",
    "# 这里的就是我们所有的参数了\n",
    "DataFrame.sort_values(self,\n",
    "\t\t\t\t\t  by,\n",
    "\t\t\t\t\t  axis=0,\n",
    "\t\t\t\t\t  ascending=True,\n",
    "\t\t\t\t\t  inplace=False,\n",
    "\t\t\t\t\t  kind='quicksort',\n",
    "\t\t\t\t\t  na_position='last',\n",
    "\t\t\t\t\t  ignore_index=False)\n",
    "```\n",
    "ascending参数表示是否正排序\n",
    "kind表示排序的方式\n",
    "ignore_index表示是否忽略index的随之变化。"
   ],
   "metadata": {
    "collapsed": false,
    "pycharm": {
     "name": "#%% md\n"
    }
   }
  },
  {
   "cell_type": "code",
   "execution_count": null,
   "outputs": [],
   "source": [
    "# rank函数\n",
    "test_Series_rank = Series(np.arange(5))\n",
    "test_Series_rank.rank(method='max',ascending=False)"
   ],
   "metadata": {
    "collapsed": false,
    "pycharm": {
     "name": "#%%\n"
    }
   }
  },
  {
   "cell_type": "markdown",
   "source": [
    "##### 排名时用于破坏平级关系的method选项：\n",
    "|method|说明|\n",
    "|:-|:-|\n",
    "|average|默认，在相等分组里面，为各个值平均分配，平均排名|\n",
    "|min|使用整个分组的最小排名|\n",
    "|max|使用整个分组的最大排名|\n",
    "|first|按值在原始数据中的出现的顺序分配排名|"
   ],
   "metadata": {
    "collapsed": false,
    "pycharm": {
     "name": "#%% md\n"
    }
   }
  },
  {
   "cell_type": "markdown",
   "source": [
    "#### 带有重复值的轴索引"
   ],
   "metadata": {
    "collapsed": false,
    "pycharm": {
     "name": "#%% md\n"
    }
   }
  },
  {
   "cell_type": "code",
   "execution_count": 43,
   "outputs": [
    {
     "data": {
      "text/plain": "a    0\na    1\ndtype: int64"
     },
     "execution_count": 43,
     "metadata": {},
     "output_type": "execute_result"
    }
   ],
   "source": [
    "obj5 = Series(range(5),index=['a','a','c','c','e'])\n",
    "obj5['a']\n",
    "# 有重复索引值时，我们会把所用的索引值全部打印出来"
   ],
   "metadata": {
    "collapsed": false,
    "pycharm": {
     "name": "#%%\n"
    }
   }
  },
  {
   "cell_type": "code",
   "execution_count": 47,
   "outputs": [
    {
     "data": {
      "text/plain": "False"
     },
     "execution_count": 47,
     "metadata": {},
     "output_type": "execute_result"
    }
   ],
   "source": [
    "obj5.index.is_unique\n",
    "# 返回值是一个False所以我们知道，这里的index并不是唯一不重复的，而是有重复的index\n",
    "# 对于dataframe也是如此"
   ],
   "metadata": {
    "collapsed": false,
    "pycharm": {
     "name": "#%%\n"
    }
   }
  },
  {
   "cell_type": "markdown",
   "source": [
    "#### 汇总和计算描述统计"
   ],
   "metadata": {
    "collapsed": false,
    "pycharm": {
     "name": "#%% md\n"
    }
   }
  },
  {
   "cell_type": "code",
   "execution_count": 53,
   "outputs": [
    {
     "data": {
      "text/plain": "    one  two\na  1.40  NaN\nb  7.10 -4.5\nc   NaN  NaN\nd  0.75 -1.3",
      "text/html": "<div>\n<style scoped>\n    .dataframe tbody tr th:only-of-type {\n        vertical-align: middle;\n    }\n\n    .dataframe tbody tr th {\n        vertical-align: top;\n    }\n\n    .dataframe thead th {\n        text-align: right;\n    }\n</style>\n<table border=\"1\" class=\"dataframe\">\n  <thead>\n    <tr style=\"text-align: right;\">\n      <th></th>\n      <th>one</th>\n      <th>two</th>\n    </tr>\n  </thead>\n  <tbody>\n    <tr>\n      <th>a</th>\n      <td>1.40</td>\n      <td>NaN</td>\n    </tr>\n    <tr>\n      <th>b</th>\n      <td>7.10</td>\n      <td>-4.5</td>\n    </tr>\n    <tr>\n      <th>c</th>\n      <td>NaN</td>\n      <td>NaN</td>\n    </tr>\n    <tr>\n      <th>d</th>\n      <td>0.75</td>\n      <td>-1.3</td>\n    </tr>\n  </tbody>\n</table>\n</div>"
     },
     "execution_count": 53,
     "metadata": {},
     "output_type": "execute_result"
    }
   ],
   "source": [
    "df3 =DataFrame([[1.4,np.nan],[7.1,-4.5],\n",
    "               [np.nan,np.nan],[0.75,-1.3]],\n",
    "               index=['a','b','c','d'],\n",
    "               columns=['one','two']\n",
    "               )\n",
    "df3"
   ],
   "metadata": {
    "collapsed": false,
    "pycharm": {
     "name": "#%%\n"
    }
   }
  },
  {
   "cell_type": "code",
   "execution_count": 63,
   "outputs": [
    {
     "data": {
      "text/plain": "a     NaN\nb    2.60\nc     NaN\nd   -0.55\ndtype: float64"
     },
     "execution_count": 63,
     "metadata": {},
     "output_type": "execute_result"
    }
   ],
   "source": [
    "df3.sum(axis=1,skipna=False)\n",
    "# 按列向加和\n",
    "# axis切换后我梦可以实现横向汇总\n",
    "# skipna是否补全缺失值，如果为True则会补上0.0作为缺失值的值，如果确实值不想补全，那我们将会返回一个NaN作为缺失值\n",
    "# level如果轴是层次化索引的，则根据level进行分组"
   ],
   "metadata": {
    "collapsed": false,
    "pycharm": {
     "name": "#%%\n"
    }
   }
  },
  {
   "cell_type": "code",
   "execution_count": 67,
   "outputs": [
    {
     "data": {
      "text/plain": "one    b\ntwo    d\ndtype: object"
     },
     "execution_count": 67,
     "metadata": {},
     "output_type": "execute_result"
    }
   ],
   "source": [
    "df3.idxmax()\n",
    "# 返回值类型是一个Series类型的数组，当我们返回的时后，会根据对应列的元素的大小，返回输出一个具有该元素索引的Series表"
   ],
   "metadata": {
    "collapsed": false,
    "pycharm": {
     "name": "#%%\n"
    }
   }
  },
  {
   "cell_type": "code",
   "execution_count": 69,
   "outputs": [
    {
     "data": {
      "text/plain": "one    d\ntwo    b\ndtype: object"
     },
     "execution_count": 69,
     "metadata": {},
     "output_type": "execute_result"
    }
   ],
   "source": [
    "df3.idxmin()\n",
    "# 当然这个也是一样，只不过返回的是一个更小的值"
   ],
   "metadata": {
    "collapsed": false,
    "pycharm": {
     "name": "#%%\n"
    }
   }
  },
  {
   "cell_type": "code",
   "execution_count": 73,
   "outputs": [
    {
     "data": {
      "text/plain": "    one  two\na  1.40  NaN\nb  8.50 -4.5\nc   NaN  NaN\nd  9.25 -5.8",
      "text/html": "<div>\n<style scoped>\n    .dataframe tbody tr th:only-of-type {\n        vertical-align: middle;\n    }\n\n    .dataframe tbody tr th {\n        vertical-align: top;\n    }\n\n    .dataframe thead th {\n        text-align: right;\n    }\n</style>\n<table border=\"1\" class=\"dataframe\">\n  <thead>\n    <tr style=\"text-align: right;\">\n      <th></th>\n      <th>one</th>\n      <th>two</th>\n    </tr>\n  </thead>\n  <tbody>\n    <tr>\n      <th>a</th>\n      <td>1.40</td>\n      <td>NaN</td>\n    </tr>\n    <tr>\n      <th>b</th>\n      <td>8.50</td>\n      <td>-4.5</td>\n    </tr>\n    <tr>\n      <th>c</th>\n      <td>NaN</td>\n      <td>NaN</td>\n    </tr>\n    <tr>\n      <th>d</th>\n      <td>9.25</td>\n      <td>-5.8</td>\n    </tr>\n  </tbody>\n</table>\n</div>"
     },
     "execution_count": 73,
     "metadata": {},
     "output_type": "execute_result"
    }
   ],
   "source": [
    "df3.cumsum()\n",
    "# 默认为列向累加和，把对应的元素放在对应位置上，很好理解，同样的，我们使用axis参数进行调节后，可实现对于列向量的元素的累加"
   ],
   "metadata": {
    "collapsed": false,
    "pycharm": {
     "name": "#%%\n"
    }
   }
  },
  {
   "cell_type": "code",
   "execution_count": 77,
   "outputs": [
    {
     "data": {
      "text/plain": "         a         b    c         d\ncount  1.0  2.000000  0.0  2.000000\nmean   1.4  1.300000  NaN -0.275000\nstd    NaN  8.202439  NaN  1.449569\nmin    1.4 -4.500000  NaN -1.300000\n25%    1.4 -1.600000  NaN -0.787500\n50%    1.4  1.300000  NaN -0.275000\n75%    1.4  4.200000  NaN  0.237500\nmax    1.4  7.100000  NaN  0.750000",
      "text/html": "<div>\n<style scoped>\n    .dataframe tbody tr th:only-of-type {\n        vertical-align: middle;\n    }\n\n    .dataframe tbody tr th {\n        vertical-align: top;\n    }\n\n    .dataframe thead th {\n        text-align: right;\n    }\n</style>\n<table border=\"1\" class=\"dataframe\">\n  <thead>\n    <tr style=\"text-align: right;\">\n      <th></th>\n      <th>a</th>\n      <th>b</th>\n      <th>c</th>\n      <th>d</th>\n    </tr>\n  </thead>\n  <tbody>\n    <tr>\n      <th>count</th>\n      <td>1.0</td>\n      <td>2.000000</td>\n      <td>0.0</td>\n      <td>2.000000</td>\n    </tr>\n    <tr>\n      <th>mean</th>\n      <td>1.4</td>\n      <td>1.300000</td>\n      <td>NaN</td>\n      <td>-0.275000</td>\n    </tr>\n    <tr>\n      <th>std</th>\n      <td>NaN</td>\n      <td>8.202439</td>\n      <td>NaN</td>\n      <td>1.449569</td>\n    </tr>\n    <tr>\n      <th>min</th>\n      <td>1.4</td>\n      <td>-4.500000</td>\n      <td>NaN</td>\n      <td>-1.300000</td>\n    </tr>\n    <tr>\n      <th>25%</th>\n      <td>1.4</td>\n      <td>-1.600000</td>\n      <td>NaN</td>\n      <td>-0.787500</td>\n    </tr>\n    <tr>\n      <th>50%</th>\n      <td>1.4</td>\n      <td>1.300000</td>\n      <td>NaN</td>\n      <td>-0.275000</td>\n    </tr>\n    <tr>\n      <th>75%</th>\n      <td>1.4</td>\n      <td>4.200000</td>\n      <td>NaN</td>\n      <td>0.237500</td>\n    </tr>\n    <tr>\n      <th>max</th>\n      <td>1.4</td>\n      <td>7.100000</td>\n      <td>NaN</td>\n      <td>0.750000</td>\n    </tr>\n  </tbody>\n</table>\n</div>"
     },
     "execution_count": 77,
     "metadata": {},
     "output_type": "execute_result"
    }
   ],
   "source": [
    "df3.T.describe()\n",
    "# 可以看到我们的DataFrame的一些详细信息，有关平均值，最大值，最小值，etc\n",
    "# 注意我们没权利使用行统计，也就是说我们无法使用axis=1变换行列\n",
    "# 但是，我们可以使用。T或者说方法实现对行的统计"
   ],
   "metadata": {
    "collapsed": false,
    "pycharm": {
     "name": "#%%\n"
    }
   }
  },
  {
   "cell_type": "markdown",
   "source": [
    "##### 描述与汇总统计函数\n",
    "|方法|说明|\n",
    "|:-:|:-|\n",
    "|count|非NA的值的数量|\n",
    "|describe|针对Series或者DataFrame列的汇总统计|\n",
    "|min,max|计算最大值，最小值|\n",
    "|argmin.argmax|计算能够获得的最大值和最小值的索引位置|\n",
    "|idxmin，idxmax|计算能够获得最大值或者最小值的索引位置|\n",
    "|quantile|计算样本的分位数(0~1)|\n",
    "|sum|值的求和|\n",
    "|mean|值的平均值|\n",
    "|median|值的算数中位数（50%分位数）|\n",
    "|mad|根据平均值计算平均绝对离差|\n",
    "|var|样本值的方差|\n",
    "|std|样本值的标准差|\n",
    "|skew|样本值的偏度(三阶矩)|\n",
    "|kurt|样本值的峰度(四阶矩)|\n",
    "|cumsum|梯度求和|\n",
    "|cummin，cummax|样本值的累计最大值，和累记最小值|\n",
    "|cumprod|样本值的累计积|\n",
    "|diff|计算一阶差分(对时间序列很有用)|\n",
    "|pct_change|计算百分比变化|"
   ],
   "metadata": {
    "collapsed": false,
    "pycharm": {
     "name": "#%% md\n"
    }
   }
  },
  {
   "cell_type": "markdown",
   "source": [
    "#### 相关系数和协方差"
   ],
   "metadata": {
    "collapsed": false,
    "pycharm": {
     "name": "#%% md\n"
    }
   }
  },
  {
   "cell_type": "code",
   "execution_count": 78,
   "outputs": [
    {
     "ename": "ModuleNotFoundError",
     "evalue": "No module named 'pandas_datareader'",
     "output_type": "error",
     "traceback": [
      "\u001B[1;31m---------------------------------------------------------------------------\u001B[0m",
      "\u001B[1;31mModuleNotFoundError\u001B[0m                       Traceback (most recent call last)",
      "\u001B[1;32m<ipython-input-78-c105060708c7>\u001B[0m in \u001B[0;36m<module>\u001B[1;34m\u001B[0m\n\u001B[1;32m----> 1\u001B[1;33m \u001B[1;32mimport\u001B[0m \u001B[0mpandas_datareader\u001B[0m\u001B[1;33m\u001B[0m\u001B[1;33m\u001B[0m\u001B[0m\n\u001B[0m\u001B[0;32m      2\u001B[0m \u001B[1;33m\u001B[0m\u001B[0m\n\u001B[0;32m      3\u001B[0m \u001B[0mall_data\u001B[0m \u001B[1;33m=\u001B[0m \u001B[1;33m{\u001B[0m\u001B[1;33m}\u001B[0m\u001B[1;33m\u001B[0m\u001B[1;33m\u001B[0m\u001B[0m\n\u001B[0;32m      4\u001B[0m \u001B[1;32mfor\u001B[0m \u001B[0mticker\u001B[0m \u001B[1;32min\u001B[0m \u001B[1;33m[\u001B[0m\u001B[1;34m'AAPL'\u001B[0m\u001B[1;33m,\u001B[0m\u001B[1;34m'IBM'\u001B[0m\u001B[1;33m,\u001B[0m\u001B[1;34m'MSFT'\u001B[0m\u001B[1;33m,\u001B[0m\u001B[1;34m'GOOG'\u001B[0m\u001B[1;33m]\u001B[0m\u001B[1;33m:\u001B[0m\u001B[1;33m\u001B[0m\u001B[1;33m\u001B[0m\u001B[0m\n\u001B[0;32m      5\u001B[0m     \u001B[0mall_data\u001B[0m\u001B[1;33m[\u001B[0m\u001B[1;34m'ticker'\u001B[0m\u001B[1;33m]\u001B[0m \u001B[1;33m=\u001B[0m \u001B[0mweb\u001B[0m\u001B[1;33m.\u001B[0m\u001B[0mget_data_yahoo\u001B[0m\u001B[1;33m(\u001B[0m\u001B[0mticker\u001B[0m\u001B[1;33m,\u001B[0m\u001B[1;34m'1/1/2000'\u001B[0m\u001B[1;33m,\u001B[0m\u001B[1;34m'1/1/2010'\u001B[0m\u001B[1;33m)\u001B[0m\u001B[1;33m\u001B[0m\u001B[1;33m\u001B[0m\u001B[0m\n",
      "\u001B[1;31mModuleNotFoundError\u001B[0m: No module named 'pandas_datareader'"
     ]
    }
   ],
   "source": [
    "import pandas_datareader\n",
    "\n",
    "all_data = {}\n",
    "for ticker in ['AAPL','IBM','MSFT','GOOG']:\n",
    "    all_data['ticker'] = web.get_data_yahoo(ticker,'1/1/2000','1/1/2010')"
   ],
   "metadata": {
    "collapsed": false,
    "pycharm": {
     "name": "#%%\n"
    }
   }
  },
  {
   "cell_type": "markdown",
   "source": [
    "#### 唯一值，值计数，以及成员的资格"
   ],
   "metadata": {
    "collapsed": false,
    "pycharm": {
     "name": "#%% md\n"
    }
   }
  },
  {
   "cell_type": "code",
   "execution_count": 80,
   "outputs": [
    {
     "data": {
      "text/plain": "array(['a', 'b', 'c', 'e', 'f'], dtype=object)"
     },
     "execution_count": 80,
     "metadata": {},
     "output_type": "execute_result"
    }
   ],
   "source": [
    "obj6 = Series(['a','b','c','c','e','f','e','a'])\n",
    "# 这个unique方法可以找到所用的独一无儿的值，非常方便，有点像set函数，就是那个集合函数\n",
    "obj6.unique()"
   ],
   "metadata": {
    "collapsed": false,
    "pycharm": {
     "name": "#%%\n"
    }
   }
  },
  {
   "cell_type": "code",
   "execution_count": 82,
   "outputs": [
    {
     "data": {
      "text/plain": "a    2\ne    2\nc    2\nf    1\nb    1\ndtype: int64"
     },
     "execution_count": 82,
     "metadata": {},
     "output_type": "execute_result"
    }
   ],
   "source": [
    "obj6.value_counts()\n",
    "# 统计出现次数的函数"
   ],
   "metadata": {
    "collapsed": false,
    "pycharm": {
     "name": "#%%\n"
    }
   }
  },
  {
   "cell_type": "code",
   "execution_count": 87,
   "outputs": [
    {
     "data": {
      "text/plain": "a    2\ne    2\nc    2\nf    1\nb    1\ndtype: int64"
     },
     "execution_count": 87,
     "metadata": {},
     "output_type": "execute_result"
    }
   ],
   "source": [
    "pd.value_counts(obj6.values,sort=True)\n",
    "# 同样的我们可以使用pandas自带的values函数进行统计，也可以使用Class<Series>类里面的函数进行value_count"
   ],
   "metadata": {
    "collapsed": false,
    "pycharm": {
     "name": "#%%\n"
    }
   }
  },
  {
   "cell_type": "code",
   "execution_count": 91,
   "outputs": [
    {
     "data": {
      "text/plain": "0     True\n1    False\n2    False\n3    False\n4    False\n5    False\n6    False\n7     True\ndtype: bool"
     },
     "execution_count": 91,
     "metadata": {},
     "output_type": "execute_result"
    }
   ],
   "source": [
    "obj6.isin(['a'])\n",
    "# 这个函数有点像那个if语句的意思了，我们通过这个语句的判断返回了一个bool类型的Series数组，告诉我们包含的返回True"
   ],
   "metadata": {
    "collapsed": false,
    "pycharm": {
     "name": "#%%\n"
    }
   }
  },
  {
   "cell_type": "markdown",
   "source": [
    "#### 处理缺失数据(missing data)"
   ],
   "metadata": {
    "collapsed": false,
    "pycharm": {
     "name": "#%% md\n"
    }
   }
  },
  {
   "cell_type": "code",
   "execution_count": 99,
   "outputs": [
    {
     "data": {
      "text/plain": "0    False\n1    False\n2    False\n3     True\n4    False\ndtype: bool"
     },
     "execution_count": 99,
     "metadata": {},
     "output_type": "execute_result"
    }
   ],
   "source": [
    "obj7 = Series(['huangxingjie','lisimao','alipla',np.nan,'oulaoula',])\n",
    "obj7.isnull()\n",
    "# 字面理解很好懂\n",
    "# None也可以被当作NA处理"
   ],
   "metadata": {
    "collapsed": false,
    "pycharm": {
     "name": "#%%\n"
    }
   }
  },
  {
   "cell_type": "markdown",
   "source": [
    "##### NA的处理方法\n",
    "|方法|说明|\n",
    "|:-|:-|\n",
    "|dropna|根据各个标签值中是否存在缺失值数据对轴标签进行标签过滤，可通过阈值调节对缺失值的容忍度|\n",
    "|fillna|用指定值或者插值的方法(如ffill或者bfill)填充数据|\n",
    "|isnull|判断是不是null，返回值任然是一个Series或者是DataFrame的数据结构|\n",
    "|notnull|isnull的否定形式|"
   ],
   "metadata": {
    "collapsed": false,
    "pycharm": {
     "name": "#%% md\n"
    }
   }
  },
  {
   "cell_type": "markdown",
   "source": [
    "#### 滤除缺失数据"
   ],
   "metadata": {
    "collapsed": false,
    "pycharm": {
     "name": "#%% md\n"
    }
   }
  },
  {
   "cell_type": "code",
   "execution_count": 102,
   "outputs": [
    {
     "data": {
      "text/plain": "0    1.0\n1    NaN\n2    3.5\n3    NaN\n4    7.0\ndtype: float64"
     },
     "execution_count": 102,
     "metadata": {},
     "output_type": "execute_result"
    }
   ],
   "source": [
    "from numpy import nan as NA\n",
    "data_na = Series([1,NA,3.5,NA,7])\n",
    "data_na"
   ],
   "metadata": {
    "collapsed": false,
    "pycharm": {
     "name": "#%%\n"
    }
   }
  },
  {
   "cell_type": "code",
   "execution_count": 104,
   "outputs": [
    {
     "data": {
      "text/plain": "0    1.0\n2    3.5\n4    7.0\ndtype: float64"
     },
     "execution_count": 104,
     "metadata": {},
     "output_type": "execute_result"
    }
   ],
   "source": [
    "data_na.dropna()\n",
    "# 抛弃了那些标有na的值"
   ],
   "metadata": {
    "collapsed": false,
    "pycharm": {
     "name": "#%%\n"
    }
   }
  },
  {
   "cell_type": "code",
   "execution_count": 105,
   "outputs": [],
   "source": [
    "# 也可以通过bool类型的索引值来实现"
   ],
   "metadata": {
    "collapsed": false,
    "pycharm": {
     "name": "#%%\n"
    }
   }
  },
  {
   "cell_type": "markdown",
   "source": [
    "#### 填充缺失的数据(\\*\\*\\*\\*\\*\\*\\*\\*\\*\\*\\*\\*\\*\\*\\*\\*\\*\\*\\*\\*\\*)"
   ],
   "metadata": {
    "collapsed": false,
    "pycharm": {
     "name": "#%% md\n"
    }
   }
  },
  {
   "cell_type": "code",
   "execution_count": 119,
   "outputs": [
    {
     "data": {
      "text/plain": "          0         1         2         3         4\n0 -0.234987 -0.181331 -0.171360 -1.852412  1.458073\n1  0.898420 -0.467784 -0.652583  0.576650 -0.463199\n2  2.899147  2.043690 -1.189726 -0.253047 -1.226623\n3  0.167628  0.343452  0.275498 -3.519428 -0.422354\n4  0.135648  1.595172 -1.520161  0.980285 -1.277698",
      "text/html": "<div>\n<style scoped>\n    .dataframe tbody tr th:only-of-type {\n        vertical-align: middle;\n    }\n\n    .dataframe tbody tr th {\n        vertical-align: top;\n    }\n\n    .dataframe thead th {\n        text-align: right;\n    }\n</style>\n<table border=\"1\" class=\"dataframe\">\n  <thead>\n    <tr style=\"text-align: right;\">\n      <th></th>\n      <th>0</th>\n      <th>1</th>\n      <th>2</th>\n      <th>3</th>\n      <th>4</th>\n    </tr>\n  </thead>\n  <tbody>\n    <tr>\n      <th>0</th>\n      <td>-0.234987</td>\n      <td>-0.181331</td>\n      <td>-0.171360</td>\n      <td>-1.852412</td>\n      <td>1.458073</td>\n    </tr>\n    <tr>\n      <th>1</th>\n      <td>0.898420</td>\n      <td>-0.467784</td>\n      <td>-0.652583</td>\n      <td>0.576650</td>\n      <td>-0.463199</td>\n    </tr>\n    <tr>\n      <th>2</th>\n      <td>2.899147</td>\n      <td>2.043690</td>\n      <td>-1.189726</td>\n      <td>-0.253047</td>\n      <td>-1.226623</td>\n    </tr>\n    <tr>\n      <th>3</th>\n      <td>0.167628</td>\n      <td>0.343452</td>\n      <td>0.275498</td>\n      <td>-3.519428</td>\n      <td>-0.422354</td>\n    </tr>\n    <tr>\n      <th>4</th>\n      <td>0.135648</td>\n      <td>1.595172</td>\n      <td>-1.520161</td>\n      <td>0.980285</td>\n      <td>-1.277698</td>\n    </tr>\n  </tbody>\n</table>\n</div>"
     },
     "execution_count": 119,
     "metadata": {},
     "output_type": "execute_result"
    }
   ],
   "source": [
    "df4 = DataFrame(np.random.randn(5,5))\n",
    "df4"
   ],
   "metadata": {
    "collapsed": false,
    "pycharm": {
     "name": "#%%\n"
    }
   }
  },
  {
   "cell_type": "code",
   "execution_count": 123,
   "outputs": [
    {
     "data": {
      "text/plain": "          0         1         2         3         4\n0 -0.234987 -0.181331       NaN       NaN       NaN\n1  0.898420 -0.467784 -0.652583  0.576650 -0.463199\n2  2.899147  2.043690 -1.189726 -0.253047 -1.226623\n3  0.167628  0.343452  0.275498 -3.519428 -0.422354\n4  0.135648  1.595172 -1.520161       NaN       NaN",
      "text/html": "<div>\n<style scoped>\n    .dataframe tbody tr th:only-of-type {\n        vertical-align: middle;\n    }\n\n    .dataframe tbody tr th {\n        vertical-align: top;\n    }\n\n    .dataframe thead th {\n        text-align: right;\n    }\n</style>\n<table border=\"1\" class=\"dataframe\">\n  <thead>\n    <tr style=\"text-align: right;\">\n      <th></th>\n      <th>0</th>\n      <th>1</th>\n      <th>2</th>\n      <th>3</th>\n      <th>4</th>\n    </tr>\n  </thead>\n  <tbody>\n    <tr>\n      <th>0</th>\n      <td>-0.234987</td>\n      <td>-0.181331</td>\n      <td>NaN</td>\n      <td>NaN</td>\n      <td>NaN</td>\n    </tr>\n    <tr>\n      <th>1</th>\n      <td>0.898420</td>\n      <td>-0.467784</td>\n      <td>-0.652583</td>\n      <td>0.576650</td>\n      <td>-0.463199</td>\n    </tr>\n    <tr>\n      <th>2</th>\n      <td>2.899147</td>\n      <td>2.043690</td>\n      <td>-1.189726</td>\n      <td>-0.253047</td>\n      <td>-1.226623</td>\n    </tr>\n    <tr>\n      <th>3</th>\n      <td>0.167628</td>\n      <td>0.343452</td>\n      <td>0.275498</td>\n      <td>-3.519428</td>\n      <td>-0.422354</td>\n    </tr>\n    <tr>\n      <th>4</th>\n      <td>0.135648</td>\n      <td>1.595172</td>\n      <td>-1.520161</td>\n      <td>NaN</td>\n      <td>NaN</td>\n    </tr>\n  </tbody>\n</table>\n</div>"
     },
     "execution_count": 123,
     "metadata": {},
     "output_type": "execute_result"
    }
   ],
   "source": [
    "df4.iloc[:1,2:] = NA\n",
    "df4.iloc[4:,3:] = NA\n",
    "df4"
   ],
   "metadata": {
    "collapsed": false,
    "pycharm": {
     "name": "#%%\n"
    }
   }
  },
  {
   "cell_type": "code",
   "execution_count": 124,
   "outputs": [
    {
     "data": {
      "text/plain": "          0         1         2         3         4\n0 -0.234987 -0.181331  0.000000  0.000000  0.000000\n1  0.898420 -0.467784 -0.652583  0.576650 -0.463199\n2  2.899147  2.043690 -1.189726 -0.253047 -1.226623\n3  0.167628  0.343452  0.275498 -3.519428 -0.422354\n4  0.135648  1.595172 -1.520161  0.000000  0.000000",
      "text/html": "<div>\n<style scoped>\n    .dataframe tbody tr th:only-of-type {\n        vertical-align: middle;\n    }\n\n    .dataframe tbody tr th {\n        vertical-align: top;\n    }\n\n    .dataframe thead th {\n        text-align: right;\n    }\n</style>\n<table border=\"1\" class=\"dataframe\">\n  <thead>\n    <tr style=\"text-align: right;\">\n      <th></th>\n      <th>0</th>\n      <th>1</th>\n      <th>2</th>\n      <th>3</th>\n      <th>4</th>\n    </tr>\n  </thead>\n  <tbody>\n    <tr>\n      <th>0</th>\n      <td>-0.234987</td>\n      <td>-0.181331</td>\n      <td>0.000000</td>\n      <td>0.000000</td>\n      <td>0.000000</td>\n    </tr>\n    <tr>\n      <th>1</th>\n      <td>0.898420</td>\n      <td>-0.467784</td>\n      <td>-0.652583</td>\n      <td>0.576650</td>\n      <td>-0.463199</td>\n    </tr>\n    <tr>\n      <th>2</th>\n      <td>2.899147</td>\n      <td>2.043690</td>\n      <td>-1.189726</td>\n      <td>-0.253047</td>\n      <td>-1.226623</td>\n    </tr>\n    <tr>\n      <th>3</th>\n      <td>0.167628</td>\n      <td>0.343452</td>\n      <td>0.275498</td>\n      <td>-3.519428</td>\n      <td>-0.422354</td>\n    </tr>\n    <tr>\n      <th>4</th>\n      <td>0.135648</td>\n      <td>1.595172</td>\n      <td>-1.520161</td>\n      <td>0.000000</td>\n      <td>0.000000</td>\n    </tr>\n  </tbody>\n</table>\n</div>"
     },
     "execution_count": 124,
     "metadata": {},
     "output_type": "execute_result"
    }
   ],
   "source": [
    "df4.fillna(value=0)\n",
    "# 使用value参数实现对于缺失值的赋值\n",
    "# 你可以用这个东西玩很多花样出来，比如放个平均数啥的"
   ],
   "metadata": {
    "collapsed": false,
    "pycharm": {
     "name": "#%%\n"
    }
   }
  }
 ],
 "metadata": {
  "kernelspec": {
   "display_name": "Python 3",
   "language": "python",
   "name": "python3"
  },
  "language_info": {
   "codemirror_mode": {
    "name": "ipython",
    "version": 2
   },
   "file_extension": ".py",
   "mimetype": "text/x-python",
   "name": "python",
   "nbconvert_exporter": "python",
   "pygments_lexer": "ipython2",
   "version": "2.7.6"
  }
 },
 "nbformat": 4,
 "nbformat_minor": 0
}