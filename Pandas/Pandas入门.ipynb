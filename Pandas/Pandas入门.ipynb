{
 "cells": [
  {
   "cell_type": "markdown",
   "metadata": {
    "collapsed": true,
    "pycharm": {
     "name": "#%% md\n"
    }
   },
   "source": [
    "## Pandas入门\n",
    "> 我们对pandas的引入这样的规定，\n",
    "```\n",
    "import pandas as pd\n",
    "from pandas imort Series,DataFrame\n",
    "```\n",
    "* 我们一般这么写pandas的引入。注意这是规定，为了方便你的理解。"
   ]
  },
  {
   "cell_type": "markdown",
   "source": [
    "### pandas的数据结构介绍："
   ],
   "metadata": {
    "collapsed": false,
    "pycharm": {
     "name": "#%% md\n"
    }
   }
  },
  {
   "cell_type": "markdown",
   "source": [
    "#### Series\n",
    "> Series是一类类似于一维数组的对象，它是由一组数据(各种numpy数据类型)以及一组与之相关联的数据标签，仅由一组数据即可产生最简单的Series"
   ],
   "metadata": {
    "collapsed": false,
    "pycharm": {
     "name": "#%% md\n"
    }
   }
  },
  {
   "cell_type": "code",
   "execution_count": 22,
   "outputs": [],
   "source": [
    "import numpy as np\n",
    "import pandas as pd\n",
    "from pandas import Series,DataFrame\n"
   ],
   "metadata": {
    "collapsed": false,
    "pycharm": {
     "name": "#%%\n"
    }
   }
  },
  {
   "cell_type": "code",
   "execution_count": 23,
   "outputs": [
    {
     "data": {
      "text/plain": "first     a\nsecend    b\nthird     c\nfourth    d\ndtype: object"
     },
     "execution_count": 23,
     "metadata": {},
     "output_type": "execute_result"
    }
   ],
   "source": [
    "ser = Series(['a','b','c','d'])\n",
    "ser.index = ('first','secend','third','fourth')\n",
    "ser"
   ],
   "metadata": {
    "collapsed": false,
    "pycharm": {
     "name": "#%%\n"
    }
   }
  },
  {
   "cell_type": "code",
   "execution_count": 24,
   "outputs": [
    {
     "data": {
      "text/plain": "array(['a', 'b', 'c', 'd'], dtype=object)"
     },
     "execution_count": 24,
     "metadata": {},
     "output_type": "execute_result"
    }
   ],
   "source": [
    "# 使用values函数可以实现值的访问\n",
    "ser.values"
   ],
   "metadata": {
    "collapsed": false,
    "pycharm": {
     "name": "#%%\n"
    }
   }
  },
  {
   "cell_type": "code",
   "execution_count": 25,
   "outputs": [
    {
     "data": {
      "text/plain": "Index(['first', 'secend', 'third', 'fourth'], dtype='object')"
     },
     "execution_count": 25,
     "metadata": {},
     "output_type": "execute_result"
    }
   ],
   "source": [
    "# 使用index函数可以实现对于index的调用\n",
    "ser.index"
   ],
   "metadata": {
    "collapsed": false,
    "pycharm": {
     "name": "#%%\n"
    }
   }
  },
  {
   "cell_type": "code",
   "execution_count": 26,
   "outputs": [
    {
     "data": {
      "text/plain": "a    1\nb    2\nc    3\nd   -5\ne    6\nf    7\ndtype: int64"
     },
     "execution_count": 26,
     "metadata": {},
     "output_type": "execute_result"
    }
   ],
   "source": [
    "ser_number = Series([1,2,3,-5,6,7],index=['a','b','c','d','e','f'])\n",
    "ser_number"
   ],
   "metadata": {
    "collapsed": false,
    "pycharm": {
     "name": "#%%\n"
    }
   }
  },
  {
   "cell_type": "code",
   "execution_count": 27,
   "outputs": [
    {
     "data": {
      "text/plain": "a    1\nb    2\nc    3\ne    6\nf    7\ndtype: int64"
     },
     "execution_count": 27,
     "metadata": {},
     "output_type": "execute_result"
    }
   ],
   "source": [
    "# 实现对特定元素的读取\n",
    "# 对于元素的提取我们同样需要使用中括号给函数限定范围。以用来适合用。\n",
    "ser_number[ser_number.values >= 0]\n"
   ],
   "metadata": {
    "collapsed": false,
    "pycharm": {
     "name": "#%%\n"
    }
   }
  },
  {
   "cell_type": "code",
   "execution_count": 28,
   "outputs": [
    {
     "data": {
      "text/plain": "a                    1\nb              1048576\nc           3486784401\nd       95367431640625\ne     3656158440062976\nf    79792266297612001\ndtype: int64"
     },
     "execution_count": 28,
     "metadata": {},
     "output_type": "execute_result"
    }
   ],
   "source": [
    "# series数据类型之间的运算。\n",
    "ser_number ** 20"
   ],
   "metadata": {
    "collapsed": false,
    "pycharm": {
     "name": "#%%\n"
    }
   }
  },
  {
   "cell_type": "code",
   "execution_count": 29,
   "outputs": [],
   "source": [
    "# 我们同样可以使用字典直接导入，为一个series\n",
    "# 同样我们可以使用很多numpy中的函数。\n",
    "# 可以说是非常的nice"
   ],
   "metadata": {
    "collapsed": false,
    "pycharm": {
     "name": "#%%\n"
    }
   }
  },
  {
   "cell_type": "markdown",
   "source": [
    "### Dataframe"
   ],
   "metadata": {
    "collapsed": false,
    "pycharm": {
     "name": "#%% md\n"
    }
   }
  },
  {
   "cell_type": "code",
   "execution_count": 30,
   "outputs": [
    {
     "ename": "FileNotFoundError",
     "evalue": "[Errno 2] No such file or directory: 'c:\\\\users\\\\HP2\\\\PycharmProjects\\\\Python\\\\pydata-book-2nd-edition\\\\datasets\\\\babynames\\\\yob1880.txt'",
     "output_type": "error",
     "traceback": [
      "\u001B[1;31m---------------------------------------------------------------------------\u001B[0m",
      "\u001B[1;31mFileNotFoundError\u001B[0m                         Traceback (most recent call last)",
      "\u001B[1;32m<ipython-input-30-dcab8415379c>\u001B[0m in \u001B[0;36m<module>\u001B[1;34m\u001B[0m\n\u001B[0;32m      1\u001B[0m \u001B[0mbabyname\u001B[0m \u001B[1;33m=\u001B[0m \u001B[1;34m\"c:\\\\users\\\\HP2\\\\PycharmProjects\\\\Python\\\\pydata-book-2nd-edition\\\\datasets\\\\babynames\\\\yob1880.txt\"\u001B[0m\u001B[1;33m\u001B[0m\u001B[1;33m\u001B[0m\u001B[0m\n\u001B[1;32m----> 2\u001B[1;33m \u001B[0mopen\u001B[0m\u001B[1;33m(\u001B[0m\u001B[0mbabyname\u001B[0m\u001B[1;33m,\u001B[0m\u001B[0mencoding\u001B[0m\u001B[1;33m=\u001B[0m\u001B[1;34m'UTF-8'\u001B[0m\u001B[1;33m)\u001B[0m\u001B[1;33m.\u001B[0m\u001B[0mreadlines\u001B[0m\u001B[1;33m(\u001B[0m\u001B[1;33m)\u001B[0m\u001B[1;33m\u001B[0m\u001B[1;33m\u001B[0m\u001B[0m\n\u001B[0m\u001B[0;32m      3\u001B[0m \u001B[1;33m\u001B[0m\u001B[0m\n",
      "\u001B[1;31mFileNotFoundError\u001B[0m: [Errno 2] No such file or directory: 'c:\\\\users\\\\HP2\\\\PycharmProjects\\\\Python\\\\pydata-book-2nd-edition\\\\datasets\\\\babynames\\\\yob1880.txt'"
     ]
    }
   ],
   "source": [
    "babyname = \"c:\\\\users\\\\HP2\\\\PycharmProjects\\\\Python\\\\pydata-book-2nd-edition\\\\datasets\\\\babynames\\\\yob1880.txt\"\n",
    "open(babyname,encoding='UTF-8').readlines()"
   ],
   "metadata": {
    "collapsed": false,
    "pycharm": {
     "name": "#%%\n"
    }
   }
  },
  {
   "cell_type": "code",
   "execution_count": null,
   "outputs": [],
   "source": [
    "data = {'name':['huangxingjie','lisimao','oulaoula'],\n",
    "        'ages':[18,19,77],\n",
    "        'grene':['boy','boy','girl'],\n",
    "       }\n",
    "# 可以在构建dataframe内部应用这个index实现对每一个初始index赋值。\n",
    "dataframe1 = DataFrame(data,index=['student1','student2','student3'])\n",
    "dataframe1"
   ],
   "metadata": {
    "collapsed": false,
    "pycharm": {
     "name": "#%%\n"
    }
   }
  },
  {
   "cell_type": "code",
   "execution_count": null,
   "outputs": [],
   "source": [
    "dataframe1['ages'][dataframe1['ages'] >= 19]"
   ],
   "metadata": {
    "collapsed": false,
    "pycharm": {
     "name": "#%%\n"
    }
   }
  },
  {
   "cell_type": "code",
   "execution_count": null,
   "outputs": [],
   "source": [
    "# dataframe的切片任然可以使用只不过这里的是对列元素的切片。\n",
    "dataframe1[:2]\n"
   ],
   "metadata": {
    "collapsed": false,
    "pycharm": {
     "name": "#%%\n"
    }
   }
  },
  {
   "cell_type": "code",
   "execution_count": null,
   "outputs": [],
   "source": [
    "# 使用del语句可以指定列的删除。"
   ],
   "metadata": {
    "collapsed": false,
    "pycharm": {
     "name": "#%%\n"
    }
   }
  },
  {
   "cell_type": "code",
   "execution_count": null,
   "outputs": [],
   "source": [
    "# 也可以使用转置方法实现另一个demension 的切片。"
   ],
   "metadata": {
    "collapsed": false,
    "pycharm": {
     "name": "#%%\n"
    }
   }
  },
  {
   "cell_type": "markdown",
   "source": [
    "#### 可以输入给DataFrame构造器的数据\n",
    "|类型|说明|\n",
    "|:-|:-|\n",
    "|二维ndarry|数据矩阵，还可以传入相关行列标|\n",
    "|由数组列表元组构成的字典|每个序列将变成dataframe的一列，且每列的长度必须相同|\n",
    "|numpy结构化/记录数组|类似于由数组构成的字典|\n",
    "|由Series构成的字典|每个series将成为一列，如果没有显式索引，我们将把每一个索引叠加后成为统一的索引|\n",
    "|由字典构成的字典|每个内层的字典为单独的一列|\n",
    "|字典或者Series列表|各项将成为dataframe的一行，字典的key或者series的索引将合并为行标|\n",
    "|由元组或者列表构成的列表|类似于二维adarry|\n",
    "|另外一个dataframe|该dataframe的索引将继续被使用|\n",
    "|numpy的maskedarray|类似于二维的nadarry，除了掩盖码会在dataframe中呈现为NaN的奇怪值|\n",
    "\n"
   ],
   "metadata": {
    "collapsed": false,
    "pycharm": {
     "name": "#%% md\n"
    }
   }
  },
  {
   "cell_type": "markdown",
   "source": [
    "### 索引对象\n",
    "> dataframe的索引不可更改"
   ],
   "metadata": {
    "collapsed": false,
    "pycharm": {
     "name": "#%% md\n"
    }
   }
  },
  {
   "cell_type": "markdown",
   "source": [
    "#### pandas中主要的index对象：\n",
    "|类|说明|\n",
    "|:-|:-|\n",
    "|Index|最泛化的Index对象，将轴标签表示为一个由Python对象组成的Numpy数组\n",
    "|Index64Index|针对整数的特殊的index|\n",
    "|MultiIndex|”层次化“索引对象，表示单个轴上的多层索引，可以看作由元组组成的数组|\n",
    "|DatetimeIndex|储存纳秒级别的时间戳(用Numpy的datetime64类型表示)|\n",
    "|PeriodIndex|针对Period数据(时间间隔)的特殊Index|\n",
    "\n"
   ],
   "metadata": {
    "collapsed": false,
    "pycharm": {
     "name": "#%% md\n"
    }
   }
  },
  {
   "cell_type": "markdown",
   "source": [
    "#### Index的方法和属性\n",
    "|方法|说明|\n",
    "|:-|:-|\n",
    "|append|连接另外一个index对象，产生一个新的index|\n",
    "|diff|计算差集|\n",
    "|intersection|计算交集(这里可以针对一个数据集合之中的一些数据的feature_name进行筛选，从而得到一个比较共有的一个数据类，借由这个作出分析，或者是deepmind)|\n",
    "|union|计算交集|\n",
    "|# isin|计算一个指示各个值是否包含于参数集合中的布尔型数组|\n"
   ],
   "metadata": {
    "collapsed": false,
    "pycharm": {
     "name": "#%% md\n"
    }
   }
  },
  {
   "cell_type": "markdown",
   "source": [
    "##### 一些奇怪的算法"
   ],
   "metadata": {
    "collapsed": false,
    "pycharm": {
     "name": "#%% md\n"
    }
   }
  },
  {
   "cell_type": "code",
   "execution_count": null,
   "outputs": [],
   "source": [
    "obj  = Series([1,2,3,4,5,6],index=('a','b','c','d','e','f'),dtype='float')\n",
    "index_obj = obj.index\n",
    "# 可以发现我们使用的index是一个类似于列表的形式，我们甚至可以使用切片对这个进行处理。"
   ],
   "metadata": {
    "collapsed": false,
    "pycharm": {
     "name": "#%%\n"
    }
   }
  },
  {
   "cell_type": "code",
   "execution_count": null,
   "outputs": [],
   "source": [
    "# 想一下，我们可以改变我们的index嘛我们试一下可不可以改变\n",
    "# index_obj[1] = 'c'\n",
    "# 所以我们不可以易更改我们的index值"
   ],
   "metadata": {
    "collapsed": false,
    "pycharm": {
     "name": "#%%\n"
    }
   }
  },
  {
   "cell_type": "code",
   "execution_count": null,
   "outputs": [],
   "source": [
    "index = pd.Index(np.arange(3))\n",
    "obj2 = Series([1,2,3],index=index)\n",
    "obj2.index is index\n",
    "# 这里的is语句我们可以直接使用来用以=判断是否这两个东西是完全一样的东西再来一个东西"
   ],
   "metadata": {
    "collapsed": false,
    "pycharm": {
     "name": "#%%\n"
    }
   }
  },
  {
   "cell_type": "code",
   "execution_count": null,
   "outputs": [],
   "source": [
    "arr1 = np.array([1,2,3,4,5])\n",
    "arr2 = np.array([1,2,3,4,5])\n",
    "arr1 is arr2\n",
    "# 由此得之，我们的arr1与arr2完全不是一个东西，而是虽然相同但是其内核完全不同的东西，即所谓他们的地址不同，不是一个东西·"
   ],
   "metadata": {
    "collapsed": false,
    "pycharm": {
     "name": "#%%\n"
    }
   }
  },
  {
   "cell_type": "markdown",
   "source": [
    "##### 针对于index的操作其实是为了让我们更加容易的找到我们所需要的数据名称，需要的是什么样的，什么是共有的数据"
   ],
   "metadata": {
    "collapsed": false,
    "pycharm": {
     "name": "#%% md\n"
    }
   }
  },
  {
   "cell_type": "code",
   "execution_count": null,
   "outputs": [],
   "source": [
    "# 我们也可以实现对于index 的重构，虽然无法对某一个index进行改变"
   ],
   "metadata": {
    "collapsed": false,
    "pycharm": {
     "name": "#%%\n"
    }
   }
  },
  {
   "cell_type": "code",
   "execution_count": null,
   "outputs": [],
   "source": [
    "obj2 = obj2.reindex(['a','c','b'])\n",
    "obj2.index"
   ],
   "metadata": {
    "collapsed": false,
    "pycharm": {
     "name": "#%%\n"
    }
   }
  },
  {
   "cell_type": "code",
   "execution_count": null,
   "outputs": [],
   "source": [
    "obj3 = Series(['blue','purple','yellow'],index=[0,2,4])\n",
    "obj3.reindex(range(6),method='ffill')"
   ],
   "metadata": {
    "collapsed": false,
    "pycharm": {
     "name": "#%%\n"
    }
   }
  },
  {
   "cell_type": "markdown",
   "source": [
    "### reindex的(插值)method选项\n",
    "|参数|说明|\n",
    "|:-|:-|\n",
    "|ffill或者pad|前向填充(或者搬运)值|\n",
    "|bfill或者##backfill|向后填充或者搬运|"
   ],
   "metadata": {
    "collapsed": false,
    "pycharm": {
     "name": "#%% md\n"
    }
   }
  },
  {
   "cell_type": "code",
   "execution_count": null,
   "outputs": [],
   "source": [
    "frame = DataFrame(np.arange(9).reshape(3,3),index=['a','c','d'],columns=['Ohio','Texas','California'])"
   ],
   "metadata": {
    "collapsed": false,
    "pycharm": {
     "name": "#%%\n"
    }
   }
  },
  {
   "cell_type": "code",
   "execution_count": null,
   "outputs": [],
   "source": [
    "frame.reindex(['a','b','c','d'])\n",
    "frame"
   ],
   "metadata": {
    "collapsed": false,
    "pycharm": {
     "name": "#%%\n"
    }
   }
  },
  {
   "cell_type": "code",
   "execution_count": null,
   "outputs": [],
   "source": [
    "states = ['Ohio','Utah','California']\n",
    "# 可以发现这里的列向有一列啥数据都没有，所以我们计算机给他附上NaN的值，代表它啥也不是。\n",
    "frame.reindex(columns=states)\n"
   ],
   "metadata": {
    "collapsed": false,
    "pycharm": {
     "name": "#%%\n"
    }
   }
  },
  {
   "cell_type": "code",
   "execution_count": null,
   "outputs": [],
   "source": [
    "# 当然我们还哦可以使用这个ix函数来直接给index和column赋值老改变数据类型"
   ],
   "metadata": {
    "collapsed": false,
    "pycharm": {
     "name": "#%%\n"
    }
   }
  },
  {
   "cell_type": "markdown",
   "source": [
    "##### reindex函数的参数\n",
    "|参数|说明|\n",
    "|:-|:-|\n",
    "|index|用作于输入数据的index索引值的确切数值|\n",
    "|method|插值(填充)方式|\n",
    "|fill_value|在重新索引的过程中，需要引入缺失值时的替代值|\n",
    "|limit|向前或者向后填充时的最大填充量|\n",
    "|level|在MultiIndex的指定级别上匹配简单的索引，否则取子集|\n",
    "|copy|默认为True，无论如何都赋值，如果为False，则此时新旧不相等就停止复制|"
   ],
   "metadata": {
    "collapsed": false,
    "pycharm": {
     "name": "#%% md\n"
    }
   }
  },
  {
   "cell_type": "markdown",
   "source": [
    "#### reindex函数的一些内涵："
   ],
   "metadata": {
    "collapsed": false,
    "pycharm": {
     "name": "#%% md\n"
    }
   }
  },
  {
   "cell_type": "code",
   "execution_count": null,
   "outputs": [],
   "source": [
    "test_reindex = Series([1,2,3,4,5],index=['a','b','c','d','e'])\n",
    "new_index = ['a','b','c','d','e','z']\n",
    "test_reindex.reindex(index=new_index)\n",
    "# 看到我们更新之后发现数据多了一行而且是空的"
   ],
   "metadata": {
    "collapsed": false,
    "pycharm": {
     "name": "#%%\n"
    }
   }
  },
  {
   "cell_type": "code",
   "execution_count": null,
   "outputs": [],
   "source": [
    "# 我们来给那个值附上一个值\n",
    "test_reindex.reindex(fill_value=1,index=new_index)"
   ],
   "metadata": {
    "collapsed": false,
    "pycharm": {
     "name": "#%%\n"
    }
   }
  },
  {
   "cell_type": "code",
   "execution_count": null,
   "outputs": [],
   "source": [
    "test_reindex_limit = Series(['a','b','c','d'],index=[0,2,4,8])"
   ],
   "metadata": {
    "collapsed": false,
    "pycharm": {
     "name": "#%%\n"
    }
   }
  },
  {
   "cell_type": "markdown",
   "source": [
    "#### 丢弃指定轴上的项\n",
    "> 使用的是drop函数进行操作"
   ],
   "metadata": {
    "collapsed": false,
    "pycharm": {
     "name": "#%% md\n"
    }
   }
  },
  {
   "cell_type": "code",
   "execution_count": null,
   "outputs": [],
   "source": [
    "obj4 = Series(np.arange(5.),index=['a','b','c','d','e'])\n",
    "# 可以这么使用，我们在drop函数里面加上我们的index索引值，或者在drop里面直接加上所选index列表切片就可以实现对指定的东西的切割提取"
   ],
   "metadata": {
    "collapsed": false,
    "pycharm": {
     "name": "#%%\n"
    }
   }
  },
  {
   "cell_type": "code",
   "execution_count": null,
   "outputs": [],
   "source": [
    "obj4.drop(obj4.index[1:4])\n",
    "# 非常有意思，花里胡商的"
   ],
   "metadata": {
    "collapsed": false,
    "pycharm": {
     "name": "#%%\n"
    }
   }
  },
  {
   "cell_type": "code",
   "execution_count": null,
   "outputs": [],
   "source": [
    "# 有关于dataframe的索引值打印\n",
    "data_frame_city = DataFrame(np.arange(16).reshape(4,4),index=['City1','City2','City3','City4',],columns=['Square1','Square2','Square3','Square4',])\n",
    "data_frame_city"
   ],
   "metadata": {
    "collapsed": false,
    "pycharm": {
     "name": "#%%\n"
    }
   }
  },
  {
   "cell_type": "code",
   "execution_count": null,
   "outputs": [],
   "source": [
    "# 对列也可以使用这种骚操作\n",
    "data_frame_city.drop(columns=['Square1'])"
   ],
   "metadata": {
    "collapsed": false,
    "pycharm": {
     "name": "#%%\n"
    }
   }
  },
  {
   "cell_type": "markdown",
   "source": [
    "#### 索引筛取与过滤"
   ],
   "metadata": {
    "collapsed": false,
    "pycharm": {
     "name": "#%% md\n"
    }
   }
  },
  {
   "cell_type": "code",
   "execution_count": null,
   "outputs": [],
   "source": [
    "data_standard = DataFrame(np.arange(16).reshape(4,4),index=['Ohio','Colorado','Utah','New York'],columns=['One','Two','Three','Four'])\n",
    "data_standard"
   ],
   "metadata": {
    "collapsed": false,
    "pycharm": {
     "name": "#%%\n"
    }
   }
  },
  {
   "cell_type": "code",
   "execution_count": null,
   "outputs": [],
   "source": [
    "data_standard[data_standard > 3 ]"
   ],
   "metadata": {
    "collapsed": false,
    "pycharm": {
     "name": "#%%\n"
    }
   }
  },
  {
   "cell_type": "code",
   "execution_count": null,
   "outputs": [],
   "source": [
    "# 直接不通过我们的中括号来进行索引值的筛选的话，就会哦返回一个bool类型的DateFrame\n",
    "data_standard_bool = data_standard < 5\n",
    "# 可以进行赋值以留下我们所需要的数据"
   ],
   "metadata": {
    "collapsed": false,
    "pycharm": {
     "name": "#%%\n"
    }
   }
  },
  {
   "cell_type": "markdown",
   "source": [
    "### 介绍一下我们的ix函数"
   ],
   "metadata": {
    "collapsed": false,
    "pycharm": {
     "name": "#%% md\n"
    }
   }
  },
  {
   "cell_type": "code",
   "execution_count": null,
   "outputs": [],
   "source": [
    "# 秒呀秒呀秒呀\n",
    "# 这样就是实现了DataFrame的切片\n",
    "data_standard.iloc[:3,1:4]"
   ],
   "metadata": {
    "collapsed": false,
    "pycharm": {
     "name": "#%%\n"
    }
   }
  },
  {
   "cell_type": "code",
   "source": [
    "data_standard._get_value(index='Ohio',col='One')\n",
    "# 使用的是我们标准的索引值，而非内在索引值"
   ],
   "metadata": {
    "collapsed": false,
    "pycharm": {
     "name": "#%%\n"
    }
   },
   "execution_count": null,
   "outputs": []
  },
  {
   "cell_type": "markdown",
   "source": [
    "#### DataFrame的索引选项\n",
    "|类型|说明|\n",
    "|:-|:-|\n",
    "|obj[val]|选取一个DataFrame的单个列，或者一组列，在某些特殊情况下比较便利，如bool型数组，切片|\n",
    "|obj.iloc[val]|选取特定列与行的int索引值，对其进行输出|\n",
    "|get_value,set_value|根据行标签和列标签选取单个值|"
   ],
   "metadata": {
    "collapsed": false,
    "pycharm": {
     "name": "#%% md\n"
    }
   }
  },
  {
   "cell_type": "markdown",
   "source": [
    "#### 算数运算和数据对齐"
   ],
   "metadata": {
    "collapsed": false,
    "pycharm": {
     "name": "#%% md\n"
    }
   }
  },
  {
   "cell_type": "code",
   "execution_count": null,
   "outputs": [],
   "source": [
    "s1 = Series([7.3,-2.5,3.4,1.5],index=['a','c','d','e'])\n",
    "s2 = Series([-2.1,-2.2,1.4,4.5,0.3],index=['a','c','e','f','g'])\n",
    "# 同样的我们的DataFrame也可以使用这种操作用来做加减法，就有点想numpy里面的ufunc\n",
    "s1 + s2"
   ],
   "metadata": {
    "collapsed": false,
    "pycharm": {
     "name": "#%%\n"
    }
   }
  },
  {
   "cell_type": "markdown",
   "source": [
    "#### 在算数方法中填充值"
   ],
   "metadata": {
    "collapsed": false,
    "pycharm": {
     "name": "#%% md\n"
    }
   }
  },
  {
   "cell_type": "code",
   "execution_count": null,
   "outputs": [],
   "source": [
    "df1 = DataFrame(np.arange(12).reshape(3,4),columns=list(\"abcd\"))\n",
    "df2 = DataFrame(np.arange(16).reshape(4,4),columns=list(\"abed\"))"
   ],
   "metadata": {
    "collapsed": false,
    "pycharm": {
     "name": "#%%\n"
    }
   }
  },
  {
   "cell_type": "code",
   "execution_count": null,
   "outputs": [],
   "source": [
    "df1"
   ],
   "metadata": {
    "collapsed": false,
    "pycharm": {
     "name": "#%%\n"
    }
   }
  },
  {
   "cell_type": "code",
   "execution_count": null,
   "outputs": [],
   "source": [
    "df2"
   ],
   "metadata": {
    "collapsed": false,
    "pycharm": {
     "name": "#%%\n"
    }
   }
  },
  {
   "cell_type": "code",
   "execution_count": null,
   "outputs": [],
   "source": [
    "# 使用add函数可以进行加和函数\n",
    "df1.add(df2,fill_value=0)"
   ],
   "metadata": {
    "collapsed": false,
    "pycharm": {
     "name": "#%%\n"
    }
   }
  },
  {
   "cell_type": "markdown",
   "source": [
    "##### 灵活的算术方法\n",
    "|方法|说明|\n",
    "|:-|:-|\n",
    "|add|用于加法|\n",
    "|sub|用于减法|\n",
    "|div|用于除法|\n",
    "|mul|用于乘法（*）|"
   ],
   "metadata": {
    "collapsed": false,
    "pycharm": {
     "name": "#%% md\n"
    }
   }
  },
  {
   "cell_type": "code",
   "execution_count": 33,
   "outputs": [
    {
     "data": {
      "text/plain": "   a  b  e   d\n0  0  1  0   3\n1  4  5  0   7\n2  8  9  0  11",
      "text/html": "<div>\n<style scoped>\n    .dataframe tbody tr th:only-of-type {\n        vertical-align: middle;\n    }\n\n    .dataframe tbody tr th {\n        vertical-align: top;\n    }\n\n    .dataframe thead th {\n        text-align: right;\n    }\n</style>\n<table border=\"1\" class=\"dataframe\">\n  <thead>\n    <tr style=\"text-align: right;\">\n      <th></th>\n      <th>a</th>\n      <th>b</th>\n      <th>e</th>\n      <th>d</th>\n    </tr>\n  </thead>\n  <tbody>\n    <tr>\n      <th>0</th>\n      <td>0</td>\n      <td>1</td>\n      <td>0</td>\n      <td>3</td>\n    </tr>\n    <tr>\n      <th>1</th>\n      <td>4</td>\n      <td>5</td>\n      <td>0</td>\n      <td>7</td>\n    </tr>\n    <tr>\n      <th>2</th>\n      <td>8</td>\n      <td>9</td>\n      <td>0</td>\n      <td>11</td>\n    </tr>\n  </tbody>\n</table>\n</div>"
     },
     "execution_count": 33,
     "metadata": {},
     "output_type": "execute_result"
    }
   ],
   "source": [
    "df1.reindex(columns=df2.columns,fill_value=0)\n"
   ],
   "metadata": {
    "collapsed": false,
    "pycharm": {
     "name": "#%%\n"
    }
   }
  },
  {
   "cell_type": "code",
   "execution_count": 39,
   "outputs": [
    {
     "data": {
      "text/plain": "      a     b    c      d    e\n0   0.0   1.0  0.0    9.0  0.0\n1  16.0  25.0  0.0   49.0  0.0\n2  64.0  81.0  0.0  121.0  0.0\n3   0.0   0.0  NaN    0.0  0.0",
      "text/html": "<div>\n<style scoped>\n    .dataframe tbody tr th:only-of-type {\n        vertical-align: middle;\n    }\n\n    .dataframe tbody tr th {\n        vertical-align: top;\n    }\n\n    .dataframe thead th {\n        text-align: right;\n    }\n</style>\n<table border=\"1\" class=\"dataframe\">\n  <thead>\n    <tr style=\"text-align: right;\">\n      <th></th>\n      <th>a</th>\n      <th>b</th>\n      <th>c</th>\n      <th>d</th>\n      <th>e</th>\n    </tr>\n  </thead>\n  <tbody>\n    <tr>\n      <th>0</th>\n      <td>0.0</td>\n      <td>1.0</td>\n      <td>0.0</td>\n      <td>9.0</td>\n      <td>0.0</td>\n    </tr>\n    <tr>\n      <th>1</th>\n      <td>16.0</td>\n      <td>25.0</td>\n      <td>0.0</td>\n      <td>49.0</td>\n      <td>0.0</td>\n    </tr>\n    <tr>\n      <th>2</th>\n      <td>64.0</td>\n      <td>81.0</td>\n      <td>0.0</td>\n      <td>121.0</td>\n      <td>0.0</td>\n    </tr>\n    <tr>\n      <th>3</th>\n      <td>0.0</td>\n      <td>0.0</td>\n      <td>NaN</td>\n      <td>0.0</td>\n      <td>0.0</td>\n    </tr>\n  </tbody>\n</table>\n</div>"
     },
     "execution_count": 39,
     "metadata": {},
     "output_type": "execute_result"
    }
   ],
   "source": [
    "df1.sub(df2,fill_value=0)\n",
    "df1.mul(df2,fill_value=0)"
   ],
   "metadata": {
    "collapsed": false,
    "pycharm": {
     "name": "#%%\n"
    }
   }
  },
  {
   "cell_type": "markdown",
   "source": [
    "#### DataFrame 与 Series之间的一些运算法则"
   ],
   "metadata": {
    "collapsed": false,
    "pycharm": {
     "name": "#%% md\n"
    }
   }
  },
  {
   "cell_type": "code",
   "execution_count": 78,
   "outputs": [],
   "source": [
    "test_DataFrame  = DataFrame(np.arange(12).reshape(4,3),index=['a','b','c','d'],columns=['First','Second','Third'])\n",
    "test_Series = test_DataFrame[:1]"
   ],
   "metadata": {
    "collapsed": false,
    "pycharm": {
     "name": "#%%\n"
    }
   }
  },
  {
   "cell_type": "code",
   "execution_count": 73,
   "outputs": [
    {
     "data": {
      "text/plain": "   First  Second  Third\na      0       1      2\nb      3       4      5\nc      6       7      8\nd      9      10     11",
      "text/html": "<div>\n<style scoped>\n    .dataframe tbody tr th:only-of-type {\n        vertical-align: middle;\n    }\n\n    .dataframe tbody tr th {\n        vertical-align: top;\n    }\n\n    .dataframe thead th {\n        text-align: right;\n    }\n</style>\n<table border=\"1\" class=\"dataframe\">\n  <thead>\n    <tr style=\"text-align: right;\">\n      <th></th>\n      <th>First</th>\n      <th>Second</th>\n      <th>Third</th>\n    </tr>\n  </thead>\n  <tbody>\n    <tr>\n      <th>a</th>\n      <td>0</td>\n      <td>1</td>\n      <td>2</td>\n    </tr>\n    <tr>\n      <th>b</th>\n      <td>3</td>\n      <td>4</td>\n      <td>5</td>\n    </tr>\n    <tr>\n      <th>c</th>\n      <td>6</td>\n      <td>7</td>\n      <td>8</td>\n    </tr>\n    <tr>\n      <th>d</th>\n      <td>9</td>\n      <td>10</td>\n      <td>11</td>\n    </tr>\n  </tbody>\n</table>\n</div>"
     },
     "execution_count": 73,
     "metadata": {},
     "output_type": "execute_result"
    }
   ],
   "source": [
    "test_DataFrame"
   ],
   "metadata": {
    "collapsed": false,
    "pycharm": {
     "name": "#%%\n"
    }
   }
  },
  {
   "cell_type": "code",
   "execution_count": 82,
   "outputs": [
    {
     "data": {
      "text/plain": "   First  Second  Third\na    0.0     2.0    4.0\nb    3.0     4.0    5.0\nc    6.0     7.0    8.0\nd    9.0    10.0   11.0",
      "text/html": "<div>\n<style scoped>\n    .dataframe tbody tr th:only-of-type {\n        vertical-align: middle;\n    }\n\n    .dataframe tbody tr th {\n        vertical-align: top;\n    }\n\n    .dataframe thead th {\n        text-align: right;\n    }\n</style>\n<table border=\"1\" class=\"dataframe\">\n  <thead>\n    <tr style=\"text-align: right;\">\n      <th></th>\n      <th>First</th>\n      <th>Second</th>\n      <th>Third</th>\n    </tr>\n  </thead>\n  <tbody>\n    <tr>\n      <th>a</th>\n      <td>0.0</td>\n      <td>2.0</td>\n      <td>4.0</td>\n    </tr>\n    <tr>\n      <th>b</th>\n      <td>3.0</td>\n      <td>4.0</td>\n      <td>5.0</td>\n    </tr>\n    <tr>\n      <th>c</th>\n      <td>6.0</td>\n      <td>7.0</td>\n      <td>8.0</td>\n    </tr>\n    <tr>\n      <th>d</th>\n      <td>9.0</td>\n      <td>10.0</td>\n      <td>11.0</td>\n    </tr>\n  </tbody>\n</table>\n</div>"
     },
     "execution_count": 82,
     "metadata": {},
     "output_type": "execute_result"
    }
   ],
   "source": [
    "test_DataFrame.add(test_Series,fill_value=0)"
   ],
   "metadata": {
    "collapsed": false,
    "pycharm": {
     "name": "#%%\n"
    }
   }
  },
  {
   "cell_type": "markdown",
   "source": [
    "> 注意我们的版本变了，使用原来的ix函数直接行不通了，所以我们需要进行如下操作，将各个行的数字以DataFrame的格式保留，然后使用add等方法进行加和。"
   ],
   "metadata": {
    "collapsed": false,
    "pycharm": {
     "name": "#%% md\n"
    }
   }
  },
  {
   "cell_type": "markdown",
   "source": [
    "#### 函数的应用与映射"
   ],
   "metadata": {
    "collapsed": false,
    "pycharm": {
     "name": "#%% md\n"
    }
   }
  },
  {
   "cell_type": "code",
   "execution_count": 88,
   "outputs": [
    {
     "data": {
      "text/plain": "          0         1         2         3\n0 -0.535933  0.465634  1.302091 -0.822090\n1  0.136022  0.892795  0.840247 -0.651619\n2  0.724285  0.700291  0.003647  0.071387\n3 -1.834458 -0.173746  0.532491 -0.033163",
      "text/html": "<div>\n<style scoped>\n    .dataframe tbody tr th:only-of-type {\n        vertical-align: middle;\n    }\n\n    .dataframe tbody tr th {\n        vertical-align: top;\n    }\n\n    .dataframe thead th {\n        text-align: right;\n    }\n</style>\n<table border=\"1\" class=\"dataframe\">\n  <thead>\n    <tr style=\"text-align: right;\">\n      <th></th>\n      <th>0</th>\n      <th>1</th>\n      <th>2</th>\n      <th>3</th>\n    </tr>\n  </thead>\n  <tbody>\n    <tr>\n      <th>0</th>\n      <td>-0.535933</td>\n      <td>0.465634</td>\n      <td>1.302091</td>\n      <td>-0.822090</td>\n    </tr>\n    <tr>\n      <th>1</th>\n      <td>0.136022</td>\n      <td>0.892795</td>\n      <td>0.840247</td>\n      <td>-0.651619</td>\n    </tr>\n    <tr>\n      <th>2</th>\n      <td>0.724285</td>\n      <td>0.700291</td>\n      <td>0.003647</td>\n      <td>0.071387</td>\n    </tr>\n    <tr>\n      <th>3</th>\n      <td>-1.834458</td>\n      <td>-0.173746</td>\n      <td>0.532491</td>\n      <td>-0.033163</td>\n    </tr>\n  </tbody>\n</table>\n</div>"
     },
     "execution_count": 88,
     "metadata": {},
     "output_type": "execute_result"
    }
   ],
   "source": [
    "func_output = DataFrame(np.random.randn(4,4))\n",
    "func_output\n",
    "# 可以直接使用函数对每一个数值进行操作。"
   ],
   "metadata": {
    "collapsed": false,
    "pycharm": {
     "name": "#%%\n"
    }
   }
  },
  {
   "cell_type": "code",
   "execution_count": 89,
   "outputs": [
    {
     "data": {
      "text/plain": "0   -1.510084\n1    1.884975\n2    2.678477\n3   -1.435485\ndtype: float64"
     },
     "execution_count": 89,
     "metadata": {},
     "output_type": "execute_result"
    }
   ],
   "source": [
    "np.sum(func_output)\n",
    "# 行相加，得出值"
   ],
   "metadata": {
    "collapsed": false,
    "pycharm": {
     "name": "#%%\n"
    }
   }
  },
  {
   "cell_type": "code",
   "execution_count": 94,
   "outputs": [
    {
     "data": {
      "text/plain": "0    1.302091\n1    0.892795\n2    0.724285\n3    0.532491\ndtype: float64"
     },
     "execution_count": 94,
     "metadata": {},
     "output_type": "execute_result"
    }
   ],
   "source": [
    "# 复习一下，我们说的axis=1 是指对行进行比较，而当axis=0时我们比较的是列向比，而且我们常用的是把每个feature——name相同的对象放在一起构成index，所以日常需要的是列向比较，如果非得使用这种比较的话我们采用axis换轴操作\n",
    "func_output.apply(lambda x:x.max(),axis=1)"
   ],
   "metadata": {
    "collapsed": false,
    "pycharm": {
     "name": "#%%\n"
    }
   }
  },
  {
   "cell_type": "code",
   "execution_count": 98,
   "outputs": [
    {
     "data": {
      "text/plain": "       0      1     2      3\n0  -0.54   0.47  1.30  -0.82\n1   0.14   0.89  0.84  -0.65\n2   0.72   0.70  0.00   0.07\n3  -1.83  -0.17  0.53  -0.03",
      "text/html": "<div>\n<style scoped>\n    .dataframe tbody tr th:only-of-type {\n        vertical-align: middle;\n    }\n\n    .dataframe tbody tr th {\n        vertical-align: top;\n    }\n\n    .dataframe thead th {\n        text-align: right;\n    }\n</style>\n<table border=\"1\" class=\"dataframe\">\n  <thead>\n    <tr style=\"text-align: right;\">\n      <th></th>\n      <th>0</th>\n      <th>1</th>\n      <th>2</th>\n      <th>3</th>\n    </tr>\n  </thead>\n  <tbody>\n    <tr>\n      <th>0</th>\n      <td>-0.54</td>\n      <td>0.47</td>\n      <td>1.30</td>\n      <td>-0.82</td>\n    </tr>\n    <tr>\n      <th>1</th>\n      <td>0.14</td>\n      <td>0.89</td>\n      <td>0.84</td>\n      <td>-0.65</td>\n    </tr>\n    <tr>\n      <th>2</th>\n      <td>0.72</td>\n      <td>0.70</td>\n      <td>0.00</td>\n      <td>0.07</td>\n    </tr>\n    <tr>\n      <th>3</th>\n      <td>-1.83</td>\n      <td>-0.17</td>\n      <td>0.53</td>\n      <td>-0.03</td>\n    </tr>\n  </tbody>\n</table>\n</div>"
     },
     "execution_count": 98,
     "metadata": {},
     "output_type": "execute_result"
    }
   ],
   "source": [
    "func_output.applymap(lambda x:'%.2f'%x)\n",
    "# 这样就实现了四舍五入，从而达到了相对简化的一个数据的功能"
   ],
   "metadata": {
    "collapsed": false,
    "pycharm": {
     "name": "#%%\n"
    }
   }
  },
  {
   "cell_type": "markdown",
   "source": [
    "#### 排序"
   ],
   "metadata": {
    "collapsed": false,
    "pycharm": {
     "name": "#%% md\n"
    }
   }
  },
  {
   "cell_type": "code",
   "execution_count": 111,
   "outputs": [
    {
     "data": {
      "text/plain": "a    0\nb    2\nc    1\nd    3\ndtype: int32"
     },
     "execution_count": 111,
     "metadata": {},
     "output_type": "execute_result"
    }
   ],
   "source": [
    "test_Series_sort = Series(np.arange(4),index=['a','c','b','d'])\n",
    "# sort_index()函数是针对我们的index进行排列的东西\n",
    "test_Series_sort.sort_index()"
   ],
   "metadata": {
    "collapsed": false,
    "pycharm": {
     "name": "#%%\n"
    }
   }
  },
  {
   "cell_type": "code",
   "execution_count": 112,
   "outputs": [
    {
     "data": {
      "text/plain": "          0         1         2         3\n3 -1.834458 -0.173746  0.532491 -0.033163\n0 -0.535933  0.465634  1.302091 -0.822090\n1  0.136022  0.892795  0.840247 -0.651619\n2  0.724285  0.700291  0.003647  0.071387",
      "text/html": "<div>\n<style scoped>\n    .dataframe tbody tr th:only-of-type {\n        vertical-align: middle;\n    }\n\n    .dataframe tbody tr th {\n        vertical-align: top;\n    }\n\n    .dataframe thead th {\n        text-align: right;\n    }\n</style>\n<table border=\"1\" class=\"dataframe\">\n  <thead>\n    <tr style=\"text-align: right;\">\n      <th></th>\n      <th>0</th>\n      <th>1</th>\n      <th>2</th>\n      <th>3</th>\n    </tr>\n  </thead>\n  <tbody>\n    <tr>\n      <th>3</th>\n      <td>-1.834458</td>\n      <td>-0.173746</td>\n      <td>0.532491</td>\n      <td>-0.033163</td>\n    </tr>\n    <tr>\n      <th>0</th>\n      <td>-0.535933</td>\n      <td>0.465634</td>\n      <td>1.302091</td>\n      <td>-0.822090</td>\n    </tr>\n    <tr>\n      <th>1</th>\n      <td>0.136022</td>\n      <td>0.892795</td>\n      <td>0.840247</td>\n      <td>-0.651619</td>\n    </tr>\n    <tr>\n      <th>2</th>\n      <td>0.724285</td>\n      <td>0.700291</td>\n      <td>0.003647</td>\n      <td>0.071387</td>\n    </tr>\n  </tbody>\n</table>\n</div>"
     },
     "execution_count": 112,
     "metadata": {},
     "output_type": "execute_result"
    }
   ],
   "source": [
    "# 使用对值的排序是针对我们的每个列的数字的\n",
    "func_output.sort_values(0)\n",
    "# 当对象为Series时我们不需要by这个参数"
   ],
   "metadata": {
    "collapsed": false,
    "pycharm": {
     "name": "#%%\n"
    }
   }
  },
  {
   "cell_type": "markdown",
   "source": [
    "```python\n",
    "# 这里的就是我们所有的参数了\n",
    "DataFrame.sort_values(self,\n",
    "\t\t\t\t\t  by,\n",
    "\t\t\t\t\t  axis=0,\n",
    "\t\t\t\t\t  ascending=True,\n",
    "\t\t\t\t\t  inplace=False,\n",
    "\t\t\t\t\t  kind='quicksort',\n",
    "\t\t\t\t\t  na_position='last',\n",
    "\t\t\t\t\t  ignore_index=False)\n",
    "```\n",
    "ascending参数表示是否正排序\n",
    "kind表示排序的方式\n",
    "ignore_index表示是否忽略index的随之变化。"
   ],
   "metadata": {
    "collapsed": false,
    "pycharm": {
     "name": "#%% md\n"
    }
   }
  },
  {
   "cell_type": "code",
   "execution_count": 120,
   "outputs": [
    {
     "data": {
      "text/plain": "0    5.0\n1    4.0\n2    3.0\n3    2.0\n4    1.0\ndtype: float64"
     },
     "execution_count": 120,
     "metadata": {},
     "output_type": "execute_result"
    }
   ],
   "source": [
    "# rank函数\n",
    "test_Series_rank = Series(np.arange(5))\n",
    "test_Series_rank.rank(method='max',ascending=False)"
   ],
   "metadata": {
    "collapsed": false,
    "pycharm": {
     "name": "#%%\n"
    }
   }
  },
  {
   "cell_type": "markdown",
   "source": [
    "##### 排名时用于破坏平级关系的method选项：\n",
    "|method|说明|\n",
    "|:-|:-|\n",
    "|average|默认，在相等分组里面，为各个值平均分配，平均排名|\n",
    "|min|使用整个分组的最小排名|\n",
    "|max|使用整个分组的最大排名|\n",
    "|first|按值在原始数据中的出现的顺序分配排名|"
   ],
   "metadata": {
    "collapsed": false,
    "pycharm": {
     "name": "#%% md\n"
    }
   }
  },
  {
   "cell_type": "markdown",
   "source": [
    "#### 带有重复值的轴索引"
   ],
   "metadata": {
    "collapsed": false,
    "pycharm": {
     "name": "#%% md\n"
    }
   }
  },
  {
   "cell_type": "code",
   "execution_count": null,
   "outputs": [],
   "source": [],
   "metadata": {
    "collapsed": false,
    "pycharm": {
     "name": "#%%\n"
    }
   }
  }
 ],
 "metadata": {
  "kernelspec": {
   "display_name": "Python 3",
   "language": "python",
   "name": "python3"
  },
  "language_info": {
   "codemirror_mode": {
    "name": "ipython",
    "version": 2
   },
   "file_extension": ".py",
   "mimetype": "text/x-python",
   "name": "python",
   "nbconvert_exporter": "python",
   "pygments_lexer": "ipython2",
   "version": "2.7.6"
  }
 },
 "nbformat": 4,
 "nbformat_minor": 0
}