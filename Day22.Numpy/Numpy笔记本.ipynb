{
 "cells": [
  {
   "cell_type": "markdown",
   "metadata": {
    "collapsed": true,
    "pycharm": {
     "name": "#%% md\n"
    }
   },
   "source": [
    "## NumPy基础：数组和矢量计算\n",
    "* ndarray,一个具有矢量算数运算和复杂广播能力的快速且节省空间的多维数组。\n",
    "* 用于对整个数组进行快速运算的标准数学库（无需编写循环）\n",
    "* 用于读写磁盘数据的工具以及用于操作内映射文件的工具\n",
    "* 线性代数，随机数生成以及傅里叶变换等功能\n",
    "* 用于集成C，C++，Fortran等语言编写的代码的工具\n",
    "* NumPy还提供了一个简单易用的CAPI，所以python可以很容易的把数据传递给由低级语言编写的\n",
    "外部库，并且也能获得相关的数据且以NumPy数组的形式返回输出。\n"
   ]
  },
  {
   "cell_type": "markdown",
   "source": [
    "### NumPy的ndarray：一种多维数组对象，\n",
    "> 这个对象是一个快速而且灵活的大数据集容器,这个运算和标量运算一样。\n",
    "\n",
    "\n"
   ],
   "metadata": {
    "collapsed": false,
    "pycharm": {
     "name": "#%% md\n"
    }
   }
  },
  {
   "cell_type": "code",
   "execution_count": 1,
   "outputs": [
    {
     "data": {
      "text/plain": "array([[0.18482069, 0.75757613, 0.66791526],\n       [0.34391147, 0.00254949, 0.46582192]])"
     },
     "execution_count": 1,
     "metadata": {},
     "output_type": "execute_result"
    }
   ],
   "source": [
    "import numpy as np\n",
    "data = np.random.rand(2,3)\n",
    "data\n",
    "\n"
   ],
   "metadata": {
    "collapsed": false,
    "pycharm": {
     "name": "#%%\n"
    }
   }
  },
  {
   "cell_type": "code",
   "execution_count": 2,
   "outputs": [
    {
     "data": {
      "text/plain": "(2, 3)"
     },
     "execution_count": 2,
     "metadata": {},
     "output_type": "execute_result"
    }
   ],
   "source": [
    "data.shape\n",
    "# 这个函数可以返回我们的数组的大小一些情况\n"
   ],
   "metadata": {
    "collapsed": false,
    "pycharm": {
     "name": "#%%\n"
    }
   }
  },
  {
   "cell_type": "code",
   "execution_count": 3,
   "outputs": [
    {
     "data": {
      "text/plain": "dtype('float64')"
     },
     "execution_count": 3,
     "metadata": {},
     "output_type": "execute_result"
    }
   ],
   "source": [
    "data.dtype\n",
    "# 这个函数可以返回我们的数组内部的数据类型。"
   ],
   "metadata": {
    "collapsed": false,
    "pycharm": {
     "name": "#%%\n"
    }
   }
  },
  {
   "cell_type": "markdown",
   "source": [
    "#### 创建一个ndarray\n",
    "* 创建一个array数组的最简方法就是使用array函数。"
   ],
   "metadata": {
    "collapsed": false,
    "pycharm": {
     "name": "#%% md\n"
    }
   }
  },
  {
   "cell_type": "code",
   "execution_count": 4,
   "outputs": [
    {
     "data": {
      "text/plain": "array([1, 2, 3, 4, 5, 6, 7, 8, 9])"
     },
     "execution_count": 4,
     "metadata": {},
     "output_type": "execute_result"
    }
   ],
   "source": [
    "data1 = [1,2,3,4,5,6,7,8,9]\n",
    "arr1 = np.array(data1)\n",
    "arr1"
   ],
   "metadata": {
    "collapsed": false,
    "pycharm": {
     "name": "#%%\n"
    }
   }
  },
  {
   "cell_type": "code",
   "execution_count": 5,
   "outputs": [
    {
     "data": {
      "text/plain": "array([[1, 2, 3],\n       [4, 5, 6],\n       [7, 8, 9]])"
     },
     "execution_count": 5,
     "metadata": {},
     "output_type": "execute_result"
    }
   ],
   "source": [
    "# 嵌套的多维数组会被array函数断行\n",
    "data2 = [[1,2,3],[4,5,6],[7,8,9]]\n",
    "arr2 = np.array(data2)\n",
    "arr2"
   ],
   "metadata": {
    "collapsed": false,
    "pycharm": {
     "name": "#%%\n"
    }
   }
  },
  {
   "cell_type": "code",
   "execution_count": 6,
   "outputs": [
    {
     "data": {
      "text/plain": "2"
     },
     "execution_count": 6,
     "metadata": {},
     "output_type": "execute_result"
    }
   ],
   "source": [
    "arr2.ndim"
   ],
   "metadata": {
    "collapsed": false,
    "pycharm": {
     "name": "#%%\n"
    }
   }
  },
  {
   "cell_type": "code",
   "execution_count": 7,
   "outputs": [
    {
     "data": {
      "text/plain": "(3, 3)"
     },
     "execution_count": 7,
     "metadata": {},
     "output_type": "execute_result"
    }
   ],
   "source": [
    "arr2.shape# 输出大小"
   ],
   "metadata": {
    "collapsed": false,
    "pycharm": {
     "name": "#%%\n"
    }
   }
  },
  {
   "cell_type": "code",
   "execution_count": 8,
   "outputs": [
    {
     "data": {
      "text/plain": "array([[0, 0, 0, 0, 0, 0, 0, 0, 0, 0],\n       [0, 0, 0, 0, 0, 0, 0, 0, 0, 0],\n       [0, 0, 0, 0, 0, 0, 0, 0, 0, 0],\n       [0, 0, 0, 0, 0, 0, 0, 0, 0, 0],\n       [0, 0, 0, 0, 0, 0, 0, 0, 0, 0],\n       [0, 0, 0, 0, 0, 0, 0, 0, 0, 0],\n       [0, 0, 0, 0, 0, 0, 0, 0, 0, 0],\n       [0, 0, 0, 0, 0, 0, 0, 0, 0, 0],\n       [0, 0, 0, 0, 0, 0, 0, 0, 0, 0],\n       [0, 0, 0, 0, 0, 0, 0, 0, 0, 0]])"
     },
     "execution_count": 8,
     "metadata": {},
     "output_type": "execute_result"
    }
   ],
   "source": [
    "# 全为0\n",
    "np.zeros((10,10),dtype=int)"
   ],
   "metadata": {
    "collapsed": false,
    "pycharm": {
     "name": "#%%\n"
    }
   }
  },
  {
   "cell_type": "code",
   "execution_count": 9,
   "outputs": [
    {
     "data": {
      "text/plain": "array([[1, 1, 1, 1, 1, 1, 1, 1, 1, 1],\n       [1, 1, 1, 1, 1, 1, 1, 1, 1, 1],\n       [1, 1, 1, 1, 1, 1, 1, 1, 1, 1],\n       [1, 1, 1, 1, 1, 1, 1, 1, 1, 1],\n       [1, 1, 1, 1, 1, 1, 1, 1, 1, 1],\n       [1, 1, 1, 1, 1, 1, 1, 1, 1, 1],\n       [1, 1, 1, 1, 1, 1, 1, 1, 1, 1],\n       [1, 1, 1, 1, 1, 1, 1, 1, 1, 1],\n       [1, 1, 1, 1, 1, 1, 1, 1, 1, 1],\n       [1, 1, 1, 1, 1, 1, 1, 1, 1, 1]])"
     },
     "execution_count": 9,
     "metadata": {},
     "output_type": "execute_result"
    }
   ],
   "source": [
    "# 全为1\n",
    "np.ones((10,10),dtype=int)"
   ],
   "metadata": {
    "collapsed": false,
    "pycharm": {
     "name": "#%%\n"
    }
   }
  },
  {
   "cell_type": "code",
   "execution_count": 10,
   "outputs": [
    {
     "data": {
      "text/plain": "array([[ 1829290144,         618,  2116679056,         618, -1271004224,\n                212,           0,           0,       34304,           0],\n       [-1271004648,         212,           0,           0,  1904546912,\n                618,           0,           0,           0,           0],\n       [          0,           0,  1905301680,         618,           5,\n                  0,   457961472,       32760,        4096,           0],\n       [          5,           0,   457992940,       32760,           2,\n                  0,           0,           0,           0,           0],\n       [     262144,           0,           0,           0,          -1,\n                 -1,           0,           0,     3801187,     7667804],\n       [    6619251,     7536754,     6815836,     3276912,     7340124,\n            6488185,     6357096,     7143538,     7471216,     6946927],\n       [    6488165,     7536756,     7340124,     7602297,     7274600,\n            7340142,     7274610,     6619242,     7602275,     6029361],\n       [    6619254,     7733358,     7077980,     6422633,     7536732,\n            7602281,     2949221,     6357104,     7012451,     6750305],\n       [    7536741,     7209052,     7143541,     7929968,     7471196,\n            7209057,     7274596,     6029421,     6422623,     7667823],\n       [    6553710,     6553701,     6881375,     7602286,     6750309,\n            7471205,     3014771,     7340131,     3670067,     7798829]])"
     },
     "execution_count": 10,
     "metadata": {},
     "output_type": "execute_result"
    }
   ],
   "source": [
    "# 垃圾值表\n",
    "np.empty((10,10),dtype=int)"
   ],
   "metadata": {
    "collapsed": false,
    "pycharm": {
     "name": "#%%\n"
    }
   }
  },
  {
   "cell_type": "markdown",
   "source": [
    "|函数|说明|\n",
    "|:--|:--|\n",
    "|array|将输入数据(列表，元组，数组，或者其他序列的类型)转换成为ndrray，要么推断出dtype要么就显式指定的dtype，默认直接输入数据\n",
    "|asarray|将输入的转换为ndarray，如果输入的本身就是一个ndarray就不进行复制\n",
    "|arange|类似于内置的range，但返回的是一个ndarray而不是列表\n",
    "|ones,ones_like|根据指定的形状和dtype来创建一个全为1的数组，ones_like则以另外一种数组的大小为参数，创建一个大小相同但是可能dtype不同的数组\n",
    "|zeros，zeros_like|与ones差不多\n",
    "|empty,empty_like|创建一个新数组，只分配内存地址空间而不填充任何值\n",
    "|eye.identity|创建一个正方的NXN的单位矩阵(对角线为1，其余为0)\n",
    "\n"
   ],
   "metadata": {
    "collapsed": false,
    "pycharm": {
     "name": "#%% md\n"
    }
   }
  },
  {
   "cell_type": "markdown",
   "source": [
    "NumPy还具有相比于原版Python丰富的多的数据类型，以提供更加精确的数据运算，以及记录\n",
    "int,uint,float,complex,bool,object,string_(固定长度的字符串),unicode(固定长度的unicode类型数据)\n",
    "\n"
   ],
   "metadata": {
    "collapsed": false,
    "pycharm": {
     "name": "#%% md\n"
    }
   }
  },
  {
   "cell_type": "code",
   "execution_count": 11,
   "outputs": [
    {
     "data": {
      "text/plain": "array([[0.92410347, 3.78788065, 3.33957628],\n       [1.71955733, 0.01274743, 2.32910959]])"
     },
     "execution_count": 11,
     "metadata": {},
     "output_type": "execute_result"
    }
   ],
   "source": [
    "data = data * 5\n",
    "data"
   ],
   "metadata": {
    "collapsed": false,
    "pycharm": {
     "name": "#%%\n"
    }
   }
  },
  {
   "cell_type": "code",
   "execution_count": 12,
   "outputs": [
    {
     "data": {
      "text/plain": "array([[0, 3, 3],\n       [1, 0, 2]])"
     },
     "execution_count": 12,
     "metadata": {},
     "output_type": "execute_result"
    }
   ],
   "source": [
    "data.astype(int)\n",
    "# 使用这个astype函数可以直接转换个数，verynice\n"
   ],
   "metadata": {
    "collapsed": false,
    "pycharm": {
     "name": "#%%\n"
    }
   }
  },
  {
   "cell_type": "code",
   "execution_count": 13,
   "outputs": [
    {
     "data": {
      "text/plain": "array([15, 17, -5])"
     },
     "execution_count": 13,
     "metadata": {},
     "output_type": "execute_result"
    }
   ],
   "source": [
    "data3 = ['15','17','-5']\n",
    "arr3 = np.array(data3)\n",
    "arr3.astype(int)\n",
    "# 这个方法甚至还能读取你的字符串数字，以方便直接打印出数字"
   ],
   "metadata": {
    "collapsed": false,
    "pycharm": {
     "name": "#%%\n"
    }
   }
  },
  {
   "cell_type": "code",
   "execution_count": 14,
   "outputs": [
    {
     "data": {
      "text/plain": "array([ 12,  17, -98])"
     },
     "execution_count": 14,
     "metadata": {},
     "output_type": "execute_result"
    }
   ],
   "source": [
    "# 忘了讲创建ndarray数组了\n",
    "arr4 = np.array(['12','17','-98'],dtype=np.string_)\n",
    "# np.str_类型的每一个单元存储的是一个字符串，而np.string_其实本质上就是byte数组，每个单元不能使用字符串拼接。\n",
    "arr4.astype(np.int)"
   ],
   "metadata": {
    "collapsed": false,
    "pycharm": {
     "name": "#%%\n"
    }
   }
  },
  {
   "cell_type": "markdown",
   "source": [
    "### 数组和标量之间的运算\n",
    "```python\n",
    "# arr = np.array([[1,2,3],[1,2,3]])\n",
    "# ndarray可以进行标量之间的运算方式\n",
    "# 你能想到的运算方式都可以广播到每一个小单元。\n",
    "```\n"
   ],
   "metadata": {
    "collapsed": false,
    "pycharm": {
     "name": "#%% md\n"
    }
   }
  },
  {
   "cell_type": "code",
   "execution_count": 15,
   "outputs": [
    {
     "data": {
      "text/plain": "array([[ 1.,  4.,  9.],\n       [16., 25., 36.]])"
     },
     "execution_count": 15,
     "metadata": {},
     "output_type": "execute_result"
    }
   ],
   "source": [
    "data5 = [[1,2,3],[4,5,6]]\n",
    "arr5 = np.array(data5,dtype='float')\n",
    "arr5 = arr5 ** 2\n",
    "arr5"
   ],
   "metadata": {
    "collapsed": false,
    "pycharm": {
     "name": "#%%\n"
    }
   }
  },
  {
   "cell_type": "markdown",
   "source": [
    "   ### 基本的索引与切片\n",
    "> 数组的切片直接反应正在原数组上，而不会对复制品进行奇奇怪怪的运算，如果真想用这种操作你就需要使用copy函数。"
   ],
   "metadata": {
    "collapsed": false,
    "pycharm": {
     "name": "#%% md\n"
    }
   }
  },
  {
   "cell_type": "markdown",
   "source": [
    "#### array的索引\n",
    "\n",
    "\n"
   ],
   "metadata": {
    "collapsed": false,
    "pycharm": {
     "name": "#%% md\n"
    }
   }
  },
  {
   "cell_type": "code",
   "execution_count": 16,
   "outputs": [
    {
     "data": {
      "text/plain": "array([[[1, 2, 3],\n        [4, 5, 6]],\n\n       [[1, 2, 3],\n        [4, 5, 6]],\n\n       [[1, 2, 3],\n        [4, 5, 6]]])"
     },
     "execution_count": 16,
     "metadata": {},
     "output_type": "execute_result"
    }
   ],
   "source": [
    "data6 = [[[1,2,3],[4,5,6]],[[1,2,3],[4,5,6]],[[1,2,3],[4,5,6]]]\n",
    "arr6 = np.array(data6)\n",
    "arr6"
   ],
   "metadata": {
    "collapsed": false,
    "pycharm": {
     "name": "#%%\n"
    }
   }
  },
  {
   "cell_type": "code",
   "execution_count": 17,
   "outputs": [
    {
     "data": {
      "text/plain": "array([[1, 2, 3],\n       [4, 5, 6]])"
     },
     "execution_count": 17,
     "metadata": {},
     "output_type": "execute_result"
    }
   ],
   "source": [
    "arr6[0]\n",
    "# 取0是第一个大元素就是最大的中括号括起来的东西"
   ],
   "metadata": {
    "collapsed": false,
    "pycharm": {
     "name": "#%%\n"
    }
   }
  },
  {
   "cell_type": "code",
   "execution_count": 18,
   "outputs": [
    {
     "data": {
      "text/plain": "array([1, 2, 3])"
     },
     "execution_count": 18,
     "metadata": {},
     "output_type": "execute_result"
    }
   ],
   "source": [
    "arr6[0][0]\n",
    "# 在切片下还可以往后切遇上面的同理"
   ],
   "metadata": {
    "collapsed": false,
    "pycharm": {
     "name": "#%%\n"
    }
   }
  },
  {
   "cell_type": "code",
   "execution_count": 19,
   "outputs": [
    {
     "data": {
      "text/plain": "array([68, 68, 68])"
     },
     "execution_count": 19,
     "metadata": {},
     "output_type": "execute_result"
    }
   ],
   "source": [
    "arr6[0][0][0:3] = 68\n",
    "# np.array数组可以逐层访问，我们可以对最后面也就是一维的数组进行切片\n",
    "arr6[0][0]"
   ],
   "metadata": {
    "collapsed": false,
    "pycharm": {
     "name": "#%%\n"
    }
   }
  },
  {
   "cell_type": "code",
   "execution_count": 20,
   "outputs": [
    {
     "data": {
      "text/plain": "68"
     },
     "execution_count": 20,
     "metadata": {},
     "output_type": "execute_result"
    }
   ],
   "source": [
    "arr6[0,0,0]# 这种访问方式也是可行的！！！"
   ],
   "metadata": {
    "collapsed": false,
    "pycharm": {
     "name": "#%%\n"
    }
   }
  },
  {
   "cell_type": "code",
   "execution_count": 21,
   "outputs": [
    {
     "data": {
      "text/plain": "array([[[68., 68., 68.],\n        [ 4.,  5.,  6.]],\n\n       [[ 1.,  2.,  3.],\n        [ 4.,  5.,  6.]],\n\n       [[ 1.,  2.,  3.],\n        [ 4.,  5.,  6.]]])"
     },
     "execution_count": 21,
     "metadata": {},
     "output_type": "execute_result"
    }
   ],
   "source": [
    "arr6.astype('float')"
   ],
   "metadata": {
    "collapsed": false,
    "pycharm": {
     "name": "#%%\n"
    }
   }
  },
  {
   "cell_type": "code",
   "execution_count": 22,
   "outputs": [
    {
     "data": {
      "text/plain": "array([[[6]],\n\n       [[6]]])"
     },
     "execution_count": 22,
     "metadata": {},
     "output_type": "execute_result"
    }
   ],
   "source": [
    "arr6[1:3,1:2,2:3]\n",
    "# 所以啊这个多维数组的切片，我们需要切多次，按照从外而内的切片方式，就想上面这样，把最外面的当成一个个小元素去切片，然后再往下切，再往下且切，and so on\n",
    "# 只有冒号叫做全部都取。。。"
   ],
   "metadata": {
    "collapsed": false,
    "pycharm": {
     "name": "#%%\n"
    }
   }
  },
  {
   "cell_type": "markdown",
   "source": [
    "### 布尔型索引"
   ],
   "metadata": {
    "collapsed": false,
    "pycharm": {
     "name": "#%% md\n"
    }
   }
  },
  {
   "cell_type": "code",
   "execution_count": 23,
   "outputs": [
    {
     "data": {
      "text/plain": "array([b'huan', b'lisi', b'oula', b'bida'], dtype='|S4')"
     },
     "execution_count": 23,
     "metadata": {},
     "output_type": "execute_result"
    }
   ],
   "source": [
    "names = ['huangxingjie','lisimao','oulaoula','bidagelasi']\n",
    "arrname = np.array(names,dtype='|S4')\n",
    "arrname"
   ],
   "metadata": {
    "collapsed": false,
    "pycharm": {
     "name": "#%%\n"
    }
   }
  },
  {
   "cell_type": "code",
   "execution_count": 24,
   "outputs": [
    {
     "data": {
      "text/plain": "array([[ 2.31999019e-01, -9.50276570e-01,  1.67291622e+00,\n         8.68943535e-01],\n       [-5.15324170e-01,  3.78085169e-01, -4.40685520e-01,\n        -1.30208186e+00],\n       [ 1.18511259e+00, -2.05199257e-01, -4.45814058e-01,\n        -7.15227991e-01],\n       [ 2.67765578e-01, -1.57883628e+00,  1.45366383e+00,\n        -3.80451940e-01],\n       [-7.54895734e-01,  1.92394982e-01, -7.67068999e-01,\n         1.08847172e+00],\n       [ 8.28628412e-01,  5.66868476e-02, -9.62749213e-01,\n        -1.95549440e-01],\n       [-8.33030914e-01, -1.44125632e-03,  1.81539527e-02,\n         1.04974252e+00]])"
     },
     "execution_count": 24,
     "metadata": {},
     "output_type": "execute_result"
    }
   ],
   "source": [
    "dataran = np.random.randn(7,4)\n",
    "dataran"
   ],
   "metadata": {
    "collapsed": false,
    "pycharm": {
     "name": "#%%\n"
    }
   }
  },
  {
   "cell_type": "code",
   "execution_count": 25,
   "outputs": [
    {
     "data": {
      "text/plain": "False"
     },
     "execution_count": 25,
     "metadata": {},
     "output_type": "execute_result"
    }
   ],
   "source": [
    "names == 'huangxingjie'"
   ],
   "metadata": {
    "collapsed": false,
    "pycharm": {
     "name": "#%%\n"
    }
   }
  },
  {
   "cell_type": "code",
   "execution_count": 26,
   "outputs": [
    {
     "data": {
      "text/plain": "array([[ True, False,  True,  True],\n       [False,  True, False, False],\n       [ True, False, False, False],\n       [ True, False,  True, False],\n       [False,  True, False,  True],\n       [ True,  True, False, False],\n       [False, False,  True,  True]])"
     },
     "execution_count": 26,
     "metadata": {},
     "output_type": "execute_result"
    }
   ],
   "source": [
    "dataran > 0"
   ],
   "metadata": {
    "collapsed": false,
    "pycharm": {
     "name": "#%%\n"
    }
   }
  },
  {
   "cell_type": "markdown",
   "source": [
    "python中的关键字 and or 在布尔型数组中失效 而是要用& | 来表示。\n"
   ],
   "metadata": {
    "collapsed": false,
    "pycharm": {
     "name": "#%% md\n"
    }
   }
  },
  {
   "cell_type": "code",
   "execution_count": 27,
   "outputs": [
    {
     "data": {
      "text/plain": "array([[0.23199902, 0.        , 1.67291622, 0.86894353],\n       [0.        , 0.37808517, 0.        , 0.        ],\n       [1.18511259, 0.        , 0.        , 0.        ],\n       [0.26776558, 0.        , 1.45366383, 0.        ],\n       [0.        , 0.19239498, 0.        , 1.08847172],\n       [0.82862841, 0.05668685, 0.        , 0.        ],\n       [0.        , 0.        , 0.01815395, 1.04974252]])"
     },
     "execution_count": 27,
     "metadata": {},
     "output_type": "execute_result"
    }
   ],
   "source": [
    "# 使用这种方法可以把数组里面的所有你不想看见的数据处理然后换成你想看见的值\n",
    "dataran[dataran < 0] = 0\n",
    "dataran"
   ],
   "metadata": {
    "collapsed": false,
    "pycharm": {
     "name": "#%%\n"
    }
   }
  },
  {
   "cell_type": "markdown",
   "source": [
    "### 花式索引(fancy indexing)"
   ],
   "metadata": {
    "collapsed": false,
    "pycharm": {
     "name": "#%% md\n"
    }
   }
  },
  {
   "cell_type": "code",
   "execution_count": 28,
   "outputs": [],
   "source": [
    "arr7 = np.empty((7,4))"
   ],
   "metadata": {
    "collapsed": false,
    "pycharm": {
     "name": "#%%\n"
    }
   }
  },
  {
   "cell_type": "code",
   "execution_count": 29,
   "outputs": [
    {
     "data": {
      "text/plain": "array([[0., 0., 0., 0.],\n       [1., 1., 1., 1.],\n       [2., 2., 2., 2.],\n       [3., 3., 3., 3.],\n       [4., 4., 4., 4.],\n       [5., 5., 5., 5.],\n       [6., 6., 6., 6.]])"
     },
     "execution_count": 29,
     "metadata": {},
     "output_type": "execute_result"
    }
   ],
   "source": [
    "for i in range(7):\n",
    "    arr7[i] = i\n",
    "arr7"
   ],
   "metadata": {
    "collapsed": false,
    "pycharm": {
     "name": "#%%\n"
    }
   }
  },
  {
   "cell_type": "code",
   "execution_count": 30,
   "outputs": [
    {
     "data": {
      "text/plain": "array([[6., 6., 6., 6.],\n       [5., 5., 5., 5.],\n       [3., 3., 3., 3.]])"
     },
     "execution_count": 30,
     "metadata": {},
     "output_type": "execute_result"
    }
   ],
   "source": [
    "# array[[放索引值可以按你想要的顺序去打印！！！]]\n",
    "arr8 = arr7[[6,5,3]]\n",
    "arr8"
   ],
   "metadata": {
    "collapsed": false,
    "pycharm": {
     "name": "#%%\n"
    }
   }
  },
  {
   "cell_type": "code",
   "execution_count": 31,
   "outputs": [
    {
     "data": {
      "text/plain": "array([[ 0,  1,  2,  3,  4,  5,  6,  7],\n       [ 8,  9, 10, 11, 12, 13, 14, 15],\n       [16, 17, 18, 19, 20, 21, 22, 23],\n       [24, 25, 26, 27, 28, 29, 30, 31]])"
     },
     "execution_count": 31,
     "metadata": {},
     "output_type": "execute_result"
    }
   ],
   "source": [
    "arr9 = np.arange(32).reshape((4,8))\n",
    "arr9"
   ],
   "metadata": {
    "collapsed": false,
    "pycharm": {
     "name": "#%%\n"
    }
   }
  },
  {
   "cell_type": "code",
   "execution_count": 32,
   "outputs": [
    {
     "data": {
      "text/plain": "array([[ 0,  8, 16, 24],\n       [ 1,  9, 17, 25],\n       [ 2, 10, 18, 26],\n       [ 3, 11, 19, 27],\n       [ 4, 12, 20, 28],\n       [ 5, 13, 21, 29],\n       [ 6, 14, 22, 30],\n       [ 7, 15, 23, 31]])"
     },
     "execution_count": 32,
     "metadata": {},
     "output_type": "execute_result"
    }
   ],
   "source": [
    "# 转置矩阵。\n",
    "arr9.T"
   ],
   "metadata": {
    "collapsed": false,
    "pycharm": {
     "name": "#%%\n"
    }
   }
  },
  {
   "cell_type": "code",
   "execution_count": 33,
   "outputs": [
    {
     "data": {
      "text/plain": "array([[ 0,  1,  2,  3,  4,  5,  6,  7],\n       [ 8,  9, 10, 11, 12, 13, 14, 15],\n       [16, 17, 18, 19, 20, 21, 22, 23],\n       [24, 25, 26, 27, 28, 29, 30, 31]])"
     },
     "execution_count": 33,
     "metadata": {},
     "output_type": "execute_result"
    }
   ],
   "source": [
    "# transpose函数在使用时不应该超过所属的维度范围，超过就报错，应该是满足矩阵的线性变换的！！\n",
    "arr9.transpose((0,1))"
   ],
   "metadata": {
    "collapsed": false,
    "pycharm": {
     "name": "#%%\n"
    }
   }
  },
  {
   "cell_type": "markdown",
   "source": [
    "### 一元ufunc\n",
    "|函数|说明|\n",
    "|:-|:-|\n",
    "|abs,fabs|计算整数，浮点数或者符数的绝对值，对于非复数值，可以使用更快的fabs|\n",
    "|sqrt|计算个元素的平方根，相当于arr**0.5|\n",
    "|square|计算各个元素的平方，相当于arr**2|\n",
    "|exp，exp2|计算个元素的指数e^x，计算各个元素的2^x|\n",
    "|log,log10,log2,log1p|分别为自然对数，底数为10，2，log(1+x)|\n",
    "|sign|计算各个元素的正负号，1(整数)，0(零)，-1(负数)|\n",
    "|ceil|计算个元素的ceiling值，即大于该值的最小整数|\n",
    "|floor|计算各个元素的floor值，即小于该值的最大整数|\n",
    "|rint|将个元素的值四舍五入后到最接近的整数，保留dtype|\n",
    "|modf|将数组的小数和整数部分以两个独立的形式返回|\n",
    "|isnan|返回一个表示\"哪些值是NaN(这不是一个数字)\"的布尔型数组|\n",
    "|isfinite,isint|分别返回一个表示\"哪些元素是有穷的(非inf，非NaN)\"或者是哪些元素是无穷的布尔型数组|\n",
    "|cos,cosh,sin,sinh,tan,tanh|普通三角函数，与双曲型三角函数|\n",
    "|arcsin,arccos,arctan,arcsinh,arccosh,arctanh|反三角函数与反双曲型三角函数|\n",
    "|local_not|计算各个元素的not x的真值，相当于-arr|\n"
   ],
   "metadata": {
    "collapsed": false,
    "pycharm": {
     "name": "#%% md\n"
    }
   }
  },
  {
   "cell_type": "markdown",
   "source": [
    "### 二元ufunc\n",
    "|函数|说明|\n",
    "|:-|:-|\n",
    "|add|将数组中的对应元素相加|\n",
    "|subtarct|从第一个数组中减去第二个数组中的元素|\n",
    "|multiply|数组元素对应相乘|\n",
    "|divide，floor_divide|除法或者向下圆除法(丢弃余数)|\n",
    "|power|对第一个数组的元素A，根据第二个数组中的相应元素B，计算A^B|\n",
    "|maximum,fmax|元素级的最大值计算。fmax将忽略NaN|\n",
    "|minimun,fmin|同上|\n",
    "|mod|元素级别的求模运算|\n",
    "|copysign|将第二个数组中的值的符号复制给第一个数组中的值|\n",
    "|greater，greater_equal,less，less_equal,equal,not_equal|执行元素级别的比较运算，最终产生的是布尔型的数组，相当于比较运算符|\n",
    "|local_and,local_or,local_xor|执行元素级别的真逻辑运算，相当于中缀运算符 &，|，^|\n",
    "\n"
   ],
   "metadata": {
    "collapsed": false,
    "pycharm": {
     "name": "#%% md\n"
    }
   }
  },
  {
   "cell_type": "code",
   "execution_count": 34,
   "outputs": [
    {
     "data": {
      "text/plain": "array([[ 1. ,  2. ,  3. ,  4. ],\n       [-1. , -2. , -3. , -4.5],\n       [ 1. ,  2. ,  3. ,  4. ]])"
     },
     "execution_count": 34,
     "metadata": {},
     "output_type": "execute_result"
    }
   ],
   "source": [
    "# 实现所有的ufunc\n",
    "data7 = [[1,2,3,4],[-1,-2,-3,-4.5],[1,2,3,4]]\n",
    "arr7 = np.array(data7)\n",
    "arr7"
   ],
   "metadata": {
    "collapsed": false,
    "pycharm": {
     "name": "#%%\n"
    }
   }
  },
  {
   "cell_type": "code",
   "execution_count": 35,
   "outputs": [
    {
     "data": {
      "text/plain": "array([[1. , 2. , 3. , 4. ],\n       [1. , 2. , 3. , 4.5],\n       [1. , 2. , 3. , 4. ]])"
     },
     "execution_count": 35,
     "metadata": {},
     "output_type": "execute_result"
    }
   ],
   "source": [
    "# 绝对值\n",
    "arr_abs = abs(arr7)\n",
    "arr_abs"
   ],
   "metadata": {
    "collapsed": false,
    "pycharm": {
     "name": "#%%\n"
    }
   }
  },
  {
   "cell_type": "code",
   "execution_count": 36,
   "outputs": [
    {
     "data": {
      "text/plain": "array([[1. , 2. , 3. , 4. ],\n       [1. , 2. , 3. , 4.5],\n       [1. , 2. , 3. , 4. ]])"
     },
     "execution_count": 36,
     "metadata": {},
     "output_type": "execute_result"
    }
   ],
   "source": [
    "# 绝对值\n",
    "arr_fabs = np.fabs(arr7)\n",
    "arr_fabs\n"
   ],
   "metadata": {
    "collapsed": false,
    "pycharm": {
     "name": "#%%\n"
    }
   }
  },
  {
   "cell_type": "code",
   "execution_count": 37,
   "outputs": [
    {
     "data": {
      "text/plain": "array([[1.        , 1.41421356, 1.73205081, 2.        ],\n       [1.        , 1.41421356, 1.73205081, 2.12132034],\n       [1.        , 1.41421356, 1.73205081, 2.        ]])"
     },
     "execution_count": 37,
     "metadata": {},
     "output_type": "execute_result"
    }
   ],
   "source": [
    "# 平方根\n",
    "arr_sqrt = np.sqrt(arr_fabs)\n",
    "arr_sqrt\n"
   ],
   "metadata": {
    "collapsed": false,
    "pycharm": {
     "name": "#%%\n"
    }
   }
  },
  {
   "cell_type": "code",
   "execution_count": 38,
   "outputs": [
    {
     "data": {
      "text/plain": "array([[ 1.  ,  4.  ,  9.  , 16.  ],\n       [ 1.  ,  4.  ,  9.  , 20.25],\n       [ 1.  ,  4.  ,  9.  , 16.  ]])"
     },
     "execution_count": 38,
     "metadata": {},
     "output_type": "execute_result"
    }
   ],
   "source": [
    "# square 平方\n",
    "arr_square = np.square(arr7)\n",
    "arr_square"
   ],
   "metadata": {
    "collapsed": false,
    "pycharm": {
     "name": "#%%\n"
    }
   }
  },
  {
   "cell_type": "code",
   "execution_count": 39,
   "outputs": [
    {
     "data": {
      "text/plain": "array([[2.71828183e+00, 7.38905610e+00, 2.00855369e+01, 5.45981500e+01],\n       [3.67879441e-01, 1.35335283e-01, 4.97870684e-02, 1.11089965e-02],\n       [2.71828183e+00, 7.38905610e+00, 2.00855369e+01, 5.45981500e+01]])"
     },
     "execution_count": 39,
     "metadata": {},
     "output_type": "execute_result"
    }
   ],
   "source": [
    "# 计算各个元素的e^x数\n",
    "arr_exp = np.exp(arr7)\n",
    "# 这里是exp2是指的是计算所有元素的2的次幂\n",
    "arr_exp"
   ],
   "metadata": {
    "collapsed": false,
    "pycharm": {
     "name": "#%%\n"
    }
   }
  },
  {
   "cell_type": "code",
   "execution_count": 40,
   "outputs": [
    {
     "data": {
      "text/plain": "array([[0.        , 0.69314718, 1.09861229, 1.38629436],\n       [0.        , 0.69314718, 1.09861229, 1.5040774 ],\n       [0.        , 0.69314718, 1.09861229, 1.38629436]])"
     },
     "execution_count": 40,
     "metadata": {},
     "output_type": "execute_result"
    }
   ],
   "source": [
    "# 对数\n",
    "arr_log = np.log(arr_fabs)\n",
    "arr_log"
   ],
   "metadata": {
    "collapsed": false,
    "pycharm": {
     "name": "#%%\n"
    }
   }
  },
  {
   "cell_type": "code",
   "execution_count": 41,
   "outputs": [
    {
     "data": {
      "text/plain": "array([[0.69314718, 1.09861229, 1.38629436, 1.60943791],\n       [0.69314718, 1.09861229, 1.38629436, 1.70474809],\n       [0.69314718, 1.09861229, 1.38629436, 1.60943791]])"
     },
     "execution_count": 41,
     "metadata": {},
     "output_type": "execute_result"
    }
   ],
   "source": [
    "# 对数计算\n",
    "arr_log1p = np.log1p(arr_abs)\n",
    "arr_log1p"
   ],
   "metadata": {
    "collapsed": false,
    "pycharm": {
     "name": "#%%\n"
    }
   }
  },
  {
   "cell_type": "code",
   "execution_count": 42,
   "outputs": [
    {
     "data": {
      "text/plain": "array([[ 1.,  1.,  1.,  1.],\n       [-1., -1., -1., -1.],\n       [ 1.,  1.,  1.,  1.]])"
     },
     "execution_count": 42,
     "metadata": {},
     "output_type": "execute_result"
    }
   ],
   "source": [
    "# 输出符号\n",
    "arr_sign = np.sign(arr7)\n",
    "arr_sign"
   ],
   "metadata": {
    "collapsed": false,
    "pycharm": {
     "name": "#%%\n"
    }
   }
  },
  {
   "cell_type": "code",
   "execution_count": 43,
   "outputs": [
    {
     "data": {
      "text/plain": "array([[ 1.,  2.,  3.,  4.],\n       [-1., -2., -3., -4.],\n       [ 1.,  2.,  3.,  4.]])"
     },
     "execution_count": 43,
     "metadata": {},
     "output_type": "execute_result"
    }
   ],
   "source": [
    "# 计算大于这个数的最大整数\n",
    "arr_ceil = np.ceil(arr7)\n",
    "arr_ceil\n",
    "# 高斯取整函数。大于该值的最大整数"
   ],
   "metadata": {
    "collapsed": false,
    "pycharm": {
     "name": "#%%\n"
    }
   }
  },
  {
   "cell_type": "code",
   "execution_count": 44,
   "outputs": [
    {
     "data": {
      "text/plain": "array([[ 1.,  2.,  3.,  4.],\n       [-1., -2., -3., -5.],\n       [ 1.,  2.,  3.,  4.]])"
     },
     "execution_count": 44,
     "metadata": {},
     "output_type": "execute_result"
    }
   ],
   "source": [
    "# 计算小于这个数的最大整数\n",
    "arr_floor = np.floor(arr7)\n",
    "arr_floor\n"
   ],
   "metadata": {
    "collapsed": false,
    "pycharm": {
     "name": "#%%\n"
    }
   }
  },
  {
   "cell_type": "code",
   "execution_count": 45,
   "outputs": [
    {
     "data": {
      "text/plain": "array([[ 1.,  2.,  3.,  4.],\n       [-1., -2., -3., -4.],\n       [ 1.,  2.,  3.,  4.]])"
     },
     "execution_count": 45,
     "metadata": {},
     "output_type": "execute_result"
    }
   ],
   "source": [
    "# rint 函数是四舍五入入整的函数方法\n",
    "arr_rint = np.rint(arr7)\n",
    "arr_rint"
   ],
   "metadata": {
    "collapsed": false,
    "pycharm": {
     "name": "#%%\n"
    }
   }
  },
  {
   "cell_type": "code",
   "execution_count": 46,
   "outputs": [
    {
     "data": {
      "text/plain": "(array([[ 0. ,  0. ,  0. ,  0. ],\n        [-0. , -0. , -0. , -0.5],\n        [ 0. ,  0. ,  0. ,  0. ]]),\n array([[ 1.,  2.,  3.,  4.],\n        [-1., -2., -3., -4.],\n        [ 1.,  2.,  3.,  4.]]))"
     },
     "execution_count": 46,
     "metadata": {},
     "output_type": "execute_result"
    }
   ],
   "source": [
    "# 拆开函数分成小数和整数\n",
    "arr_modf = np.modf(arr7)\n",
    "arr_modf"
   ],
   "metadata": {
    "collapsed": false,
    "pycharm": {
     "name": "#%%\n"
    }
   }
  },
  {
   "cell_type": "code",
   "execution_count": 47,
   "outputs": [
    {
     "data": {
      "text/plain": "array([[False, False, False, False],\n       [False, False, False, False],\n       [False, False, False, False]])"
     },
     "execution_count": 47,
     "metadata": {},
     "output_type": "execute_result"
    }
   ],
   "source": [
    "# 判断一个元素是不是非数字\n",
    "# 同样的还有很多这样返回值为bool类型的函数。\n",
    "arr_isnan = np.isnan(arr7)\n",
    "arr_isnan"
   ],
   "metadata": {
    "collapsed": false,
    "pycharm": {
     "name": "#%%\n"
    }
   }
  },
  {
   "cell_type": "code",
   "execution_count": 48,
   "outputs": [
    {
     "data": {
      "text/plain": "array([[ 0.84147098,  0.90929743,  0.14112001, -0.7568025 ],\n       [-0.84147098, -0.90929743, -0.14112001,  0.97753012],\n       [ 0.84147098,  0.90929743,  0.14112001, -0.7568025 ]])"
     },
     "execution_count": 48,
     "metadata": {},
     "output_type": "execute_result"
    }
   ],
   "source": [
    "# 数学计算器\n",
    "arr_sin = np.sin(arr7)\n",
    "arr_sin"
   ],
   "metadata": {
    "collapsed": false,
    "pycharm": {
     "name": "#%%\n"
    }
   }
  },
  {
   "cell_type": "code",
   "execution_count": 49,
   "outputs": [
    {
     "data": {
      "text/plain": "array([[0.57079633, 0.42920367, 1.42920367, 2.42920367],\n       [2.57079633, 2.71238898, 1.71238898, 0.21238898],\n       [0.57079633, 0.42920367, 1.42920367, 2.42920367]])"
     },
     "execution_count": 49,
     "metadata": {},
     "output_type": "execute_result"
    }
   ],
   "source": [
    "# 反三角函数\n",
    "arr_arcccos = np.arccos(arr_sin)\n",
    "arr_arcccos"
   ],
   "metadata": {
    "collapsed": false,
    "pycharm": {
     "name": "#%%\n"
    }
   }
  },
  {
   "cell_type": "code",
   "execution_count": 50,
   "outputs": [
    {
     "data": {
      "text/plain": "array([[-1. , -2. , -3. , -4. ],\n       [ 1. ,  2. ,  3. ,  4.5],\n       [-1. , -2. , -3. , -4. ]])"
     },
     "execution_count": 50,
     "metadata": {},
     "output_type": "execute_result"
    }
   ],
   "source": [
    "# local_not\n",
    "arr_local_not = -arr7\n",
    "arr_local_not"
   ],
   "metadata": {
    "collapsed": false,
    "pycharm": {
     "name": "#%%\n"
    }
   }
  },
  {
   "cell_type": "code",
   "execution_count": 51,
   "outputs": [
    {
     "data": {
      "text/plain": "array([[3. , 5. , 7. , 9. ],\n       [1. , 1. , 1. , 0.5],\n       [3. , 5. , 7. , 9. ]])"
     },
     "execution_count": 51,
     "metadata": {},
     "output_type": "execute_result"
    }
   ],
   "source": [
    "# 二元ufunc\n",
    "arr8 = [[2,3,4,5],[2,3,4,5],[2,3,4,5]]\n",
    "# add\n",
    "arr_add = np.add(arr7,np.fabs(arr8))\n",
    "arr_add"
   ],
   "metadata": {
    "collapsed": false,
    "pycharm": {
     "name": "#%%\n"
    }
   }
  },
  {
   "cell_type": "code",
   "execution_count": 52,
   "outputs": [
    {
     "data": {
      "text/plain": "array([[-1. , -1. , -1. , -1. ],\n       [-3. , -5. , -7. , -9.5],\n       [-1. , -1. , -1. , -1. ]])"
     },
     "execution_count": 52,
     "metadata": {},
     "output_type": "execute_result"
    }
   ],
   "source": [
    "# 做减法\n",
    "arr_substract = np.subtract(arr7,arr8)\n",
    "arr_substract"
   ],
   "metadata": {
    "collapsed": false,
    "pycharm": {
     "name": "#%%\n"
    }
   }
  },
  {
   "cell_type": "code",
   "execution_count": 53,
   "outputs": [
    {
     "data": {
      "text/plain": "array([[  2. ,   6. ,  12. ,  20. ],\n       [ -2. ,  -6. , -12. , -22.5],\n       [  2. ,   6. ,  12. ,  20. ]])"
     },
     "execution_count": 53,
     "metadata": {},
     "output_type": "execute_result"
    }
   ],
   "source": [
    "# multiply divide\n",
    "arr_multiply = np.multiply(arr7,arr8)\n",
    "arr_multiply\n"
   ],
   "metadata": {
    "collapsed": false,
    "pycharm": {
     "name": "#%%\n"
    }
   }
  },
  {
   "cell_type": "code",
   "execution_count": 54,
   "outputs": [
    {
     "name": "stderr",
     "output_type": "stream",
     "text": [
      "<ipython-input-54-1d55465b4514>:2: RuntimeWarning: invalid value encountered in power\n",
      "  arr_power = np.power(arr7,arr7)\n"
     ]
    },
    {
     "data": {
      "text/plain": "array([[ 1.0000000e+00,  4.0000000e+00,  2.7000000e+01,  2.5600000e+02],\n       [-1.0000000e+00,  2.5000000e-01, -3.7037037e-02,            nan],\n       [ 1.0000000e+00,  4.0000000e+00,  2.7000000e+01,  2.5600000e+02]])"
     },
     "execution_count": 54,
     "metadata": {},
     "output_type": "execute_result"
    }
   ],
   "source": [
    "# 次幂\n",
    "arr_power = np.power(arr7,arr7)\n",
    "arr_power"
   ],
   "metadata": {
    "collapsed": false,
    "pycharm": {
     "name": "#%%\n"
    }
   }
  },
  {
   "cell_type": "code",
   "execution_count": 55,
   "outputs": [
    {
     "data": {
      "text/plain": "array([[ 1. ,  2. ,  3. ,  4. ],\n       [-1. , -2. , -3. , -4.5],\n       [ 1. ,  2. ,  3. ,  4. ]])"
     },
     "execution_count": 55,
     "metadata": {},
     "output_type": "execute_result"
    }
   ],
   "source": [
    "# 复制符号\n",
    "arr_copysign = np.copysign(arr7,arr7)\n",
    "arr_copysign"
   ],
   "metadata": {
    "collapsed": false,
    "pycharm": {
     "name": "#%%\n"
    }
   }
  },
  {
   "cell_type": "markdown",
   "source": [
    "### 利用数组进行数据处理"
   ],
   "metadata": {
    "collapsed": false,
    "pycharm": {
     "name": "#%% md\n"
    }
   }
  },
  {
   "cell_type": "code",
   "execution_count": 56,
   "outputs": [
    {
     "data": {
      "text/plain": "array([[0.000e+00, 0.000e+00, 0.000e+00, ..., 0.000e+00, 0.000e+00,\n        0.000e+00],\n       [1.000e-03, 1.000e-03, 1.000e-03, ..., 1.000e-03, 1.000e-03,\n        1.000e-03],\n       [2.000e-03, 2.000e-03, 2.000e-03, ..., 2.000e-03, 2.000e-03,\n        2.000e-03],\n       ...,\n       [9.997e+00, 9.997e+00, 9.997e+00, ..., 9.997e+00, 9.997e+00,\n        9.997e+00],\n       [9.998e+00, 9.998e+00, 9.998e+00, ..., 9.998e+00, 9.998e+00,\n        9.998e+00],\n       [9.999e+00, 9.999e+00, 9.999e+00, ..., 9.999e+00, 9.999e+00,\n        9.999e+00]])"
     },
     "execution_count": 56,
     "metadata": {},
     "output_type": "execute_result"
    }
   ],
   "source": [
    "from matplotlib import pyplot as plt\n",
    "points = np.arange(0,10,0.001)\n",
    "xs, ys = np.meshgrid(points,points)\n",
    "ys"
   ],
   "metadata": {
    "collapsed": false,
    "pycharm": {
     "name": "#%%\n"
    }
   }
  },
  {
   "cell_type": "code",
   "execution_count": 58,
   "outputs": [
    {
     "data": {
      "text/plain": "array([[0.00000000e+00, 1.00000000e-03, 2.00000000e-03, ...,\n        9.99700000e+00, 9.99800000e+00, 9.99900000e+00],\n       [1.00000000e-03, 1.41421356e-03, 2.23606798e-03, ...,\n        9.99700005e+00, 9.99800005e+00, 9.99900005e+00],\n       [2.00000000e-03, 2.23606798e-03, 2.82842712e-03, ...,\n        9.99700020e+00, 9.99800020e+00, 9.99900020e+00],\n       ...,\n       [9.99700000e+00, 9.99700005e+00, 9.99700020e+00, ...,\n        1.41378930e+01, 1.41386001e+01, 1.41393073e+01],\n       [9.99800000e+00, 9.99800005e+00, 9.99800020e+00, ...,\n        1.41386001e+01, 1.41393072e+01, 1.41400143e+01],\n       [9.99900000e+00, 9.99900005e+00, 9.99900020e+00, ...,\n        1.41393073e+01, 1.41400143e+01, 1.41407214e+01]])"
     },
     "execution_count": 58,
     "metadata": {},
     "output_type": "execute_result"
    }
   ],
   "source": [
    "z = np.sqrt(xs**2 + ys**2)\n",
    "z"
   ],
   "metadata": {
    "collapsed": false,
    "pycharm": {
     "name": "#%%\n"
    }
   }
  },
  {
   "cell_type": "code",
   "execution_count": 64,
   "outputs": [
    {
     "data": {
      "text/plain": "<matplotlib.colorbar.Colorbar at 0x26ae1681670>"
     },
     "execution_count": 64,
     "metadata": {},
     "output_type": "execute_result"
    },
    {
     "data": {
      "text/plain": "<Figure size 432x288 with 2 Axes>",
      "image/png": "[encoded data removed]"
     },
     "metadata": {
      "needs_background": "light"
     },
     "output_type": "display_data"
    }
   ],
   "source": [
    "plt.imshow(z,cmap=plt.get_cmap('gray'))\n",
    "plt.colorbar()"
   ],
   "metadata": {
    "collapsed": false,
    "pycharm": {
     "name": "#%%\n"
    }
   }
  },
  {
   "cell_type": "code",
   "execution_count": 73,
   "outputs": [
    {
     "data": {
      "text/plain": "<matplotlib.collections.PathCollection at 0x26ba39c19a0>"
     },
     "execution_count": 73,
     "metadata": {},
     "output_type": "execute_result"
    },
    {
     "data": {
      "text/plain": "<Figure size 432x288 with 1 Axes>",
      "image/png": "[encoded data removed]"
     },
     "metadata": {
      "needs_background": "light"
     },
     "output_type": "display_data"
    }
   ],
   "source": [
    "plt.title(\"I am plot of $\\sqrt{x^2 + y^2}$ for a grid of values\")\n",
    "x_values = np.arange(0,10,0.1)\n",
    "y_values = [x for x in x_values]\n",
    "z = np.sqrt(x_values)\n",
    "plt.scatter(x_values,z,edgecolors='blue',s=1)"
   ],
   "metadata": {
    "collapsed": false,
    "pycharm": {
     "name": "#%%\n"
    }
   }
  },
  {
   "cell_type": "markdown",
   "source": [
    "### 讲条件逻辑表述为数组运算\n",
    "> numpy.where 函数是三元表达式 x if condition else y 的矢量化版本，假设我们有一个布尔数组，和两个值的数组\n"
   ],
   "metadata": {
    "collapsed": false,
    "pycharm": {
     "name": "#%% md\n"
    }
   }
  },
  {
   "cell_type": "code",
   "execution_count": 77,
   "outputs": [
    {
     "data": {
      "text/plain": "[2.1, 1.2, 2.3, 1.4, 2.5]"
     },
     "execution_count": 77,
     "metadata": {},
     "output_type": "execute_result"
    }
   ],
   "source": [
    "xarr = np.array([1.1,1.2,1.3,1.4,1.5])\n",
    "yarr = np.array([2.1,2.2,2.3,2.4,2.5])\n",
    "cond = np.array([False,True,False,True,False])\n",
    "result = [x if c else y for x,c,y in zip(xarr,cond,yarr)]\n",
    "# 如果是真我们就选择x否则就选择y\n",
    "result"
   ],
   "metadata": {
    "collapsed": false,
    "pycharm": {
     "name": "#%%\n"
    }
   }
  },
  {
   "cell_type": "code",
   "execution_count": 79,
   "outputs": [
    {
     "data": {
      "text/plain": "array([2.1, 1.2, 2.3, 1.4, 2.5])"
     },
     "execution_count": 79,
     "metadata": {},
     "output_type": "execute_result"
    }
   ],
   "source": [
    "# numpy 中的这个函数实则是把整个列表推导式简化了很多，直接使用cond数组里面的对应位置加以选择\n",
    "resultnp = np.where(cond,xarr,yarr)\n",
    "resultnp\n"
   ],
   "metadata": {
    "collapsed": false,
    "pycharm": {
     "name": "#%%\n"
    }
   }
  },
  {
   "cell_type": "code",
   "execution_count": 100,
   "outputs": [
    {
     "data": {
      "text/plain": "array([[ 2.        ,  2.        , -1.32171996, -1.05714039,  2.        ,\n        -1.15417899, -0.36288999],\n       [-0.78821266,  2.        ,  2.        , -0.46119611, -2.03361027,\n        -1.51140703,  2.        ],\n       [ 2.        , -0.0483612 ,  2.        , -0.13068123,  2.        ,\n        -0.14536805,  2.        ],\n       [-0.70892939,  2.        ,  2.        ,  2.        , -0.53942296,\n        -3.32646044,  2.        ]])"
     },
     "execution_count": 100,
     "metadata": {},
     "output_type": "execute_result"
    }
   ],
   "source": [
    "arr_test1 = np.random.randn(4,7)\n",
    "arr_value1 = np.where(arr_test1 > 0  ,2, arr_test1)\n",
    "# np.where 里面不可以加逻辑判断句加以限制范围。\n",
    "arr_value1"
   ],
   "metadata": {
    "collapsed": false,
    "pycharm": {
     "name": "#%%\n"
    }
   }
  },
  {
   "cell_type": "markdown",
   "source": [
    "### 数学和统计方法\n",
    "* 我们可以通过上述的各种方法实现对整个数组或者某一个数轴的统计分析亦或者是计算\n",
    "\n",
    "|方法|说明|\n",
    "|:-|:-|\n",
    "|sum|对数组中全部或者某个轴向的元素求和，零长度的数组的nums为0|\n",
    "|mean|算数平均数，零长度的数组的mean为NaN|\n",
    "|std，var|分别为标准差和方差，自由度可以自己调节(默认为n)|\n",
    "|argmin，argmax|分别为最大和最小元素的索引|\n",
    "|cumsum|所有的元素的累计和|\n",
    "|cumprod|所有元素的累计积|\n",
    "\n"
   ],
   "metadata": {
    "collapsed": false,
    "pycharm": {
     "name": "#%% md\n"
    }
   }
  },
  {
   "cell_type": "code",
   "execution_count": 104,
   "outputs": [
    {
     "data": {
      "text/plain": "array([[4, 2, 9, 4],\n       [3, 9, 4, 0],\n       [4, 0, 9, 8],\n       [6, 7, 7, 1]])"
     },
     "execution_count": 104,
     "metadata": {},
     "output_type": "execute_result"
    }
   ],
   "source": [
    "# 初始化列表\n",
    "arr_test2 = np.random.randint(0,10,size=(4,4),dtype='int')\n",
    "arr_test2"
   ],
   "metadata": {
    "collapsed": false,
    "pycharm": {
     "name": "#%%\n"
    }
   }
  },
  {
   "cell_type": "code",
   "execution_count": 116,
   "outputs": [
    {
     "data": {
      "text/plain": "array([19, 16, 21, 21])"
     },
     "execution_count": 116,
     "metadata": {},
     "output_type": "execute_result"
    }
   ],
   "source": [
    "# sum方法\n",
    "np.sum(arr_test2,axis=1)\n",
    "# axis为1的时候发现为行加和，axis为0时是列相加"
   ],
   "metadata": {
    "collapsed": false,
    "pycharm": {
     "name": "#%%\n"
    }
   }
  },
  {
   "cell_type": "code",
   "execution_count": 119,
   "outputs": [
    {
     "data": {
      "text/plain": "array([4.75, 4.  , 5.25, 5.25])"
     },
     "execution_count": 119,
     "metadata": {},
     "output_type": "execute_result"
    }
   ],
   "source": [
    "# mean方法：\n",
    "np.mean(arr_test2,axis=1)\n",
    "# 计算算数平均数 如你所见我们同样还是可以用axis来对行列数求和。"
   ],
   "metadata": {
    "collapsed": false,
    "pycharm": {
     "name": "#%%\n"
    }
   }
  },
  {
   "cell_type": "code",
   "execution_count": 123,
   "outputs": [
    {
     "data": {
      "text/plain": "3.0458732327528013"
     },
     "execution_count": 123,
     "metadata": {},
     "output_type": "execute_result"
    }
   ],
   "source": [
    "# std,var **********\n",
    "np.std(arr_test2,)"
   ],
   "metadata": {
    "collapsed": false,
    "pycharm": {
     "name": "#%%\n"
    }
   }
  },
  {
   "cell_type": "code",
   "execution_count": 125,
   "outputs": [
    {
     "data": {
      "text/plain": "9.27734375"
     },
     "execution_count": 125,
     "metadata": {},
     "output_type": "execute_result"
    }
   ],
   "source": [
    "# **********\n",
    "np.var(arr_test2)"
   ],
   "metadata": {
    "collapsed": false,
    "pycharm": {
     "name": "#%%\n"
    }
   }
  },
  {
   "cell_type": "code",
   "execution_count": 130,
   "outputs": [
    {
     "data": {
      "text/plain": "array([9, 9, 9, 7])"
     },
     "execution_count": 130,
     "metadata": {},
     "output_type": "execute_result"
    }
   ],
   "source": [
    "# max函数min函数\n",
    "np.max(arr_test2,axis=1)\n",
    "# min函数也是一样的\n"
   ],
   "metadata": {
    "collapsed": false,
    "pycharm": {
     "name": "#%%\n"
    }
   }
  },
  {
   "cell_type": "code",
   "execution_count": 138,
   "outputs": [
    {
     "data": {
      "text/plain": "array([3, 1, 0, 2], dtype=int64)"
     },
     "execution_count": 138,
     "metadata": {},
     "output_type": "execute_result"
    }
   ],
   "source": [
    "# argmax函数\n",
    "np.argmax(arr_test2,axis=0)\n",
    "# 如果不加上axis则会打印最大元素的index\n",
    "# argmin函数也是一个道理。\n"
   ],
   "metadata": {
    "collapsed": false,
    "pycharm": {
     "name": "#%%\n"
    }
   }
  },
  {
   "cell_type": "code",
   "execution_count": 142,
   "outputs": [
    {
     "data": {
      "text/plain": "array([1, 2, 3, 4, 5, 6, 7, 8, 9], dtype=int32)"
     },
     "execution_count": 142,
     "metadata": {},
     "output_type": "execute_result"
    }
   ],
   "source": [
    "# cumsum\n",
    "arr_test3 = np.array([1,1,1,1,1,1,1,1,1])\n",
    "# 平铺展开累加\n",
    "np.cumsum(arr_test3)\n",
    "# cumprod函数可以乘乘乘。"
   ],
   "metadata": {
    "collapsed": false,
    "pycharm": {
     "name": "#%%\n"
    }
   }
  },
  {
   "cell_type": "markdown",
   "source": [
    "### 使用布尔型数组的方法"
   ],
   "metadata": {
    "collapsed": false,
    "pycharm": {
     "name": "#%% md\n"
    }
   }
  },
  {
   "cell_type": "code",
   "execution_count": 144,
   "outputs": [
    {
     "data": {
      "text/plain": "True"
     },
     "execution_count": 144,
     "metadata": {},
     "output_type": "execute_result"
    }
   ],
   "source": [
    "bools = np.array([False,True,False,True])\n",
    "bools.any()"
   ],
   "metadata": {
    "collapsed": false,
    "pycharm": {
     "name": "#%%\n"
    }
   }
  },
  {
   "cell_type": "code",
   "execution_count": 146,
   "outputs": [
    {
     "data": {
      "text/plain": "False"
     },
     "execution_count": 146,
     "metadata": {},
     "output_type": "execute_result"
    }
   ],
   "source": [
    "bools.all()"
   ],
   "metadata": {
    "collapsed": false,
    "pycharm": {
     "name": "#%%\n"
    }
   }
  },
  {
   "cell_type": "code",
   "execution_count": 148,
   "outputs": [
    {
     "data": {
      "text/plain": "2"
     },
     "execution_count": 148,
     "metadata": {},
     "output_type": "execute_result"
    }
   ],
   "source": [
    "# 绝了！！！！！！！！！！！！！！！！！！！！！！\n",
    "(bools == True).sum()"
   ],
   "metadata": {
    "collapsed": false,
    "pycharm": {
     "name": "#%%\n"
    }
   }
  },
  {
   "cell_type": "markdown",
   "source": [
    "### 排序\n",
    "> 与python函数内置的一样，这个函数也同样可以用于排序。，Numpy数组也可以使用sort函数进行排序。\n",
    "> 就是这么方便呢\n"
   ],
   "metadata": {
    "collapsed": false,
    "pycharm": {
     "name": "#%% md\n"
    }
   }
  },
  {
   "cell_type": "code",
   "execution_count": 153,
   "outputs": [
    {
     "data": {
      "text/plain": "array([[-1.83871891, -0.93323281,  0.68097711,  0.78777861],\n       [ 0.59442333, -0.83785071,  0.35290508,  0.46959633],\n       [-0.29172003,  0.68363514, -0.03180933,  0.61961338],\n       [-0.71056164,  0.98666447, -1.20421424,  0.03721909]])"
     },
     "execution_count": 153,
     "metadata": {},
     "output_type": "execute_result"
    }
   ],
   "source": [
    "arr_test4 = np.random.randn(4,4)\n",
    "arr_test4"
   ],
   "metadata": {
    "collapsed": false,
    "pycharm": {
     "name": "#%%\n"
    }
   }
  },
  {
   "cell_type": "code",
   "execution_count": 157,
   "outputs": [
    {
     "data": {
      "text/plain": "array([[-1.83871891, -0.93323281,  0.68097711,  0.78777861],\n       [-0.83785071,  0.35290508,  0.46959633,  0.59442333],\n       [-0.29172003, -0.03180933,  0.61961338,  0.68363514],\n       [-1.20421424, -0.71056164,  0.03721909,  0.98666447]])"
     },
     "execution_count": 157,
     "metadata": {},
     "output_type": "execute_result"
    }
   ],
   "source": [
    "arr_test4.sort(1)\n",
    "arr_test4"
   ],
   "metadata": {
    "collapsed": false,
    "pycharm": {
     "name": "#%%\n"
    }
   }
  }
 ],
 "metadata": {
  "kernelspec": {
   "display_name": "Python 3",
   "language": "python",
   "name": "python3"
  },
  "language_info": {
   "codemirror_mode": {
    "name": "ipython",
    "version": 2
   },
   "file_extension": ".py",
   "mimetype": "text/x-python",
   "name": "python",
   "nbconvert_exporter": "python",
   "pygments_lexer": "ipython2",
   "version": "2.7.6"
  }
 },
 "nbformat": 4,
 "nbformat_minor": 0
}