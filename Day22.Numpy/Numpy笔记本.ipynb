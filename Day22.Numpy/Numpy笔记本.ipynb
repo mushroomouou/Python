{
 "cells": [
  {
   "cell_type": "markdown",
   "metadata": {
    "collapsed": true,
    "pycharm": {
     "name": "#%% md\n"
    }
   },
   "source": [
    "## NumPy基础：数组和矢量计算\n",
    "* ndarray,一个具有矢量算数运算和复杂广播能力的快速且节省空间的多维数组。\n",
    "* 用于对整个数组进行快速运算的标准数学库（无需编写循环）\n",
    "* 用于读写磁盘数据的工具以及用于操作内映射文件的工具\n",
    "* 线性代数，随机数生成以及傅里叶变换等功能\n",
    "* 用于集成C，C++，Fortran等语言编写的代码的工具\n",
    "* NumPy还提供了一个简单易用的CAPI，所以python可以很容易的把数据传递给由低级语言编写的\n",
    "外部库，并且也能获得相关的数据且以NumPy数组的形式返回输出。\n"
   ]
  },
  {
   "cell_type": "markdown",
   "source": [
    "### NumPy的ndarray：一种多维数组对象，\n",
    "> 这个对象是一个快速而且灵活的大数据集容器,这个运算和标量运算一样。\n",
    "\n",
    "\n"
   ],
   "metadata": {
    "collapsed": false,
    "pycharm": {
     "name": "#%% md\n"
    }
   }
  },
  {
   "cell_type": "code",
   "execution_count": 1,
   "outputs": [
    {
     "data": {
      "text/plain": "array([[0.05225395, 0.00194926, 0.07513964],\n       [0.782554  , 0.8531682 , 0.33713604]])"
     },
     "execution_count": 1,
     "metadata": {},
     "output_type": "execute_result"
    }
   ],
   "source": [
    "import numpy as np\n",
    "data = np.random.rand(2,3)\n",
    "data\n",
    "\n"
   ],
   "metadata": {
    "collapsed": false,
    "pycharm": {
     "name": "#%%\n"
    }
   }
  },
  {
   "cell_type": "code",
   "execution_count": 2,
   "outputs": [
    {
     "data": {
      "text/plain": "(2, 3)"
     },
     "execution_count": 2,
     "metadata": {},
     "output_type": "execute_result"
    }
   ],
   "source": [
    "data.shape\n",
    "# 这个函数可以返回我们的数组的大小一些情况\n"
   ],
   "metadata": {
    "collapsed": false,
    "pycharm": {
     "name": "#%%\n"
    }
   }
  },
  {
   "cell_type": "code",
   "execution_count": 3,
   "outputs": [
    {
     "data": {
      "text/plain": "dtype('float64')"
     },
     "execution_count": 3,
     "metadata": {},
     "output_type": "execute_result"
    }
   ],
   "source": [
    "data.dtype\n",
    "# 这个函数可以返回我们的数组内部的数据类型。"
   ],
   "metadata": {
    "collapsed": false,
    "pycharm": {
     "name": "#%%\n"
    }
   }
  },
  {
   "cell_type": "markdown",
   "source": [
    "#### 创建一个ndarray\n",
    "* 创建一个array数组的最简方法就是使用array函数。"
   ],
   "metadata": {
    "collapsed": false,
    "pycharm": {
     "name": "#%% md\n"
    }
   }
  },
  {
   "cell_type": "code",
   "execution_count": 4,
   "outputs": [
    {
     "data": {
      "text/plain": "array([1, 2, 3, 4, 5, 6, 7, 8, 9])"
     },
     "execution_count": 4,
     "metadata": {},
     "output_type": "execute_result"
    }
   ],
   "source": [
    "data1 = [1,2,3,4,5,6,7,8,9]\n",
    "arr1 = np.array(data1)\n",
    "arr1"
   ],
   "metadata": {
    "collapsed": false,
    "pycharm": {
     "name": "#%%\n"
    }
   }
  },
  {
   "cell_type": "code",
   "execution_count": 5,
   "outputs": [
    {
     "data": {
      "text/plain": "array([[1, 2, 3],\n       [4, 5, 6],\n       [7, 8, 9]])"
     },
     "execution_count": 5,
     "metadata": {},
     "output_type": "execute_result"
    }
   ],
   "source": [
    "# 嵌套的多维数组会被array函数断行\n",
    "data2 = [[1,2,3],[4,5,6],[7,8,9]]\n",
    "arr2 = np.array(data2)\n",
    "arr2"
   ],
   "metadata": {
    "collapsed": false,
    "pycharm": {
     "name": "#%%\n"
    }
   }
  },
  {
   "cell_type": "code",
   "execution_count": 6,
   "outputs": [
    {
     "data": {
      "text/plain": "2"
     },
     "execution_count": 6,
     "metadata": {},
     "output_type": "execute_result"
    }
   ],
   "source": [
    "arr2.ndim"
   ],
   "metadata": {
    "collapsed": false,
    "pycharm": {
     "name": "#%%\n"
    }
   }
  },
  {
   "cell_type": "code",
   "execution_count": 7,
   "outputs": [
    {
     "data": {
      "text/plain": "(3, 3)"
     },
     "execution_count": 7,
     "metadata": {},
     "output_type": "execute_result"
    }
   ],
   "source": [
    "arr2.shape# 输出大小"
   ],
   "metadata": {
    "collapsed": false,
    "pycharm": {
     "name": "#%%\n"
    }
   }
  },
  {
   "cell_type": "code",
   "execution_count": 8,
   "outputs": [
    {
     "data": {
      "text/plain": "array([[0, 0, 0, 0, 0, 0, 0, 0, 0, 0],\n       [0, 0, 0, 0, 0, 0, 0, 0, 0, 0],\n       [0, 0, 0, 0, 0, 0, 0, 0, 0, 0],\n       [0, 0, 0, 0, 0, 0, 0, 0, 0, 0],\n       [0, 0, 0, 0, 0, 0, 0, 0, 0, 0],\n       [0, 0, 0, 0, 0, 0, 0, 0, 0, 0],\n       [0, 0, 0, 0, 0, 0, 0, 0, 0, 0],\n       [0, 0, 0, 0, 0, 0, 0, 0, 0, 0],\n       [0, 0, 0, 0, 0, 0, 0, 0, 0, 0],\n       [0, 0, 0, 0, 0, 0, 0, 0, 0, 0]])"
     },
     "execution_count": 8,
     "metadata": {},
     "output_type": "execute_result"
    }
   ],
   "source": [
    "# 全为0\n",
    "np.zeros((10,10),dtype=int)"
   ],
   "metadata": {
    "collapsed": false,
    "pycharm": {
     "name": "#%%\n"
    }
   }
  },
  {
   "cell_type": "code",
   "execution_count": 9,
   "outputs": [
    {
     "data": {
      "text/plain": "array([[1, 1, 1, 1, 1, 1, 1, 1, 1, 1],\n       [1, 1, 1, 1, 1, 1, 1, 1, 1, 1],\n       [1, 1, 1, 1, 1, 1, 1, 1, 1, 1],\n       [1, 1, 1, 1, 1, 1, 1, 1, 1, 1],\n       [1, 1, 1, 1, 1, 1, 1, 1, 1, 1],\n       [1, 1, 1, 1, 1, 1, 1, 1, 1, 1],\n       [1, 1, 1, 1, 1, 1, 1, 1, 1, 1],\n       [1, 1, 1, 1, 1, 1, 1, 1, 1, 1],\n       [1, 1, 1, 1, 1, 1, 1, 1, 1, 1],\n       [1, 1, 1, 1, 1, 1, 1, 1, 1, 1]])"
     },
     "execution_count": 9,
     "metadata": {},
     "output_type": "execute_result"
    }
   ],
   "source": [
    "# 全为1\n",
    "np.ones((10,10),dtype=int)"
   ],
   "metadata": {
    "collapsed": false,
    "pycharm": {
     "name": "#%%\n"
    }
   }
  },
  {
   "cell_type": "code",
   "execution_count": 10,
   "outputs": [
    {
     "data": {
      "text/plain": "array([[        -1, 2147483647,          1,          0,        640,\n                 0,          1,          0,        896,          0],\n       [       411,          0,        900,          0,        411,\n                 0,        912,          0,        411,          0],\n       [       940,          0,        411,          0,        988,\n                 0,        411,          0,       1252,          0],\n       [       411,          0,       1220,          0,        411,\n                 0,       1272,          0,        411,          0],\n       [      1240,          0,        411,          0,       1204,\n                 0,        411,          0,       1276,          0],\n       [       411,          0,          0,          0,          0,\n                 0,          0,          0,          0,          0],\n       [         0,          0,          0,          0,          0,\n                 0,          0,          0,          0,          0],\n       [         0,          0,          0,          0,          0,\n                 0,          0,          0,          0,          0],\n       [         0,          0,          0,          0,          0,\n                 0,          0,          0,          0,          0],\n       [         0,          0,          0,          0,          0,\n                 0,          0,          0,          0,          0]])"
     },
     "execution_count": 10,
     "metadata": {},
     "output_type": "execute_result"
    }
   ],
   "source": [
    "# 垃圾值表\n",
    "np.empty((10,10),dtype=int)"
   ],
   "metadata": {
    "collapsed": false,
    "pycharm": {
     "name": "#%%\n"
    }
   }
  },
  {
   "cell_type": "markdown",
   "source": [
    "|函数|说明|\n",
    "|:--|:--|\n",
    "|array|将输入数据(列表，元组，数组，或者其他序列的类型)转换成为ndrray，要么推断出dtype要么就显式指定的dtype，默认直接输入数据\n",
    "|asarray|将输入的转换为ndarray，如果输入的本身就是一个ndarray就不进行复制\n",
    "|arange|类似于内置的range，但返回的是一个ndarray而不是列表\n",
    "|ones,ones_like|根据指定的形状和dtype来创建一个全为1的数组，ones_like则以另外一种数组的大小为参数，创建一个大小相同但是可能dtype不同的数组\n",
    "|zeros，zeros_like|与ones差不多\n",
    "|empty,empty_like|创建一个新数组，只分配内存地址空间而不填充任何值\n",
    "|eye.identity|创建一个正方的NXN的单位矩阵(对角线为1，其余为0)\n",
    "\n"
   ],
   "metadata": {
    "collapsed": false,
    "pycharm": {
     "name": "#%% md\n"
    }
   }
  },
  {
   "cell_type": "markdown",
   "source": [
    "NumPy还具有相比于原版Python丰富的多的数据类型，以提供更加精确的数据运算，以及记录\n",
    "int,uint,float,complex,bool,object,string_(固定长度的字符串),unicode(固定长度的unicode类型数据)\n",
    "\n"
   ],
   "metadata": {
    "collapsed": false,
    "pycharm": {
     "name": "#%% md\n"
    }
   }
  },
  {
   "cell_type": "code",
   "execution_count": 11,
   "outputs": [
    {
     "data": {
      "text/plain": "array([[0.26126977, 0.00974631, 0.37569819],\n       [3.91276998, 4.26584102, 1.68568018]])"
     },
     "execution_count": 11,
     "metadata": {},
     "output_type": "execute_result"
    }
   ],
   "source": [
    "data = data * 5\n",
    "data"
   ],
   "metadata": {
    "collapsed": false,
    "pycharm": {
     "name": "#%%\n"
    }
   }
  },
  {
   "cell_type": "code",
   "execution_count": 12,
   "outputs": [
    {
     "data": {
      "text/plain": "array([[0, 0, 0],\n       [3, 4, 1]])"
     },
     "execution_count": 12,
     "metadata": {},
     "output_type": "execute_result"
    }
   ],
   "source": [
    "data.astype(int)\n",
    "# 使用这个astype函数可以直接转换个数，verynice\n"
   ],
   "metadata": {
    "collapsed": false,
    "pycharm": {
     "name": "#%%\n"
    }
   }
  },
  {
   "cell_type": "code",
   "execution_count": 13,
   "outputs": [
    {
     "data": {
      "text/plain": "array([15, 17, -5])"
     },
     "execution_count": 13,
     "metadata": {},
     "output_type": "execute_result"
    }
   ],
   "source": [
    "data3 = ['15','17','-5']\n",
    "arr3 = np.array(data3)\n",
    "arr3.astype(int)\n",
    "# 这个方法甚至还能读取你的字符串数字，以方便直接打印出数字"
   ],
   "metadata": {
    "collapsed": false,
    "pycharm": {
     "name": "#%%\n"
    }
   }
  },
  {
   "cell_type": "code",
   "execution_count": 14,
   "outputs": [
    {
     "data": {
      "text/plain": "array([ 12,  17, -98])"
     },
     "execution_count": 14,
     "metadata": {},
     "output_type": "execute_result"
    }
   ],
   "source": [
    "# 忘了讲创建ndarray数组了\n",
    "arr4 = np.array(['12','17','-98'],dtype=np.string_)\n",
    "# np.str_类型的每一个单元存储的是一个字符串，而np.string_其实本质上就是byte数组，每个单元不能使用字符串拼接。\n",
    "arr4.astype(np.int)"
   ],
   "metadata": {
    "collapsed": false,
    "pycharm": {
     "name": "#%%\n"
    }
   }
  },
  {
   "cell_type": "markdown",
   "source": [
    "### 数组和标量之间的运算\n",
    "```python\n",
    "# arr = np.array([[1,2,3],[1,2,3]])\n",
    "# ndarray可以进行标量之间的运算方式\n",
    "# 你能想到的运算方式都可以广播到每一个小单元。\n",
    "```\n"
   ],
   "metadata": {
    "collapsed": false,
    "pycharm": {
     "name": "#%% md\n"
    }
   }
  },
  {
   "cell_type": "code",
   "execution_count": 15,
   "outputs": [
    {
     "data": {
      "text/plain": "array([[ 1.,  4.,  9.],\n       [16., 25., 36.]])"
     },
     "execution_count": 15,
     "metadata": {},
     "output_type": "execute_result"
    }
   ],
   "source": [
    "data5 = [[1,2,3],[4,5,6]]\n",
    "arr5 = np.array(data5,dtype='float')\n",
    "arr5 = arr5 ** 2\n",
    "arr5"
   ],
   "metadata": {
    "collapsed": false,
    "pycharm": {
     "name": "#%%\n"
    }
   }
  },
  {
   "cell_type": "markdown",
   "source": [
    "   ### 基本的索引与切片\n",
    "> 数组的切片直接反应正在原数组上，而不会对复制品进行奇奇怪怪的运算，如果真想用这种操作你就需要使用copy函数。"
   ],
   "metadata": {
    "collapsed": false,
    "pycharm": {
     "name": "#%% md\n"
    }
   }
  },
  {
   "cell_type": "markdown",
   "source": [
    "#### array的索引\n",
    "\n",
    "\n"
   ],
   "metadata": {
    "collapsed": false,
    "pycharm": {
     "name": "#%% md\n"
    }
   }
  },
  {
   "cell_type": "code",
   "execution_count": 16,
   "outputs": [
    {
     "data": {
      "text/plain": "array([[[1, 2, 3],\n        [4, 5, 6]],\n\n       [[1, 2, 3],\n        [4, 5, 6]],\n\n       [[1, 2, 3],\n        [4, 5, 6]]])"
     },
     "execution_count": 16,
     "metadata": {},
     "output_type": "execute_result"
    }
   ],
   "source": [
    "data6 = [[[1,2,3],[4,5,6]],[[1,2,3],[4,5,6]],[[1,2,3],[4,5,6]]]\n",
    "arr6 = np.array(data6)\n",
    "arr6"
   ],
   "metadata": {
    "collapsed": false,
    "pycharm": {
     "name": "#%%\n"
    }
   }
  },
  {
   "cell_type": "code",
   "execution_count": 17,
   "outputs": [
    {
     "data": {
      "text/plain": "array([[1, 2, 3],\n       [4, 5, 6]])"
     },
     "execution_count": 17,
     "metadata": {},
     "output_type": "execute_result"
    }
   ],
   "source": [
    "arr6[0]\n",
    "# 取0是第一个大元素就是最大的中括号括起来的东西"
   ],
   "metadata": {
    "collapsed": false,
    "pycharm": {
     "name": "#%%\n"
    }
   }
  },
  {
   "cell_type": "code",
   "execution_count": 18,
   "outputs": [
    {
     "data": {
      "text/plain": "array([1, 2, 3])"
     },
     "execution_count": 18,
     "metadata": {},
     "output_type": "execute_result"
    }
   ],
   "source": [
    "arr6[0][0]\n",
    "# 在切片下还可以往后切遇上面的同理"
   ],
   "metadata": {
    "collapsed": false,
    "pycharm": {
     "name": "#%%\n"
    }
   }
  },
  {
   "cell_type": "code",
   "execution_count": 19,
   "outputs": [
    {
     "data": {
      "text/plain": "array([68, 68, 68])"
     },
     "execution_count": 19,
     "metadata": {},
     "output_type": "execute_result"
    }
   ],
   "source": [
    "arr6[0][0][0:3] = 68\n",
    "# np.array数组可以逐层访问，我们可以对最后面也就是一维的数组进行切片\n",
    "arr6[0][0]"
   ],
   "metadata": {
    "collapsed": false,
    "pycharm": {
     "name": "#%%\n"
    }
   }
  },
  {
   "cell_type": "code",
   "execution_count": 20,
   "outputs": [
    {
     "data": {
      "text/plain": "68"
     },
     "execution_count": 20,
     "metadata": {},
     "output_type": "execute_result"
    }
   ],
   "source": [
    "arr6[0,0,0]# 这种访问方式也是可行的！！！"
   ],
   "metadata": {
    "collapsed": false,
    "pycharm": {
     "name": "#%%\n"
    }
   }
  },
  {
   "cell_type": "code",
   "execution_count": 21,
   "outputs": [
    {
     "data": {
      "text/plain": "array([[[68., 68., 68.],\n        [ 4.,  5.,  6.]],\n\n       [[ 1.,  2.,  3.],\n        [ 4.,  5.,  6.]],\n\n       [[ 1.,  2.,  3.],\n        [ 4.,  5.,  6.]]])"
     },
     "execution_count": 21,
     "metadata": {},
     "output_type": "execute_result"
    }
   ],
   "source": [
    "arr6.astype('float')"
   ],
   "metadata": {
    "collapsed": false,
    "pycharm": {
     "name": "#%%\n"
    }
   }
  },
  {
   "cell_type": "code",
   "execution_count": 22,
   "outputs": [
    {
     "data": {
      "text/plain": "array([[[6]],\n\n       [[6]]])"
     },
     "execution_count": 22,
     "metadata": {},
     "output_type": "execute_result"
    }
   ],
   "source": [
    "arr6[1:3,1:2,2:3]\n",
    "# 所以啊这个多维数组的切片，我们需要切多次，按照从外而内的切片方式，就想上面这样，把最外面的当成一个个小元素去切片，然后再往下切，再往下且切，and so on\n",
    "# 只有冒号叫做全部都取。。。"
   ],
   "metadata": {
    "collapsed": false,
    "pycharm": {
     "name": "#%%\n"
    }
   }
  },
  {
   "cell_type": "markdown",
   "source": [
    "### 布尔型索引"
   ],
   "metadata": {
    "collapsed": false,
    "pycharm": {
     "name": "#%% md\n"
    }
   }
  },
  {
   "cell_type": "code",
   "execution_count": 23,
   "outputs": [
    {
     "data": {
      "text/plain": "array([b'huan', b'lisi', b'oula', b'bida'], dtype='|S4')"
     },
     "execution_count": 23,
     "metadata": {},
     "output_type": "execute_result"
    }
   ],
   "source": [
    "names = ['huangxingjie','lisimao','oulaoula','bidagelasi']\n",
    "arrname = np.array(names,dtype='|S4')\n",
    "arrname"
   ],
   "metadata": {
    "collapsed": false,
    "pycharm": {
     "name": "#%%\n"
    }
   }
  },
  {
   "cell_type": "code",
   "execution_count": 24,
   "outputs": [
    {
     "data": {
      "text/plain": "array([[ 0.47116176, -1.21194596,  1.3178383 ,  0.56050715],\n       [ 0.93333386,  0.04668959,  0.06911546,  0.6282774 ],\n       [-0.98117414, -0.20769335,  0.55723577, -0.47058225],\n       [ 0.06638951, -0.41420124, -2.63871424, -0.11684062],\n       [ 1.81267143,  0.03244659,  0.55872532,  0.43446075],\n       [ 0.34565308, -0.90728612,  1.76517846,  0.36609246],\n       [-0.58792069, -0.19705419, -0.08340418,  1.18621702]])"
     },
     "execution_count": 24,
     "metadata": {},
     "output_type": "execute_result"
    }
   ],
   "source": [
    "dataran = np.random.randn(7,4)\n",
    "dataran"
   ],
   "metadata": {
    "collapsed": false,
    "pycharm": {
     "name": "#%%\n"
    }
   }
  },
  {
   "cell_type": "code",
   "execution_count": 25,
   "outputs": [
    {
     "data": {
      "text/plain": "False"
     },
     "execution_count": 25,
     "metadata": {},
     "output_type": "execute_result"
    }
   ],
   "source": [
    "names == 'huangxingjie'"
   ],
   "metadata": {
    "collapsed": false,
    "pycharm": {
     "name": "#%%\n"
    }
   }
  },
  {
   "cell_type": "code",
   "execution_count": 26,
   "outputs": [
    {
     "data": {
      "text/plain": "array([[ True, False,  True,  True],\n       [ True,  True,  True,  True],\n       [False, False,  True, False],\n       [ True, False, False, False],\n       [ True,  True,  True,  True],\n       [ True, False,  True,  True],\n       [False, False, False,  True]])"
     },
     "execution_count": 26,
     "metadata": {},
     "output_type": "execute_result"
    }
   ],
   "source": [
    "dataran > 0"
   ],
   "metadata": {
    "collapsed": false,
    "pycharm": {
     "name": "#%%\n"
    }
   }
  },
  {
   "cell_type": "markdown",
   "source": [
    "python中的关键字 and or 在布尔型数组中失效 而是要用& | 来表示。\n"
   ],
   "metadata": {
    "collapsed": false,
    "pycharm": {
     "name": "#%% md\n"
    }
   }
  },
  {
   "cell_type": "code",
   "execution_count": 27,
   "outputs": [
    {
     "data": {
      "text/plain": "array([[0.47116176, 0.        , 1.3178383 , 0.56050715],\n       [0.93333386, 0.04668959, 0.06911546, 0.6282774 ],\n       [0.        , 0.        , 0.55723577, 0.        ],\n       [0.06638951, 0.        , 0.        , 0.        ],\n       [1.81267143, 0.03244659, 0.55872532, 0.43446075],\n       [0.34565308, 0.        , 1.76517846, 0.36609246],\n       [0.        , 0.        , 0.        , 1.18621702]])"
     },
     "execution_count": 27,
     "metadata": {},
     "output_type": "execute_result"
    }
   ],
   "source": [
    "# 使用这种方法可以把数组里面的所有你不想看见的数据处理然后换成你想看见的值\n",
    "dataran[dataran < 0] = 0\n",
    "dataran"
   ],
   "metadata": {
    "collapsed": false,
    "pycharm": {
     "name": "#%%\n"
    }
   }
  },
  {
   "cell_type": "markdown",
   "source": [
    "### 花式索引(fancy indexing)"
   ],
   "metadata": {
    "collapsed": false,
    "pycharm": {
     "name": "#%% md\n"
    }
   }
  },
  {
   "cell_type": "code",
   "execution_count": 28,
   "outputs": [],
   "source": [
    "arr7 = np.empty((7,4))"
   ],
   "metadata": {
    "collapsed": false,
    "pycharm": {
     "name": "#%%\n"
    }
   }
  },
  {
   "cell_type": "code",
   "execution_count": 29,
   "outputs": [
    {
     "data": {
      "text/plain": "array([[0., 0., 0., 0.],\n       [1., 1., 1., 1.],\n       [2., 2., 2., 2.],\n       [3., 3., 3., 3.],\n       [4., 4., 4., 4.],\n       [5., 5., 5., 5.],\n       [6., 6., 6., 6.]])"
     },
     "execution_count": 29,
     "metadata": {},
     "output_type": "execute_result"
    }
   ],
   "source": [
    "for i in range(7):\n",
    "    arr7[i] = i\n",
    "arr7"
   ],
   "metadata": {
    "collapsed": false,
    "pycharm": {
     "name": "#%%\n"
    }
   }
  },
  {
   "cell_type": "code",
   "execution_count": 30,
   "outputs": [
    {
     "data": {
      "text/plain": "array([[6., 6., 6., 6.],\n       [5., 5., 5., 5.],\n       [3., 3., 3., 3.]])"
     },
     "execution_count": 30,
     "metadata": {},
     "output_type": "execute_result"
    }
   ],
   "source": [
    "# array[[放索引值可以按你想要的顺序去打印！！！]]\n",
    "arr8 = arr7[[6,5,3]]\n",
    "arr8"
   ],
   "metadata": {
    "collapsed": false,
    "pycharm": {
     "name": "#%%\n"
    }
   }
  },
  {
   "cell_type": "code",
   "execution_count": 31,
   "outputs": [
    {
     "data": {
      "text/plain": "array([[ 0,  1,  2,  3,  4,  5,  6,  7],\n       [ 8,  9, 10, 11, 12, 13, 14, 15],\n       [16, 17, 18, 19, 20, 21, 22, 23],\n       [24, 25, 26, 27, 28, 29, 30, 31]])"
     },
     "execution_count": 31,
     "metadata": {},
     "output_type": "execute_result"
    }
   ],
   "source": [
    "arr9 = np.arange(32).reshape((4,8))\n",
    "arr9"
   ],
   "metadata": {
    "collapsed": false,
    "pycharm": {
     "name": "#%%\n"
    }
   }
  },
  {
   "cell_type": "code",
   "execution_count": 32,
   "outputs": [
    {
     "data": {
      "text/plain": "array([[ 0,  8, 16, 24],\n       [ 1,  9, 17, 25],\n       [ 2, 10, 18, 26],\n       [ 3, 11, 19, 27],\n       [ 4, 12, 20, 28],\n       [ 5, 13, 21, 29],\n       [ 6, 14, 22, 30],\n       [ 7, 15, 23, 31]])"
     },
     "execution_count": 32,
     "metadata": {},
     "output_type": "execute_result"
    }
   ],
   "source": [
    "# 转置矩阵。\n",
    "arr9.T"
   ],
   "metadata": {
    "collapsed": false,
    "pycharm": {
     "name": "#%%\n"
    }
   }
  },
  {
   "cell_type": "code",
   "execution_count": 33,
   "outputs": [
    {
     "data": {
      "text/plain": "array([[ 0,  1,  2,  3,  4,  5,  6,  7],\n       [ 8,  9, 10, 11, 12, 13, 14, 15],\n       [16, 17, 18, 19, 20, 21, 22, 23],\n       [24, 25, 26, 27, 28, 29, 30, 31]])"
     },
     "execution_count": 33,
     "metadata": {},
     "output_type": "execute_result"
    }
   ],
   "source": [
    "# transpose函数在使用时不应该超过所属的维度范围，超过就报错，应该是满足矩阵的线性变换的！！\n",
    "arr9.transpose((0,1))"
   ],
   "metadata": {
    "collapsed": false,
    "pycharm": {
     "name": "#%%\n"
    }
   }
  },
  {
   "cell_type": "markdown",
   "source": [
    "### 一元ufunc\n",
    "|函数|说明|\n",
    "|:-|:-|\n",
    "|abs,fabs|计算整数，浮点数或者符数的绝对值，对于非复数值，可以使用更快的fabs|\n",
    "|sqrt|计算个元素的平方根，相当于arr**0.5|\n",
    "|square|计算各个元素的平方，相当于arr**2|\n",
    "|exp|计算个元素的指数e^x|\n",
    "|log,log10,log2,log1p|分别为自然对数，底数为10，2，log(1+x)|\n",
    "|sign|计算各个元素的正负号，1(整数)，0(零)，-1(负数)|\n",
    "|ceil|计算个元素的ceiling值，即大于该值的最小整数|\n",
    "|floor|计算各个元素的floor值，即小于该值的最大整数|\n",
    "|rint|将个元素的值四舍五入后到最接近的整数，保留dtype|\n",
    "|modf|将数组的小数和整数部分以两个独立的形式返回|\n",
    "|isnan|返回一个表示\"哪些值是NaN(这不是一个数字)\"的布尔型数组|\n",
    "|isfinite,isint|分别返回一个表示\"哪些元素是有穷的(非inf，非NaN)\"或者是哪些元素是无穷的布尔型数组|\n",
    "|cos,cosh,sin,sinh,tan,tanh|普通三角函数，与双曲型三角函数|\n",
    "|arcsin,arccos,arctan,arcsinh,arccosh,arctanh|反三角函数与反双曲型三角函数|\n",
    "|local_not|计算各个元素的not x的真值，相当于-arr|\n"
   ],
   "metadata": {
    "collapsed": false,
    "pycharm": {
     "name": "#%% md\n"
    }
   }
  },
  {
   "cell_type": "markdown",
   "source": [
    "### 二元ufunc\n",
    "|函数|说明|\n",
    "|:-|:-|\n",
    "|add|将数组中的对应元素相加|\n",
    "|subtarct|从第一个数组中减去第二个数组中的元素|\n",
    "|multiply|数组元素对应相乘|\n",
    "|divide，floor_divide|除法或者向下圆除法(丢弃余数)|\n",
    "|power|对第一个数组的元素A，根据第二个数组中的相应元素B，计算A^B|\n",
    "|maximum,fmax|元素级的最大值计算。fmax将忽略NaN|\n",
    "|minimun,fmin|同上|\n",
    "|mod|元素级别的求模运算|\n",
    "|copysign|将第二个数组中的值的符号复制给第一个数组中的值|\n",
    "|greater，greater_equal,less，less_equal,equal,not_equal|执行元素级别的比较运算，最终产生的是布尔型的数组，相当于比较运算符|\n",
    "|local_and,local_or,local_xor|执行元素级别的真逻辑运算，相当于中缀运算符 &，|，^|\n",
    "\n"
   ],
   "metadata": {
    "collapsed": false,
    "pycharm": {
     "name": "#%% md\n"
    }
   }
  },
  {
   "cell_type": "code",
   "execution_count": 33,
   "outputs": [],
   "source": [],
   "metadata": {
    "collapsed": false,
    "pycharm": {
     "name": "#%%\n"
    }
   }
  }
 ],
 "metadata": {
  "kernelspec": {
   "display_name": "Python 3",
   "language": "python",
   "name": "python3"
  },
  "language_info": {
   "codemirror_mode": {
    "name": "ipython",
    "version": 2
   },
   "file_extension": ".py",
   "mimetype": "text/x-python",
   "name": "python",
   "nbconvert_exporter": "python",
   "pygments_lexer": "ipython2",
   "version": "2.7.6"
  }
 },
 "nbformat": 4,
 "nbformat_minor": 0
}